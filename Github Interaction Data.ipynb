{
 "cells": [
  {
   "cell_type": "markdown",
   "metadata": {
    "deletable": true,
    "editable": true
   },
   "source": [
    "## USEFUL LINKS"
   ]
  },
  {
   "cell_type": "markdown",
   "metadata": {
    "deletable": true,
    "editable": true
   },
   "source": [
    "Github Auth Token Instructions: https://help.github.com/en/articles/creating-a-personal-access-token-for-the-command-line  \n",
    "Github API: https://developer.github.com/v3/  \n",
    "PyGithub: https://pygithub.readthedocs.io/en/latest/\n"
   ]
  },
  {
   "cell_type": "markdown",
   "metadata": {
    "deletable": true,
    "editable": true
   },
   "source": [
    "## PROGRAM"
   ]
  },
  {
   "cell_type": "code",
   "execution_count": 1,
   "metadata": {
    "ExecuteTime": {
     "end_time": "2019-05-05T11:01:00.786886Z",
     "start_time": "2019-05-05T11:00:59.635726Z"
    },
    "collapsed": false,
    "deletable": true,
    "editable": true
   },
   "outputs": [],
   "source": [
    "from github import Github\n",
    "import pandas as pd\n",
    "import json"
   ]
  },
  {
   "cell_type": "code",
   "execution_count": null,
   "metadata": {
    "collapsed": true,
    "deletable": true,
    "editable": true
   },
   "outputs": [],
   "source": [
    "github_token = 'YOUR_GITHUB_TOKEN'\n",
    "repo_name = 'THE_ORG/THE_REPO'\n",
    "login = 'USER_NAME'"
   ]
  },
  {
   "cell_type": "code",
   "execution_count": 7,
   "metadata": {
    "ExecuteTime": {
     "end_time": "2019-05-02T09:30:31.261399Z",
     "start_time": "2019-05-02T09:30:31.256063Z"
    },
    "collapsed": true,
    "deletable": true,
    "editable": true
   },
   "outputs": [],
   "source": [
    "gh = Github(github_token)"
   ]
  },
  {
   "cell_type": "code",
   "execution_count": 8,
   "metadata": {
    "ExecuteTime": {
     "end_time": "2019-05-02T09:30:33.124196Z",
     "start_time": "2019-05-02T09:30:32.137694Z"
    },
    "collapsed": false,
    "deletable": true,
    "editable": true
   },
   "outputs": [],
   "source": [
    "repo = gh.get_repo(repo)\n",
    "issues_by_creator = repo.get_issues(creator=login)\n",
    "issue_from_repo = repo.get_issue(number=5450)\n",
    "user = gh.get_user(login=login)"
   ]
  },
  {
   "cell_type": "markdown",
   "metadata": {
    "deletable": true,
    "editable": true
   },
   "source": [
    "### GET EVENTS FROM USER AND SORT THEM INTO LISTS OF CATEGORIES"
   ]
  },
  {
   "cell_type": "code",
   "execution_count": 2,
   "metadata": {
    "ExecuteTime": {
     "end_time": "2019-05-03T14:31:20.738662Z",
     "start_time": "2019-05-03T14:31:20.727969Z"
    },
    "collapsed": false,
    "deletable": true,
    "editable": true
   },
   "outputs": [],
   "source": [
    "event_objects = {'issue_comments': [], 'created_issues': [], 'pr_review_comments': [], \n",
    "                 'pull_requests': [], 'forks':[], 'push': []}\n",
    "\n",
    "event_types = {'IssueCommentEvent': 'issue_comments',  'IssuesEvent': 'created_issues', 'ForkEvent' : 'forks',\n",
    "               'PullRequestReviewCommentEvent': 'pr_review_comments', 'PullRequestEvent': 'pull_requests', 'PushEvent': 'push'}\n",
    "\n",
    "for i, event in enumerate(user.get_events()):\n",
    "    if event.type != 'WatchEvent' and event.type != 'CreateEvent':\n",
    "        event_type = event_types[event.type]\n",
    "        event_objects[event_type] += [event]\n",
    "    else:\n",
    "        print i, event#.created_at, event.type, event.id\n",
    "print ''\n",
    "\n",
    "for event_type, event_obj_list in event_objects.items():\n",
    "    print event_type + ':', len(event_obj_list)\n",
    "    \n",
    "# created_issues: 10\n",
    "# pull_requests: 9\n",
    "# pr_review_comments: 2\n",
    "# issue_comments: 81\n",
    "# push: 20\n",
    "# forks: 1"
   ]
  },
  {
   "cell_type": "markdown",
   "metadata": {
    "deletable": true,
    "editable": true
   },
   "source": [
    "### PARSE PAYLOADS FOR DESIRED DATA"
   ]
  },
  {
   "cell_type": "code",
   "execution_count": 305,
   "metadata": {
    "ExecuteTime": {
     "end_time": "2019-05-03T03:44:12.788543Z",
     "start_time": "2019-05-03T03:44:12.772008Z"
    },
    "collapsed": false,
    "deletable": true,
    "editable": true
   },
   "outputs": [],
   "source": [
    "event_data = {}\n",
    "\n",
    "for event_type, events in event_objects.items():\n",
    "    event_data[event_type] =\n",
    "\n",
    "event_data['created_issues'] = [get_issue_data(issue) for issue in event_objects['created_issues'] ]\n",
    "event_data['issue_comments'] =  [get_issue_comment_data(issue) for issue in event_objects['issue_comments'] ]\n",
    "event_data['pr_review_comments'] = [get_pr_review_comment_data(issue) for issue in event_objects['pr_review_comments'] ]\n",
    "event_data['pull_requests'] =  [get_pull_request_data(issue) for issue in event_objects['pull_requests'] ]\n",
    "event_data['push'] =  [get_push_data(issue) for issue in event_objects['push'] ]"
   ]
  },
  {
   "cell_type": "markdown",
   "metadata": {
    "deletable": true,
    "editable": true
   },
   "source": [
    "### WRITE TO CSV"
   ]
  },
  {
   "cell_type": "code",
   "execution_count": 3,
   "metadata": {
    "ExecuteTime": {
     "end_time": "2019-05-03T14:34:44.088626Z",
     "start_time": "2019-05-03T14:34:44.083964Z"
    },
    "collapsed": false,
    "deletable": true,
    "editable": true
   },
   "outputs": [],
   "source": [
    "for event_type, events in event_data.items():\n",
    "    print event_type\n",
    "    event_df = pd.DataFrame.from_dict(events, orient='columns')\n",
    "    event_df.to_csv('../data/github/' + event_type + '.csv', index=False, encoding='utf-8')"
   ]
  },
  {
   "cell_type": "markdown",
   "metadata": {
    "deletable": true,
    "editable": true
   },
   "source": [
    "### URL'S (NOT NECCESSARY, JUST FYI)"
   ]
  },
  {
   "cell_type": "code",
   "execution_count": null,
   "metadata": {
    "collapsed": true,
    "deletable": true,
    "editable": true
   },
   "outputs": [],
   "source": [
    "USER: u'https:/github.com/:user'\n",
    "ISSUES:   u'https://github.com/:org/:repo/issues/:issue_no',\n",
    "COMMENTS: u'https://github.com/:org/:repo/issues/:issue_no#issuecomment-:comment_id',\n",
    "PULL REQUEST: u'https://github.com/:org/:repo/pull/:pull_id'\n",
    "PR REVIEW COMMENT: u'https://github.com/:org/:repo/pull/:pull_id#discussion_r:comment_id'"
   ]
  },
  {
   "cell_type": "markdown",
   "metadata": {
    "deletable": true,
    "editable": true
   },
   "source": [
    "## DATA DESIRED FROM PAYLOAD"
   ]
  },
  {
   "cell_type": "markdown",
   "metadata": {
    "deletable": true,
    "editable": true
   },
   "source": [
    "### CREATING ISSUES"
   ]
  },
  {
   "cell_type": "code",
   "execution_count": null,
   "metadata": {
    "collapsed": true,
    "deletable": true,
    "editable": true
   },
   "outputs": [],
   "source": [
    "# ISSUE EVENT\n",
    "u'id': 123456, # USER THAT CREATED ISSUE\n",
    "u'login': u'the_user', # USER NAME OF USER THAT CREATED ISSUE\n",
    "u'https://github.com/the_user', # USER HOME\n",
    "\n",
    "u'title': u'Issue Title', # ISSUE TITLE\n",
    "u'body': 'Opening text...' # TEXT OF ORIGINAL COMMENT THAT BEGAN THE ISSUE\n",
    "u'id': 123456789, # ID OF THE INITIAL COMMENT\n",
    "    \n",
    "u'created_at': u'2019-04-26T01:58:48Z',\n",
    "u'updated_at': u'2019-04-29T13:51:04Z',\n",
    "u'closed_at': u'2019-04-29T13:51:03Z',\n",
    "\n",
    "u'number': 1234 # ISSUE NUMBER\n",
    "u'html_url': u'https://github.com/org/repo/issues/issue_no', # URL OF ISSUE\n",
    "u'comments': 11 # TOTAL NUMBER OF COMMENTS ON THE ISSUE"
   ]
  },
  {
   "cell_type": "markdown",
   "metadata": {
    "deletable": true,
    "editable": true
   },
   "source": [
    "### COMMENTS"
   ]
  },
  {
   "cell_type": "code",
   "execution_count": 64,
   "metadata": {
    "ExecuteTime": {
     "end_time": "2019-05-02T12:32:05.920628Z",
     "start_time": "2019-05-02T12:32:05.916188Z"
    },
    "collapsed": false,
    "deletable": true,
    "editable": true
   },
   "outputs": [],
   "source": [
    "# IssueCommentEvent\n",
    "\n",
    "# COMMENT\n",
    "u'comment': {\n",
    "u'body': u'Comment text...'\n",
    "u'created_at': u'2019-05-02T15:32:48Z',\n",
    "u'html_url': u'https://github.com/org/repo/issues/issue_no#issuecomment-comment_id'\n",
    "u'id': 123456789\n",
    "u'updated_at': u'2019-05-02T15:32:48Z'}\n",
    "\n",
    "# USER\n",
    "u'user': {\n",
    "u'html_url': u'https://github.com/user',\n",
    "u'id': 123456,\n",
    "u'login': u'user',\n",
    "u'comments': 4,\n",
    "u'created_at': u'2019-04-29T15:39:42Z',\n",
    "\n",
    "# ISSUE\n",
    "u'created_at': u'2019-04-29T15:39:42Z'\n",
    "u'comments': 4,\n",
    "u'id': 123456789, # ISSUE ID\n",
    "u'number': 123,\n",
    "u'title': u'Title of the issue',\n",
    "u'updated_at': u'2019-05-02T15:32:48Z',\n",
    "u'id': 12345678, # ISSUE CREATOR ID\n",
    "u'login': u'HarshKhandeparkar',\n",
    "u'html_url': u'https://github.com/publiclab/spectral-workbench/issues/451'}"
   ]
  },
  {
   "cell_type": "markdown",
   "metadata": {
    "deletable": true,
    "editable": true
   },
   "source": [
    "### FORK EVENT"
   ]
  },
  {
   "cell_type": "code",
   "execution_count": 81,
   "metadata": {
    "ExecuteTime": {
     "end_time": "2019-05-02T12:52:45.031054Z",
     "start_time": "2019-05-02T12:52:45.025670Z"
    },
    "collapsed": false,
    "deletable": true,
    "editable": true
   },
   "outputs": [],
   "source": [
    "# FORK INFO\n",
    "u'created_at': u'2019-04-10T15:59:42Z',\n",
    "u'updated_at': u'2019-04-10T02:18:44Z',\n",
    "u'full_name': u'user/repo',\n",
    "        \n",
    "# USER INFO\n",
    "u'html_url': u'https://github.com/user',\n",
    "u'id': 123456,\n",
    "u'login': u'user',"
   ]
  },
  {
   "cell_type": "markdown",
   "metadata": {
    "deletable": true,
    "editable": true
   },
   "source": [
    "### PULL REQUEST"
   ]
  },
  {
   "cell_type": "code",
   "execution_count": null,
   "metadata": {
    "collapsed": true,
    "deletable": true,
    "editable": true
   },
   "outputs": [],
   "source": [
    "u'number': 1234, # ISSUE OF PULL REQUEST\n",
    "u'html': {u'\n",
    "u'href': u'https://github.com/publiclab/plots2/pull/5459'},\n",
    "u'additions': 25,\n",
    "u'created_at': u'2013-06-05T14:36:10Z', # ORIGINAL REPO CREATED AT\n",
    "u'id': 12345678,\n",
    "u'name': u'plots2',\n",
    "u'html_url': u'https://github.com/publiclab',\n",
    "u'id': 1234567,\n",
    "u'login': u'repo_org',\n",
    "        \n",
    "u'pushed_at': u'2019-04-11T13:21:53Z',\n",
    "u'changed_files': 3,\n",
    "u'comments': 2,\n",
    "u'commits': 3,\n",
    "u'label': u'user:fork-name',\n",
    "u'ref': u'user:fork-name',\n",
    "u'created_at': u'2019-04-10T15:59:42Z',\n",
    "u'id': 123456789,\n",
    "u'id': 123456, # USER ID\n",
    "u'login': u'user',                          "
   ]
  },
  {
   "cell_type": "markdown",
   "metadata": {
    "deletable": true,
    "editable": true
   },
   "source": [
    "## FUNCTIONS"
   ]
  },
  {
   "cell_type": "markdown",
   "metadata": {
    "deletable": true,
    "editable": true
   },
   "source": [
    "### GET ISSUE DATA"
   ]
  },
  {
   "cell_type": "code",
   "execution_count": 119,
   "metadata": {
    "ExecuteTime": {
     "end_time": "2019-05-02T17:25:32.573991Z",
     "start_time": "2019-05-02T17:25:32.558336Z"
    },
    "collapsed": false,
    "deletable": true,
    "editable": true
   },
   "outputs": [],
   "source": [
    "def get_issue_data(issue):\n",
    "    \n",
    "    data = {}\n",
    "    \n",
    "    data['user_id']  = issue.payload['issue']['user']['id']\n",
    "    data['user_name'] = issue.payload['issue']['user']['login']\n",
    "    data['text'] = issue.payload['issue']['body']\n",
    "    data['created_at'] = issue.payload['issue']['created_at']\n",
    "    data['updated_at'] = issue.payload['issue']['updated_at']\n",
    "    data['closed_at'] = issue.payload['issue']['closed_at']\n",
    "    data['no_comments'] = issue.payload['issue']['comments']\n",
    "    data['initial_comment_id'] = issue.payload['issue']['id']\n",
    "    data['issue_no'] = issue.payload['issue']['number']\n",
    "    data['title'] = issue.payload['issue']['title']\n",
    "    data['state'] = issue.payload['issue']['state']\n",
    "    data['repo'] = issue.payload['issue']['html_url'].split('/')[4]\n",
    "    \n",
    "    return data\n",
    "\n",
    "# get_issue_data(event_objects['create_issue'][0])"
   ]
  },
  {
   "cell_type": "markdown",
   "metadata": {
    "deletable": true,
    "editable": true
   },
   "source": [
    "### GET ISSUE COMMENT DATA"
   ]
  },
  {
   "cell_type": "code",
   "execution_count": 168,
   "metadata": {
    "ExecuteTime": {
     "end_time": "2019-05-02T17:58:37.279950Z",
     "start_time": "2019-05-02T17:58:37.244270Z"
    },
    "collapsed": false,
    "deletable": true,
    "editable": true
   },
   "outputs": [],
   "source": [
    "def get_issue_comment_data(issue_comment):\n",
    "    \n",
    "    data = {}\n",
    "    \n",
    "    data['user_id']  = issue_comment.payload['comment']['user']['id']\n",
    "    data['user_name'] = issue_comment.payload['comment']['user']['login']\n",
    "    data['text'] = issue_comment.payload['comment']['body']\n",
    "    data['created_at'] = issue_comment.payload['comment']['created_at']\n",
    "    data['comment_id'] = issue_comment.payload['comment']['id']\n",
    "    data['issue_no'] = issue_comment.payload['issue']['number']\n",
    "    data['title'] = issue_comment.payload['issue']['title']\n",
    "    data['updated_at'] = issue_comment.payload['issue']['updated_at']\n",
    "\n",
    "    data['closed_at'] = issue_comment.payload['issue']['closed_at']\n",
    "    data['no_comments'] = issue_comment.payload['issue']['comments']\n",
    "    data['state'] = issue_comment.payload['issue']['state']\n",
    "\n",
    "    data['initial_comment_id'] = issue_comment.payload['issue']['id']\n",
    "    data['repo'] = issue_comment.payload['issue']['html_url'].split('/')[4]\n",
    "\n",
    "    return data\n",
    "\n",
    "    \n",
    "\n",
    "\n",
    "\n",
    "# get_issue_comment_data(event_objects['issue_comment'][0])"
   ]
  },
  {
   "cell_type": "markdown",
   "metadata": {
    "ExecuteTime": {
     "end_time": "2019-05-03T15:25:58.652628Z",
     "start_time": "2019-05-03T15:25:58.648686Z"
    },
    "deletable": true,
    "editable": true
   },
   "source": [
    "### GET PULL REQUEST DATA"
   ]
  },
  {
   "cell_type": "code",
   "execution_count": 203,
   "metadata": {
    "ExecuteTime": {
     "end_time": "2019-05-02T18:26:38.228053Z",
     "start_time": "2019-05-02T18:26:38.208796Z"
    },
    "collapsed": false,
    "deletable": true,
    "editable": true
   },
   "outputs": [],
   "source": [
    "def get_pull_request_data(pull_request):\n",
    "    \n",
    "    data = {}\n",
    "    \n",
    "    data['user_id'] = pull_request.payload['pull_request']['user']['id']\n",
    "    data['user_name'] = pull_request.payload['pull_request']['user']['login']\n",
    "    data['pull_no'] = pull_request.payload['number']\n",
    "    data['title'] = pull_request.payload['pull_request']['title']\n",
    "    data['created_at'] = pull_request.payload['pull_request']['created_at']\n",
    "    data['updated_at'] = pull_request.payload['pull_request']['updated_at']\n",
    "    data['additions'] = pull_request.payload['pull_request']['additions']\n",
    "    data['changed_files'] = pull_request.payload['pull_request']['changed_files']\n",
    "    data['closed_at'] = pull_request.payload['pull_request']['closed_at']\n",
    "    data['commits'] = pull_request.payload['pull_request']['commits']\n",
    "    data['repo_id'] = pull_request.payload['pull_request']['base']['repo']['id']\n",
    "    data['repo'] = pull_request.payload['pull_request']['base']['repo']['name']\n",
    "    \n",
    "    return data\n",
    "\n",
    "# get_pull_request_data(event_objects['pull_request'][0])"
   ]
  },
  {
   "cell_type": "markdown",
   "metadata": {
    "deletable": true,
    "editable": true
   },
   "source": [
    "### GET PR REVIEW COMMENT DATA"
   ]
  },
  {
   "cell_type": "code",
   "execution_count": 232,
   "metadata": {
    "ExecuteTime": {
     "end_time": "2019-05-02T18:56:37.825027Z",
     "start_time": "2019-05-02T18:56:37.808604Z"
    },
    "collapsed": false,
    "deletable": true,
    "editable": true
   },
   "outputs": [],
   "source": [
    "def get_pr_review_comment_data(pr_review):\n",
    "    \n",
    "    data = {}\n",
    "    \n",
    "    data['user_id'] = pr_review.payload['comment']['user']['id']\n",
    "    data['user_name'] = pr_review.payload['comment']['user']['login']\n",
    "    data['comment_id'] = pr_review.payload['comment']['id']\n",
    "    data['created_at'] = pr_review.payload['comment']['created_at']\n",
    "    data['updated_at'] = pr_review.payload['comment']['updated_at']\n",
    "    data['text'] = pr_review.payload['comment']['body']\n",
    "    data['pr_review_id'] = pr_review.payload['comment']['pull_request_review_id']\n",
    "    data['repo_id'] = pr_review.payload['pull_request']['base']['repo']['id']\n",
    "    data['repo_name'] = pr_review.payload['pull_request']['base']['repo']['name']\n",
    "    data['state'] = pr_review.payload['pull_request']['state']\n",
    "    \n",
    "    return data\n",
    "\n",
    "# get_pr_review_comment_data(event_objects['pr_review_comment'][0])"
   ]
  },
  {
   "cell_type": "markdown",
   "metadata": {
    "deletable": true,
    "editable": true
   },
   "source": [
    "### GET PUSH DATA"
   ]
  },
  {
   "cell_type": "code",
   "execution_count": 297,
   "metadata": {
    "ExecuteTime": {
     "end_time": "2019-05-03T03:40:53.706383Z",
     "start_time": "2019-05-03T03:40:53.698391Z"
    },
    "collapsed": false,
    "deletable": true,
    "editable": true
   },
   "outputs": [],
   "source": [
    "def get_push_data(push_event):\n",
    "    \n",
    "    data = {}\n",
    "    \n",
    "    data['user_id']  = push_event.payload['commits'][0]['author']['name']\n",
    "    data['message'] = push_event.payload['commits'][0]['message']\n",
    "    data['push_id'] = push_event.payload['push_id']\n",
    "    \n",
    "    return data\n",
    "\n",
    "# get_push_data(event_objects['push'][14])"
   ]
  }
 ],
 "metadata": {
  "kernelspec": {
   "display_name": "Python 2",
   "language": "python",
   "name": "python2"
  },
  "language_info": {
   "codemirror_mode": {
    "name": "ipython",
    "version": 2
   },
   "file_extension": ".py",
   "mimetype": "text/x-python",
   "name": "python",
   "nbconvert_exporter": "python",
   "pygments_lexer": "ipython2",
   "version": "2.7.13"
  },
  "toc": {
   "colors": {
    "hover_highlight": "#DAA520",
    "navigate_num": "#000000",
    "navigate_text": "#333333",
    "running_highlight": "#FF0000",
    "selected_highlight": "#FFD700",
    "sidebar_border": "#EEEEEE",
    "wrapper_background": "#FFFFFF"
   },
   "moveMenuLeft": true,
   "nav_menu": {
    "height": "104px",
    "width": "251px"
   },
   "navigate_menu": true,
   "number_sections": true,
   "sideBar": true,
   "threshold": 4,
   "toc_cell": false,
   "toc_section_display": "block",
   "toc_window_display": false,
   "widenNotebook": false
  }
 },
 "nbformat": 4,
 "nbformat_minor": 2
}
