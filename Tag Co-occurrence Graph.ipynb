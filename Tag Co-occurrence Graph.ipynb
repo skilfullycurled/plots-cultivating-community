{
 "cells": [
  {
   "cell_type": "code",
   "execution_count": 32,
   "metadata": {
    "ExecuteTime": {
     "end_time": "2019-04-22T21:36:08.678613Z",
     "start_time": "2019-04-22T21:36:08.668132Z"
    },
    "collapsed": false
   },
   "outputs": [
    {
     "data": {
      "text/plain": [
       "False"
      ]
     },
     "execution_count": 32,
     "metadata": {},
     "output_type": "execute_result"
    }
   ],
   "source": [
    "def locate_hafstar(df, uid=461120):\n",
    "    \n",
    "    return bool(df.loc[df['uid'] == uid].shape[0])\n",
    "\n",
    "locate_hafstar(tags)"
   ]
  },
  {
   "cell_type": "code",
   "execution_count": 1,
   "metadata": {
    "ExecuteTime": {
     "end_time": "2019-04-22T19:11:52.870901Z",
     "start_time": "2019-04-22T19:11:51.883196Z"
    },
    "collapsed": false,
    "deletable": true,
    "editable": true
   },
   "outputs": [
    {
     "name": "stdout",
     "output_type": "stream",
     "text": [
      "imported\n"
     ]
    }
   ],
   "source": [
    "import json\n",
    "import numpy as np\n",
    "import pandas as pd\n",
    "\n",
    "%matplotlib inline\n",
    "# import matplotlib as plt\n",
    "import matplotlib.pyplot as pyplt\n",
    "\n",
    "import seaborn as sns\n",
    "\n",
    "import collections\n",
    "import csv\n",
    "import sys\n",
    "\n",
    "from collections import defaultdict\n",
    "import networkx as nx\n",
    "try:\n",
    "    import simplejson as json\n",
    "except:\n",
    "    import json\n",
    "\n",
    "print \"imported\""
   ]
  },
  {
   "cell_type": "code",
   "execution_count": 38,
   "metadata": {
    "ExecuteTime": {
     "end_time": "2019-04-22T21:45:35.699582Z",
     "start_time": "2019-04-22T21:45:35.578150Z"
    },
    "collapsed": false
   },
   "outputs": [
    {
     "data": {
      "text/html": [
       "<div>\n",
       "<style scoped>\n",
       "    .dataframe tbody tr th:only-of-type {\n",
       "        vertical-align: middle;\n",
       "    }\n",
       "\n",
       "    .dataframe tbody tr th {\n",
       "        vertical-align: top;\n",
       "    }\n",
       "\n",
       "    .dataframe thead th {\n",
       "        text-align: right;\n",
       "    }\n",
       "</style>\n",
       "<table border=\"1\" class=\"dataframe\">\n",
       "  <thead>\n",
       "    <tr style=\"text-align: right;\">\n",
       "      <th></th>\n",
       "      <th>nid</th>\n",
       "      <th>uid</th>\n",
       "      <th>tid</th>\n",
       "      <th>name</th>\n",
       "      <th>power_type</th>\n",
       "      <th>count</th>\n",
       "      <th>date</th>\n",
       "      <th>power</th>\n",
       "    </tr>\n",
       "  </thead>\n",
       "  <tbody>\n",
       "    <tr>\n",
       "      <th>46917</th>\n",
       "      <td>12620</td>\n",
       "      <td>379</td>\n",
       "      <td>13069</td>\n",
       "      <td>lean</td>\n",
       "      <td>npt</td>\n",
       "      <td>2.0</td>\n",
       "      <td>2015</td>\n",
       "      <td>False</td>\n",
       "    </tr>\n",
       "    <tr>\n",
       "      <th>40600</th>\n",
       "      <td>11331</td>\n",
       "      <td>422561</td>\n",
       "      <td>8485</td>\n",
       "      <td>silica</td>\n",
       "      <td>npt</td>\n",
       "      <td>67.0</td>\n",
       "      <td>2014</td>\n",
       "      <td>False</td>\n",
       "    </tr>\n",
       "    <tr>\n",
       "      <th>27483</th>\n",
       "      <td>64</td>\n",
       "      <td>1</td>\n",
       "      <td>119</td>\n",
       "      <td>nrg</td>\n",
       "      <td>npt</td>\n",
       "      <td>47.0</td>\n",
       "      <td>2012</td>\n",
       "      <td>False</td>\n",
       "    </tr>\n",
       "    <tr>\n",
       "      <th>38866</th>\n",
       "      <td>10586</td>\n",
       "      <td>1</td>\n",
       "      <td>707</td>\n",
       "      <td>new-york</td>\n",
       "      <td>npt</td>\n",
       "      <td>19.0</td>\n",
       "      <td>2014</td>\n",
       "      <td>False</td>\n",
       "    </tr>\n",
       "    <tr>\n",
       "      <th>25144</th>\n",
       "      <td>13725</td>\n",
       "      <td>498199</td>\n",
       "      <td>14322</td>\n",
       "      <td>uspstracking</td>\n",
       "      <td>npt</td>\n",
       "      <td>1.0</td>\n",
       "      <td>2016</td>\n",
       "      <td>False</td>\n",
       "    </tr>\n",
       "  </tbody>\n",
       "</table>\n",
       "</div>"
      ],
      "text/plain": [
       "         nid     uid    tid          name power_type  count  date  power\n",
       "46917  12620     379  13069          lean        npt    2.0  2015  False\n",
       "40600  11331  422561   8485        silica        npt   67.0  2014  False\n",
       "27483     64       1    119           nrg        npt   47.0  2012  False\n",
       "38866  10586       1    707      new-york        npt   19.0  2014  False\n",
       "25144  13725  498199  14322  uspstracking        npt    1.0  2016  False"
      ]
     },
     "execution_count": 38,
     "metadata": {},
     "output_type": "execute_result"
    }
   ],
   "source": [
    "tags_dir = '../data/2016_2019/full/tags/'\n",
    "tags = pd.read_csv(tags_dir + 'tags.csv')\n",
    "tags.sample(5)"
   ]
  },
  {
   "cell_type": "code",
   "execution_count": 8,
   "metadata": {
    "ExecuteTime": {
     "end_time": "2019-04-22T19:18:05.487533Z",
     "start_time": "2019-04-22T19:18:01.384000Z"
    },
    "collapsed": true,
    "deletable": true,
    "editable": true
   },
   "outputs": [],
   "source": [
    "grouped = tags.groupby('nid')\n",
    "co_tags = [group['name'].tolist() for nid, group in grouped]\n",
    "# len(grouped), len(co_tags) # (9561, 9561)\n",
    "# co_tags[0] # ['attachments', 'content', 'slider']"
   ]
  },
  {
   "cell_type": "code",
   "execution_count": 39,
   "metadata": {
    "ExecuteTime": {
     "end_time": "2019-04-22T21:46:40.378284Z",
     "start_time": "2019-04-22T21:46:40.370768Z"
    },
    "collapsed": false
   },
   "outputs": [
    {
     "name": "stdout",
     "output_type": "stream",
     "text": [
      "../data/2016_2019/full/tags/graphml/tags_256.graphml\n",
      "../data/2016_2019/full/tags/graphml/by_year/tags_2018_512.graphml\n"
     ]
    }
   ],
   "source": [
    "nt = 256\n",
    "y = 2018\n",
    "\n",
    "print tags_dir + 'graphml/' 'tags_' + str(nt) + '.graphml'\n",
    "print tags_dir + 'graphml/by_year/' + 'tags_' + str(year) + '_' + str(num_tags) + '.graphml'"
   ]
  },
  {
   "cell_type": "markdown",
   "metadata": {
    "deletable": true,
    "editable": true
   },
   "source": [
    "### CODE FROM: Piotr Migdal\n",
    "https://github.com/stared/tag-graph-map-of-stackexchange"
   ]
  },
  {
   "cell_type": "markdown",
   "metadata": {},
   "source": [
    "### ALL TAGS"
   ]
  },
  {
   "cell_type": "code",
   "execution_count": 40,
   "metadata": {
    "ExecuteTime": {
     "end_time": "2019-04-22T21:47:08.150209Z",
     "start_time": "2019-04-22T21:47:06.227447Z"
    },
    "collapsed": false,
    "deletable": true,
    "editable": true
   },
   "outputs": [
    {
     "name": "stdout",
     "output_type": "stream",
     "text": [
      "Saved!\n",
      "Nodes: 512\tEdges: 5515\n",
      "Saved!\n",
      "Nodes: 256\tEdges: 2726\n",
      "Saved!\n",
      "Nodes: 128\tEdges: 1204\n",
      "Saved!\n",
      "Nodes: 64\tEdges: 475\n",
      "Saved!\n",
      "Nodes: 32\tEdges: 155\n"
     ]
    }
   ],
   "source": [
    "bun = Bundle()\n",
    "\n",
    "for num_tags in [512, 256, 128, 64, 32]:\n",
    "    \n",
    "    # PROBABLY AN HAVE THIS OUTSIDE LOOP BUT GIVEN THE TIME I KNOW THIS'LL WORK!\n",
    "    bun = Bundle(co_tags)\n",
    "    \n",
    "    bun.filter_elements(first_n=num_tags)  # takes only 100 most frequent tags\n",
    "    bun.calculate_pair_weights(func=oe_ratio, threshold=1.0)\n",
    "    bun.export2graphml(tags_dir + 'graphml/' 'tags_' + str(num_tags) + '.graphml')"
   ]
  },
  {
   "cell_type": "markdown",
   "metadata": {},
   "source": [
    "### TAGS BY YEAR"
   ]
  },
  {
   "cell_type": "code",
   "execution_count": 45,
   "metadata": {
    "ExecuteTime": {
     "end_time": "2019-04-22T21:49:47.219896Z",
     "start_time": "2019-04-22T21:49:33.479359Z"
    },
    "collapsed": false
   },
   "outputs": [
    {
     "name": "stdout",
     "output_type": "stream",
     "text": [
      "2012\n",
      "Saved! Nodes: 512\tEdges: 1870\n",
      "Saved! Nodes: 256\tEdges: 1172\n",
      "Saved! Nodes: 128\tEdges: 572\n",
      "Saved! Nodes: 64\tEdges: 217\n",
      "Saved! Nodes: 32\tEdges: 79\n",
      "\n",
      "2013\n",
      "Saved! Nodes: 512\tEdges: 3325\n",
      "Saved! Nodes: 256\tEdges: 1776\n",
      "Saved! Nodes: 128\tEdges: 847\n",
      "Saved! Nodes: 64\tEdges: 357\n",
      "Saved! Nodes: 32\tEdges: 100\n",
      "\n",
      "2014\n",
      "Saved! Nodes: 512\tEdges: 4377\n",
      "Saved! Nodes: 256\tEdges: 2354\n",
      "Saved! Nodes: 128\tEdges: 1056\n",
      "Saved! Nodes: 64\tEdges: 416\n",
      "Saved! Nodes: 32\tEdges: 112\n",
      "\n",
      "2015\n",
      "Saved! Nodes: 512\tEdges: 3323\n",
      "Saved! Nodes: 256\tEdges: 1754\n",
      "Saved! Nodes: 128\tEdges: 867\n",
      "Saved! Nodes: 64\tEdges: 364\n",
      "Saved! Nodes: 32\tEdges: 105\n",
      "\n",
      "2016\n",
      "Saved! Nodes: 512\tEdges: 4413\n",
      "Saved! Nodes: 256\tEdges: 2394\n",
      "Saved! Nodes: 128\tEdges: 1061\n",
      "Saved! Nodes: 64\tEdges: 357\n",
      "Saved! Nodes: 32\tEdges: 92\n",
      "\n",
      "2017\n",
      "Saved! Nodes: 512\tEdges: 6258\n",
      "Saved! Nodes: 256\tEdges: 3265\n",
      "Saved! Nodes: 128\tEdges: 1326\n",
      "Saved! Nodes: 64\tEdges: 514\n",
      "Saved! Nodes: 32\tEdges: 152\n",
      "\n",
      "2018\n",
      "Saved! Nodes: 512\tEdges: 5515\n",
      "Saved! Nodes: 256\tEdges: 2726\n",
      "Saved! Nodes: 128\tEdges: 1204\n",
      "Saved! Nodes: 64\tEdges: 475\n",
      "Saved! Nodes: 32\tEdges: 155\n",
      "\n"
     ]
    }
   ],
   "source": [
    "# PROBABLY CAN DO THIS WITH FILTERING THE ONE ABOVE, BUT AGAIN, PRESSED FOR TIME\n",
    "# tags_2012.csv tags_2013.csv tags_2014.csv tags_2015.csv tags_2016.csv tags_2017.csv tags_2018.csv\n",
    "\n",
    "by_year_dir = tags_dir + 'graphml/by_year/'\n",
    "years = [2012, 2013, 2014, 2015, 2016, 2017, 2018]\n",
    "\n",
    "for year in years:\n",
    "\n",
    "    tag_year = tags.loc[tags['date'] == year]\n",
    "    grouped = tag_year.groupby('nid')\n",
    "    co_tags = [group['name'].tolist() for nid, group in grouped]\n",
    "\n",
    "    bun = Bundle()\n",
    "    \n",
    "    print year\n",
    "    \n",
    "    for num_tags in [512, 256, 128, 64, 32]:\n",
    "        \n",
    "        out_dir = tags_dir + 'graphml/by_year/' \n",
    "        tag_file = 'tags_' + str(year) + '_' + str(num_tags) + '.graphml'\n",
    "\n",
    "        # PROBABLY AN HAVE THIS OUTSIDE LOOP BUT GIVEN THE TIME I KNOW THIS'LL WORK!\n",
    "        bun = Bundle(co_tags)\n",
    "\n",
    "        bun.filter_elements(first_n=num_tags)  # takes only 100 most frequent tags\n",
    "        bun.calculate_pair_weights(func=oe_ratio, threshold=1.0)\n",
    "        bun.export2graphml(by_year_dir + tag_file)\n",
    "    print ''"
   ]
  },
  {
   "cell_type": "code",
   "execution_count": 42,
   "metadata": {
    "ExecuteTime": {
     "end_time": "2019-04-22T21:48:38.391301Z",
     "start_time": "2019-04-22T21:48:38.364667Z"
    },
    "collapsed": false,
    "deletable": true,
    "editable": true
   },
   "outputs": [],
   "source": [
    "def oecsv2graphml(input_path, output_path=\"output.graphml\",\n",
    "                  threshold=0.):\n",
    "    with open(input_path, \"r\") as f:\n",
    "        data = list(csv.reader(f))[1:]\n",
    "    data = map(lambda x: [x[0], x[1], float(x[2]), int(x[3]), int(x[4]), int(x[5])], data)\n",
    "    nodes = dict([(x[0], x[3]) for x in data]\n",
    "                 + [(x[1], x[4]) for x in data])\n",
    "\n",
    "    G = nx.Graph()\n",
    "    for k, v in nodes.items():\n",
    "        G.add_node(k, weight=v)\n",
    "\n",
    "    data_filtered = filter(lambda x: x[2] >= threshold, data)\n",
    "    for x in data_filtered:\n",
    "        G.add_edge(x[0], x[1], weight=x[2])\n",
    "\n",
    "    nx.write_graphml(G, output_path)\n",
    "    print \"Saved! Nodes: %d\\tEdges: %d out of %d\" % (len(nodes), len(data_filtered), len(data))\n",
    "\n",
    "\n",
    "# if __name__ == \"__main__\":\n",
    "#     oecsv2graphml(*sys.argv[1:])"
   ]
  },
  {
   "cell_type": "code",
   "execution_count": 41,
   "metadata": {
    "ExecuteTime": {
     "end_time": "2019-04-22T21:48:33.493381Z",
     "start_time": "2019-04-22T21:48:33.377444Z"
    },
    "collapsed": true,
    "deletable": true,
    "editable": true
   },
   "outputs": [],
   "source": [
    "def oe_ratio(n, nx, ny, nxy):\n",
    "    return float(n) * float(nxy) / (float(nx) * float(ny))\n",
    "\n",
    "def cooccurrences(n, nx, ny, nxy):\n",
    "    return float(nxy)\n",
    "\n",
    "\n",
    "class Bundle():\n",
    "    def __init__(self, li=[], json_path=\"\"):\n",
    "        if json_path:\n",
    "            with open(json_path, \"r\") as f:\n",
    "                li = json.load(f)\n",
    "        self.total = len(li)\n",
    "        self.elements_dict_full = self.bundles2tags(li)\n",
    "        self.pairs_dict_full = self.bundles2pairs(li)\n",
    "        self.filter_elements()\n",
    "\n",
    "    def filter_elements(self, min_counts=0, first_n=0):\n",
    "        self.elements = self.elements_dict_full.items()\n",
    "        self.elements.sort(key=lambda x: -x[1])\n",
    "\n",
    "        if first_n:\n",
    "            self.elements = self.elements[:first_n]\n",
    "        if min_counts:  # if not necessary, but can make it faster\n",
    "            self.elements = filter(lambda x: x[1] >= min_counts, self.elements)\n",
    "\n",
    "        elements_dict = dict(self.elements)  # just to make \"in\" quicker\n",
    "\n",
    "        self.pairs = self.pairs_dict_full.items()\n",
    "        self.pairs = filter(lambda x: x[0][0] in elements_dict\n",
    "                            and x[0][1] in elements_dict,\n",
    "                            self.pairs)\n",
    "        self.pairs.sort(key=lambda x: -x[1])\n",
    "        return {\"elements\": len(self.elements), \"pairs\": len(self.pairs)}\n",
    "\n",
    "    def calculate_pair_weights(self, func=oe_ratio, threshold=0.):\n",
    "        elements_dict = dict(self.elements)\n",
    "        self.pairs_weighted = [(xy, func(n=self.total, nx=elements_dict[xy[0]],\n",
    "                                ny=elements_dict[xy[1]], nxy=nxy))\n",
    "                               for xy, nxy in self.pairs]\n",
    "        self.pairs_weighted = filter(lambda x: x[1] >= threshold,\n",
    "                                     self.pairs_weighted)\n",
    "        self.pairs_weighted.sort(key=lambda x: -x[1])\n",
    "        return len(self.pairs_weighted)\n",
    "\n",
    "    def bundles2tags(self, li):\n",
    "        \"\"\"For a list with elements being lists, counts all elements inside,\n",
    "           e.g. [[1, 6, 2], [3], [3, 1, 2]] -> defaultdict{1:2, 2:2, 3:2, 6:1}\"\"\"\n",
    "        res = defaultdict(lambda: 0)\n",
    "        for bundle in li:\n",
    "            for x in bundle:\n",
    "                res[x] += 1\n",
    "        return res\n",
    "\n",
    "    def bundles2pairs(self, li):\n",
    "        \"\"\"For a list with elements being lists, counts all lexically ordered pairs,\n",
    "           e.g. [[1, 6, 2], [3], [3, 1, 2]] -> defaultdict{(1,2):2, (1,3):1, (1,6):1}\"\"\"\n",
    "        res = defaultdict(lambda: 0)\n",
    "        for bundle in li:\n",
    "            for x in bundle:\n",
    "                for y in bundle:\n",
    "                    if x < y:\n",
    "                        res[(x, y)] += 1\n",
    "        return res\n",
    "\n",
    "    def export2graphml(self, output_path):  # to do\n",
    "        G = nx.Graph()\n",
    "        for k, v in self.elements:\n",
    "            G.add_node(k, weight=v)\n",
    "\n",
    "        for x in self.pairs_weighted:\n",
    "            G.add_edge(x[0][0], x[0][1], weight=x[1])\n",
    "\n",
    "        nx.write_graphml(G, output_path)\n",
    "        print \"Saved! Nodes: %d\\tEdges: %d\" % (len(self.elements), len(self.pairs_weighted))\n"
   ]
  },
  {
   "cell_type": "code",
   "execution_count": null,
   "metadata": {
    "collapsed": true,
    "deletable": true,
    "editable": true
   },
   "outputs": [],
   "source": [
    "2012\n",
    "Nodes: 512\tEdges: 1870\n",
    "Nodes: 256\tEdges: 1172\n",
    "Nodes: 128\tEdges: 572\n",
    "Nodes: 64\tEdges: 217\n",
    "Nodes: 32\tEdges: 79\n",
    "\n",
    "2013\n",
    "Nodes: 512\tEdges: 3325\n",
    "Nodes: 256\tEdges: 1776\n",
    "Nodes: 128\tEdges: 847\n",
    "Nodes: 64\tEdges: 357\n",
    "Nodes: 32\tEdges: 100\n",
    "\n",
    "2014\n",
    "Nodes: 512\tEdges: 4377\n",
    "Nodes: 256\tEdges: 2354\n",
    "Nodes: 128\tEdges: 1056\n",
    "Nodes: 64\tEdges: 416\n",
    "Nodes: 32\tEdges: 112\n",
    "\n",
    "2015\n",
    "Nodes: 512\tEdges: 12563\n",
    "Nodes: 256\tEdges: 7517\n",
    "Nodes: 128\tEdges: 5385\n",
    "Nodes: 64\tEdges: 1420\n",
    "Nodes: 32\tEdges: 268\n",
    "        \n",
    "2016\n",
    "Nodes: 512\tEdges: 11434\n",
    "Nodes: 256\tEdges: 7466\n",
    "Nodes: 128\tEdges: 2493\n",
    "Nodes: 64\tEdges: 333\n",
    "Nodes: 32\tEdges: 92\n",
    "        \n",
    "2027    \n",
    "Nodes: 512\tEdges: 6258\n",
    "Nodes: 256\tEdges: 3265\n",
    "Nodes: 128\tEdges: 1326\n",
    "Nodes: 64\tEdges: 514\n",
    "Nodes: 32\tEdges: 152\n",
    "        \n",
    "2018\n",
    "Nodes: 512\tEdges: 5515\n",
    "Nodes: 256\tEdges: 2726\n",
    "Nodes: 128\tEdges: 1204\n",
    "Nodes: 64\tEdges: 475\n",
    "Nodes: 32\tEdges: 155"
   ]
  }
 ],
 "metadata": {
  "kernelspec": {
   "display_name": "Python 2",
   "language": "python",
   "name": "python2"
  },
  "language_info": {
   "codemirror_mode": {
    "name": "ipython",
    "version": 2
   },
   "file_extension": ".py",
   "mimetype": "text/x-python",
   "name": "python",
   "nbconvert_exporter": "python",
   "pygments_lexer": "ipython2",
   "version": "2.7.13"
  },
  "toc": {
   "colors": {
    "hover_highlight": "#DAA520",
    "navigate_num": "#000000",
    "navigate_text": "#333333",
    "running_highlight": "#FF0000",
    "selected_highlight": "#FFD700",
    "sidebar_border": "#EEEEEE",
    "wrapper_background": "#FFFFFF"
   },
   "moveMenuLeft": true,
   "nav_menu": {
    "height": "31px",
    "width": "252px"
   },
   "navigate_menu": true,
   "number_sections": true,
   "sideBar": true,
   "threshold": 4,
   "toc_cell": false,
   "toc_section_display": "block",
   "toc_window_display": false,
   "widenNotebook": false
  }
 },
 "nbformat": 4,
 "nbformat_minor": 0
}
