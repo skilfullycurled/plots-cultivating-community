{
 "cells": [
  {
   "cell_type": "code",
   "execution_count": null,
   "metadata": {
    "collapsed": true,
    "deletable": true,
    "editable": true
   },
   "outputs": [],
   "source": [
    "#DATE\n",
    "#USERS\n",
    "#WIKI PAGES\n",
    "#RESEARCH NOTES\n",
    "#COMMENTS\n",
    "#QUESTION\n",
    "#ANSWERS"
   ]
  },
  {
   "cell_type": "code",
   "execution_count": 176,
   "metadata": {
    "ExecuteTime": {
     "end_time": "2019-04-14T15:37:01.969097Z",
     "start_time": "2019-04-14T15:37:01.960761Z"
    },
    "collapsed": true,
    "deletable": true,
    "editable": true
   },
   "outputs": [],
   "source": [
    "def path_to_url(nid, data_type, paths):\n",
    "    \n",
    "    try:\n",
    "\n",
    "        path_type = (paths['type'] == data_type)\n",
    "        path_nid = (paths['nid'] == nid)\n",
    "\n",
    "        path = paths.loc[path_type & path_nid]['path'].values[0]\n",
    "\n",
    "        return 'https://publiclab.org' + path\n",
    "    \n",
    "    except:\n",
    "        \n",
    "        return False"
   ]
  },
  {
   "cell_type": "code",
   "execution_count": 1,
   "metadata": {
    "ExecuteTime": {
     "end_time": "2019-04-13T17:02:12.069866Z",
     "start_time": "2019-04-13T17:02:12.054253Z"
    },
    "collapsed": true,
    "deletable": true,
    "editable": true
   },
   "outputs": [],
   "source": [
    "def create_csv_paths(data_types, base='', exp='', full=True):\n",
    "    \n",
    "    csv_paths = {}\n",
    "    \n",
    "    for data_type in data_types:\n",
    "\n",
    "        if not full:\n",
    "            csv_dir = '../data/2016_2019/samples/'\n",
    "            e = '_' + str(base) + 'e' + str(exp)\n",
    "            csv_path = csv_dir + data_type + e + '.csv'\n",
    "        else:\n",
    "            csv_dir = '../data/2016_2019/full/'\n",
    "            e = ''\n",
    "            csv_path = csv_dir + data_type + e + '.csv'\n",
    "            \n",
    "        csv_paths[data_type] = csv_path\n",
    "    \n",
    "    return csv_paths"
   ]
  },
  {
   "cell_type": "code",
   "execution_count": 180,
   "metadata": {
    "ExecuteTime": {
     "end_time": "2019-04-14T15:40:45.942988Z",
     "start_time": "2019-04-14T15:40:45.925095Z"
    },
    "collapsed": false,
    "deletable": true,
    "editable": true
   },
   "outputs": [],
   "source": [
    "import pandas as pd\n",
    "import numpy as np\n",
    "import re\n",
    "import csv\n",
    "\n",
    "sample = False\n",
    "\n",
    "m = 25\n",
    "exp = 2\n",
    "\n",
    "\n",
    "\n",
    "if sample:\n",
    "    csv_dir = '../data/2016_2019/samples/'\n",
    "    e = '_' + str(m) + 'e' + str(exp)\n",
    "    csv_path = csv_dir + data_type + e + '.csv'\n",
    "else:\n",
    "    csv_dir = '../data/2016_2019/full/'\n",
    "    e = ''\n",
    "    csv_path = csv_dir + data_type + e + '.csv'\n",
    "\n",
    "data_types = ['answers', 'comments', 'notes', 'questions', 'users', 'wikis', 'paths', 'slugs']\n",
    "csv_paths = create_csv_paths(data_types)\n",
    "\n",
    "# print csv_paths"
   ]
  },
  {
   "cell_type": "markdown",
   "metadata": {
    "deletable": true,
    "editable": true
   },
   "source": [
    "### LOAD PATHS"
   ]
  },
  {
   "cell_type": "code",
   "execution_count": 181,
   "metadata": {
    "ExecuteTime": {
     "end_time": "2019-04-14T15:40:50.526533Z",
     "start_time": "2019-04-14T15:40:50.503155Z"
    },
    "collapsed": false,
    "deletable": true,
    "editable": true
   },
   "outputs": [
    {
     "data": {
      "text/plain": [
       "'https://publiclab.org/notes/Mushroomman/12-05-2016/is-anyone-doing-any-work-with-fungi-or-bioremediation'"
      ]
     },
     "execution_count": 181,
     "metadata": {},
     "output_type": "execute_result"
    }
   ],
   "source": [
    "paths = pd.read_csv(csv_paths['paths'])\n",
    "path_to_url(13745, 'notes', paths)"
   ]
  },
  {
   "cell_type": "markdown",
   "metadata": {
    "deletable": true,
    "editable": true
   },
   "source": [
    "### WIKI PAGES"
   ]
  },
  {
   "cell_type": "code",
   "execution_count": 84,
   "metadata": {
    "ExecuteTime": {
     "end_time": "2019-04-14T10:47:00.671413Z",
     "start_time": "2019-04-14T10:47:00.582106Z"
    },
    "collapsed": false,
    "deletable": true,
    "editable": true
   },
   "outputs": [
    {
     "data": {
      "text/html": [
       "<div>\n",
       "<style scoped>\n",
       "    .dataframe tbody tr th:only-of-type {\n",
       "        vertical-align: middle;\n",
       "    }\n",
       "\n",
       "    .dataframe tbody tr th {\n",
       "        vertical-align: top;\n",
       "    }\n",
       "\n",
       "    .dataframe thead th {\n",
       "        text-align: right;\n",
       "    }\n",
       "</style>\n",
       "<table border=\"1\" class=\"dataframe\">\n",
       "  <thead>\n",
       "    <tr style=\"text-align: right;\">\n",
       "      <th></th>\n",
       "      <th>nid</th>\n",
       "      <th>uid</th>\n",
       "      <th>date</th>\n",
       "      <th>comments</th>\n",
       "      <th>likes</th>\n",
       "      <th>title</th>\n",
       "    </tr>\n",
       "  </thead>\n",
       "  <tbody>\n",
       "    <tr>\n",
       "      <th>0</th>\n",
       "      <td>10388</td>\n",
       "      <td>7</td>\n",
       "      <td>1525745225</td>\n",
       "      <td>0</td>\n",
       "      <td>27</td>\n",
       "      <td>OpenHour</td>\n",
       "    </tr>\n",
       "    <tr>\n",
       "      <th>1</th>\n",
       "      <td>13290</td>\n",
       "      <td>7</td>\n",
       "      <td>1468599610</td>\n",
       "      <td>0</td>\n",
       "      <td>1</td>\n",
       "      <td>Riffle pics</td>\n",
       "    </tr>\n",
       "    <tr>\n",
       "      <th>2</th>\n",
       "      <td>13291</td>\n",
       "      <td>461120</td>\n",
       "      <td>1468610199</td>\n",
       "      <td>0</td>\n",
       "      <td>1</td>\n",
       "      <td>How To Obtain Transmittance/ Absorbance Spectra</td>\n",
       "    </tr>\n",
       "    <tr>\n",
       "      <th>3</th>\n",
       "      <td>13304</td>\n",
       "      <td>461120</td>\n",
       "      <td>1469191106</td>\n",
       "      <td>0</td>\n",
       "      <td>1</td>\n",
       "      <td>Solux 4700K Lamp Set Up</td>\n",
       "    </tr>\n",
       "    <tr>\n",
       "      <th>4</th>\n",
       "      <td>13331</td>\n",
       "      <td>422561</td>\n",
       "      <td>1470259324</td>\n",
       "      <td>0</td>\n",
       "      <td>6</td>\n",
       "      <td>Public Comment</td>\n",
       "    </tr>\n",
       "  </tbody>\n",
       "</table>\n",
       "</div>"
      ],
      "text/plain": [
       "     nid     uid        date  comments  likes  \\\n",
       "0  10388       7  1525745225         0     27   \n",
       "1  13290       7  1468599610         0      1   \n",
       "2  13291  461120  1468610199         0      1   \n",
       "3  13304  461120  1469191106         0      1   \n",
       "4  13331  422561  1470259324         0      6   \n",
       "\n",
       "                                             title  \n",
       "0                                         OpenHour  \n",
       "1                                      Riffle pics  \n",
       "2  How To Obtain Transmittance/ Absorbance Spectra  \n",
       "3                          Solux 4700K Lamp Set Up  \n",
       "4                                   Public Comment  "
      ]
     },
     "execution_count": 84,
     "metadata": {},
     "output_type": "execute_result"
    }
   ],
   "source": [
    "wiki_cols = [u'nid',  u'uid', u'created', u'comments_count', u'cached_likes', u'title']\n",
    "renamed_wiki_cols = {'created': 'date', 'comments_count': 'comments', 'cached_likes': 'likes'}\n",
    "\n",
    "wikis = pd.read_csv(csv_paths['wikis'], usecols=wiki_cols)\n",
    "wikis = wikis[wiki_cols] # questions.columns = cols\n",
    "wikis.rename(index=str, columns=renamed_wiki_cols, inplace=True)\n",
    "\n",
    "# wikis.columns\n",
    "wikis.head()"
   ]
  },
  {
   "cell_type": "markdown",
   "metadata": {
    "deletable": true,
    "editable": true
   },
   "source": [
    "### RESEARCH NOTES"
   ]
  },
  {
   "cell_type": "code",
   "execution_count": 189,
   "metadata": {
    "ExecuteTime": {
     "end_time": "2019-04-14T16:57:41.401758Z",
     "start_time": "2019-04-14T16:57:41.265368Z"
    },
    "collapsed": false,
    "deletable": true,
    "editable": true
   },
   "outputs": [
    {
     "data": {
      "text/html": [
       "<div>\n",
       "<style scoped>\n",
       "    .dataframe tbody tr th:only-of-type {\n",
       "        vertical-align: middle;\n",
       "    }\n",
       "\n",
       "    .dataframe tbody tr th {\n",
       "        vertical-align: top;\n",
       "    }\n",
       "\n",
       "    .dataframe thead th {\n",
       "        text-align: right;\n",
       "    }\n",
       "</style>\n",
       "<table border=\"1\" class=\"dataframe\">\n",
       "  <thead>\n",
       "    <tr style=\"text-align: right;\">\n",
       "      <th></th>\n",
       "      <th>nid</th>\n",
       "      <th>uid</th>\n",
       "      <th>date</th>\n",
       "      <th>comments</th>\n",
       "      <th>likes</th>\n",
       "      <th>title</th>\n",
       "    </tr>\n",
       "  </thead>\n",
       "  <tbody>\n",
       "    <tr>\n",
       "      <th>0</th>\n",
       "      <td>13252</td>\n",
       "      <td>481667</td>\n",
       "      <td>1467398556</td>\n",
       "      <td>2</td>\n",
       "      <td>0</td>\n",
       "      <td>Desktop spectrometry 3.0 kit: Can it quantify/...</td>\n",
       "    </tr>\n",
       "    <tr>\n",
       "      <th>1</th>\n",
       "      <td>13253</td>\n",
       "      <td>447491</td>\n",
       "      <td>1467400850</td>\n",
       "      <td>5</td>\n",
       "      <td>1</td>\n",
       "      <td>Capturing location information with trap cam</td>\n",
       "    </tr>\n",
       "    <tr>\n",
       "      <th>2</th>\n",
       "      <td>13254</td>\n",
       "      <td>447491</td>\n",
       "      <td>1467415364</td>\n",
       "      <td>7</td>\n",
       "      <td>3</td>\n",
       "      <td>Mobius TrapCam Housing</td>\n",
       "    </tr>\n",
       "    <tr>\n",
       "      <th>3</th>\n",
       "      <td>13255</td>\n",
       "      <td>4</td>\n",
       "      <td>1467415531</td>\n",
       "      <td>2</td>\n",
       "      <td>1</td>\n",
       "      <td>ideal mechanisms &amp; silly putty camera rig</td>\n",
       "    </tr>\n",
       "    <tr>\n",
       "      <th>4</th>\n",
       "      <td>13256</td>\n",
       "      <td>4</td>\n",
       "      <td>1467418233</td>\n",
       "      <td>3</td>\n",
       "      <td>0</td>\n",
       "      <td>Question: Does the Levitation Light dive for y...</td>\n",
       "    </tr>\n",
       "  </tbody>\n",
       "</table>\n",
       "</div>"
      ],
      "text/plain": [
       "     nid     uid        date  comments  likes  \\\n",
       "0  13252  481667  1467398556         2      0   \n",
       "1  13253  447491  1467400850         5      1   \n",
       "2  13254  447491  1467415364         7      3   \n",
       "3  13255       4  1467415531         2      1   \n",
       "4  13256       4  1467418233         3      0   \n",
       "\n",
       "                                               title  \n",
       "0  Desktop spectrometry 3.0 kit: Can it quantify/...  \n",
       "1       Capturing location information with trap cam  \n",
       "2                             Mobius TrapCam Housing  \n",
       "3          ideal mechanisms & silly putty camera rig  \n",
       "4  Question: Does the Levitation Light dive for y...  "
      ]
     },
     "execution_count": 189,
     "metadata": {},
     "output_type": "execute_result"
    }
   ],
   "source": [
    "notes_cols = [u'nid',  u'uid', u'created', u'comments_count', u'cached_likes', u'title']\n",
    "renamed_notes_cols = {'created': 'date', 'comments_count': 'comments', 'cached_likes': 'likes'}\n",
    "\n",
    "notes = pd.read_csv(csv_paths['notes'])#, usecols=notes_cols)\n",
    "\n",
    "notes = notes[notes_cols]\n",
    "notes.rename(index=str, columns=renamed_notes_cols, inplace=True)\n",
    "\n",
    "# notes.columns\n",
    "notes.head()"
   ]
  },
  {
   "cell_type": "markdown",
   "metadata": {
    "deletable": true,
    "editable": true
   },
   "source": [
    "### COMMENTS"
   ]
  },
  {
   "cell_type": "code",
   "execution_count": 88,
   "metadata": {
    "ExecuteTime": {
     "end_time": "2019-04-14T11:22:00.899900Z",
     "start_time": "2019-04-14T11:22:00.691442Z"
    },
    "collapsed": false,
    "deletable": true,
    "editable": true,
    "scrolled": true
   },
   "outputs": [
    {
     "data": {
      "text/html": [
       "<div>\n",
       "<style scoped>\n",
       "    .dataframe tbody tr th:only-of-type {\n",
       "        vertical-align: middle;\n",
       "    }\n",
       "\n",
       "    .dataframe tbody tr th {\n",
       "        vertical-align: top;\n",
       "    }\n",
       "\n",
       "    .dataframe thead th {\n",
       "        text-align: right;\n",
       "    }\n",
       "</style>\n",
       "<table border=\"1\" class=\"dataframe\">\n",
       "  <thead>\n",
       "    <tr style=\"text-align: right;\">\n",
       "      <th></th>\n",
       "      <th>nid</th>\n",
       "      <th>uid</th>\n",
       "      <th>cid</th>\n",
       "      <th>aid</th>\n",
       "      <th>date</th>\n",
       "      <th>thread</th>\n",
       "      <th>comment</th>\n",
       "      <th>reply_to</th>\n",
       "    </tr>\n",
       "  </thead>\n",
       "  <tbody>\n",
       "    <tr>\n",
       "      <th>0</th>\n",
       "      <td>12876</td>\n",
       "      <td>447491</td>\n",
       "      <td>14837</td>\n",
       "      <td>0</td>\n",
       "      <td>1467331379</td>\n",
       "      <td>02/</td>\n",
       "      <td>Just a catchup here:\\r\\n\\r\\nI've continued to ...</td>\n",
       "      <td>0</td>\n",
       "    </tr>\n",
       "    <tr>\n",
       "      <th>1</th>\n",
       "      <td>13248</td>\n",
       "      <td>461120</td>\n",
       "      <td>14838</td>\n",
       "      <td>0</td>\n",
       "      <td>1467363313</td>\n",
       "      <td>02/</td>\n",
       "      <td>@stoft hey Dave, I thought we never say \"oops,...</td>\n",
       "      <td>0</td>\n",
       "    </tr>\n",
       "    <tr>\n",
       "      <th>2</th>\n",
       "      <td>13248</td>\n",
       "      <td>461120</td>\n",
       "      <td>14839</td>\n",
       "      <td>0</td>\n",
       "      <td>1467382535</td>\n",
       "      <td>02/</td>\n",
       "      <td>@stoft Hey Dave I thought you might find this ...</td>\n",
       "      <td>0</td>\n",
       "    </tr>\n",
       "    <tr>\n",
       "      <th>3</th>\n",
       "      <td>13248</td>\n",
       "      <td>461120</td>\n",
       "      <td>14840</td>\n",
       "      <td>0</td>\n",
       "      <td>1467382846</td>\n",
       "      <td>02/</td>\n",
       "      <td>@stoft hey dave I'm including the 2 plots agai...</td>\n",
       "      <td>0</td>\n",
       "    </tr>\n",
       "    <tr>\n",
       "      <th>4</th>\n",
       "      <td>13248</td>\n",
       "      <td>54025</td>\n",
       "      <td>14841</td>\n",
       "      <td>0</td>\n",
       "      <td>1467396699</td>\n",
       "      <td>02/</td>\n",
       "      <td>Unfortunately ..... while photomultipliers res...</td>\n",
       "      <td>0</td>\n",
       "    </tr>\n",
       "  </tbody>\n",
       "</table>\n",
       "</div>"
      ],
      "text/plain": [
       "     nid     uid    cid  aid        date thread  \\\n",
       "0  12876  447491  14837    0  1467331379    02/   \n",
       "1  13248  461120  14838    0  1467363313    02/   \n",
       "2  13248  461120  14839    0  1467382535    02/   \n",
       "3  13248  461120  14840    0  1467382846    02/   \n",
       "4  13248   54025  14841    0  1467396699    02/   \n",
       "\n",
       "                                             comment  reply_to  \n",
       "0  Just a catchup here:\\r\\n\\r\\nI've continued to ...         0  \n",
       "1  @stoft hey Dave, I thought we never say \"oops,...         0  \n",
       "2  @stoft Hey Dave I thought you might find this ...         0  \n",
       "3  @stoft hey dave I'm including the 2 plots agai...         0  \n",
       "4  Unfortunately ..... while photomultipliers res...         0  "
      ]
     },
     "execution_count": 88,
     "metadata": {},
     "output_type": "execute_result"
    }
   ],
   "source": [
    "cmnt_cols = ['nid', 'uid', 'cid', 'aid', 'timestamp', 'thread', 'comment', 'reply_to']\n",
    "\n",
    "comments = pd.read_csv(csv_paths['comments'], usecols=cmnt_cols)\n",
    "comments['reply_to'].fillna(0, inplace=True)\n",
    "comments['reply_to'] = comments['reply_to'].astype('int64')\n",
    "comments = comments[cmnt_cols]\n",
    "comments.rename(index=str, columns={'timestamp': 'date'}, inplace=True)\n",
    "\n",
    "# comments.columns\n",
    "comments.head()"
   ]
  },
  {
   "cell_type": "markdown",
   "metadata": {
    "deletable": true,
    "editable": true
   },
   "source": [
    "### QUESTIONS"
   ]
  },
  {
   "cell_type": "code",
   "execution_count": 222,
   "metadata": {
    "ExecuteTime": {
     "end_time": "2019-04-14T17:28:22.699850Z",
     "start_time": "2019-04-14T17:28:22.594519Z"
    },
    "collapsed": false,
    "deletable": true,
    "editable": true
   },
   "outputs": [
    {
     "data": {
      "text/html": [
       "<div>\n",
       "<style scoped>\n",
       "    .dataframe tbody tr th:only-of-type {\n",
       "        vertical-align: middle;\n",
       "    }\n",
       "\n",
       "    .dataframe tbody tr th {\n",
       "        vertical-align: top;\n",
       "    }\n",
       "\n",
       "    .dataframe thead th {\n",
       "        text-align: right;\n",
       "    }\n",
       "</style>\n",
       "<table border=\"1\" class=\"dataframe\">\n",
       "  <thead>\n",
       "    <tr style=\"text-align: right;\">\n",
       "      <th></th>\n",
       "      <th>nid</th>\n",
       "      <th>uid</th>\n",
       "      <th>qid</th>\n",
       "      <th>date</th>\n",
       "      <th>user_cmnts</th>\n",
       "      <th>thread_cmnts</th>\n",
       "      <th>likes</th>\n",
       "      <th>title</th>\n",
       "    </tr>\n",
       "  </thead>\n",
       "  <tbody>\n",
       "    <tr>\n",
       "      <th>0</th>\n",
       "      <td>13252</td>\n",
       "      <td>481667</td>\n",
       "      <td>1</td>\n",
       "      <td>1467398556</td>\n",
       "      <td>2</td>\n",
       "      <td>2</td>\n",
       "      <td>0</td>\n",
       "      <td>Desktop spectrometry 3.0 kit: Can it quantify/...</td>\n",
       "    </tr>\n",
       "    <tr>\n",
       "      <th>1</th>\n",
       "      <td>13256</td>\n",
       "      <td>4</td>\n",
       "      <td>2</td>\n",
       "      <td>1467418233</td>\n",
       "      <td>2</td>\n",
       "      <td>3</td>\n",
       "      <td>0</td>\n",
       "      <td>Question: Does the Levitation Light dive for y...</td>\n",
       "    </tr>\n",
       "    <tr>\n",
       "      <th>2</th>\n",
       "      <td>13286</td>\n",
       "      <td>483452</td>\n",
       "      <td>3</td>\n",
       "      <td>1468382733</td>\n",
       "      <td>2</td>\n",
       "      <td>7</td>\n",
       "      <td>0</td>\n",
       "      <td>Spectrometer from a drone</td>\n",
       "    </tr>\n",
       "    <tr>\n",
       "      <th>3</th>\n",
       "      <td>13312</td>\n",
       "      <td>483438</td>\n",
       "      <td>4</td>\n",
       "      <td>1469617059</td>\n",
       "      <td>2</td>\n",
       "      <td>3</td>\n",
       "      <td>1</td>\n",
       "      <td>Question: Joining</td>\n",
       "    </tr>\n",
       "    <tr>\n",
       "      <th>4</th>\n",
       "      <td>13358</td>\n",
       "      <td>460486</td>\n",
       "      <td>5</td>\n",
       "      <td>1471415749</td>\n",
       "      <td>2</td>\n",
       "      <td>12</td>\n",
       "      <td>0</td>\n",
       "      <td>How to neutralize/remove the source's spectra ...</td>\n",
       "    </tr>\n",
       "  </tbody>\n",
       "</table>\n",
       "</div>"
      ],
      "text/plain": [
       "     nid     uid  qid        date  user_cmnts  thread_cmnts  likes  \\\n",
       "0  13252  481667    1  1467398556           2             2      0   \n",
       "1  13256       4    2  1467418233           2             3      0   \n",
       "2  13286  483452    3  1468382733           2             7      0   \n",
       "3  13312  483438    4  1469617059           2             3      1   \n",
       "4  13358  460486    5  1471415749           2            12      0   \n",
       "\n",
       "                                               title  \n",
       "0  Desktop spectrometry 3.0 kit: Can it quantify/...  \n",
       "1  Question: Does the Levitation Light dive for y...  \n",
       "2                          Spectrometer from a drone  \n",
       "3                                  Question: Joining  \n",
       "4  How to neutralize/remove the source's spectra ...  "
      ]
     },
     "execution_count": 222,
     "metadata": {},
     "output_type": "execute_result"
    }
   ],
   "source": [
    "quest_cols = [u'nid', u'uid', u'qid', u'created', u'comment', u'comments_count', u'cached_likes', u'title']\n",
    "\n",
    "renamed_quest_cols = {'created': 'date', 'comments_count': 'thread_cmnts', \n",
    "                      'comment': 'user_cmnts', 'cached_likes': 'likes'}\n",
    "\n",
    "questions = pd.read_csv(csv_paths['questions'])#, usecols=quest_cols)\n",
    "questions['qid'] = range(1, questions.shape[0] + 1)\n",
    "\n",
    "questions = questions[quest_cols] # questions.columns = cols\n",
    "questions.rename(index=str, columns=renamed_quest_cols, inplace=True)\n",
    "\n",
    "# questions.columns\n",
    "questions.head()"
   ]
  },
  {
   "cell_type": "markdown",
   "metadata": {
    "deletable": true,
    "editable": true
   },
   "source": [
    "### ANSWERS"
   ]
  },
  {
   "cell_type": "code",
   "execution_count": 183,
   "metadata": {
    "ExecuteTime": {
     "end_time": "2019-04-14T15:47:10.593594Z",
     "start_time": "2019-04-14T15:47:10.480307Z"
    },
    "collapsed": false,
    "deletable": true,
    "editable": true,
    "scrolled": true
   },
   "outputs": [
    {
     "data": {
      "text/html": [
       "<div>\n",
       "<style scoped>\n",
       "    .dataframe tbody tr th:only-of-type {\n",
       "        vertical-align: middle;\n",
       "    }\n",
       "\n",
       "    .dataframe tbody tr th {\n",
       "        vertical-align: top;\n",
       "    }\n",
       "\n",
       "    .dataframe thead th {\n",
       "        text-align: right;\n",
       "    }\n",
       "</style>\n",
       "<table border=\"1\" class=\"dataframe\">\n",
       "  <thead>\n",
       "    <tr style=\"text-align: right;\">\n",
       "      <th></th>\n",
       "      <th>nid</th>\n",
       "      <th>uid</th>\n",
       "      <th>aid</th>\n",
       "      <th>created_at</th>\n",
       "      <th>likes</th>\n",
       "      <th>content</th>\n",
       "      <th>accepted</th>\n",
       "    </tr>\n",
       "  </thead>\n",
       "  <tbody>\n",
       "    <tr>\n",
       "      <th>0</th>\n",
       "      <td>13312</td>\n",
       "      <td>468506</td>\n",
       "      <td>2</td>\n",
       "      <td>2016-08-02 09:16:09 UTC</td>\n",
       "      <td>1</td>\n",
       "      <td>Sorry to bother you. I was just testing the ne...</td>\n",
       "      <td>True</td>\n",
       "    </tr>\n",
       "    <tr>\n",
       "      <th>1</th>\n",
       "      <td>13356</td>\n",
       "      <td>1</td>\n",
       "      <td>3</td>\n",
       "      <td>2016-08-16 23:04:23 UTC</td>\n",
       "      <td>0</td>\n",
       "      <td>Looks like it does indeed work... now to see i...</td>\n",
       "      <td>True</td>\n",
       "    </tr>\n",
       "    <tr>\n",
       "      <th>2</th>\n",
       "      <td>13356</td>\n",
       "      <td>7</td>\n",
       "      <td>4</td>\n",
       "      <td>2016-08-17 12:35:13 UTC</td>\n",
       "      <td>0</td>\n",
       "      <td>Here's an answer for you: 42!</td>\n",
       "      <td>False</td>\n",
       "    </tr>\n",
       "    <tr>\n",
       "      <th>3</th>\n",
       "      <td>13358</td>\n",
       "      <td>1</td>\n",
       "      <td>5</td>\n",
       "      <td>2016-08-17 14:27:28 UTC</td>\n",
       "      <td>0</td>\n",
       "      <td>Hi, CCDs do not have a linear response curve -...</td>\n",
       "      <td>True</td>\n",
       "    </tr>\n",
       "    <tr>\n",
       "      <th>4</th>\n",
       "      <td>13358</td>\n",
       "      <td>554</td>\n",
       "      <td>6</td>\n",
       "      <td>2016-08-17 14:50:31 UTC</td>\n",
       "      <td>0</td>\n",
       "      <td>I agree with Jeff that those results seem to s...</td>\n",
       "      <td>True</td>\n",
       "    </tr>\n",
       "  </tbody>\n",
       "</table>\n",
       "</div>"
      ],
      "text/plain": [
       "     nid     uid  aid               created_at  likes  \\\n",
       "0  13312  468506    2  2016-08-02 09:16:09 UTC      1   \n",
       "1  13356       1    3  2016-08-16 23:04:23 UTC      0   \n",
       "2  13356       7    4  2016-08-17 12:35:13 UTC      0   \n",
       "3  13358       1    5  2016-08-17 14:27:28 UTC      0   \n",
       "4  13358     554    6  2016-08-17 14:50:31 UTC      0   \n",
       "\n",
       "                                             content  accepted  \n",
       "0  Sorry to bother you. I was just testing the ne...      True  \n",
       "1  Looks like it does indeed work... now to see i...      True  \n",
       "2                      Here's an answer for you: 42!     False  \n",
       "3  Hi, CCDs do not have a linear response curve -...      True  \n",
       "4  I agree with Jeff that those results seem to s...      True  "
      ]
     },
     "execution_count": 183,
     "metadata": {},
     "output_type": "execute_result"
    }
   ],
   "source": [
    "ans_cols = [u'nid', u'uid', u'id', u'created_at', u'cached_likes', u'content', u'accepted']\n",
    "\n",
    "answers = pd.read_csv(csv_paths['answers'])\n",
    "answers = answers[ans_cols]\n",
    "\n",
    "renamed_ans_cols = {'id': 'aid', 'created': 'date', 'cached_likes': 'likes'}\n",
    "answers.rename(index=str, columns=renamed_ans_cols, inplace=True)\n",
    "\n",
    "# answers.columns\n",
    "answers.head()"
   ]
  },
  {
   "cell_type": "code",
   "execution_count": 305,
   "metadata": {
    "ExecuteTime": {
     "end_time": "2019-04-14T20:59:17.430914Z",
     "start_time": "2019-04-14T20:59:17.424669Z"
    },
    "collapsed": false,
    "deletable": true,
    "editable": true
   },
   "outputs": [
    {
     "data": {
      "text/plain": [
       "(820, 8)"
      ]
     },
     "execution_count": 305,
     "metadata": {},
     "output_type": "execute_result"
    }
   ],
   "source": [
    "questions.shape"
   ]
  },
  {
   "cell_type": "markdown",
   "metadata": {
    "deletable": true,
    "editable": true
   },
   "source": [
    "### DATA RELATIONSIHPS"
   ]
  },
  {
   "cell_type": "markdown",
   "metadata": {
    "deletable": true,
    "editable": true
   },
   "source": [
    "#### QUESTIONS VS. NOTES"
   ]
  },
  {
   "cell_type": "code",
   "execution_count": 288,
   "metadata": {
    "ExecuteTime": {
     "end_time": "2019-04-14T19:59:54.385564Z",
     "start_time": "2019-04-14T19:59:54.355844Z"
    },
    "collapsed": false,
    "deletable": true,
    "editable": true
   },
   "outputs": [
    {
     "data": {
      "text/html": [
       "<div>\n",
       "<style scoped>\n",
       "    .dataframe tbody tr th:only-of-type {\n",
       "        vertical-align: middle;\n",
       "    }\n",
       "\n",
       "    .dataframe tbody tr th {\n",
       "        vertical-align: top;\n",
       "    }\n",
       "\n",
       "    .dataframe thead th {\n",
       "        text-align: right;\n",
       "    }\n",
       "</style>\n",
       "<table border=\"1\" class=\"dataframe\">\n",
       "  <thead>\n",
       "    <tr style=\"text-align: right;\">\n",
       "      <th></th>\n",
       "      <th>nid</th>\n",
       "      <th>uid</th>\n",
       "      <th>qid</th>\n",
       "      <th>date</th>\n",
       "      <th>user_cmnts</th>\n",
       "      <th>thread_cmnts</th>\n",
       "      <th>likes</th>\n",
       "      <th>title</th>\n",
       "    </tr>\n",
       "  </thead>\n",
       "  <tbody>\n",
       "    <tr>\n",
       "      <th>80</th>\n",
       "      <td>13745</td>\n",
       "      <td>498969</td>\n",
       "      <td>81</td>\n",
       "      <td>1480917522</td>\n",
       "      <td>2</td>\n",
       "      <td>3</td>\n",
       "      <td>0</td>\n",
       "      <td>Is anyone doing any work with fungi? or biorem...</td>\n",
       "    </tr>\n",
       "  </tbody>\n",
       "</table>\n",
       "</div>"
      ],
      "text/plain": [
       "      nid     uid  qid        date  user_cmnts  thread_cmnts  likes  \\\n",
       "80  13745  498969   81  1480917522           2             3      0   \n",
       "\n",
       "                                                title  \n",
       "80  Is anyone doing any work with fungi? or biorem...  "
      ]
     },
     "execution_count": 288,
     "metadata": {},
     "output_type": "execute_result"
    }
   ],
   "source": [
    "questions.loc[questions['nid'] == 13745]\n",
    "# print questions.loc[questions['nid'] == 18446]"
   ]
  },
  {
   "cell_type": "markdown",
   "metadata": {
    "deletable": true,
    "editable": true
   },
   "source": [
    "A QUESTION IS A NOTE WITH A POWER TAG OF QUESTION"
   ]
  },
  {
   "cell_type": "code",
   "execution_count": 289,
   "metadata": {
    "ExecuteTime": {
     "end_time": "2019-04-14T20:00:08.731691Z",
     "start_time": "2019-04-14T20:00:08.708723Z"
    },
    "collapsed": false,
    "deletable": true,
    "editable": true
   },
   "outputs": [
    {
     "data": {
      "text/html": [
       "<div>\n",
       "<style scoped>\n",
       "    .dataframe tbody tr th:only-of-type {\n",
       "        vertical-align: middle;\n",
       "    }\n",
       "\n",
       "    .dataframe tbody tr th {\n",
       "        vertical-align: top;\n",
       "    }\n",
       "\n",
       "    .dataframe thead th {\n",
       "        text-align: right;\n",
       "    }\n",
       "</style>\n",
       "<table border=\"1\" class=\"dataframe\">\n",
       "  <thead>\n",
       "    <tr style=\"text-align: right;\">\n",
       "      <th></th>\n",
       "      <th>nid</th>\n",
       "      <th>uid</th>\n",
       "      <th>date</th>\n",
       "      <th>comments</th>\n",
       "      <th>likes</th>\n",
       "      <th>title</th>\n",
       "    </tr>\n",
       "  </thead>\n",
       "  <tbody>\n",
       "    <tr>\n",
       "      <th>349</th>\n",
       "      <td>13745</td>\n",
       "      <td>498969</td>\n",
       "      <td>1480917522</td>\n",
       "      <td>3</td>\n",
       "      <td>0</td>\n",
       "      <td>Is anyone doing any work with fungi? or biorem...</td>\n",
       "    </tr>\n",
       "  </tbody>\n",
       "</table>\n",
       "</div>"
      ],
      "text/plain": [
       "       nid     uid        date  comments  likes  \\\n",
       "349  13745  498969  1480917522         3      0   \n",
       "\n",
       "                                                 title  \n",
       "349  Is anyone doing any work with fungi? or biorem...  "
      ]
     },
     "execution_count": 289,
     "metadata": {},
     "output_type": "execute_result"
    }
   ],
   "source": [
    "notes.loc[notes['nid'] == 13745]\n",
    "# print notes.loc[notes['nid'] == 18446]"
   ]
  },
  {
   "cell_type": "markdown",
   "metadata": {
    "deletable": true,
    "editable": true
   },
   "source": [
    "#### ANSWERS VS. COMMENTS"
   ]
  },
  {
   "cell_type": "code",
   "execution_count": 290,
   "metadata": {
    "ExecuteTime": {
     "end_time": "2019-04-14T20:00:46.438294Z",
     "start_time": "2019-04-14T20:00:46.412630Z"
    },
    "collapsed": false,
    "deletable": true,
    "editable": true
   },
   "outputs": [
    {
     "data": {
      "text/html": [
       "<div>\n",
       "<style scoped>\n",
       "    .dataframe tbody tr th:only-of-type {\n",
       "        vertical-align: middle;\n",
       "    }\n",
       "\n",
       "    .dataframe tbody tr th {\n",
       "        vertical-align: top;\n",
       "    }\n",
       "\n",
       "    .dataframe thead th {\n",
       "        text-align: right;\n",
       "    }\n",
       "</style>\n",
       "<table border=\"1\" class=\"dataframe\">\n",
       "  <thead>\n",
       "    <tr style=\"text-align: right;\">\n",
       "      <th></th>\n",
       "      <th>nid</th>\n",
       "      <th>uid</th>\n",
       "      <th>aid</th>\n",
       "      <th>created_at</th>\n",
       "      <th>likes</th>\n",
       "      <th>content</th>\n",
       "      <th>accepted</th>\n",
       "    </tr>\n",
       "  </thead>\n",
       "  <tbody>\n",
       "    <tr>\n",
       "      <th>137</th>\n",
       "      <td>13745</td>\n",
       "      <td>499993</td>\n",
       "      <td>149</td>\n",
       "      <td>2016-12-15 00:59:26 UTC</td>\n",
       "      <td>1</td>\n",
       "      <td>Hey Mushroomman! \\r\\n\\r\\nFellow mycology fanat...</td>\n",
       "      <td>False</td>\n",
       "    </tr>\n",
       "    <tr>\n",
       "      <th>236</th>\n",
       "      <td>13745</td>\n",
       "      <td>237313</td>\n",
       "      <td>251</td>\n",
       "      <td>2017-06-06 19:08:04 UTC</td>\n",
       "      <td>0</td>\n",
       "      <td>I'm late to the party, but a very cool topic! ...</td>\n",
       "      <td>False</td>\n",
       "    </tr>\n",
       "  </tbody>\n",
       "</table>\n",
       "</div>"
      ],
      "text/plain": [
       "       nid     uid  aid               created_at  likes  \\\n",
       "137  13745  499993  149  2016-12-15 00:59:26 UTC      1   \n",
       "236  13745  237313  251  2017-06-06 19:08:04 UTC      0   \n",
       "\n",
       "                                               content  accepted  \n",
       "137  Hey Mushroomman! \\r\\n\\r\\nFellow mycology fanat...     False  \n",
       "236  I'm late to the party, but a very cool topic! ...     False  "
      ]
     },
     "execution_count": 290,
     "metadata": {},
     "output_type": "execute_result"
    }
   ],
   "source": [
    "answers.loc[answers['nid'] == 13745]\n",
    "# print answers.loc[answers['nid'] == 18446]"
   ]
  },
  {
   "cell_type": "markdown",
   "metadata": {
    "deletable": true,
    "editable": true
   },
   "source": [
    "ALL DISCUSSION ABOUT A QUESTION, INCLUDING ANSWERS AND REPLIES IN ALL LEVELS OF HIERARCHIES ARE COMMENTS.\n",
    "\n",
    "HOWEVER, AN ANSWER IS *TECHNICALLY* A COMMENT OF THE HIGHEST LEVEL THREAD.\n",
    "\n",
    "**NOTICE:** *AID 149 AND 251 ABOVE* ARE THE SAME AS *CID 22382 and 22481 BELOW*.  HOWEVER, *CID 22223 BELOW* IS IN REPLY TO *AID 149 (ABOVE AND BELOW) AND CID 22382 (BELOW)* WHICH ARE ALL THE SAME.  "
   ]
  },
  {
   "cell_type": "code",
   "execution_count": 249,
   "metadata": {
    "ExecuteTime": {
     "end_time": "2019-04-14T18:13:55.881931Z",
     "start_time": "2019-04-14T18:13:55.851027Z"
    },
    "collapsed": false,
    "deletable": true,
    "editable": true
   },
   "outputs": [
    {
     "data": {
      "text/html": [
       "<div>\n",
       "<style scoped>\n",
       "    .dataframe tbody tr th:only-of-type {\n",
       "        vertical-align: middle;\n",
       "    }\n",
       "\n",
       "    .dataframe tbody tr th {\n",
       "        vertical-align: top;\n",
       "    }\n",
       "\n",
       "    .dataframe thead th {\n",
       "        text-align: right;\n",
       "    }\n",
       "</style>\n",
       "<table border=\"1\" class=\"dataframe\">\n",
       "  <thead>\n",
       "    <tr style=\"text-align: right;\">\n",
       "      <th></th>\n",
       "      <th>nid</th>\n",
       "      <th>uid</th>\n",
       "      <th>cid</th>\n",
       "      <th>aid</th>\n",
       "      <th>date</th>\n",
       "      <th>thread</th>\n",
       "      <th>comment</th>\n",
       "      <th>reply_to</th>\n",
       "    </tr>\n",
       "  </thead>\n",
       "  <tbody>\n",
       "    <tr>\n",
       "      <th>6374</th>\n",
       "      <td>13745</td>\n",
       "      <td>579767</td>\n",
       "      <td>22223</td>\n",
       "      <td>149</td>\n",
       "      <td>1552994882</td>\n",
       "      <td>NaN</td>\n",
       "      <td>Hello Jlmaybach.\\r\\n\\r\\nI am actually doing a...</td>\n",
       "      <td>22382</td>\n",
       "    </tr>\n",
       "    <tr>\n",
       "      <th>6526</th>\n",
       "      <td>13745</td>\n",
       "      <td>499993</td>\n",
       "      <td>22382</td>\n",
       "      <td>0</td>\n",
       "      <td>1481763566</td>\n",
       "      <td>/01</td>\n",
       "      <td>Hey Mushroomman! \\r\\n\\r\\nFellow mycology fanat...</td>\n",
       "      <td>0</td>\n",
       "    </tr>\n",
       "    <tr>\n",
       "      <th>6625</th>\n",
       "      <td>13745</td>\n",
       "      <td>237313</td>\n",
       "      <td>22481</td>\n",
       "      <td>0</td>\n",
       "      <td>1496776084</td>\n",
       "      <td>/01</td>\n",
       "      <td>I'm late to the party, but a very cool topic! ...</td>\n",
       "      <td>0</td>\n",
       "    </tr>\n",
       "  </tbody>\n",
       "</table>\n",
       "</div>"
      ],
      "text/plain": [
       "        nid     uid    cid  aid        date thread  \\\n",
       "6374  13745  579767  22223  149  1552994882    NaN   \n",
       "6526  13745  499993  22382    0  1481763566    /01   \n",
       "6625  13745  237313  22481    0  1496776084    /01   \n",
       "\n",
       "                                                comment  reply_to  \n",
       "6374   Hello Jlmaybach.\\r\\n\\r\\nI am actually doing a...     22382  \n",
       "6526  Hey Mushroomman! \\r\\n\\r\\nFellow mycology fanat...         0  \n",
       "6625  I'm late to the party, but a very cool topic! ...         0  "
      ]
     },
     "execution_count": 249,
     "metadata": {},
     "output_type": "execute_result"
    }
   ],
   "source": [
    "comments.loc[comments['nid'] == 13745]\n",
    "# comments.loc[comments['nid'] == 18446]"
   ]
  },
  {
   "cell_type": "markdown",
   "metadata": {
    "deletable": true,
    "editable": true
   },
   "source": [
    "#### WIKI PAGES"
   ]
  },
  {
   "cell_type": "markdown",
   "metadata": {
    "deletable": true,
    "editable": true
   },
   "source": [
    "WIKI PAGES DO NOT APPEAR TO HAVE ANY SUBTYPES SUCH AS WITH QUESTIONS & NOTES AND ANSWERS & COMMENTS"
   ]
  },
  {
   "cell_type": "code",
   "execution_count": 112,
   "metadata": {
    "ExecuteTime": {
     "end_time": "2019-04-14T11:41:47.906822Z",
     "start_time": "2019-04-14T11:41:47.889566Z"
    },
    "collapsed": false,
    "deletable": true,
    "editable": true
   },
   "outputs": [
    {
     "data": {
      "text/html": [
       "<div>\n",
       "<style scoped>\n",
       "    .dataframe tbody tr th:only-of-type {\n",
       "        vertical-align: middle;\n",
       "    }\n",
       "\n",
       "    .dataframe tbody tr th {\n",
       "        vertical-align: top;\n",
       "    }\n",
       "\n",
       "    .dataframe thead th {\n",
       "        text-align: right;\n",
       "    }\n",
       "</style>\n",
       "<table border=\"1\" class=\"dataframe\">\n",
       "  <thead>\n",
       "    <tr style=\"text-align: right;\">\n",
       "      <th></th>\n",
       "      <th>nid</th>\n",
       "      <th>uid</th>\n",
       "      <th>date</th>\n",
       "      <th>comments</th>\n",
       "      <th>likes</th>\n",
       "      <th>title</th>\n",
       "    </tr>\n",
       "  </thead>\n",
       "  <tbody>\n",
       "  </tbody>\n",
       "</table>\n",
       "</div>"
      ],
      "text/plain": [
       "Empty DataFrame\n",
       "Columns: [nid, uid, date, comments, likes, title]\n",
       "Index: []"
      ]
     },
     "execution_count": 112,
     "metadata": {},
     "output_type": "execute_result"
    }
   ],
   "source": [
    "wikis.loc[wikis['nid'] == 13745]"
   ]
  },
  {
   "cell_type": "code",
   "execution_count": null,
   "metadata": {
    "collapsed": true,
    "deletable": true,
    "editable": true
   },
   "outputs": [],
   "source": []
  },
  {
   "cell_type": "code",
   "execution_count": null,
   "metadata": {
    "collapsed": true,
    "deletable": true,
    "editable": true
   },
   "outputs": [],
   "source": [
    "DATES -> WIKI_DATES + NOTES_DATES + COMMENT_DATES\n",
    "USERS -> USERS_COUNT\n",
    "WIKI PAGES -> WIKIS\n",
    "RESEARCH NOTES -> NOTES - QUESTIONS\n",
    "COMMENTS -> WIKI_COMMENTS + NOTE_COMMENTS + ANSWERS\n",
    "QUESTIONS -> NOTES WHERE QUESTION_NID EQUALS NOTES_NID\n",
    "ANSWERS -> COMMENTS WHERE QUESTIONS_NID EQUALS COMMENTS_NID\n",
    "\n",
    "USER_WIKI_PAGES -> USERS_UID == WIKI_PAGES_UID\n",
    "USER_NOTES -> USERS_UID == NOTES_UID\n",
    "USER_COMMENTS -> USERS_UID == WIKI_PAGES_UID\n",
    "USER_QUESTIONS -> USERS_UID == QUESTIONS_UID\n",
    "USER_ANSWERS -> USERS_UID == ANSWERS_UID\n",
    "\n",
    "WIKI PAGE COMMENTS -> COMMENTS WHERE WIKI_NID EQUALS COMMENTS_NID\n",
    "RESEARCH NOTE COMMENTS -> COMMENTS WHERE NOTE_NID EQUALS COMMENTS_NID"
   ]
  },
  {
   "cell_type": "markdown",
   "metadata": {
    "deletable": true,
    "editable": true
   },
   "source": [
    "### MATRIX NETWORKS"
   ]
  },
  {
   "cell_type": "markdown",
   "metadata": {
    "deletable": true,
    "editable": true
   },
   "source": [
    "#### QUESTIONS AND ANSWERS"
   ]
  },
  {
   "cell_type": "markdown",
   "metadata": {
    "deletable": true,
    "editable": true
   },
   "source": [
    "##### Q&A TEST"
   ]
  },
  {
   "cell_type": "code",
   "execution_count": 228,
   "metadata": {
    "ExecuteTime": {
     "end_time": "2019-04-14T17:39:51.626243Z",
     "start_time": "2019-04-14T17:39:51.603302Z"
    },
    "collapsed": false,
    "deletable": true,
    "editable": true
   },
   "outputs": [
    {
     "data": {
      "text/html": [
       "<div>\n",
       "<style scoped>\n",
       "    .dataframe tbody tr th:only-of-type {\n",
       "        vertical-align: middle;\n",
       "    }\n",
       "\n",
       "    .dataframe tbody tr th {\n",
       "        vertical-align: top;\n",
       "    }\n",
       "\n",
       "    .dataframe thead th {\n",
       "        text-align: right;\n",
       "    }\n",
       "</style>\n",
       "<table border=\"1\" class=\"dataframe\">\n",
       "  <thead>\n",
       "    <tr style=\"text-align: right;\">\n",
       "      <th></th>\n",
       "      <th>nid</th>\n",
       "      <th>uid</th>\n",
       "      <th>qid</th>\n",
       "      <th>date</th>\n",
       "      <th>user_cmnts</th>\n",
       "      <th>thread_cmnts</th>\n",
       "      <th>likes</th>\n",
       "      <th>title</th>\n",
       "    </tr>\n",
       "  </thead>\n",
       "  <tbody>\n",
       "    <tr>\n",
       "      <th>80</th>\n",
       "      <td>13745</td>\n",
       "      <td>498969</td>\n",
       "      <td>81</td>\n",
       "      <td>1480917522</td>\n",
       "      <td>2</td>\n",
       "      <td>3</td>\n",
       "      <td>0</td>\n",
       "      <td>Is anyone doing any work with fungi? or biorem...</td>\n",
       "    </tr>\n",
       "  </tbody>\n",
       "</table>\n",
       "</div>"
      ],
      "text/plain": [
       "      nid     uid  qid        date  user_cmnts  thread_cmnts  likes  \\\n",
       "80  13745  498969   81  1480917522           2             3      0   \n",
       "\n",
       "                                                title  \n",
       "80  Is anyone doing any work with fungi? or biorem...  "
      ]
     },
     "execution_count": 228,
     "metadata": {},
     "output_type": "execute_result"
    }
   ],
   "source": [
    "questions.loc[questions['nid'] == 13745]#['nid']#['uid']['qid'] "
   ]
  },
  {
   "cell_type": "code",
   "execution_count": 225,
   "metadata": {
    "ExecuteTime": {
     "end_time": "2019-04-14T17:34:39.002164Z",
     "start_time": "2019-04-14T17:34:38.976029Z"
    },
    "collapsed": false,
    "deletable": true,
    "editable": true
   },
   "outputs": [
    {
     "data": {
      "text/html": [
       "<div>\n",
       "<style scoped>\n",
       "    .dataframe tbody tr th:only-of-type {\n",
       "        vertical-align: middle;\n",
       "    }\n",
       "\n",
       "    .dataframe tbody tr th {\n",
       "        vertical-align: top;\n",
       "    }\n",
       "\n",
       "    .dataframe thead th {\n",
       "        text-align: right;\n",
       "    }\n",
       "</style>\n",
       "<table border=\"1\" class=\"dataframe\">\n",
       "  <thead>\n",
       "    <tr style=\"text-align: right;\">\n",
       "      <th></th>\n",
       "      <th>nid</th>\n",
       "      <th>uid</th>\n",
       "      <th>aid</th>\n",
       "      <th>created_at</th>\n",
       "      <th>likes</th>\n",
       "      <th>content</th>\n",
       "      <th>accepted</th>\n",
       "    </tr>\n",
       "  </thead>\n",
       "  <tbody>\n",
       "    <tr>\n",
       "      <th>137</th>\n",
       "      <td>13745</td>\n",
       "      <td>499993</td>\n",
       "      <td>149</td>\n",
       "      <td>2016-12-15 00:59:26 UTC</td>\n",
       "      <td>1</td>\n",
       "      <td>Hey Mushroomman! \\r\\n\\r\\nFellow mycology fanat...</td>\n",
       "      <td>False</td>\n",
       "    </tr>\n",
       "    <tr>\n",
       "      <th>236</th>\n",
       "      <td>13745</td>\n",
       "      <td>237313</td>\n",
       "      <td>251</td>\n",
       "      <td>2017-06-06 19:08:04 UTC</td>\n",
       "      <td>0</td>\n",
       "      <td>I'm late to the party, but a very cool topic! ...</td>\n",
       "      <td>False</td>\n",
       "    </tr>\n",
       "  </tbody>\n",
       "</table>\n",
       "</div>"
      ],
      "text/plain": [
       "       nid     uid  aid               created_at  likes  \\\n",
       "137  13745  499993  149  2016-12-15 00:59:26 UTC      1   \n",
       "236  13745  237313  251  2017-06-06 19:08:04 UTC      0   \n",
       "\n",
       "                                               content  accepted  \n",
       "137  Hey Mushroomman! \\r\\n\\r\\nFellow mycology fanat...     False  \n",
       "236  I'm late to the party, but a very cool topic! ...     False  "
      ]
     },
     "execution_count": 225,
     "metadata": {},
     "output_type": "execute_result"
    }
   ],
   "source": [
    "answers.loc[answers['nid'] == 13745]"
   ]
  },
  {
   "cell_type": "code",
   "execution_count": 230,
   "metadata": {
    "ExecuteTime": {
     "end_time": "2019-04-14T17:49:28.526683Z",
     "start_time": "2019-04-14T17:49:28.490658Z"
    },
    "collapsed": false,
    "deletable": true,
    "editable": true
   },
   "outputs": [
    {
     "data": {
      "text/html": [
       "<div>\n",
       "<style scoped>\n",
       "    .dataframe tbody tr th:only-of-type {\n",
       "        vertical-align: middle;\n",
       "    }\n",
       "\n",
       "    .dataframe tbody tr th {\n",
       "        vertical-align: top;\n",
       "    }\n",
       "\n",
       "    .dataframe thead th {\n",
       "        text-align: right;\n",
       "    }\n",
       "</style>\n",
       "<table border=\"1\" class=\"dataframe\">\n",
       "  <thead>\n",
       "    <tr style=\"text-align: right;\">\n",
       "      <th></th>\n",
       "      <th>nid</th>\n",
       "      <th>quid</th>\n",
       "      <th>qid</th>\n",
       "      <th>auid</th>\n",
       "      <th>aid</th>\n",
       "    </tr>\n",
       "  </thead>\n",
       "  <tbody>\n",
       "    <tr>\n",
       "      <th>0</th>\n",
       "      <td>13745</td>\n",
       "      <td>498969</td>\n",
       "      <td>81</td>\n",
       "      <td>499993</td>\n",
       "      <td>149</td>\n",
       "    </tr>\n",
       "    <tr>\n",
       "      <th>1</th>\n",
       "      <td>13745</td>\n",
       "      <td>498969</td>\n",
       "      <td>81</td>\n",
       "      <td>237313</td>\n",
       "      <td>251</td>\n",
       "    </tr>\n",
       "  </tbody>\n",
       "</table>\n",
       "</div>"
      ],
      "text/plain": [
       "     nid    quid  qid    auid  aid\n",
       "0  13745  498969   81  499993  149\n",
       "1  13745  498969   81  237313  251"
      ]
     },
     "execution_count": 230,
     "metadata": {},
     "output_type": "execute_result"
    }
   ],
   "source": [
    "q = questions.loc[questions['nid'] == 13745]\n",
    "a = answers.loc[answers['nid'] == 13745]\n",
    "\n",
    "q_cols = ['nid', 'uid', 'qid']\n",
    "a_cols = ['nid', 'uid', 'aid']\n",
    "\n",
    "q_and_a = pd.merge(q[q_cols], a[a_cols], on='nid', how='outer')\n",
    "q_and_a.columns = ['nid', 'quid', 'qid', 'auid', 'aid']\n",
    "q_and_a"
   ]
  },
  {
   "cell_type": "code",
   "execution_count": 231,
   "metadata": {
    "ExecuteTime": {
     "end_time": "2019-04-14T17:52:49.302952Z",
     "start_time": "2019-04-14T17:52:49.266817Z"
    },
    "collapsed": false,
    "deletable": true,
    "editable": true
   },
   "outputs": [
    {
     "data": {
      "text/html": [
       "<div>\n",
       "<style scoped>\n",
       "    .dataframe tbody tr th:only-of-type {\n",
       "        vertical-align: middle;\n",
       "    }\n",
       "\n",
       "    .dataframe tbody tr th {\n",
       "        vertical-align: top;\n",
       "    }\n",
       "\n",
       "    .dataframe thead th {\n",
       "        text-align: right;\n",
       "    }\n",
       "</style>\n",
       "<table border=\"1\" class=\"dataframe\">\n",
       "  <thead>\n",
       "    <tr style=\"text-align: right;\">\n",
       "      <th></th>\n",
       "      <th>nid</th>\n",
       "      <th>quid</th>\n",
       "      <th>qid</th>\n",
       "      <th>auid</th>\n",
       "      <th>aid</th>\n",
       "    </tr>\n",
       "  </thead>\n",
       "  <tbody>\n",
       "    <tr>\n",
       "      <th>0</th>\n",
       "      <td>13252</td>\n",
       "      <td>481667.0</td>\n",
       "      <td>1.0</td>\n",
       "      <td>NaN</td>\n",
       "      <td>NaN</td>\n",
       "    </tr>\n",
       "    <tr>\n",
       "      <th>1</th>\n",
       "      <td>13256</td>\n",
       "      <td>4.0</td>\n",
       "      <td>2.0</td>\n",
       "      <td>NaN</td>\n",
       "      <td>NaN</td>\n",
       "    </tr>\n",
       "    <tr>\n",
       "      <th>2</th>\n",
       "      <td>13286</td>\n",
       "      <td>483452.0</td>\n",
       "      <td>3.0</td>\n",
       "      <td>NaN</td>\n",
       "      <td>NaN</td>\n",
       "    </tr>\n",
       "    <tr>\n",
       "      <th>3</th>\n",
       "      <td>13312</td>\n",
       "      <td>483438.0</td>\n",
       "      <td>4.0</td>\n",
       "      <td>468506.0</td>\n",
       "      <td>2.0</td>\n",
       "    </tr>\n",
       "    <tr>\n",
       "      <th>4</th>\n",
       "      <td>13358</td>\n",
       "      <td>460486.0</td>\n",
       "      <td>5.0</td>\n",
       "      <td>1.0</td>\n",
       "      <td>5.0</td>\n",
       "    </tr>\n",
       "  </tbody>\n",
       "</table>\n",
       "</div>"
      ],
      "text/plain": [
       "     nid      quid  qid      auid  aid\n",
       "0  13252  481667.0  1.0       NaN  NaN\n",
       "1  13256       4.0  2.0       NaN  NaN\n",
       "2  13286  483452.0  3.0       NaN  NaN\n",
       "3  13312  483438.0  4.0  468506.0  2.0\n",
       "4  13358  460486.0  5.0       1.0  5.0"
      ]
     },
     "execution_count": 231,
     "metadata": {},
     "output_type": "execute_result"
    }
   ],
   "source": [
    "questions_answers = pd.merge(questions[q_cols], answers[a_cols], on='nid', how='outer')\n",
    "questions_answers.columns = ['nid', 'quid', 'qid', 'auid', 'aid']\n",
    "questions_answers.head()"
   ]
  },
  {
   "cell_type": "code",
   "execution_count": 232,
   "metadata": {
    "ExecuteTime": {
     "end_time": "2019-04-14T17:56:19.944009Z",
     "start_time": "2019-04-14T17:56:19.933743Z"
    },
    "collapsed": false,
    "deletable": true,
    "editable": true
   },
   "outputs": [
    {
     "data": {
      "text/plain": [
       "'https://publiclab.org/notes/peace/07-01-2016/desktop-spectrometry-3-0-kit-can-it-quantify-identify-a-mixture-of-chemical-solvents'"
      ]
     },
     "execution_count": 232,
     "metadata": {},
     "output_type": "execute_result"
    }
   ],
   "source": [
    "path_to_url(13252, 'notes', paths)"
   ]
  },
  {
   "cell_type": "code",
   "execution_count": 233,
   "metadata": {
    "ExecuteTime": {
     "end_time": "2019-04-14T17:58:01.225774Z",
     "start_time": "2019-04-14T17:58:01.205547Z"
    },
    "collapsed": false,
    "deletable": true,
    "editable": true
   },
   "outputs": [
    {
     "data": {
      "text/html": [
       "<div>\n",
       "<style scoped>\n",
       "    .dataframe tbody tr th:only-of-type {\n",
       "        vertical-align: middle;\n",
       "    }\n",
       "\n",
       "    .dataframe tbody tr th {\n",
       "        vertical-align: top;\n",
       "    }\n",
       "\n",
       "    .dataframe thead th {\n",
       "        text-align: right;\n",
       "    }\n",
       "</style>\n",
       "<table border=\"1\" class=\"dataframe\">\n",
       "  <thead>\n",
       "    <tr style=\"text-align: right;\">\n",
       "      <th></th>\n",
       "      <th>nid</th>\n",
       "      <th>uid</th>\n",
       "      <th>date</th>\n",
       "      <th>comments</th>\n",
       "      <th>likes</th>\n",
       "      <th>title</th>\n",
       "    </tr>\n",
       "  </thead>\n",
       "  <tbody>\n",
       "    <tr>\n",
       "      <th>0</th>\n",
       "      <td>13252</td>\n",
       "      <td>481667</td>\n",
       "      <td>1467398556</td>\n",
       "      <td>2</td>\n",
       "      <td>0</td>\n",
       "      <td>Desktop spectrometry 3.0 kit: Can it quantify/...</td>\n",
       "    </tr>\n",
       "  </tbody>\n",
       "</table>\n",
       "</div>"
      ],
      "text/plain": [
       "     nid     uid        date  comments  likes  \\\n",
       "0  13252  481667  1467398556         2      0   \n",
       "\n",
       "                                               title  \n",
       "0  Desktop spectrometry 3.0 kit: Can it quantify/...  "
      ]
     },
     "execution_count": 233,
     "metadata": {},
     "output_type": "execute_result"
    }
   ],
   "source": [
    "notes[notes['nid'] == 13252]"
   ]
  },
  {
   "cell_type": "code",
   "execution_count": 234,
   "metadata": {
    "ExecuteTime": {
     "end_time": "2019-04-14T17:58:15.875854Z",
     "start_time": "2019-04-14T17:58:15.844757Z"
    },
    "collapsed": false,
    "deletable": true,
    "editable": true
   },
   "outputs": [
    {
     "data": {
      "text/html": [
       "<div>\n",
       "<style scoped>\n",
       "    .dataframe tbody tr th:only-of-type {\n",
       "        vertical-align: middle;\n",
       "    }\n",
       "\n",
       "    .dataframe tbody tr th {\n",
       "        vertical-align: top;\n",
       "    }\n",
       "\n",
       "    .dataframe thead th {\n",
       "        text-align: right;\n",
       "    }\n",
       "</style>\n",
       "<table border=\"1\" class=\"dataframe\">\n",
       "  <thead>\n",
       "    <tr style=\"text-align: right;\">\n",
       "      <th></th>\n",
       "      <th>nid</th>\n",
       "      <th>uid</th>\n",
       "      <th>cid</th>\n",
       "      <th>aid</th>\n",
       "      <th>date</th>\n",
       "      <th>thread</th>\n",
       "      <th>comment</th>\n",
       "      <th>reply_to</th>\n",
       "    </tr>\n",
       "  </thead>\n",
       "  <tbody>\n",
       "    <tr>\n",
       "      <th>14</th>\n",
       "      <td>13252</td>\n",
       "      <td>1</td>\n",
       "      <td>14851</td>\n",
       "      <td>0</td>\n",
       "      <td>1467726894</td>\n",
       "      <td>01/</td>\n",
       "      <td>Hi, I haven't heard of someone doing this sort...</td>\n",
       "      <td>0</td>\n",
       "    </tr>\n",
       "    <tr>\n",
       "      <th>188</th>\n",
       "      <td>13252</td>\n",
       "      <td>481667</td>\n",
       "      <td>15034</td>\n",
       "      <td>0</td>\n",
       "      <td>1469564712</td>\n",
       "      <td>02/</td>\n",
       "      <td>Thank you for your comment.  That's a good poi...</td>\n",
       "      <td>0</td>\n",
       "    </tr>\n",
       "  </tbody>\n",
       "</table>\n",
       "</div>"
      ],
      "text/plain": [
       "       nid     uid    cid  aid        date thread  \\\n",
       "14   13252       1  14851    0  1467726894    01/   \n",
       "188  13252  481667  15034    0  1469564712    02/   \n",
       "\n",
       "                                               comment  reply_to  \n",
       "14   Hi, I haven't heard of someone doing this sort...         0  \n",
       "188  Thank you for your comment.  That's a good poi...         0  "
      ]
     },
     "execution_count": 234,
     "metadata": {},
     "output_type": "execute_result"
    }
   ],
   "source": [
    "comments[comments['nid'] == 13252]"
   ]
  },
  {
   "cell_type": "code",
   "execution_count": 250,
   "metadata": {
    "ExecuteTime": {
     "end_time": "2019-04-14T18:14:29.642634Z",
     "start_time": "2019-04-14T18:14:29.630096Z"
    },
    "collapsed": false,
    "deletable": true,
    "editable": true
   },
   "outputs": [
    {
     "data": {
      "text/plain": [
       "(1212, 8)"
      ]
     },
     "execution_count": 250,
     "metadata": {},
     "output_type": "execute_result"
    }
   ],
   "source": [
    "comments[(comments['aid'] == 0) & (comments['thread'] == '01/')].shape"
   ]
  },
  {
   "cell_type": "code",
   "execution_count": 251,
   "metadata": {
    "ExecuteTime": {
     "end_time": "2019-04-14T18:14:48.698421Z",
     "start_time": "2019-04-14T18:14:48.684655Z"
    },
    "collapsed": false,
    "deletable": true,
    "editable": true
   },
   "outputs": [
    {
     "data": {
      "text/plain": [
       "(6866, 8)"
      ]
     },
     "execution_count": 251,
     "metadata": {},
     "output_type": "execute_result"
    }
   ],
   "source": [
    "comments[(comments['aid'] == 0) & (comments['reply_to'] == 0)].shape"
   ]
  },
  {
   "cell_type": "code",
   "execution_count": 238,
   "metadata": {
    "ExecuteTime": {
     "end_time": "2019-04-14T18:01:41.929049Z",
     "start_time": "2019-04-14T18:01:41.923391Z"
    },
    "collapsed": false,
    "deletable": true,
    "editable": true
   },
   "outputs": [
    {
     "data": {
      "text/plain": [
       "(7771, 8)"
      ]
     },
     "execution_count": 238,
     "metadata": {},
     "output_type": "execute_result"
    }
   ],
   "source": [
    "comments.shape"
   ]
  },
  {
   "cell_type": "code",
   "execution_count": 236,
   "metadata": {
    "ExecuteTime": {
     "end_time": "2019-04-14T18:00:35.372731Z",
     "start_time": "2019-04-14T18:00:35.356450Z"
    },
    "collapsed": false,
    "deletable": true,
    "editable": true
   },
   "outputs": [
    {
     "data": {
      "text/html": [
       "<div>\n",
       "<style scoped>\n",
       "    .dataframe tbody tr th:only-of-type {\n",
       "        vertical-align: middle;\n",
       "    }\n",
       "\n",
       "    .dataframe tbody tr th {\n",
       "        vertical-align: top;\n",
       "    }\n",
       "\n",
       "    .dataframe thead th {\n",
       "        text-align: right;\n",
       "    }\n",
       "</style>\n",
       "<table border=\"1\" class=\"dataframe\">\n",
       "  <thead>\n",
       "    <tr style=\"text-align: right;\">\n",
       "      <th></th>\n",
       "      <th>nid</th>\n",
       "      <th>uid</th>\n",
       "      <th>aid</th>\n",
       "      <th>created_at</th>\n",
       "      <th>likes</th>\n",
       "      <th>content</th>\n",
       "      <th>accepted</th>\n",
       "    </tr>\n",
       "  </thead>\n",
       "  <tbody>\n",
       "  </tbody>\n",
       "</table>\n",
       "</div>"
      ],
      "text/plain": [
       "Empty DataFrame\n",
       "Columns: [nid, uid, aid, created_at, likes, content, accepted]\n",
       "Index: []"
      ]
     },
     "execution_count": 236,
     "metadata": {},
     "output_type": "execute_result"
    }
   ],
   "source": [
    "answers[answers['nid'] == 13252]#.shape"
   ]
  },
  {
   "cell_type": "code",
   "execution_count": 239,
   "metadata": {
    "ExecuteTime": {
     "end_time": "2019-04-14T18:06:40.499157Z",
     "start_time": "2019-04-14T18:06:40.493260Z"
    },
    "collapsed": false,
    "deletable": true,
    "editable": true
   },
   "outputs": [
    {
     "data": {
      "text/plain": [
       "(820, 8)"
      ]
     },
     "execution_count": 239,
     "metadata": {},
     "output_type": "execute_result"
    }
   ],
   "source": [
    "questions.shape"
   ]
  },
  {
   "cell_type": "code",
   "execution_count": 311,
   "metadata": {
    "ExecuteTime": {
     "end_time": "2019-04-14T21:16:57.896115Z",
     "start_time": "2019-04-14T21:16:57.872925Z"
    },
    "collapsed": false,
    "deletable": true,
    "editable": true,
    "scrolled": true
   },
   "outputs": [
    {
     "name": "stdout",
     "output_type": "stream",
     "text": [
      "TOTAL COMMENTS: 7771\n",
      "TOTAL COMMENTS RELATED TO A QUESTION: 2950\n",
      "TOTAL COMMENTS RELATED TO A QUESTION AND IN TOP THREAD 2138\n",
      "TOTAL COMMENTS RELATED TO A QUESTION AND IN A SUB THREAD 812\n"
     ]
    }
   ],
   "source": [
    "qnids = list(questions['nid'])\n",
    "q_resp = comments.loc[(comments['nid'].isin(qnids))]\n",
    "q_resp_top_thread = comments.loc[(comments['nid'].isin(qnids)) & (comments['reply_to'] == 0)]\n",
    "q_resp_sub_threads = comments.loc[(comments['nid'].isin(qnids)) & (comments['reply_to'] != 0)]\n",
    "print 'TOTAL COMMENTS:', comments.shape[0]\n",
    "print 'TOTAL COMMENTS RELATED TO A QUESTION:', q_resp.shape[0]\n",
    "print 'TOTAL COMMENTS RELATED TO A QUESTION AND IN TOP THREAD', q_resp_top_thread.shape[0]\n",
    "print 'TOTAL COMMENTS RELATED TO A QUESTION AND IN A SUB THREAD', q_resp_sub_threads.shape[0]"
   ]
  },
  {
   "cell_type": "code",
   "execution_count": 361,
   "metadata": {
    "ExecuteTime": {
     "end_time": "2019-04-14T22:48:38.743779Z",
     "start_time": "2019-04-14T22:48:38.727869Z"
    },
    "collapsed": false,
    "deletable": true,
    "editable": true
   },
   "outputs": [
    {
     "data": {
      "text/plain": [
       "(7,)"
      ]
     },
     "execution_count": 361,
     "metadata": {},
     "output_type": "execute_result"
    }
   ],
   "source": [
    "anids = list(answers['nid'])\n",
    "c_not_in_a = q_resp_top_thread[~(q_resp_top_thread['nid'].isin(anids))]\n",
    "reply_not_in_a = q_resp_sub_threads[~(q_resp_sub_threads['nid'].isin(anids))]\n",
    "len(c_not_in_a['nid'].unique())#[:5]#.head()#shape[0] #502\n",
    "reply_not_in_a['nid'].unique().shape"
   ]
  },
  {
   "cell_type": "code",
   "execution_count": 359,
   "metadata": {
    "ExecuteTime": {
     "end_time": "2019-04-14T22:39:43.858802Z",
     "start_time": "2019-04-14T22:39:43.830370Z"
    },
    "collapsed": false,
    "deletable": true,
    "editable": true
   },
   "outputs": [
    {
     "data": {
      "text/html": [
       "<div>\n",
       "<style scoped>\n",
       "    .dataframe tbody tr th:only-of-type {\n",
       "        vertical-align: middle;\n",
       "    }\n",
       "\n",
       "    .dataframe tbody tr th {\n",
       "        vertical-align: top;\n",
       "    }\n",
       "\n",
       "    .dataframe thead th {\n",
       "        text-align: right;\n",
       "    }\n",
       "</style>\n",
       "<table border=\"1\" class=\"dataframe\">\n",
       "  <thead>\n",
       "    <tr style=\"text-align: right;\">\n",
       "      <th></th>\n",
       "      <th>nid</th>\n",
       "      <th>uid</th>\n",
       "      <th>cid</th>\n",
       "      <th>aid</th>\n",
       "      <th>date</th>\n",
       "      <th>thread</th>\n",
       "      <th>comment</th>\n",
       "      <th>reply_to</th>\n",
       "    </tr>\n",
       "  </thead>\n",
       "  <tbody>\n",
       "    <tr>\n",
       "      <th>8</th>\n",
       "      <td>13256</td>\n",
       "      <td>421042</td>\n",
       "      <td>14845</td>\n",
       "      <td>0</td>\n",
       "      <td>1467421274</td>\n",
       "      <td>01/</td>\n",
       "      <td>&lt;iframe width=\"560\" height=\"315\" src=\"https://...</td>\n",
       "      <td>0</td>\n",
       "    </tr>\n",
       "    <tr>\n",
       "      <th>9</th>\n",
       "      <td>13256</td>\n",
       "      <td>4</td>\n",
       "      <td>14846</td>\n",
       "      <td>0</td>\n",
       "      <td>1467490094</td>\n",
       "      <td>02/</td>\n",
       "      <td>that is a very heavy tail.  I got a similar re...</td>\n",
       "      <td>0</td>\n",
       "    </tr>\n",
       "    <tr>\n",
       "      <th>10</th>\n",
       "      <td>13256</td>\n",
       "      <td>421042</td>\n",
       "      <td>14847</td>\n",
       "      <td>0</td>\n",
       "      <td>1467530783</td>\n",
       "      <td>02/</td>\n",
       "      <td>I doubt it would have much effect on a large d...</td>\n",
       "      <td>0</td>\n",
       "    </tr>\n",
       "    <tr>\n",
       "      <th>14</th>\n",
       "      <td>13252</td>\n",
       "      <td>1</td>\n",
       "      <td>14851</td>\n",
       "      <td>0</td>\n",
       "      <td>1467726894</td>\n",
       "      <td>01/</td>\n",
       "      <td>Hi, I haven't heard of someone doing this sort...</td>\n",
       "      <td>0</td>\n",
       "    </tr>\n",
       "    <tr>\n",
       "      <th>83</th>\n",
       "      <td>13286</td>\n",
       "      <td>554</td>\n",
       "      <td>14927</td>\n",
       "      <td>0</td>\n",
       "      <td>1468423282</td>\n",
       "      <td>01/</td>\n",
       "      <td>Hi Sylvain,\\r\\n\\r\\nI don't know the answer to ...</td>\n",
       "      <td>0</td>\n",
       "    </tr>\n",
       "  </tbody>\n",
       "</table>\n",
       "</div>"
      ],
      "text/plain": [
       "      nid     uid    cid  aid        date thread  \\\n",
       "8   13256  421042  14845    0  1467421274    01/   \n",
       "9   13256       4  14846    0  1467490094    02/   \n",
       "10  13256  421042  14847    0  1467530783    02/   \n",
       "14  13252       1  14851    0  1467726894    01/   \n",
       "83  13286     554  14927    0  1468423282    01/   \n",
       "\n",
       "                                              comment  reply_to  \n",
       "8   <iframe width=\"560\" height=\"315\" src=\"https://...         0  \n",
       "9   that is a very heavy tail.  I got a similar re...         0  \n",
       "10  I doubt it would have much effect on a large d...         0  \n",
       "14  Hi, I haven't heard of someone doing this sort...         0  \n",
       "83  Hi Sylvain,\\r\\n\\r\\nI don't know the answer to ...         0  "
      ]
     },
     "execution_count": 359,
     "metadata": {},
     "output_type": "execute_result"
    }
   ],
   "source": [
    "c_not_in_a.head()"
   ]
  },
  {
   "cell_type": "code",
   "execution_count": 349,
   "metadata": {
    "ExecuteTime": {
     "end_time": "2019-04-14T22:17:11.052590Z",
     "start_time": "2019-04-14T22:17:10.967770Z"
    },
    "collapsed": false,
    "deletable": true,
    "editable": true
   },
   "outputs": [
    {
     "data": {
      "text/html": [
       "<div>\n",
       "<style scoped>\n",
       "    .dataframe tbody tr th:only-of-type {\n",
       "        vertical-align: middle;\n",
       "    }\n",
       "\n",
       "    .dataframe tbody tr th {\n",
       "        vertical-align: top;\n",
       "    }\n",
       "\n",
       "    .dataframe thead th {\n",
       "        text-align: right;\n",
       "    }\n",
       "</style>\n",
       "<table border=\"1\" class=\"dataframe\">\n",
       "  <thead>\n",
       "    <tr style=\"text-align: right;\">\n",
       "      <th></th>\n",
       "      <th>nid</th>\n",
       "      <th>uid</th>\n",
       "      <th>aid</th>\n",
       "      <th>created_at</th>\n",
       "      <th>likes</th>\n",
       "      <th>content</th>\n",
       "      <th>accepted</th>\n",
       "    </tr>\n",
       "  </thead>\n",
       "  <tbody>\n",
       "    <tr>\n",
       "      <th>1</th>\n",
       "      <td>13356</td>\n",
       "      <td>1</td>\n",
       "      <td>3</td>\n",
       "      <td>2016-08-16 23:04:23 UTC</td>\n",
       "      <td>0</td>\n",
       "      <td>Looks like it does indeed work... now to see i...</td>\n",
       "      <td>True</td>\n",
       "    </tr>\n",
       "    <tr>\n",
       "      <th>2</th>\n",
       "      <td>13356</td>\n",
       "      <td>7</td>\n",
       "      <td>4</td>\n",
       "      <td>2016-08-17 12:35:13 UTC</td>\n",
       "      <td>0</td>\n",
       "      <td>Here's an answer for you: 42!</td>\n",
       "      <td>False</td>\n",
       "    </tr>\n",
       "    <tr>\n",
       "      <th>13</th>\n",
       "      <td>13362</td>\n",
       "      <td>436738</td>\n",
       "      <td>21</td>\n",
       "      <td>2016-08-18 15:14:40 UTC</td>\n",
       "      <td>1</td>\n",
       "      <td>The science is in on this question. The Earth ...</td>\n",
       "      <td>True</td>\n",
       "    </tr>\n",
       "    <tr>\n",
       "      <th>14</th>\n",
       "      <td>13362</td>\n",
       "      <td>447988</td>\n",
       "      <td>22</td>\n",
       "      <td>2016-08-18 20:49:47 UTC</td>\n",
       "      <td>0</td>\n",
       "      <td>Maybe Public Lab can help the public grow in u...</td>\n",
       "      <td>False</td>\n",
       "    </tr>\n",
       "    <tr>\n",
       "      <th>15</th>\n",
       "      <td>13362</td>\n",
       "      <td>379</td>\n",
       "      <td>23</td>\n",
       "      <td>2016-08-21 23:44:22 UTC</td>\n",
       "      <td>0</td>\n",
       "      <td>I second the AR5 report, and especially the [S...</td>\n",
       "      <td>False</td>\n",
       "    </tr>\n",
       "    <tr>\n",
       "      <th>16</th>\n",
       "      <td>13362</td>\n",
       "      <td>379</td>\n",
       "      <td>24</td>\n",
       "      <td>2016-08-21 23:46:04 UTC</td>\n",
       "      <td>0</td>\n",
       "      <td>I second the AR5 report, and especially the [S...</td>\n",
       "      <td>False</td>\n",
       "    </tr>\n",
       "    <tr>\n",
       "      <th>17</th>\n",
       "      <td>13362</td>\n",
       "      <td>379</td>\n",
       "      <td>25</td>\n",
       "      <td>2016-08-21 23:47:50 UTC</td>\n",
       "      <td>0</td>\n",
       "      <td>Other scientific sites are [NASA ](http://clim...</td>\n",
       "      <td>False</td>\n",
       "    </tr>\n",
       "    <tr>\n",
       "      <th>18</th>\n",
       "      <td>13362</td>\n",
       "      <td>379</td>\n",
       "      <td>26</td>\n",
       "      <td>2016-08-21 23:50:39 UTC</td>\n",
       "      <td>0</td>\n",
       "      <td>For the denial bit, I follow the [Yale climate...</td>\n",
       "      <td>False</td>\n",
       "    </tr>\n",
       "    <tr>\n",
       "      <th>20</th>\n",
       "      <td>13234</td>\n",
       "      <td>1</td>\n",
       "      <td>29</td>\n",
       "      <td>2016-08-31 14:25:14 UTC</td>\n",
       "      <td>0</td>\n",
       "      <td>Yes, the live capture has been limited to 640p...</td>\n",
       "      <td>False</td>\n",
       "    </tr>\n",
       "    <tr>\n",
       "      <th>21</th>\n",
       "      <td>13115</td>\n",
       "      <td>1</td>\n",
       "      <td>30</td>\n",
       "      <td>2016-08-31 14:28:37 UTC</td>\n",
       "      <td>0</td>\n",
       "      <td>(Moving my comment to an \"answer\" -- would you...</td>\n",
       "      <td>True</td>\n",
       "    </tr>\n",
       "    <tr>\n",
       "      <th>27</th>\n",
       "      <td>13420</td>\n",
       "      <td>468506</td>\n",
       "      <td>36</td>\n",
       "      <td>2016-09-06 09:53:50 UTC</td>\n",
       "      <td>1</td>\n",
       "      <td>This is a demo answer</td>\n",
       "      <td>True</td>\n",
       "    </tr>\n",
       "    <tr>\n",
       "      <th>28</th>\n",
       "      <td>13421</td>\n",
       "      <td>468506</td>\n",
       "      <td>37</td>\n",
       "      <td>2016-09-06 10:06:39 UTC</td>\n",
       "      <td>1</td>\n",
       "      <td>This is a demo answer</td>\n",
       "      <td>True</td>\n",
       "    </tr>\n",
       "    <tr>\n",
       "      <th>34</th>\n",
       "      <td>12978</td>\n",
       "      <td>479194</td>\n",
       "      <td>43</td>\n",
       "      <td>2016-09-14 23:01:07 UTC</td>\n",
       "      <td>0</td>\n",
       "      <td>@warren is there a chance to write a note abou...</td>\n",
       "      <td>False</td>\n",
       "    </tr>\n",
       "    <tr>\n",
       "      <th>35</th>\n",
       "      <td>13061</td>\n",
       "      <td>479194</td>\n",
       "      <td>44</td>\n",
       "      <td>2016-09-14 23:03:22 UTC</td>\n",
       "      <td>0</td>\n",
       "      <td>@Georgi did you ever end up changing the camer...</td>\n",
       "      <td>False</td>\n",
       "    </tr>\n",
       "    <tr>\n",
       "      <th>208</th>\n",
       "      <td>14068</td>\n",
       "      <td>423961</td>\n",
       "      <td>221</td>\n",
       "      <td>2017-03-30 06:38:09 UTC</td>\n",
       "      <td>1</td>\n",
       "      <td>@alanrday I don't know if this is helpful, but...</td>\n",
       "      <td>False</td>\n",
       "    </tr>\n",
       "    <tr>\n",
       "      <th>306</th>\n",
       "      <td>11301</td>\n",
       "      <td>512046</td>\n",
       "      <td>326</td>\n",
       "      <td>2017-08-03 15:41:10 UTC</td>\n",
       "      <td>0</td>\n",
       "      <td>Thank you guys - was wondering the same too[.]...</td>\n",
       "      <td>False</td>\n",
       "    </tr>\n",
       "    <tr>\n",
       "      <th>307</th>\n",
       "      <td>10574</td>\n",
       "      <td>512046</td>\n",
       "      <td>327</td>\n",
       "      <td>2017-08-03 15:43:48 UTC</td>\n",
       "      <td>0</td>\n",
       "      <td>Thanks for the info[.](http://www.dansk-firmai...</td>\n",
       "      <td>False</td>\n",
       "    </tr>\n",
       "    <tr>\n",
       "      <th>324</th>\n",
       "      <td>10993</td>\n",
       "      <td>513569</td>\n",
       "      <td>353</td>\n",
       "      <td>2017-08-31 07:43:00 UTC</td>\n",
       "      <td>0</td>\n",
       "      <td>Hope is the best thing when you see that there...</td>\n",
       "      <td>False</td>\n",
       "    </tr>\n",
       "    <tr>\n",
       "      <th>325</th>\n",
       "      <td>10996</td>\n",
       "      <td>513569</td>\n",
       "      <td>354</td>\n",
       "      <td>2017-08-31 07:47:27 UTC</td>\n",
       "      <td>0</td>\n",
       "      <td>It is really very [awesome](http://allbankrout...</td>\n",
       "      <td>False</td>\n",
       "    </tr>\n",
       "    <tr>\n",
       "      <th>327</th>\n",
       "      <td>11270</td>\n",
       "      <td>513632</td>\n",
       "      <td>356</td>\n",
       "      <td>2017-09-01 11:59:35 UTC</td>\n",
       "      <td>0</td>\n",
       "      <td>We do not disclose your personal information t...</td>\n",
       "      <td>False</td>\n",
       "    </tr>\n",
       "    <tr>\n",
       "      <th>328</th>\n",
       "      <td>11226</td>\n",
       "      <td>513632</td>\n",
       "      <td>357</td>\n",
       "      <td>2017-09-01 12:02:42 UTC</td>\n",
       "      <td>0</td>\n",
       "      <td>If you were to bring your own IR source (most ...</td>\n",
       "      <td>False</td>\n",
       "    </tr>\n",
       "    <tr>\n",
       "      <th>329</th>\n",
       "      <td>11301</td>\n",
       "      <td>513632</td>\n",
       "      <td>358</td>\n",
       "      <td>2017-09-01 12:06:51 UTC</td>\n",
       "      <td>0</td>\n",
       "      <td>Authorized disclosures include limited circums...</td>\n",
       "      <td>False</td>\n",
       "    </tr>\n",
       "    <tr>\n",
       "      <th>330</th>\n",
       "      <td>10537</td>\n",
       "      <td>513632</td>\n",
       "      <td>359</td>\n",
       "      <td>2017-09-01 12:29:02 UTC</td>\n",
       "      <td>0</td>\n",
       "      <td>We do not disclose your personal information t...</td>\n",
       "      <td>False</td>\n",
       "    </tr>\n",
       "    <tr>\n",
       "      <th>466</th>\n",
       "      <td>15152</td>\n",
       "      <td>515171</td>\n",
       "      <td>539</td>\n",
       "      <td>2017-11-07 00:11:42 UTC</td>\n",
       "      <td>0</td>\n",
       "      <td>[![P1130837.jpg](https://publiclab.org/system/...</td>\n",
       "      <td>False</td>\n",
       "    </tr>\n",
       "    <tr>\n",
       "      <th>468</th>\n",
       "      <td>15152</td>\n",
       "      <td>7</td>\n",
       "      <td>541</td>\n",
       "      <td>2017-11-09 20:51:09 UTC</td>\n",
       "      <td>0</td>\n",
       "      <td>[![IMG_20171104_114716427.jpg](https://publicl...</td>\n",
       "      <td>False</td>\n",
       "    </tr>\n",
       "    <tr>\n",
       "      <th>606</th>\n",
       "      <td>15538</td>\n",
       "      <td>237313</td>\n",
       "      <td>711</td>\n",
       "      <td>2018-01-17 17:18:17 UTC</td>\n",
       "      <td>0</td>\n",
       "      <td>Not sure how micro you want to go, but lots of...</td>\n",
       "      <td>False</td>\n",
       "    </tr>\n",
       "    <tr>\n",
       "      <th>609</th>\n",
       "      <td>12436</td>\n",
       "      <td>54025</td>\n",
       "      <td>714</td>\n",
       "      <td>2018-01-17 22:24:31 UTC</td>\n",
       "      <td>1</td>\n",
       "      <td>The vertical scale is purely relative, represe...</td>\n",
       "      <td>False</td>\n",
       "    </tr>\n",
       "    <tr>\n",
       "      <th>610</th>\n",
       "      <td>12436</td>\n",
       "      <td>554</td>\n",
       "      <td>715</td>\n",
       "      <td>2018-01-17 22:24:44 UTC</td>\n",
       "      <td>1</td>\n",
       "      <td>So, the values in the graph are computed as fo...</td>\n",
       "      <td>False</td>\n",
       "    </tr>\n",
       "    <tr>\n",
       "      <th>611</th>\n",
       "      <td>11135</td>\n",
       "      <td>554</td>\n",
       "      <td>716</td>\n",
       "      <td>2018-01-17 22:25:08 UTC</td>\n",
       "      <td>0</td>\n",
       "      <td>An infragram photo file does not contain enoug...</td>\n",
       "      <td>False</td>\n",
       "    </tr>\n",
       "    <tr>\n",
       "      <th>613</th>\n",
       "      <td>10984</td>\n",
       "      <td>554</td>\n",
       "      <td>718</td>\n",
       "      <td>2018-01-17 22:37:22 UTC</td>\n",
       "      <td>0</td>\n",
       "      <td>The Public Lab desktop spectrometer is quite c...</td>\n",
       "      <td>False</td>\n",
       "    </tr>\n",
       "    <tr>\n",
       "      <th>669</th>\n",
       "      <td>10996</td>\n",
       "      <td>524670</td>\n",
       "      <td>779</td>\n",
       "      <td>2018-02-08 11:33:30 UTC</td>\n",
       "      <td>0</td>\n",
       "      <td>Nice try Natalie \\r\\nUi Developer @ [RailsCarm...</td>\n",
       "      <td>False</td>\n",
       "    </tr>\n",
       "    <tr>\n",
       "      <th>684</th>\n",
       "      <td>11516</td>\n",
       "      <td>1</td>\n",
       "      <td>798</td>\n",
       "      <td>2018-02-16 21:45:38 UTC</td>\n",
       "      <td>0</td>\n",
       "      <td>There's now a way to collect data from a #dust...</td>\n",
       "      <td>False</td>\n",
       "    </tr>\n",
       "    <tr>\n",
       "      <th>706</th>\n",
       "      <td>15809</td>\n",
       "      <td>1</td>\n",
       "      <td>821</td>\n",
       "      <td>2018-02-23 14:00:27 UTC</td>\n",
       "      <td>0</td>\n",
       "      <td>Hi! Can you post this at github? \\r\\n\\r\\nhttps...</td>\n",
       "      <td>False</td>\n",
       "    </tr>\n",
       "    <tr>\n",
       "      <th>727</th>\n",
       "      <td>15864</td>\n",
       "      <td>7</td>\n",
       "      <td>847</td>\n",
       "      <td>2018-03-05 19:03:26 UTC</td>\n",
       "      <td>1</td>\n",
       "      <td>Hi @Alanrday, sorry to hear you are having tro...</td>\n",
       "      <td>True</td>\n",
       "    </tr>\n",
       "    <tr>\n",
       "      <th>943</th>\n",
       "      <td>0</td>\n",
       "      <td>515081</td>\n",
       "      <td>1108</td>\n",
       "      <td>2018-08-03 20:14:34 UTC</td>\n",
       "      <td>0</td>\n",
       "      <td>comment_ans_thread</td>\n",
       "      <td>False</td>\n",
       "    </tr>\n",
       "    <tr>\n",
       "      <th>944</th>\n",
       "      <td>0</td>\n",
       "      <td>515081</td>\n",
       "      <td>1109</td>\n",
       "      <td>2018-08-03 20:16:34 UTC</td>\n",
       "      <td>0</td>\n",
       "      <td>ans_comment_thread</td>\n",
       "      <td>False</td>\n",
       "    </tr>\n",
       "  </tbody>\n",
       "</table>\n",
       "</div>"
      ],
      "text/plain": [
       "       nid     uid   aid               created_at  likes  \\\n",
       "1    13356       1     3  2016-08-16 23:04:23 UTC      0   \n",
       "2    13356       7     4  2016-08-17 12:35:13 UTC      0   \n",
       "13   13362  436738    21  2016-08-18 15:14:40 UTC      1   \n",
       "14   13362  447988    22  2016-08-18 20:49:47 UTC      0   \n",
       "15   13362     379    23  2016-08-21 23:44:22 UTC      0   \n",
       "16   13362     379    24  2016-08-21 23:46:04 UTC      0   \n",
       "17   13362     379    25  2016-08-21 23:47:50 UTC      0   \n",
       "18   13362     379    26  2016-08-21 23:50:39 UTC      0   \n",
       "20   13234       1    29  2016-08-31 14:25:14 UTC      0   \n",
       "21   13115       1    30  2016-08-31 14:28:37 UTC      0   \n",
       "27   13420  468506    36  2016-09-06 09:53:50 UTC      1   \n",
       "28   13421  468506    37  2016-09-06 10:06:39 UTC      1   \n",
       "34   12978  479194    43  2016-09-14 23:01:07 UTC      0   \n",
       "35   13061  479194    44  2016-09-14 23:03:22 UTC      0   \n",
       "208  14068  423961   221  2017-03-30 06:38:09 UTC      1   \n",
       "306  11301  512046   326  2017-08-03 15:41:10 UTC      0   \n",
       "307  10574  512046   327  2017-08-03 15:43:48 UTC      0   \n",
       "324  10993  513569   353  2017-08-31 07:43:00 UTC      0   \n",
       "325  10996  513569   354  2017-08-31 07:47:27 UTC      0   \n",
       "327  11270  513632   356  2017-09-01 11:59:35 UTC      0   \n",
       "328  11226  513632   357  2017-09-01 12:02:42 UTC      0   \n",
       "329  11301  513632   358  2017-09-01 12:06:51 UTC      0   \n",
       "330  10537  513632   359  2017-09-01 12:29:02 UTC      0   \n",
       "466  15152  515171   539  2017-11-07 00:11:42 UTC      0   \n",
       "468  15152       7   541  2017-11-09 20:51:09 UTC      0   \n",
       "606  15538  237313   711  2018-01-17 17:18:17 UTC      0   \n",
       "609  12436   54025   714  2018-01-17 22:24:31 UTC      1   \n",
       "610  12436     554   715  2018-01-17 22:24:44 UTC      1   \n",
       "611  11135     554   716  2018-01-17 22:25:08 UTC      0   \n",
       "613  10984     554   718  2018-01-17 22:37:22 UTC      0   \n",
       "669  10996  524670   779  2018-02-08 11:33:30 UTC      0   \n",
       "684  11516       1   798  2018-02-16 21:45:38 UTC      0   \n",
       "706  15809       1   821  2018-02-23 14:00:27 UTC      0   \n",
       "727  15864       7   847  2018-03-05 19:03:26 UTC      1   \n",
       "943      0  515081  1108  2018-08-03 20:14:34 UTC      0   \n",
       "944      0  515081  1109  2018-08-03 20:16:34 UTC      0   \n",
       "\n",
       "                                               content  accepted  \n",
       "1    Looks like it does indeed work... now to see i...      True  \n",
       "2                        Here's an answer for you: 42!     False  \n",
       "13   The science is in on this question. The Earth ...      True  \n",
       "14   Maybe Public Lab can help the public grow in u...     False  \n",
       "15   I second the AR5 report, and especially the [S...     False  \n",
       "16   I second the AR5 report, and especially the [S...     False  \n",
       "17   Other scientific sites are [NASA ](http://clim...     False  \n",
       "18   For the denial bit, I follow the [Yale climate...     False  \n",
       "20   Yes, the live capture has been limited to 640p...     False  \n",
       "21   (Moving my comment to an \"answer\" -- would you...      True  \n",
       "27                               This is a demo answer      True  \n",
       "28                               This is a demo answer      True  \n",
       "34   @warren is there a chance to write a note abou...     False  \n",
       "35   @Georgi did you ever end up changing the camer...     False  \n",
       "208  @alanrday I don't know if this is helpful, but...     False  \n",
       "306  Thank you guys - was wondering the same too[.]...     False  \n",
       "307  Thanks for the info[.](http://www.dansk-firmai...     False  \n",
       "324  Hope is the best thing when you see that there...     False  \n",
       "325  It is really very [awesome](http://allbankrout...     False  \n",
       "327  We do not disclose your personal information t...     False  \n",
       "328  If you were to bring your own IR source (most ...     False  \n",
       "329  Authorized disclosures include limited circums...     False  \n",
       "330  We do not disclose your personal information t...     False  \n",
       "466  [![P1130837.jpg](https://publiclab.org/system/...     False  \n",
       "468  [![IMG_20171104_114716427.jpg](https://publicl...     False  \n",
       "606  Not sure how micro you want to go, but lots of...     False  \n",
       "609  The vertical scale is purely relative, represe...     False  \n",
       "610  So, the values in the graph are computed as fo...     False  \n",
       "611  An infragram photo file does not contain enoug...     False  \n",
       "613  The Public Lab desktop spectrometer is quite c...     False  \n",
       "669  Nice try Natalie \\r\\nUi Developer @ [RailsCarm...     False  \n",
       "684  There's now a way to collect data from a #dust...     False  \n",
       "706  Hi! Can you post this at github? \\r\\n\\r\\nhttps...     False  \n",
       "727  Hi @Alanrday, sorry to hear you are having tro...      True  \n",
       "943                                 comment_ans_thread     False  \n",
       "944                                 ans_comment_thread     False  "
      ]
     },
     "execution_count": 349,
     "metadata": {},
     "output_type": "execute_result"
    }
   ],
   "source": [
    "qnids = list(questions['nid'])\n",
    "tlnids = list(q_resp_top_thread['nid'].unique())\n",
    "\n",
    "len(tlnids)\n",
    "# q_not_in_a = answers[~(answers['nid'].isin(qnids))]\n",
    "# q_not_in_a.shape[0]\n",
    "\n",
    "c_not_in_a = answers[~(answers['nid'].isin(tlnids))]\n",
    "c_not_in_a.shape[0]\n",
    "\n",
    "# tlnids_not_in_ans = answers[~(answers['nid'].isin(tlnids))]\n",
    "\n",
    "# tlnids_not_in_ans.shape[0]\n",
    "# q_not_in_a.shape[0]\n",
    "\n",
    "q_not_in_a#['nid'].unique()\n",
    "# c_not_in_a"
   ]
  },
  {
   "cell_type": "code",
   "execution_count": 344,
   "metadata": {
    "ExecuteTime": {
     "end_time": "2019-04-14T22:09:40.808991Z",
     "start_time": "2019-04-14T22:09:40.792079Z"
    },
    "collapsed": false,
    "deletable": true,
    "editable": true
   },
   "outputs": [
    {
     "data": {
      "text/html": [
       "<div>\n",
       "<style scoped>\n",
       "    .dataframe tbody tr th:only-of-type {\n",
       "        vertical-align: middle;\n",
       "    }\n",
       "\n",
       "    .dataframe tbody tr th {\n",
       "        vertical-align: top;\n",
       "    }\n",
       "\n",
       "    .dataframe thead th {\n",
       "        text-align: right;\n",
       "    }\n",
       "</style>\n",
       "<table border=\"1\" class=\"dataframe\">\n",
       "  <thead>\n",
       "    <tr style=\"text-align: right;\">\n",
       "      <th></th>\n",
       "      <th>nid</th>\n",
       "      <th>uid</th>\n",
       "      <th>qid</th>\n",
       "      <th>date</th>\n",
       "      <th>user_cmnts</th>\n",
       "      <th>thread_cmnts</th>\n",
       "      <th>likes</th>\n",
       "      <th>title</th>\n",
       "    </tr>\n",
       "  </thead>\n",
       "  <tbody>\n",
       "  </tbody>\n",
       "</table>\n",
       "</div>"
      ],
      "text/plain": [
       "Empty DataFrame\n",
       "Columns: [nid, uid, qid, date, user_cmnts, thread_cmnts, likes, title]\n",
       "Index: []"
      ]
     },
     "execution_count": 344,
     "metadata": {},
     "output_type": "execute_result"
    }
   ],
   "source": [
    "questions[questions['nid'] == 13234]"
   ]
  },
  {
   "cell_type": "code",
   "execution_count": 336,
   "metadata": {
    "ExecuteTime": {
     "end_time": "2019-04-14T22:07:08.407667Z",
     "start_time": "2019-04-14T22:07:08.383153Z"
    },
    "collapsed": false,
    "deletable": true,
    "editable": true
   },
   "outputs": [
    {
     "data": {
      "text/html": [
       "<div>\n",
       "<style scoped>\n",
       "    .dataframe tbody tr th:only-of-type {\n",
       "        vertical-align: middle;\n",
       "    }\n",
       "\n",
       "    .dataframe tbody tr th {\n",
       "        vertical-align: top;\n",
       "    }\n",
       "\n",
       "    .dataframe thead th {\n",
       "        text-align: right;\n",
       "    }\n",
       "</style>\n",
       "<table border=\"1\" class=\"dataframe\">\n",
       "  <thead>\n",
       "    <tr style=\"text-align: right;\">\n",
       "      <th></th>\n",
       "      <th>nid</th>\n",
       "      <th>uid</th>\n",
       "      <th>aid</th>\n",
       "      <th>created_at</th>\n",
       "      <th>likes</th>\n",
       "      <th>content</th>\n",
       "      <th>accepted</th>\n",
       "    </tr>\n",
       "  </thead>\n",
       "  <tbody>\n",
       "    <tr>\n",
       "      <th>1</th>\n",
       "      <td>13356</td>\n",
       "      <td>1</td>\n",
       "      <td>3</td>\n",
       "      <td>2016-08-16 23:04:23 UTC</td>\n",
       "      <td>0</td>\n",
       "      <td>Looks like it does indeed work... now to see i...</td>\n",
       "      <td>True</td>\n",
       "    </tr>\n",
       "    <tr>\n",
       "      <th>2</th>\n",
       "      <td>13356</td>\n",
       "      <td>7</td>\n",
       "      <td>4</td>\n",
       "      <td>2016-08-17 12:35:13 UTC</td>\n",
       "      <td>0</td>\n",
       "      <td>Here's an answer for you: 42!</td>\n",
       "      <td>False</td>\n",
       "    </tr>\n",
       "  </tbody>\n",
       "</table>\n",
       "</div>"
      ],
      "text/plain": [
       "     nid  uid  aid               created_at  likes  \\\n",
       "1  13356    1    3  2016-08-16 23:04:23 UTC      0   \n",
       "2  13356    7    4  2016-08-17 12:35:13 UTC      0   \n",
       "\n",
       "                                             content  accepted  \n",
       "1  Looks like it does indeed work... now to see i...      True  \n",
       "2                      Here's an answer for you: 42!     False  "
      ]
     },
     "execution_count": 336,
     "metadata": {},
     "output_type": "execute_result"
    }
   ],
   "source": [
    "answers[answers['nid'] == 13356]"
   ]
  },
  {
   "cell_type": "code",
   "execution_count": 337,
   "metadata": {
    "ExecuteTime": {
     "end_time": "2019-04-14T22:07:37.367475Z",
     "start_time": "2019-04-14T22:07:37.333649Z"
    },
    "collapsed": false,
    "deletable": true,
    "editable": true
   },
   "outputs": [
    {
     "data": {
      "text/html": [
       "<div>\n",
       "<style scoped>\n",
       "    .dataframe tbody tr th:only-of-type {\n",
       "        vertical-align: middle;\n",
       "    }\n",
       "\n",
       "    .dataframe tbody tr th {\n",
       "        vertical-align: top;\n",
       "    }\n",
       "\n",
       "    .dataframe thead th {\n",
       "        text-align: right;\n",
       "    }\n",
       "</style>\n",
       "<table border=\"1\" class=\"dataframe\">\n",
       "  <thead>\n",
       "    <tr style=\"text-align: right;\">\n",
       "      <th></th>\n",
       "      <th>nid</th>\n",
       "      <th>uid</th>\n",
       "      <th>cid</th>\n",
       "      <th>aid</th>\n",
       "      <th>date</th>\n",
       "      <th>thread</th>\n",
       "      <th>comment</th>\n",
       "      <th>reply_to</th>\n",
       "    </tr>\n",
       "  </thead>\n",
       "  <tbody>\n",
       "    <tr>\n",
       "      <th>290</th>\n",
       "      <td>13356</td>\n",
       "      <td>7</td>\n",
       "      <td>15143</td>\n",
       "      <td>3</td>\n",
       "      <td>1471441378</td>\n",
       "      <td>NaN</td>\n",
       "      <td>i'm commenting on this accepted answer.</td>\n",
       "      <td>22246</td>\n",
       "    </tr>\n",
       "    <tr>\n",
       "      <th>6390</th>\n",
       "      <td>13356</td>\n",
       "      <td>1</td>\n",
       "      <td>22246</td>\n",
       "      <td>0</td>\n",
       "      <td>1471388663</td>\n",
       "      <td>/01</td>\n",
       "      <td>Looks like it does indeed work... now to see i...</td>\n",
       "      <td>0</td>\n",
       "    </tr>\n",
       "    <tr>\n",
       "      <th>6391</th>\n",
       "      <td>13356</td>\n",
       "      <td>7</td>\n",
       "      <td>22247</td>\n",
       "      <td>0</td>\n",
       "      <td>1471437313</td>\n",
       "      <td>/01</td>\n",
       "      <td>Here's an answer for you: 42!</td>\n",
       "      <td>0</td>\n",
       "    </tr>\n",
       "  </tbody>\n",
       "</table>\n",
       "</div>"
      ],
      "text/plain": [
       "        nid  uid    cid  aid        date thread  \\\n",
       "290   13356    7  15143    3  1471441378    NaN   \n",
       "6390  13356    1  22246    0  1471388663    /01   \n",
       "6391  13356    7  22247    0  1471437313    /01   \n",
       "\n",
       "                                                comment  reply_to  \n",
       "290            i'm commenting on this accepted answer.      22246  \n",
       "6390  Looks like it does indeed work... now to see i...         0  \n",
       "6391                      Here's an answer for you: 42!         0  "
      ]
     },
     "execution_count": 337,
     "metadata": {},
     "output_type": "execute_result"
    }
   ],
   "source": [
    "comments[comments['nid'] == 13356]"
   ]
  },
  {
   "cell_type": "code",
   "execution_count": 323,
   "metadata": {
    "ExecuteTime": {
     "end_time": "2019-04-14T21:35:57.436048Z",
     "start_time": "2019-04-14T21:35:57.417942Z"
    },
    "collapsed": false,
    "deletable": true,
    "editable": true
   },
   "outputs": [
    {
     "data": {
      "text/plain": [
       "(1636, 502)"
      ]
     },
     "execution_count": 323,
     "metadata": {},
     "output_type": "execute_result"
    }
   ],
   "source": [
    "anids = list(answers['nid'])\n",
    "c_in_a = q_resp_top_thread[(q_resp_top_thread['nid'].isin(anids))]\n",
    "c_not_in_a = q_resp_top_thread[~(q_resp_top_thread['nid'].isin(anids))]\n",
    "\n",
    "c_in_a.shape[0], c_not_in_a.shape[0]\n",
    "#(1636, 502) 1134\n",
    "\n",
    "\n",
    "# q_resp = comments.loc[(comments['nid'].isin(qnids))]\n",
    "# q_resp_sub_threads = comments.loc[(comments['nid'].isin(qnids)) & (comments['reply_to'] != 0)]"
   ]
  },
  {
   "cell_type": "code",
   "execution_count": 324,
   "metadata": {
    "ExecuteTime": {
     "end_time": "2019-04-14T21:38:18.497029Z",
     "start_time": "2019-04-14T21:38:18.472716Z"
    },
    "collapsed": false,
    "deletable": true,
    "editable": true
   },
   "outputs": [
    {
     "data": {
      "text/html": [
       "<div>\n",
       "<style scoped>\n",
       "    .dataframe tbody tr th:only-of-type {\n",
       "        vertical-align: middle;\n",
       "    }\n",
       "\n",
       "    .dataframe tbody tr th {\n",
       "        vertical-align: top;\n",
       "    }\n",
       "\n",
       "    .dataframe thead th {\n",
       "        text-align: right;\n",
       "    }\n",
       "</style>\n",
       "<table border=\"1\" class=\"dataframe\">\n",
       "  <thead>\n",
       "    <tr style=\"text-align: right;\">\n",
       "      <th></th>\n",
       "      <th>nid</th>\n",
       "      <th>uid</th>\n",
       "      <th>qid</th>\n",
       "      <th>date</th>\n",
       "      <th>user_cmnts</th>\n",
       "      <th>thread_cmnts</th>\n",
       "      <th>likes</th>\n",
       "      <th>title</th>\n",
       "    </tr>\n",
       "  </thead>\n",
       "  <tbody>\n",
       "    <tr>\n",
       "      <th>4</th>\n",
       "      <td>13358</td>\n",
       "      <td>460486</td>\n",
       "      <td>5</td>\n",
       "      <td>1471415749</td>\n",
       "      <td>2</td>\n",
       "      <td>12</td>\n",
       "      <td>0</td>\n",
       "      <td>How to neutralize/remove the source's spectra ...</td>\n",
       "    </tr>\n",
       "  </tbody>\n",
       "</table>\n",
       "</div>"
      ],
      "text/plain": [
       "     nid     uid  qid        date  user_cmnts  thread_cmnts  likes  \\\n",
       "4  13358  460486    5  1471415749           2            12      0   \n",
       "\n",
       "                                               title  \n",
       "4  How to neutralize/remove the source's spectra ...  "
      ]
     },
     "execution_count": 324,
     "metadata": {},
     "output_type": "execute_result"
    }
   ],
   "source": [
    "questions.loc[questions['nid'] == 13358]"
   ]
  },
  {
   "cell_type": "code",
   "execution_count": 325,
   "metadata": {
    "ExecuteTime": {
     "end_time": "2019-04-14T21:39:41.027126Z",
     "start_time": "2019-04-14T21:39:40.975273Z"
    },
    "collapsed": false,
    "deletable": true,
    "editable": true
   },
   "outputs": [
    {
     "data": {
      "text/html": [
       "<div>\n",
       "<style scoped>\n",
       "    .dataframe tbody tr th:only-of-type {\n",
       "        vertical-align: middle;\n",
       "    }\n",
       "\n",
       "    .dataframe tbody tr th {\n",
       "        vertical-align: top;\n",
       "    }\n",
       "\n",
       "    .dataframe thead th {\n",
       "        text-align: right;\n",
       "    }\n",
       "</style>\n",
       "<table border=\"1\" class=\"dataframe\">\n",
       "  <thead>\n",
       "    <tr style=\"text-align: right;\">\n",
       "      <th></th>\n",
       "      <th>nid</th>\n",
       "      <th>uid</th>\n",
       "      <th>cid</th>\n",
       "      <th>aid</th>\n",
       "      <th>date</th>\n",
       "      <th>thread</th>\n",
       "      <th>comment</th>\n",
       "      <th>reply_to</th>\n",
       "    </tr>\n",
       "  </thead>\n",
       "  <tbody>\n",
       "    <tr>\n",
       "      <th>291</th>\n",
       "      <td>13358</td>\n",
       "      <td>554</td>\n",
       "      <td>15144</td>\n",
       "      <td>0</td>\n",
       "      <td>1471445049</td>\n",
       "      <td>01/</td>\n",
       "      <td>I agree with Jeff that those results seem to s...</td>\n",
       "      <td>0</td>\n",
       "    </tr>\n",
       "    <tr>\n",
       "      <th>292</th>\n",
       "      <td>13358</td>\n",
       "      <td>554</td>\n",
       "      <td>15145</td>\n",
       "      <td>0</td>\n",
       "      <td>1471445068</td>\n",
       "      <td>02/</td>\n",
       "      <td>I agree with Jeff that those results seem to s...</td>\n",
       "      <td>0</td>\n",
       "    </tr>\n",
       "    <tr>\n",
       "      <th>293</th>\n",
       "      <td>13358</td>\n",
       "      <td>554</td>\n",
       "      <td>15146</td>\n",
       "      <td>0</td>\n",
       "      <td>1471445467</td>\n",
       "      <td>02/</td>\n",
       "      <td>Does this comment box work?</td>\n",
       "      <td>0</td>\n",
       "    </tr>\n",
       "    <tr>\n",
       "      <th>294</th>\n",
       "      <td>13358</td>\n",
       "      <td>554</td>\n",
       "      <td>15147</td>\n",
       "      <td>0</td>\n",
       "      <td>1471445500</td>\n",
       "      <td>02/</td>\n",
       "      <td>Yes it does.</td>\n",
       "      <td>0</td>\n",
       "    </tr>\n",
       "    <tr>\n",
       "      <th>296</th>\n",
       "      <td>13358</td>\n",
       "      <td>554</td>\n",
       "      <td>15149</td>\n",
       "      <td>0</td>\n",
       "      <td>1471445702</td>\n",
       "      <td>02/</td>\n",
       "      <td>Sorry, I am getting strange behavior from the ...</td>\n",
       "      <td>0</td>\n",
       "    </tr>\n",
       "    <tr>\n",
       "      <th>6392</th>\n",
       "      <td>13358</td>\n",
       "      <td>1</td>\n",
       "      <td>22248</td>\n",
       "      <td>0</td>\n",
       "      <td>1471444048</td>\n",
       "      <td>/01</td>\n",
       "      <td>Hi, CCDs do not have a linear response curve -...</td>\n",
       "      <td>0</td>\n",
       "    </tr>\n",
       "    <tr>\n",
       "      <th>6393</th>\n",
       "      <td>13358</td>\n",
       "      <td>554</td>\n",
       "      <td>22249</td>\n",
       "      <td>0</td>\n",
       "      <td>1471445431</td>\n",
       "      <td>/01</td>\n",
       "      <td>I agree with Jeff that those results seem to s...</td>\n",
       "      <td>0</td>\n",
       "    </tr>\n",
       "    <tr>\n",
       "      <th>6394</th>\n",
       "      <td>13358</td>\n",
       "      <td>554</td>\n",
       "      <td>22250</td>\n",
       "      <td>0</td>\n",
       "      <td>1471449778</td>\n",
       "      <td>/01</td>\n",
       "      <td>[![ccdtrace.JPG](//i.publiclab.org/system/imag...</td>\n",
       "      <td>0</td>\n",
       "    </tr>\n",
       "    <tr>\n",
       "      <th>6395</th>\n",
       "      <td>13358</td>\n",
       "      <td>554</td>\n",
       "      <td>22251</td>\n",
       "      <td>0</td>\n",
       "      <td>1471449853</td>\n",
       "      <td>/01</td>\n",
       "      <td>[![ccdDiff.JPG](//i.publiclab.org/system/image...</td>\n",
       "      <td>0</td>\n",
       "    </tr>\n",
       "    <tr>\n",
       "      <th>6397</th>\n",
       "      <td>13358</td>\n",
       "      <td>460486</td>\n",
       "      <td>22253</td>\n",
       "      <td>0</td>\n",
       "      <td>1471461631</td>\n",
       "      <td>/01</td>\n",
       "      <td>Do you think we need to fix the offset of magn...</td>\n",
       "      <td>0</td>\n",
       "    </tr>\n",
       "    <tr>\n",
       "      <th>6398</th>\n",
       "      <td>13358</td>\n",
       "      <td>461120</td>\n",
       "      <td>22254</td>\n",
       "      <td>0</td>\n",
       "      <td>1471469589</td>\n",
       "      <td>/01</td>\n",
       "      <td>Hey @shubham, first lets start with what your ...</td>\n",
       "      <td>0</td>\n",
       "    </tr>\n",
       "    <tr>\n",
       "      <th>6399</th>\n",
       "      <td>13358</td>\n",
       "      <td>461120</td>\n",
       "      <td>22255</td>\n",
       "      <td>0</td>\n",
       "      <td>1471470172</td>\n",
       "      <td>/01</td>\n",
       "      <td>Hey @shubham, this may help you out also:\\r\\nN...</td>\n",
       "      <td>0</td>\n",
       "    </tr>\n",
       "  </tbody>\n",
       "</table>\n",
       "</div>"
      ],
      "text/plain": [
       "        nid     uid    cid  aid        date thread  \\\n",
       "291   13358     554  15144    0  1471445049    01/   \n",
       "292   13358     554  15145    0  1471445068    02/   \n",
       "293   13358     554  15146    0  1471445467    02/   \n",
       "294   13358     554  15147    0  1471445500    02/   \n",
       "296   13358     554  15149    0  1471445702    02/   \n",
       "6392  13358       1  22248    0  1471444048    /01   \n",
       "6393  13358     554  22249    0  1471445431    /01   \n",
       "6394  13358     554  22250    0  1471449778    /01   \n",
       "6395  13358     554  22251    0  1471449853    /01   \n",
       "6397  13358  460486  22253    0  1471461631    /01   \n",
       "6398  13358  461120  22254    0  1471469589    /01   \n",
       "6399  13358  461120  22255    0  1471470172    /01   \n",
       "\n",
       "                                                comment  reply_to  \n",
       "291   I agree with Jeff that those results seem to s...         0  \n",
       "292   I agree with Jeff that those results seem to s...         0  \n",
       "293                         Does this comment box work?         0  \n",
       "294                                        Yes it does.         0  \n",
       "296   Sorry, I am getting strange behavior from the ...         0  \n",
       "6392  Hi, CCDs do not have a linear response curve -...         0  \n",
       "6393  I agree with Jeff that those results seem to s...         0  \n",
       "6394  [![ccdtrace.JPG](//i.publiclab.org/system/imag...         0  \n",
       "6395  [![ccdDiff.JPG](//i.publiclab.org/system/image...         0  \n",
       "6397  Do you think we need to fix the offset of magn...         0  \n",
       "6398  Hey @shubham, first lets start with what your ...         0  \n",
       "6399  Hey @shubham, this may help you out also:\\r\\nN...         0  "
      ]
     },
     "execution_count": 325,
     "metadata": {},
     "output_type": "execute_result"
    }
   ],
   "source": [
    "c_in_a[c_in_a['nid'] == 13358]#.head()"
   ]
  },
  {
   "cell_type": "code",
   "execution_count": 320,
   "metadata": {
    "ExecuteTime": {
     "end_time": "2019-04-14T21:33:49.045978Z",
     "start_time": "2019-04-14T21:33:49.011950Z"
    },
    "collapsed": false,
    "deletable": true,
    "editable": true
   },
   "outputs": [
    {
     "data": {
      "text/html": [
       "<div>\n",
       "<style scoped>\n",
       "    .dataframe tbody tr th:only-of-type {\n",
       "        vertical-align: middle;\n",
       "    }\n",
       "\n",
       "    .dataframe tbody tr th {\n",
       "        vertical-align: top;\n",
       "    }\n",
       "\n",
       "    .dataframe thead th {\n",
       "        text-align: right;\n",
       "    }\n",
       "</style>\n",
       "<table border=\"1\" class=\"dataframe\">\n",
       "  <thead>\n",
       "    <tr style=\"text-align: right;\">\n",
       "      <th></th>\n",
       "      <th>nid</th>\n",
       "      <th>uid</th>\n",
       "      <th>aid</th>\n",
       "      <th>created_at</th>\n",
       "      <th>likes</th>\n",
       "      <th>content</th>\n",
       "      <th>accepted</th>\n",
       "    </tr>\n",
       "  </thead>\n",
       "  <tbody>\n",
       "    <tr>\n",
       "      <th>3</th>\n",
       "      <td>13358</td>\n",
       "      <td>1</td>\n",
       "      <td>5</td>\n",
       "      <td>2016-08-17 14:27:28 UTC</td>\n",
       "      <td>0</td>\n",
       "      <td>Hi, CCDs do not have a linear response curve -...</td>\n",
       "      <td>True</td>\n",
       "    </tr>\n",
       "    <tr>\n",
       "      <th>4</th>\n",
       "      <td>13358</td>\n",
       "      <td>554</td>\n",
       "      <td>6</td>\n",
       "      <td>2016-08-17 14:50:31 UTC</td>\n",
       "      <td>0</td>\n",
       "      <td>I agree with Jeff that those results seem to s...</td>\n",
       "      <td>True</td>\n",
       "    </tr>\n",
       "    <tr>\n",
       "      <th>5</th>\n",
       "      <td>13358</td>\n",
       "      <td>554</td>\n",
       "      <td>7</td>\n",
       "      <td>2016-08-17 16:02:58 UTC</td>\n",
       "      <td>0</td>\n",
       "      <td>[![ccdtrace.JPG](//i.publiclab.org/system/imag...</td>\n",
       "      <td>True</td>\n",
       "    </tr>\n",
       "    <tr>\n",
       "      <th>6</th>\n",
       "      <td>13358</td>\n",
       "      <td>554</td>\n",
       "      <td>8</td>\n",
       "      <td>2016-08-17 16:04:13 UTC</td>\n",
       "      <td>0</td>\n",
       "      <td>[![ccdDiff.JPG](//i.publiclab.org/system/image...</td>\n",
       "      <td>True</td>\n",
       "    </tr>\n",
       "    <tr>\n",
       "      <th>8</th>\n",
       "      <td>13358</td>\n",
       "      <td>460486</td>\n",
       "      <td>12</td>\n",
       "      <td>2016-08-17 19:20:31 UTC</td>\n",
       "      <td>0</td>\n",
       "      <td>Do you think we need to fix the offset of magn...</td>\n",
       "      <td>True</td>\n",
       "    </tr>\n",
       "    <tr>\n",
       "      <th>9</th>\n",
       "      <td>13358</td>\n",
       "      <td>461120</td>\n",
       "      <td>13</td>\n",
       "      <td>2016-08-17 21:33:09 UTC</td>\n",
       "      <td>0</td>\n",
       "      <td>Hey @shubham, first lets start with what your ...</td>\n",
       "      <td>False</td>\n",
       "    </tr>\n",
       "    <tr>\n",
       "      <th>10</th>\n",
       "      <td>13358</td>\n",
       "      <td>461120</td>\n",
       "      <td>14</td>\n",
       "      <td>2016-08-17 21:42:52 UTC</td>\n",
       "      <td>0</td>\n",
       "      <td>Hey @shubham, this may help you out also:\\r\\nN...</td>\n",
       "      <td>False</td>\n",
       "    </tr>\n",
       "  </tbody>\n",
       "</table>\n",
       "</div>"
      ],
      "text/plain": [
       "      nid     uid  aid               created_at  likes  \\\n",
       "3   13358       1    5  2016-08-17 14:27:28 UTC      0   \n",
       "4   13358     554    6  2016-08-17 14:50:31 UTC      0   \n",
       "5   13358     554    7  2016-08-17 16:02:58 UTC      0   \n",
       "6   13358     554    8  2016-08-17 16:04:13 UTC      0   \n",
       "8   13358  460486   12  2016-08-17 19:20:31 UTC      0   \n",
       "9   13358  461120   13  2016-08-17 21:33:09 UTC      0   \n",
       "10  13358  461120   14  2016-08-17 21:42:52 UTC      0   \n",
       "\n",
       "                                              content  accepted  \n",
       "3   Hi, CCDs do not have a linear response curve -...      True  \n",
       "4   I agree with Jeff that those results seem to s...      True  \n",
       "5   [![ccdtrace.JPG](//i.publiclab.org/system/imag...      True  \n",
       "6   [![ccdDiff.JPG](//i.publiclab.org/system/image...      True  \n",
       "8   Do you think we need to fix the offset of magn...      True  \n",
       "9   Hey @shubham, first lets start with what your ...     False  \n",
       "10  Hey @shubham, this may help you out also:\\r\\nN...     False  "
      ]
     },
     "execution_count": 320,
     "metadata": {},
     "output_type": "execute_result"
    }
   ],
   "source": [
    "answers.loc[answers['nid'] == 13358]"
   ]
  },
  {
   "cell_type": "code",
   "execution_count": 326,
   "metadata": {
    "ExecuteTime": {
     "end_time": "2019-04-14T21:40:11.344464Z",
     "start_time": "2019-04-14T21:40:11.329202Z"
    },
    "collapsed": false,
    "deletable": true,
    "editable": true
   },
   "outputs": [
    {
     "data": {
      "text/html": [
       "<div>\n",
       "<style scoped>\n",
       "    .dataframe tbody tr th:only-of-type {\n",
       "        vertical-align: middle;\n",
       "    }\n",
       "\n",
       "    .dataframe tbody tr th {\n",
       "        vertical-align: top;\n",
       "    }\n",
       "\n",
       "    .dataframe thead th {\n",
       "        text-align: right;\n",
       "    }\n",
       "</style>\n",
       "<table border=\"1\" class=\"dataframe\">\n",
       "  <thead>\n",
       "    <tr style=\"text-align: right;\">\n",
       "      <th></th>\n",
       "      <th>nid</th>\n",
       "      <th>uid</th>\n",
       "      <th>cid</th>\n",
       "      <th>aid</th>\n",
       "      <th>date</th>\n",
       "      <th>thread</th>\n",
       "      <th>comment</th>\n",
       "      <th>reply_to</th>\n",
       "    </tr>\n",
       "  </thead>\n",
       "  <tbody>\n",
       "  </tbody>\n",
       "</table>\n",
       "</div>"
      ],
      "text/plain": [
       "Empty DataFrame\n",
       "Columns: [nid, uid, cid, aid, date, thread, comment, reply_to]\n",
       "Index: []"
      ]
     },
     "execution_count": 326,
     "metadata": {},
     "output_type": "execute_result"
    }
   ],
   "source": [
    "c_not_in_a[c_not_in_a['nid'] == 13358]"
   ]
  },
  {
   "cell_type": "code",
   "execution_count": 267,
   "metadata": {
    "ExecuteTime": {
     "end_time": "2019-04-14T18:36:08.965987Z",
     "start_time": "2019-04-14T18:36:08.930911Z"
    },
    "collapsed": false,
    "deletable": true,
    "editable": true
   },
   "outputs": [
    {
     "data": {
      "text/html": [
       "<div>\n",
       "<style scoped>\n",
       "    .dataframe tbody tr th:only-of-type {\n",
       "        vertical-align: middle;\n",
       "    }\n",
       "\n",
       "    .dataframe tbody tr th {\n",
       "        vertical-align: top;\n",
       "    }\n",
       "\n",
       "    .dataframe thead th {\n",
       "        text-align: right;\n",
       "    }\n",
       "</style>\n",
       "<table border=\"1\" class=\"dataframe\">\n",
       "  <thead>\n",
       "    <tr style=\"text-align: right;\">\n",
       "      <th></th>\n",
       "      <th>nid</th>\n",
       "      <th>uid</th>\n",
       "      <th>cid</th>\n",
       "      <th>aid</th>\n",
       "      <th>date</th>\n",
       "      <th>thread</th>\n",
       "      <th>comment</th>\n",
       "      <th>reply_to</th>\n",
       "    </tr>\n",
       "  </thead>\n",
       "  <tbody>\n",
       "    <tr>\n",
       "      <th>8</th>\n",
       "      <td>13256</td>\n",
       "      <td>421042</td>\n",
       "      <td>14845</td>\n",
       "      <td>0</td>\n",
       "      <td>1467421274</td>\n",
       "      <td>01/</td>\n",
       "      <td>&lt;iframe width=\"560\" height=\"315\" src=\"https://...</td>\n",
       "      <td>0</td>\n",
       "    </tr>\n",
       "    <tr>\n",
       "      <th>9</th>\n",
       "      <td>13256</td>\n",
       "      <td>4</td>\n",
       "      <td>14846</td>\n",
       "      <td>0</td>\n",
       "      <td>1467490094</td>\n",
       "      <td>02/</td>\n",
       "      <td>that is a very heavy tail.  I got a similar re...</td>\n",
       "      <td>0</td>\n",
       "    </tr>\n",
       "    <tr>\n",
       "      <th>10</th>\n",
       "      <td>13256</td>\n",
       "      <td>421042</td>\n",
       "      <td>14847</td>\n",
       "      <td>0</td>\n",
       "      <td>1467530783</td>\n",
       "      <td>02/</td>\n",
       "      <td>I doubt it would have much effect on a large d...</td>\n",
       "      <td>0</td>\n",
       "    </tr>\n",
       "    <tr>\n",
       "      <th>14</th>\n",
       "      <td>13252</td>\n",
       "      <td>1</td>\n",
       "      <td>14851</td>\n",
       "      <td>0</td>\n",
       "      <td>1467726894</td>\n",
       "      <td>01/</td>\n",
       "      <td>Hi, I haven't heard of someone doing this sort...</td>\n",
       "      <td>0</td>\n",
       "    </tr>\n",
       "    <tr>\n",
       "      <th>83</th>\n",
       "      <td>13286</td>\n",
       "      <td>554</td>\n",
       "      <td>14927</td>\n",
       "      <td>0</td>\n",
       "      <td>1468423282</td>\n",
       "      <td>01/</td>\n",
       "      <td>Hi Sylvain,\\r\\n\\r\\nI don't know the answer to ...</td>\n",
       "      <td>0</td>\n",
       "    </tr>\n",
       "  </tbody>\n",
       "</table>\n",
       "</div>"
      ],
      "text/plain": [
       "      nid     uid    cid  aid        date thread  \\\n",
       "8   13256  421042  14845    0  1467421274    01/   \n",
       "9   13256       4  14846    0  1467490094    02/   \n",
       "10  13256  421042  14847    0  1467530783    02/   \n",
       "14  13252       1  14851    0  1467726894    01/   \n",
       "83  13286     554  14927    0  1468423282    01/   \n",
       "\n",
       "                                              comment  reply_to  \n",
       "8   <iframe width=\"560\" height=\"315\" src=\"https://...         0  \n",
       "9   that is a very heavy tail.  I got a similar re...         0  \n",
       "10  I doubt it would have much effect on a large d...         0  \n",
       "14  Hi, I haven't heard of someone doing this sort...         0  \n",
       "83  Hi Sylvain,\\r\\n\\r\\nI don't know the answer to ...         0  "
      ]
     },
     "execution_count": 267,
     "metadata": {},
     "output_type": "execute_result"
    }
   ],
   "source": [
    "q_resp_top_thread.head()"
   ]
  },
  {
   "cell_type": "code",
   "execution_count": 269,
   "metadata": {
    "ExecuteTime": {
     "end_time": "2019-04-14T18:36:56.310892Z",
     "start_time": "2019-04-14T18:36:56.299603Z"
    },
    "collapsed": false,
    "deletable": true,
    "editable": true
   },
   "outputs": [
    {
     "data": {
      "text/plain": [
       "((2138, 8), (0, 8))"
      ]
     },
     "execution_count": 269,
     "metadata": {},
     "output_type": "execute_result"
    }
   ],
   "source": [
    "top_aid_zero = q_resp_top_thread['aid'] == 0\n",
    "q_resp_top_thread[top_aid_zero].shape, q_resp_top_thread[~top_aid_zero].shape\n",
    "# ((2138, 8), (0, 8))"
   ]
  },
  {
   "cell_type": "code",
   "execution_count": 279,
   "metadata": {
    "ExecuteTime": {
     "end_time": "2019-04-14T19:12:56.725895Z",
     "start_time": "2019-04-14T19:12:56.703395Z"
    },
    "collapsed": false,
    "deletable": true,
    "editable": true
   },
   "outputs": [
    {
     "data": {
      "text/html": [
       "<div>\n",
       "<style scoped>\n",
       "    .dataframe tbody tr th:only-of-type {\n",
       "        vertical-align: middle;\n",
       "    }\n",
       "\n",
       "    .dataframe tbody tr th {\n",
       "        vertical-align: top;\n",
       "    }\n",
       "\n",
       "    .dataframe thead th {\n",
       "        text-align: right;\n",
       "    }\n",
       "</style>\n",
       "<table border=\"1\" class=\"dataframe\">\n",
       "  <thead>\n",
       "    <tr style=\"text-align: right;\">\n",
       "      <th></th>\n",
       "      <th>nid</th>\n",
       "      <th>uid</th>\n",
       "      <th>qid</th>\n",
       "      <th>date</th>\n",
       "      <th>user_cmnts</th>\n",
       "      <th>thread_cmnts</th>\n",
       "      <th>likes</th>\n",
       "      <th>title</th>\n",
       "    </tr>\n",
       "  </thead>\n",
       "  <tbody>\n",
       "    <tr>\n",
       "      <th>1</th>\n",
       "      <td>13256</td>\n",
       "      <td>4</td>\n",
       "      <td>2</td>\n",
       "      <td>1467418233</td>\n",
       "      <td>2</td>\n",
       "      <td>3</td>\n",
       "      <td>0</td>\n",
       "      <td>Question: Does the Levitation Light dive for y...</td>\n",
       "    </tr>\n",
       "  </tbody>\n",
       "</table>\n",
       "</div>"
      ],
      "text/plain": [
       "     nid  uid  qid        date  user_cmnts  thread_cmnts  likes  \\\n",
       "1  13256    4    2  1467418233           2             3      0   \n",
       "\n",
       "                                               title  \n",
       "1  Question: Does the Levitation Light dive for y...  "
      ]
     },
     "execution_count": 279,
     "metadata": {},
     "output_type": "execute_result"
    }
   ],
   "source": [
    "questions[questions['nid'] == 13256]"
   ]
  },
  {
   "cell_type": "code",
   "execution_count": 314,
   "metadata": {
    "ExecuteTime": {
     "end_time": "2019-04-14T21:21:33.231316Z",
     "start_time": "2019-04-14T21:21:33.222014Z"
    },
    "collapsed": false,
    "deletable": true,
    "editable": true
   },
   "outputs": [
    {
     "data": {
      "text/plain": [
       "2138"
      ]
     },
     "execution_count": 314,
     "metadata": {},
     "output_type": "execute_result"
    }
   ],
   "source": [
    "# top_aid_zero = q_resp_top_thread['aid'] == 0\n",
    "# top_aid_zero = q_resp_top_thread['nid'] == 18937\n",
    "# top_aid_zero = q_resp_top_thread['nid'] == 13256\n",
    "\n",
    "q_resp_top_thread[top_aid_zero].shape[0]"
   ]
  },
  {
   "cell_type": "code",
   "execution_count": 364,
   "metadata": {
    "ExecuteTime": {
     "end_time": "2019-04-14T22:53:35.668976Z",
     "start_time": "2019-04-14T22:53:35.656486Z"
    },
    "collapsed": false,
    "deletable": true,
    "editable": true
   },
   "outputs": [
    {
     "data": {
      "text/plain": [
       "array([18765, 18795, 18527, 18841, 18930, 18937, 18958])"
      ]
     },
     "execution_count": 364,
     "metadata": {},
     "output_type": "execute_result"
    }
   ],
   "source": [
    "sub_aid_zero = q_resp_sub_threads['aid'] == 0\n",
    "# q_resp_sub_threads[sub_aid_zero].sort_values('nid')\n",
    "\n",
    "# q_resp_sub_threads[sub_aid_zero].shape, q_resp_sub_threads[~sub_aid_zero].shape\n",
    "# ((13, 8), (799, 8))\n",
    "# sub_aid_zero = q_resp_sub_threads['nid'] == 18937\n",
    "# sub_aid_zero = q_resp_sub_threads['nid'] == 13256\n",
    "# sub_aid_zero = q_resp_sub_threads['nid'] == 18930\n",
    "\n",
    "q_resp_sub_threads[sub_aid_zero]['nid'].unique()#.sort_values('date')"
   ]
  },
  {
   "cell_type": "code",
   "execution_count": 369,
   "metadata": {
    "ExecuteTime": {
     "end_time": "2019-04-14T22:55:49.904063Z",
     "start_time": "2019-04-14T22:55:49.880381Z"
    },
    "collapsed": false,
    "deletable": true,
    "editable": true
   },
   "outputs": [
    {
     "data": {
      "text/html": [
       "<div>\n",
       "<style scoped>\n",
       "    .dataframe tbody tr th:only-of-type {\n",
       "        vertical-align: middle;\n",
       "    }\n",
       "\n",
       "    .dataframe tbody tr th {\n",
       "        vertical-align: top;\n",
       "    }\n",
       "\n",
       "    .dataframe thead th {\n",
       "        text-align: right;\n",
       "    }\n",
       "</style>\n",
       "<table border=\"1\" class=\"dataframe\">\n",
       "  <thead>\n",
       "    <tr style=\"text-align: right;\">\n",
       "      <th></th>\n",
       "      <th>nid</th>\n",
       "      <th>uid</th>\n",
       "      <th>cid</th>\n",
       "      <th>aid</th>\n",
       "      <th>date</th>\n",
       "      <th>thread</th>\n",
       "      <th>comment</th>\n",
       "      <th>reply_to</th>\n",
       "    </tr>\n",
       "  </thead>\n",
       "  <tbody>\n",
       "    <tr>\n",
       "      <th>7766</th>\n",
       "      <td>18958</td>\n",
       "      <td>1</td>\n",
       "      <td>23674</td>\n",
       "      <td>0</td>\n",
       "      <td>1554412505</td>\n",
       "      <td>01/</td>\n",
       "      <td>Hi @read_holman - there's some information (n...</td>\n",
       "      <td>0</td>\n",
       "    </tr>\n",
       "  </tbody>\n",
       "</table>\n",
       "</div>"
      ],
      "text/plain": [
       "        nid  uid    cid  aid        date thread  \\\n",
       "7766  18958    1  23674    0  1554412505    01/   \n",
       "\n",
       "                                                comment  reply_to  \n",
       "7766   Hi @read_holman - there's some information (n...         0  "
      ]
     },
     "execution_count": 369,
     "metadata": {},
     "output_type": "execute_result"
    }
   ],
   "source": [
    "c_not_in_a[c_not_in_a['nid'] == 18958]"
   ]
  },
  {
   "cell_type": "code",
   "execution_count": 362,
   "metadata": {
    "ExecuteTime": {
     "end_time": "2019-04-14T22:52:01.758222Z",
     "start_time": "2019-04-14T22:52:01.726810Z"
    },
    "collapsed": false,
    "deletable": true,
    "editable": true
   },
   "outputs": [
    {
     "data": {
      "text/html": [
       "<div>\n",
       "<style scoped>\n",
       "    .dataframe tbody tr th:only-of-type {\n",
       "        vertical-align: middle;\n",
       "    }\n",
       "\n",
       "    .dataframe tbody tr th {\n",
       "        vertical-align: top;\n",
       "    }\n",
       "\n",
       "    .dataframe thead th {\n",
       "        text-align: right;\n",
       "    }\n",
       "</style>\n",
       "<table border=\"1\" class=\"dataframe\">\n",
       "  <thead>\n",
       "    <tr style=\"text-align: right;\">\n",
       "      <th></th>\n",
       "      <th>nid</th>\n",
       "      <th>uid</th>\n",
       "      <th>cid</th>\n",
       "      <th>aid</th>\n",
       "      <th>date</th>\n",
       "      <th>thread</th>\n",
       "      <th>comment</th>\n",
       "      <th>reply_to</th>\n",
       "    </tr>\n",
       "  </thead>\n",
       "  <tbody>\n",
       "    <tr>\n",
       "      <th>7766</th>\n",
       "      <td>18958</td>\n",
       "      <td>1</td>\n",
       "      <td>23674</td>\n",
       "      <td>0</td>\n",
       "      <td>1554412505</td>\n",
       "      <td>01/</td>\n",
       "      <td>Hi @read_holman - there's some information (n...</td>\n",
       "      <td>0</td>\n",
       "    </tr>\n",
       "  </tbody>\n",
       "</table>\n",
       "</div>"
      ],
      "text/plain": [
       "        nid  uid    cid  aid        date thread  \\\n",
       "7766  18958    1  23674    0  1554412505    01/   \n",
       "\n",
       "                                                comment  reply_to  \n",
       "7766   Hi @read_holman - there's some information (n...         0  "
      ]
     },
     "execution_count": 362,
     "metadata": {},
     "output_type": "execute_result"
    }
   ],
   "source": [
    "comments[comments['cid'] == 23674]"
   ]
  },
  {
   "cell_type": "code",
   "execution_count": 363,
   "metadata": {
    "ExecuteTime": {
     "end_time": "2019-04-14T22:52:31.089227Z",
     "start_time": "2019-04-14T22:52:31.072829Z"
    },
    "collapsed": false,
    "deletable": true,
    "editable": true
   },
   "outputs": [
    {
     "data": {
      "text/html": [
       "<div>\n",
       "<style scoped>\n",
       "    .dataframe tbody tr th:only-of-type {\n",
       "        vertical-align: middle;\n",
       "    }\n",
       "\n",
       "    .dataframe tbody tr th {\n",
       "        vertical-align: top;\n",
       "    }\n",
       "\n",
       "    .dataframe thead th {\n",
       "        text-align: right;\n",
       "    }\n",
       "</style>\n",
       "<table border=\"1\" class=\"dataframe\">\n",
       "  <thead>\n",
       "    <tr style=\"text-align: right;\">\n",
       "      <th></th>\n",
       "      <th>nid</th>\n",
       "      <th>uid</th>\n",
       "      <th>aid</th>\n",
       "      <th>created_at</th>\n",
       "      <th>likes</th>\n",
       "      <th>content</th>\n",
       "      <th>accepted</th>\n",
       "    </tr>\n",
       "  </thead>\n",
       "  <tbody>\n",
       "  </tbody>\n",
       "</table>\n",
       "</div>"
      ],
      "text/plain": [
       "Empty DataFrame\n",
       "Columns: [nid, uid, aid, created_at, likes, content, accepted]\n",
       "Index: []"
      ]
     },
     "execution_count": 363,
     "metadata": {},
     "output_type": "execute_result"
    }
   ],
   "source": [
    "answers[answers['nid'] == 18958]"
   ]
  },
  {
   "cell_type": "code",
   "execution_count": 308,
   "metadata": {
    "ExecuteTime": {
     "end_time": "2019-04-14T21:02:24.882094Z",
     "start_time": "2019-04-14T21:02:24.864885Z"
    },
    "collapsed": false,
    "deletable": true,
    "editable": true
   },
   "outputs": [
    {
     "data": {
      "text/html": [
       "<div>\n",
       "<style scoped>\n",
       "    .dataframe tbody tr th:only-of-type {\n",
       "        vertical-align: middle;\n",
       "    }\n",
       "\n",
       "    .dataframe tbody tr th {\n",
       "        vertical-align: top;\n",
       "    }\n",
       "\n",
       "    .dataframe thead th {\n",
       "        text-align: right;\n",
       "    }\n",
       "</style>\n",
       "<table border=\"1\" class=\"dataframe\">\n",
       "  <thead>\n",
       "    <tr style=\"text-align: right;\">\n",
       "      <th></th>\n",
       "      <th>nid</th>\n",
       "      <th>uid</th>\n",
       "      <th>aid</th>\n",
       "      <th>created_at</th>\n",
       "      <th>likes</th>\n",
       "      <th>content</th>\n",
       "      <th>accepted</th>\n",
       "    </tr>\n",
       "  </thead>\n",
       "  <tbody>\n",
       "  </tbody>\n",
       "</table>\n",
       "</div>"
      ],
      "text/plain": [
       "Empty DataFrame\n",
       "Columns: [nid, uid, aid, created_at, likes, content, accepted]\n",
       "Index: []"
      ]
     },
     "execution_count": 308,
     "metadata": {},
     "output_type": "execute_result"
    }
   ],
   "source": [
    "answers[answers['nid'] == 18930]"
   ]
  },
  {
   "cell_type": "code",
   "execution_count": 307,
   "metadata": {
    "ExecuteTime": {
     "end_time": "2019-04-14T21:02:21.790409Z",
     "start_time": "2019-04-14T21:02:21.764904Z"
    },
    "collapsed": false,
    "deletable": true,
    "editable": true
   },
   "outputs": [
    {
     "data": {
      "text/html": [
       "<div>\n",
       "<style scoped>\n",
       "    .dataframe tbody tr th:only-of-type {\n",
       "        vertical-align: middle;\n",
       "    }\n",
       "\n",
       "    .dataframe tbody tr th {\n",
       "        vertical-align: top;\n",
       "    }\n",
       "\n",
       "    .dataframe thead th {\n",
       "        text-align: right;\n",
       "    }\n",
       "</style>\n",
       "<table border=\"1\" class=\"dataframe\">\n",
       "  <thead>\n",
       "    <tr style=\"text-align: right;\">\n",
       "      <th></th>\n",
       "      <th>nid</th>\n",
       "      <th>uid</th>\n",
       "      <th>qid</th>\n",
       "      <th>date</th>\n",
       "      <th>user_cmnts</th>\n",
       "      <th>thread_cmnts</th>\n",
       "      <th>likes</th>\n",
       "      <th>title</th>\n",
       "    </tr>\n",
       "  </thead>\n",
       "  <tbody>\n",
       "    <tr>\n",
       "      <th>816</th>\n",
       "      <td>18930</td>\n",
       "      <td>579821</td>\n",
       "      <td>817</td>\n",
       "      <td>1554140953</td>\n",
       "      <td>2</td>\n",
       "      <td>5</td>\n",
       "      <td>1</td>\n",
       "      <td>Have you tried any good DIY microscope dyes or...</td>\n",
       "    </tr>\n",
       "  </tbody>\n",
       "</table>\n",
       "</div>"
      ],
      "text/plain": [
       "       nid     uid  qid        date  user_cmnts  thread_cmnts  likes  \\\n",
       "816  18930  579821  817  1554140953           2             5      1   \n",
       "\n",
       "                                                 title  \n",
       "816  Have you tried any good DIY microscope dyes or...  "
      ]
     },
     "execution_count": 307,
     "metadata": {},
     "output_type": "execute_result"
    }
   ],
   "source": [
    "questions[questions['nid'] == 18930]"
   ]
  },
  {
   "cell_type": "code",
   "execution_count": 300,
   "metadata": {
    "ExecuteTime": {
     "end_time": "2019-04-14T20:30:35.191500Z",
     "start_time": "2019-04-14T20:30:35.168550Z"
    },
    "collapsed": false,
    "deletable": true,
    "editable": true
   },
   "outputs": [
    {
     "data": {
      "text/html": [
       "<div>\n",
       "<style scoped>\n",
       "    .dataframe tbody tr th:only-of-type {\n",
       "        vertical-align: middle;\n",
       "    }\n",
       "\n",
       "    .dataframe tbody tr th {\n",
       "        vertical-align: top;\n",
       "    }\n",
       "\n",
       "    .dataframe thead th {\n",
       "        text-align: right;\n",
       "    }\n",
       "</style>\n",
       "<table border=\"1\" class=\"dataframe\">\n",
       "  <thead>\n",
       "    <tr style=\"text-align: right;\">\n",
       "      <th></th>\n",
       "      <th>nid</th>\n",
       "      <th>uid</th>\n",
       "      <th>date</th>\n",
       "      <th>comments</th>\n",
       "      <th>likes</th>\n",
       "      <th>title</th>\n",
       "    </tr>\n",
       "  </thead>\n",
       "  <tbody>\n",
       "    <tr>\n",
       "      <th>2088</th>\n",
       "      <td>18930</td>\n",
       "      <td>579821</td>\n",
       "      <td>1554140953</td>\n",
       "      <td>5</td>\n",
       "      <td>1</td>\n",
       "      <td>Have you tried any good DIY microscope dyes or...</td>\n",
       "    </tr>\n",
       "  </tbody>\n",
       "</table>\n",
       "</div>"
      ],
      "text/plain": [
       "        nid     uid        date  comments  likes  \\\n",
       "2088  18930  579821  1554140953         5      1   \n",
       "\n",
       "                                                  title  \n",
       "2088  Have you tried any good DIY microscope dyes or...  "
      ]
     },
     "execution_count": 300,
     "metadata": {},
     "output_type": "execute_result"
    }
   ],
   "source": [
    "print notes[notes['nid'] == 18930]"
   ]
  },
  {
   "cell_type": "code",
   "execution_count": 313,
   "metadata": {
    "ExecuteTime": {
     "end_time": "2019-04-14T21:19:52.995949Z",
     "start_time": "2019-04-14T21:19:52.989534Z"
    },
    "collapsed": false,
    "deletable": true,
    "editable": true
   },
   "outputs": [
    {
     "data": {
      "text/plain": [
       "1080"
      ]
     },
     "execution_count": 313,
     "metadata": {},
     "output_type": "execute_result"
    }
   ],
   "source": [
    "answers.shape[0]"
   ]
  },
  {
   "cell_type": "code",
   "execution_count": null,
   "metadata": {
    "collapsed": true,
    "deletable": true,
    "editable": true
   },
   "outputs": [],
   "source": [
    " \tEdit Edit\tCopy Copy\tDelete Delete\tnote\n",
    "\tEdit Edit\tCopy Copy\tDelete Delete\tpage\n",
    "\tEdit Edit\tCopy Copy\tDelete Delete\tevent\n",
    "\tEdit Edit\tCopy Copy\tDelete Delete\tfeature\n",
    "\tEdit Edit\tCopy Copy\tDelete Delete\tmap\n",
    "\tEdit Edit\tCopy Copy\tDelete Delete\tplace\n",
    "\tEdit Edit\tCopy Copy\tDelete Delete\tplots_aggregator\n",
    "\tEdit Edit\tCopy Copy\tDelete Delete\ttool\n",
    "\tEdit Edit\tCopy Copy\tDelete Delete\tto_do"
   ]
  }
 ],
 "metadata": {
  "kernelspec": {
   "display_name": "Python 2",
   "language": "python",
   "name": "python2"
  },
  "language_info": {
   "codemirror_mode": {
    "name": "ipython",
    "version": 2
   },
   "file_extension": ".py",
   "mimetype": "text/x-python",
   "name": "python",
   "nbconvert_exporter": "python",
   "pygments_lexer": "ipython2",
   "version": "2.7.13"
  },
  "toc": {
   "colors": {
    "hover_highlight": "#DAA520",
    "navigate_num": "#000000",
    "navigate_text": "#333333",
    "running_highlight": "#FF0000",
    "selected_highlight": "#FFD700",
    "sidebar_border": "#EEEEEE",
    "wrapper_background": "#FFFFFF"
   },
   "moveMenuLeft": true,
   "nav_menu": {
    "height": "254px",
    "width": "252px"
   },
   "navigate_menu": true,
   "number_sections": true,
   "sideBar": true,
   "threshold": 4,
   "toc_cell": false,
   "toc_section_display": "block",
   "toc_window_display": false,
   "widenNotebook": false
  }
 },
 "nbformat": 4,
 "nbformat_minor": 2
}
