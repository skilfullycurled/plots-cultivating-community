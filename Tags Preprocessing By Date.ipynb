{
 "cells": [
  {
   "cell_type": "code",
   "execution_count": 40,
   "metadata": {
    "ExecuteTime": {
     "end_time": "2019-04-22T18:27:37.099520Z",
     "start_time": "2019-04-22T18:27:37.093239Z"
    },
    "collapsed": false,
    "deletable": true,
    "editable": true
   },
   "outputs": [],
   "source": [
    "def get_tag_files(tag_path, suffix='csv'):\n",
    "    \n",
    "    tag_path = Path(tag_path)\n",
    "    all_files = [str(tag_file) for tag_file in tag_path.rglob('*.' + suffix)]\n",
    "    \n",
    "    return all_files\n",
    "\n",
    "# tag_files = get_tag_files(tag_path)"
   ]
  },
  {
   "cell_type": "code",
   "execution_count": 5,
   "metadata": {
    "ExecuteTime": {
     "end_time": "2019-04-22T17:26:14.360865Z",
     "start_time": "2019-04-22T17:26:14.343118Z"
    },
    "collapsed": true,
    "deletable": true,
    "editable": true,
    "run_control": {
     "marked": true
    }
   },
   "outputs": [],
   "source": [
    "def create_csv_paths(data_types, base='', exp='', full=True):\n",
    "    \n",
    "    csv_paths = {}\n",
    "    \n",
    "    for data_type in data_types:\n",
    "\n",
    "        if not full:\n",
    "            csv_dir = '../data/2016_2019/samples/'\n",
    "            e = '_' + str(base) + 'e' + str(exp)\n",
    "            csv_path = csv_dir + data_type + e + '.csv'\n",
    "        else:\n",
    "            csv_dir = '../data/2016_2019/full/'\n",
    "            e = ''\n",
    "            csv_path = csv_dir + data_type + e + '.csv'\n",
    "            \n",
    "        csv_paths[data_type] = csv_path\n",
    "    \n",
    "    return csv_paths\n",
    "\n",
    "data_types = ['answers', 'comments', 'notes', 'questions', 'users', 'wikis', 'tags']\n",
    "csv_paths = create_csv_paths(data_types)"
   ]
  },
  {
   "cell_type": "code",
   "execution_count": 2,
   "metadata": {
    "ExecuteTime": {
     "end_time": "2019-04-22T17:26:04.854428Z",
     "start_time": "2019-04-22T17:26:04.227303Z"
    },
    "collapsed": true,
    "deletable": true,
    "editable": true
   },
   "outputs": [],
   "source": [
    "# DATA\n",
    "import pandas as pd\n",
    "import numpy as np\n",
    "\n",
    "\n",
    "# SYSTEM\n",
    "import os, sys\n",
    "from pathlib2 import Path\n",
    "\n",
    "# MISC \n",
    "import re\n",
    "import csv\n",
    "from itertools import izip\n",
    "\n",
    "# PLOTTING\n",
    "%matplotlib inline\n",
    "\n",
    "import matplotlib\n",
    "import matplotlib.pyplot as plt"
   ]
  },
  {
   "cell_type": "code",
   "execution_count": 52,
   "metadata": {
    "ExecuteTime": {
     "end_time": "2019-04-22T18:47:49.242621Z",
     "start_time": "2019-04-22T18:47:49.227140Z"
    },
    "collapsed": false,
    "deletable": true,
    "editable": true
   },
   "outputs": [],
   "source": [
    "data_type = 'users'\n",
    "\n",
    "sample = False\n",
    "\n",
    "m = 25\n",
    "exp = 2\n",
    "\n",
    "if sample:\n",
    "    csv_dir = '../data/2016_2019/samples/'\n",
    "    e = '_' + str(m) + 'e' + str(exp)\n",
    "    csv_path = csv_dir + data_type + e + '.csv'\n",
    "else:\n",
    "    csv_dir = '../data/2016_2019/full/'\n",
    "    e = ''\n",
    "    csv_path = csv_dir + data_type + e + '.csv'\n",
    "\n",
    "data_types = ['answers', 'comments', 'notes', 'questions', 'users', 'wikis', 'paths', 'tags', 'node_tags', 'terms']\n",
    "csv_paths = create_csv_paths(data_types)\n",
    "\n",
    "tag_dir =  '../data/2016_2019/full/tags'\n",
    "tag_files = get_tag_files(tag_dir)\n",
    "\n",
    "# print csv_paths\n"
   ]
  },
  {
   "cell_type": "code",
   "execution_count": 43,
   "metadata": {
    "ExecuteTime": {
     "end_time": "2019-04-22T18:28:31.246795Z",
     "start_time": "2019-04-22T18:28:31.205213Z"
    },
    "collapsed": false
   },
   "outputs": [
    {
     "name": "stdout",
     "output_type": "stream",
     "text": [
      "27547\n"
     ]
    },
    {
     "data": {
      "text/html": [
       "<div>\n",
       "<style scoped>\n",
       "    .dataframe tbody tr th:only-of-type {\n",
       "        vertical-align: middle;\n",
       "    }\n",
       "\n",
       "    .dataframe tbody tr th {\n",
       "        vertical-align: top;\n",
       "    }\n",
       "\n",
       "    .dataframe thead th {\n",
       "        text-align: right;\n",
       "    }\n",
       "</style>\n",
       "<table border=\"1\" class=\"dataframe\">\n",
       "  <thead>\n",
       "    <tr style=\"text-align: right;\">\n",
       "      <th></th>\n",
       "      <th>tid</th>\n",
       "      <th>nid</th>\n",
       "      <th>uid</th>\n",
       "      <th>date</th>\n",
       "    </tr>\n",
       "  </thead>\n",
       "  <tbody>\n",
       "    <tr>\n",
       "      <th>1611</th>\n",
       "      <td>14</td>\n",
       "      <td>898</td>\n",
       "      <td>100</td>\n",
       "      <td>1331066904</td>\n",
       "    </tr>\n",
       "    <tr>\n",
       "      <th>2006</th>\n",
       "      <td>38</td>\n",
       "      <td>897</td>\n",
       "      <td>1</td>\n",
       "      <td>1331067381</td>\n",
       "    </tr>\n",
       "    <tr>\n",
       "      <th>1262</th>\n",
       "      <td>14</td>\n",
       "      <td>905</td>\n",
       "      <td>1</td>\n",
       "      <td>1331231368</td>\n",
       "    </tr>\n",
       "    <tr>\n",
       "      <th>1009</th>\n",
       "      <td>11</td>\n",
       "      <td>897</td>\n",
       "      <td>12</td>\n",
       "      <td>1331233655</td>\n",
       "    </tr>\n",
       "    <tr>\n",
       "      <th>3151</th>\n",
       "      <td>126</td>\n",
       "      <td>897</td>\n",
       "      <td>12</td>\n",
       "      <td>1331233655</td>\n",
       "    </tr>\n",
       "  </tbody>\n",
       "</table>\n",
       "</div>"
      ],
      "text/plain": [
       "      tid  nid  uid        date\n",
       "1611   14  898  100  1331066904\n",
       "2006   38  897    1  1331067381\n",
       "1262   14  905    1  1331231368\n",
       "1009   11  897   12  1331233655\n",
       "3151  126  897   12  1331233655"
      ]
     },
     "execution_count": 43,
     "metadata": {},
     "output_type": "execute_result"
    }
   ],
   "source": [
    "# use_cols = ['nid', 'uid', 'tid']\n",
    "tags_2012_2016 = pd.read_csv('../data/2016_2019/full/tags/node_tags_03_2012-08_2016.csv')\n",
    "print tags_2012_2016.shape[0]\n",
    "tags_2012_2016.sort_values('date').head()"
   ]
  },
  {
   "cell_type": "code",
   "execution_count": null,
   "metadata": {
    "collapsed": true
   },
   "outputs": [],
   "source": [
    "1330560000 - 1370044800 # 03-1-2012 - 06-1-2013\n",
    "1370044800 - 1401580800 # 06-1-2013 - 06-1-2014\n",
    "1401580800 - 1433116800 # 06-1-2014 - 06-1-2015\n",
    "1433116800 - 1464739200 # 06-1-2015 - 06-1-2016\n",
    "1464739200 - 1470009600 # 06-1-2016 - 08-1-2016 + node_tags_08_2016-06_2017.csv'"
   ]
  },
  {
   "cell_type": "code",
   "execution_count": 44,
   "metadata": {
    "ExecuteTime": {
     "end_time": "2019-04-22T18:28:48.621732Z",
     "start_time": "2019-04-22T18:28:48.613653Z"
    },
    "collapsed": false
   },
   "outputs": [
    {
     "data": {
      "text/plain": [
       "['node_tags_03_2012-06_2013.csv',\n",
       " 'node_tags_06_2013-06_2014.csv',\n",
       " 'node_tags_06_2014-06_2015.csv',\n",
       " 'node_tags_06_2015-06_2016.csv',\n",
       " 'node_tags_06_2016-08_2016.csv']"
      ]
     },
     "execution_count": 44,
     "metadata": {},
     "output_type": "execute_result"
    }
   ],
   "source": [
    "timespans = ['03-1-2012 - 06-1-2013', '06-1-2013 - 06-1-2014', '06-1-2014 - 06-1-2015', \n",
    "             '06-1-2015 - 06-1-2016', '06-1-2016 - 08-1-2016']\n",
    "\n",
    "file_names = ['node_tags_' + timespan.replace('-1-', '_').replace(' - ', '-') + '.csv' for timespan in timespans]\n",
    "file_names"
   ]
  },
  {
   "cell_type": "code",
   "execution_count": 45,
   "metadata": {
    "ExecuteTime": {
     "end_time": "2019-04-22T18:29:14.213424Z",
     "start_time": "2019-04-22T18:29:13.663076Z"
    },
    "collapsed": false
   },
   "outputs": [
    {
     "name": "stderr",
     "output_type": "stream",
     "text": [
      "/home/skilfullycurled/anaconda2/lib/python2.7/site-packages/ipykernel/__main__.py:25: SettingWithCopyWarning: \n",
      "A value is trying to be set on a copy of a slice from a DataFrame.\n",
      "Try using .loc[row_indexer,col_indexer] = value instead\n",
      "\n",
      "See the caveats in the documentation: http://pandas.pydata.org/pandas-docs/stable/indexing.html#indexing-view-versus-copy\n"
     ]
    },
    {
     "name": "stdout",
     "output_type": "stream",
     "text": [
      "4885\n",
      "   tid  nid  uid  date\n",
      "0    1  289    1  2012\n",
      "6441\n",
      "   tid  nid  uid  date\n",
      "2    1  419    1  2013\n",
      "5264\n",
      "   tid   nid  uid  date\n",
      "8    1  2309    1  2014\n",
      "8588\n",
      "    tid    nid  uid  date\n",
      "23    1  12095    1  2015\n",
      "2369\n",
      "     tid    nid  uid  date\n",
      "307    2  13168  379  2016\n"
     ]
    }
   ],
   "source": [
    "tags_with_dates = pd.read_csv('../data/2016_2019/full/tags/node_tags_03_2012-08_2016.csv')\n",
    "# # tags_with_dates.head()\n",
    "\n",
    "# beg = (tags_with_dates['date'] > 1330560000)\n",
    "# end = (tags_with_dates['date'] < 1338508800)\n",
    "\n",
    "# # print tags_with_dates.shape[0]\n",
    "# df = tags_with_dates.loc[beg & end].head()\n",
    "# # print df.shape[0]\n",
    "# df.head()\n",
    "# df['date'] = 2012\n",
    "\n",
    "# # print df.head(0)\n",
    "\n",
    "years = ['2012', '2013', '2014', '2015', '2016']\n",
    "intervals = [[1330560000, 1370044800], [1370044800, 1401580800], [1401580800, 1433116800], \n",
    "             [1433116800, 1464739200], [1464739200, 1470009600]]\n",
    "\n",
    "for epochs, year, file_name in zip(intervals, years, file_names):\n",
    "    \n",
    "    beg = (tags_with_dates['date'] > epochs[0])\n",
    "    end = (tags_with_dates['date'] < epochs[1])\n",
    "    \n",
    "    df = tags_with_dates.loc[beg & end]\n",
    "    df['date'] = year\n",
    "    \n",
    "    print df.shape[0]\n",
    "    print df.head(1)\n",
    "    \n",
    "    df.to_csv('../data/2016_2019/full/tags/' + file_name, index=False)"
   ]
  },
  {
   "cell_type": "code",
   "execution_count": null,
   "metadata": {
    "collapsed": true
   },
   "outputs": [],
   "source": [
    "#    4886 node_tags_03_2012-06_2013.csv\n",
    "#    6442 node_tags_06_2013-06_2014.csv\n",
    "#    5265 node_tags_06_2014-06_2015.csv\n",
    "#    8589 node_tags_06_2015-06_2016.csv\n",
    "#    2370 node_tags_06_2016-08_2016.csv\n",
    "#   10373 node_tags_06_2017-06_2018.csv\n",
    "#   11008 node_tags_06_2018-04_2019.csv\n",
    "#    5079 node_tags_08_2016-06_2017.csv\n",
    "#   54012 total"
   ]
  },
  {
   "cell_type": "code",
   "execution_count": 47,
   "metadata": {
    "ExecuteTime": {
     "end_time": "2019-04-22T18:42:58.015840Z",
     "start_time": "2019-04-22T18:42:57.832504Z"
    },
    "collapsed": false
   },
   "outputs": [
    {
     "name": "stdout",
     "output_type": "stream",
     "text": [
      "5078\n",
      "   tid   nid  uid  date\n",
      "0    1  4091    7  2016\n",
      "10372\n",
      "   tid  nid  uid  date\n",
      "0    1  583    7  2017\n",
      "11007\n",
      "   tid  nid  uid  date\n",
      "0    1   92    7  2018\n"
     ]
    }
   ],
   "source": [
    "#     node_tags_06_2016-08_2016.csv # 2370\n",
    "other_files = ['node_tags_08_2016-06_2017.csv', 'node_tags_06_2017-06_2018.csv', 'node_tags_06_2018-04_2019.csv']\n",
    "other_years = ['2016', '2017', '2018']\n",
    "tag_dir = '../data/2016_2019/full/tags/'\n",
    "\n",
    "for file_name, year in zip(other_files, other_years):\n",
    "    df = pd.read_csv(tag_dir + file_name)\n",
    "    df['date'] = year\n",
    "    \n",
    "    print df.shape[0]\n",
    "    print df.head(1)\n",
    "    \n",
    "    df.to_csv(tag_dir + file_name, index=False)"
   ]
  },
  {
   "cell_type": "markdown",
   "metadata": {
    "deletable": true,
    "editable": true
   },
   "source": [
    "## LOAD TAG USAGE AND TERM DATA"
   ]
  },
  {
   "cell_type": "code",
   "execution_count": 54,
   "metadata": {
    "ExecuteTime": {
     "end_time": "2019-04-22T18:48:54.382064Z",
     "start_time": "2019-04-22T18:48:54.290725Z"
    },
    "collapsed": false,
    "deletable": true,
    "editable": true
   },
   "outputs": [
    {
     "data": {
      "text/html": [
       "<div>\n",
       "<style scoped>\n",
       "    .dataframe tbody tr th:only-of-type {\n",
       "        vertical-align: middle;\n",
       "    }\n",
       "\n",
       "    .dataframe tbody tr th {\n",
       "        vertical-align: top;\n",
       "    }\n",
       "\n",
       "    .dataframe thead th {\n",
       "        text-align: right;\n",
       "    }\n",
       "</style>\n",
       "<table border=\"1\" class=\"dataframe\">\n",
       "  <thead>\n",
       "    <tr style=\"text-align: right;\">\n",
       "      <th></th>\n",
       "      <th>nid</th>\n",
       "      <th>uid</th>\n",
       "      <th>tid</th>\n",
       "      <th>date</th>\n",
       "    </tr>\n",
       "  </thead>\n",
       "  <tbody>\n",
       "    <tr>\n",
       "      <th>9189</th>\n",
       "      <td>17910</td>\n",
       "      <td>564795</td>\n",
       "      <td>19047</td>\n",
       "      <td>2018</td>\n",
       "    </tr>\n",
       "    <tr>\n",
       "      <th>1397</th>\n",
       "      <td>12761</td>\n",
       "      <td>461120</td>\n",
       "      <td>1032</td>\n",
       "      <td>2015</td>\n",
       "    </tr>\n",
       "    <tr>\n",
       "      <th>4318</th>\n",
       "      <td>3827</td>\n",
       "      <td>1</td>\n",
       "      <td>6405</td>\n",
       "      <td>2013</td>\n",
       "    </tr>\n",
       "    <tr>\n",
       "      <th>2451</th>\n",
       "      <td>4096</td>\n",
       "      <td>1</td>\n",
       "      <td>1262</td>\n",
       "      <td>2012</td>\n",
       "    </tr>\n",
       "    <tr>\n",
       "      <th>451</th>\n",
       "      <td>16176</td>\n",
       "      <td>525300</td>\n",
       "      <td>163</td>\n",
       "      <td>2017</td>\n",
       "    </tr>\n",
       "    <tr>\n",
       "      <th>5218</th>\n",
       "      <td>15367</td>\n",
       "      <td>420760</td>\n",
       "      <td>14323</td>\n",
       "      <td>2017</td>\n",
       "    </tr>\n",
       "    <tr>\n",
       "      <th>3147</th>\n",
       "      <td>8900</td>\n",
       "      <td>554</td>\n",
       "      <td>4741</td>\n",
       "      <td>2013</td>\n",
       "    </tr>\n",
       "    <tr>\n",
       "      <th>6611</th>\n",
       "      <td>18778</td>\n",
       "      <td>579767</td>\n",
       "      <td>18177</td>\n",
       "      <td>2018</td>\n",
       "    </tr>\n",
       "    <tr>\n",
       "      <th>162</th>\n",
       "      <td>16763</td>\n",
       "      <td>501996</td>\n",
       "      <td>120</td>\n",
       "      <td>2018</td>\n",
       "    </tr>\n",
       "    <tr>\n",
       "      <th>1517</th>\n",
       "      <td>13308</td>\n",
       "      <td>461120</td>\n",
       "      <td>13267</td>\n",
       "      <td>2016</td>\n",
       "    </tr>\n",
       "  </tbody>\n",
       "</table>\n",
       "</div>"
      ],
      "text/plain": [
       "        nid     uid    tid  date\n",
       "9189  17910  564795  19047  2018\n",
       "1397  12761  461120   1032  2015\n",
       "4318   3827       1   6405  2013\n",
       "2451   4096       1   1262  2012\n",
       "451   16176  525300    163  2017\n",
       "5218  15367  420760  14323  2017\n",
       "3147   8900     554   4741  2013\n",
       "6611  18778  579767  18177  2018\n",
       "162   16763  501996    120  2018\n",
       "1517  13308  461120  13267  2016"
      ]
     },
     "execution_count": 54,
     "metadata": {},
     "output_type": "execute_result"
    }
   ],
   "source": [
    "tag_files = get_tag_files(tag_dir)[:-1] # WILL FIX LATER\n",
    "\n",
    "# LOAD CSV'S INTO DATAFRAME DROP DATE (DATAPOINT IS NO LONGER AVAILABLE COULD BE MERGED IN A FUTURE WITH MORE TIME)\n",
    "use_cols = ['nid', 'uid', 'tid', 'date']\n",
    "tag_dfs = [pd.read_csv(tag_file, usecols=use_cols) for tag_file in tag_files]\n",
    "\n",
    "# REORDER TAG DF COLUMNS IN PREP WITH TERM DATA MERGE\n",
    "tag_dfs = [tag_df[use_cols] for tag_df in tag_dfs]\n",
    "\n",
    "# CONCAT THE FRAMES INTO ONE BIG ONE\n",
    "tag_usage = pd.concat(tag_dfs)\n",
    "\n",
    "# CHECK OUT THE RESULTS!\n",
    "tag_usage.sample(10)"
   ]
  },
  {
   "cell_type": "code",
   "execution_count": 56,
   "metadata": {
    "ExecuteTime": {
     "end_time": "2019-04-22T18:50:08.429157Z",
     "start_time": "2019-04-22T18:50:08.390064Z"
    },
    "collapsed": false,
    "deletable": true,
    "editable": true
   },
   "outputs": [
    {
     "data": {
      "text/html": [
       "<div>\n",
       "<style scoped>\n",
       "    .dataframe tbody tr th:only-of-type {\n",
       "        vertical-align: middle;\n",
       "    }\n",
       "\n",
       "    .dataframe tbody tr th {\n",
       "        vertical-align: top;\n",
       "    }\n",
       "\n",
       "    .dataframe thead th {\n",
       "        text-align: right;\n",
       "    }\n",
       "</style>\n",
       "<table border=\"1\" class=\"dataframe\">\n",
       "  <thead>\n",
       "    <tr style=\"text-align: right;\">\n",
       "      <th></th>\n",
       "      <th>tid</th>\n",
       "      <th>name</th>\n",
       "      <th>count</th>\n",
       "    </tr>\n",
       "  </thead>\n",
       "  <tbody>\n",
       "    <tr>\n",
       "      <th>8763</th>\n",
       "      <td>16031</td>\n",
       "      <td>add-on</td>\n",
       "      <td>2.0</td>\n",
       "    </tr>\n",
       "    <tr>\n",
       "      <th>8392</th>\n",
       "      <td>15660</td>\n",
       "      <td>place:united-states</td>\n",
       "      <td>6.0</td>\n",
       "    </tr>\n",
       "    <tr>\n",
       "      <th>1789</th>\n",
       "      <td>4368</td>\n",
       "      <td>watch-house-on-fox</td>\n",
       "      <td>1.0</td>\n",
       "    </tr>\n",
       "    <tr>\n",
       "      <th>7385</th>\n",
       "      <td>14652</td>\n",
       "      <td>paris-apartments-on-rent</td>\n",
       "      <td>1.0</td>\n",
       "    </tr>\n",
       "    <tr>\n",
       "      <th>7493</th>\n",
       "      <td>14761</td>\n",
       "      <td>activity:workshop-series</td>\n",
       "      <td>2.0</td>\n",
       "    </tr>\n",
       "    <tr>\n",
       "      <th>6322</th>\n",
       "      <td>13589</td>\n",
       "      <td>lionfish</td>\n",
       "      <td>2.0</td>\n",
       "    </tr>\n",
       "    <tr>\n",
       "      <th>4541</th>\n",
       "      <td>11710</td>\n",
       "      <td>mapknitter-development</td>\n",
       "      <td>3.0</td>\n",
       "    </tr>\n",
       "    <tr>\n",
       "      <th>8885</th>\n",
       "      <td>16153</td>\n",
       "      <td>question:sensitivity</td>\n",
       "      <td>3.0</td>\n",
       "    </tr>\n",
       "    <tr>\n",
       "      <th>10962</th>\n",
       "      <td>18230</td>\n",
       "      <td>soc-2018-final-reportsoc</td>\n",
       "      <td>1.0</td>\n",
       "    </tr>\n",
       "    <tr>\n",
       "      <th>8362</th>\n",
       "      <td>15630</td>\n",
       "      <td>sulfur-hexafluoride</td>\n",
       "      <td>1.0</td>\n",
       "    </tr>\n",
       "  </tbody>\n",
       "</table>\n",
       "</div>"
      ],
      "text/plain": [
       "         tid                      name  count\n",
       "8763   16031                    add-on    2.0\n",
       "8392   15660       place:united-states    6.0\n",
       "1789    4368        watch-house-on-fox    1.0\n",
       "7385   14652  paris-apartments-on-rent    1.0\n",
       "7493   14761  activity:workshop-series    2.0\n",
       "6322   13589                  lionfish    2.0\n",
       "4541   11710    mapknitter-development    3.0\n",
       "8885   16153      question:sensitivity    3.0\n",
       "10962  18230  soc-2018-final-reportsoc    1.0\n",
       "8362   15630       sulfur-hexafluoride    1.0"
      ]
     },
     "execution_count": 56,
     "metadata": {},
     "output_type": "execute_result"
    }
   ],
   "source": [
    "# LOAD TERM DATA\n",
    "use_cols = ['tid', 'name', 'count']\n",
    "terms = pd.read_csv(csv_paths['terms'], usecols=use_cols)\n",
    "terms.sample(10)"
   ]
  },
  {
   "cell_type": "markdown",
   "metadata": {
    "deletable": true,
    "editable": true
   },
   "source": [
    "## PARSE TERM DATA"
   ]
  },
  {
   "cell_type": "code",
   "execution_count": 57,
   "metadata": {
    "ExecuteTime": {
     "end_time": "2019-04-22T18:50:16.326034Z",
     "start_time": "2019-04-22T18:50:16.277245Z"
    },
    "collapsed": false,
    "deletable": true,
    "editable": true
   },
   "outputs": [
    {
     "data": {
      "text/html": [
       "<div>\n",
       "<style scoped>\n",
       "    .dataframe tbody tr th:only-of-type {\n",
       "        vertical-align: middle;\n",
       "    }\n",
       "\n",
       "    .dataframe tbody tr th {\n",
       "        vertical-align: top;\n",
       "    }\n",
       "\n",
       "    .dataframe thead th {\n",
       "        text-align: right;\n",
       "    }\n",
       "</style>\n",
       "<table border=\"1\" class=\"dataframe\">\n",
       "  <thead>\n",
       "    <tr style=\"text-align: right;\">\n",
       "      <th></th>\n",
       "      <th>tid</th>\n",
       "      <th>name</th>\n",
       "      <th>count</th>\n",
       "      <th>power</th>\n",
       "    </tr>\n",
       "  </thead>\n",
       "  <tbody>\n",
       "    <tr>\n",
       "      <th>754</th>\n",
       "      <td>2349</td>\n",
       "      <td>events:boston</td>\n",
       "      <td>5.0</td>\n",
       "      <td>True</td>\n",
       "    </tr>\n",
       "    <tr>\n",
       "      <th>755</th>\n",
       "      <td>2350</td>\n",
       "      <td>list:plots-boston</td>\n",
       "      <td>3.0</td>\n",
       "      <td>True</td>\n",
       "    </tr>\n",
       "    <tr>\n",
       "      <th>756</th>\n",
       "      <td>2360</td>\n",
       "      <td>events:new-york-city</td>\n",
       "      <td>12.0</td>\n",
       "      <td>True</td>\n",
       "    </tr>\n",
       "    <tr>\n",
       "      <th>757</th>\n",
       "      <td>2361</td>\n",
       "      <td>list:plots-nyc</td>\n",
       "      <td>1.0</td>\n",
       "      <td>True</td>\n",
       "    </tr>\n",
       "    <tr>\n",
       "      <th>763</th>\n",
       "      <td>2369</td>\n",
       "      <td>list:plots-gulfcoast</td>\n",
       "      <td>1.0</td>\n",
       "      <td>True</td>\n",
       "    </tr>\n",
       "  </tbody>\n",
       "</table>\n",
       "</div>"
      ],
      "text/plain": [
       "      tid                  name  count power\n",
       "754  2349         events:boston    5.0  True\n",
       "755  2350     list:plots-boston    3.0  True\n",
       "756  2360  events:new-york-city   12.0  True\n",
       "757  2361        list:plots-nyc    1.0  True\n",
       "763  2369  list:plots-gulfcoast    1.0  True"
      ]
     },
     "execution_count": 57,
     "metadata": {},
     "output_type": "execute_result"
    }
   ],
   "source": [
    "# MARK POWER TAGS\n",
    "terms['power'] = terms['name'].str.contains(':')\n",
    "terms.loc[terms['power'] == True].head()"
   ]
  },
  {
   "cell_type": "code",
   "execution_count": 58,
   "metadata": {
    "ExecuteTime": {
     "end_time": "2019-04-22T18:50:28.784660Z",
     "start_time": "2019-04-22T18:50:28.770586Z"
    },
    "collapsed": false,
    "deletable": true,
    "editable": true
   },
   "outputs": [
    {
     "name": "stdout",
     "output_type": "stream",
     "text": [
      "ROWS WITH NAN'S: \n",
      "\n",
      "TID: 0 \n",
      "NAME: 2\n",
      "COUNT: 214 \n",
      "POWER: 2\n"
     ]
    }
   ],
   "source": [
    "# https://stackoverflow.com/a/41320210/6023530\n",
    "print 'ROWS WITH NAN\\'S:', '\\n'\n",
    "print 'TID:', terms['tid'].isnull().sum(), '\\n', 'NAME:', terms['name'].isnull().sum()\n",
    "print 'COUNT:', terms['count'].isnull().sum(), '\\n', 'POWER:', terms['power'].isnull().sum()"
   ]
  },
  {
   "cell_type": "code",
   "execution_count": 59,
   "metadata": {
    "ExecuteTime": {
     "end_time": "2019-04-22T18:50:35.744785Z",
     "start_time": "2019-04-22T18:50:35.731735Z"
    },
    "collapsed": true,
    "deletable": true,
    "editable": true
   },
   "outputs": [],
   "source": [
    "# REMOVE ROWS W/O A NAME B/C THEN NO TAG TO APPLY FUNCTION TO\n",
    "terms.dropna(subset=['name', 'power'], inplace=True)"
   ]
  },
  {
   "cell_type": "code",
   "execution_count": 60,
   "metadata": {
    "ExecuteTime": {
     "end_time": "2019-04-22T18:51:31.073466Z",
     "start_time": "2019-04-22T18:51:31.062131Z"
    },
    "collapsed": false,
    "deletable": true,
    "editable": true
   },
   "outputs": [],
   "source": [
    "# https://www.geeksforgeeks.org/python-pandas-split-strings-into-two-list-columns-using-str-split/\n",
    "# https://stackoverflow.com/a/35373340/6023530\n",
    "\n",
    "def split_power_tags(row):\n",
    "    \n",
    "    split_row = row['name'].split(':')#, n=1, expand=True)\n",
    "    \n",
    "    if len(split_row) == 2: \n",
    "        row['name'] = split_row[1]\n",
    "        row['power_type'] = split_row[0]\n",
    "    else:\n",
    "        row['power_type'] = 'npt'\n",
    "    \n",
    "    return row['name'], row['power_type']\n",
    "\n",
    "# power_test = terms.sample(20).copy()\n",
    "# power_test['name'], power_test['power_type'] = izip(*power_test.apply(split_power_tags, axis=1))\n",
    "# power_test = power_test[['tid', 'name', 'power_type', 'count', 'power']]\n",
    "# power_test.head()"
   ]
  },
  {
   "cell_type": "code",
   "execution_count": 61,
   "metadata": {
    "ExecuteTime": {
     "end_time": "2019-04-22T18:51:34.078167Z",
     "start_time": "2019-04-22T18:51:34.055333Z"
    },
    "collapsed": false,
    "deletable": true,
    "editable": true
   },
   "outputs": [
    {
     "data": {
      "text/html": [
       "<div>\n",
       "<style scoped>\n",
       "    .dataframe tbody tr th:only-of-type {\n",
       "        vertical-align: middle;\n",
       "    }\n",
       "\n",
       "    .dataframe tbody tr th {\n",
       "        vertical-align: top;\n",
       "    }\n",
       "\n",
       "    .dataframe thead th {\n",
       "        text-align: right;\n",
       "    }\n",
       "</style>\n",
       "<table border=\"1\" class=\"dataframe\">\n",
       "  <thead>\n",
       "    <tr style=\"text-align: right;\">\n",
       "      <th></th>\n",
       "      <th>tid</th>\n",
       "      <th>name</th>\n",
       "      <th>count</th>\n",
       "      <th>power</th>\n",
       "    </tr>\n",
       "  </thead>\n",
       "  <tbody>\n",
       "    <tr>\n",
       "      <th>13047</th>\n",
       "      <td>20315</td>\n",
       "      <td>laga</td>\n",
       "      <td>1.0</td>\n",
       "      <td>False</td>\n",
       "    </tr>\n",
       "    <tr>\n",
       "      <th>13048</th>\n",
       "      <td>20316</td>\n",
       "      <td>redirect:pipeline-webinar</td>\n",
       "      <td>1.0</td>\n",
       "      <td>True</td>\n",
       "    </tr>\n",
       "    <tr>\n",
       "      <th>13049</th>\n",
       "      <td>20317</td>\n",
       "      <td>psn</td>\n",
       "      <td>1.0</td>\n",
       "      <td>False</td>\n",
       "    </tr>\n",
       "    <tr>\n",
       "      <th>13050</th>\n",
       "      <td>20318</td>\n",
       "      <td>activity:thermal-flashlight-assembly</td>\n",
       "      <td>5.0</td>\n",
       "      <td>True</td>\n",
       "    </tr>\n",
       "    <tr>\n",
       "      <th>13051</th>\n",
       "      <td>20319</td>\n",
       "      <td>pirateship</td>\n",
       "      <td>1.0</td>\n",
       "      <td>False</td>\n",
       "    </tr>\n",
       "  </tbody>\n",
       "</table>\n",
       "</div>"
      ],
      "text/plain": [
       "         tid                                  name  count  power\n",
       "13047  20315                                  laga    1.0  False\n",
       "13048  20316             redirect:pipeline-webinar    1.0   True\n",
       "13049  20317                                   psn    1.0  False\n",
       "13050  20318  activity:thermal-flashlight-assembly    5.0   True\n",
       "13051  20319                            pirateship    1.0  False"
      ]
     },
     "execution_count": 61,
     "metadata": {},
     "output_type": "execute_result"
    }
   ],
   "source": [
    "terms.iloc[-20:-15] # GOOD BUT REPEATABLE MIX OF POWER/NON-POWER"
   ]
  },
  {
   "cell_type": "code",
   "execution_count": 62,
   "metadata": {
    "ExecuteTime": {
     "end_time": "2019-04-22T18:51:57.668822Z",
     "start_time": "2019-04-22T18:51:37.736380Z"
    },
    "collapsed": false,
    "deletable": true,
    "editable": true
   },
   "outputs": [],
   "source": [
    "terms['name'], terms['power_type'] = izip(*terms.apply(split_power_tags, axis=1))\n",
    "terms = terms[['tid', 'name', 'power_type', 'count', 'power']]"
   ]
  },
  {
   "cell_type": "code",
   "execution_count": 63,
   "metadata": {
    "ExecuteTime": {
     "end_time": "2019-04-22T18:51:59.559040Z",
     "start_time": "2019-04-22T18:51:59.535814Z"
    },
    "collapsed": false,
    "deletable": true,
    "editable": true
   },
   "outputs": [
    {
     "data": {
      "text/html": [
       "<div>\n",
       "<style scoped>\n",
       "    .dataframe tbody tr th:only-of-type {\n",
       "        vertical-align: middle;\n",
       "    }\n",
       "\n",
       "    .dataframe tbody tr th {\n",
       "        vertical-align: top;\n",
       "    }\n",
       "\n",
       "    .dataframe thead th {\n",
       "        text-align: right;\n",
       "    }\n",
       "</style>\n",
       "<table border=\"1\" class=\"dataframe\">\n",
       "  <thead>\n",
       "    <tr style=\"text-align: right;\">\n",
       "      <th></th>\n",
       "      <th>tid</th>\n",
       "      <th>name</th>\n",
       "      <th>power_type</th>\n",
       "      <th>count</th>\n",
       "      <th>power</th>\n",
       "    </tr>\n",
       "  </thead>\n",
       "  <tbody>\n",
       "    <tr>\n",
       "      <th>13047</th>\n",
       "      <td>20315</td>\n",
       "      <td>laga</td>\n",
       "      <td>npt</td>\n",
       "      <td>1.0</td>\n",
       "      <td>False</td>\n",
       "    </tr>\n",
       "    <tr>\n",
       "      <th>13048</th>\n",
       "      <td>20316</td>\n",
       "      <td>pipeline-webinar</td>\n",
       "      <td>redirect</td>\n",
       "      <td>1.0</td>\n",
       "      <td>True</td>\n",
       "    </tr>\n",
       "    <tr>\n",
       "      <th>13049</th>\n",
       "      <td>20317</td>\n",
       "      <td>psn</td>\n",
       "      <td>npt</td>\n",
       "      <td>1.0</td>\n",
       "      <td>False</td>\n",
       "    </tr>\n",
       "    <tr>\n",
       "      <th>13050</th>\n",
       "      <td>20318</td>\n",
       "      <td>thermal-flashlight-assembly</td>\n",
       "      <td>activity</td>\n",
       "      <td>5.0</td>\n",
       "      <td>True</td>\n",
       "    </tr>\n",
       "    <tr>\n",
       "      <th>13051</th>\n",
       "      <td>20319</td>\n",
       "      <td>pirateship</td>\n",
       "      <td>npt</td>\n",
       "      <td>1.0</td>\n",
       "      <td>False</td>\n",
       "    </tr>\n",
       "  </tbody>\n",
       "</table>\n",
       "</div>"
      ],
      "text/plain": [
       "         tid                         name power_type  count  power\n",
       "13047  20315                         laga        npt    1.0  False\n",
       "13048  20316             pipeline-webinar   redirect    1.0   True\n",
       "13049  20317                          psn        npt    1.0  False\n",
       "13050  20318  thermal-flashlight-assembly   activity    5.0   True\n",
       "13051  20319                   pirateship        npt    1.0  False"
      ]
     },
     "execution_count": 63,
     "metadata": {},
     "output_type": "execute_result"
    }
   ],
   "source": [
    "# O. M. G. It wooorked!\n",
    "terms.iloc[-20:-15]"
   ]
  },
  {
   "cell_type": "markdown",
   "metadata": {
    "ExecuteTime": {
     "end_time": "2019-04-22T13:49:14.010447Z",
     "start_time": "2019-04-22T13:49:13.995660Z"
    },
    "deletable": true,
    "editable": true
   },
   "source": [
    "## MERGE WITH TAG USAGE"
   ]
  },
  {
   "cell_type": "code",
   "execution_count": 64,
   "metadata": {
    "ExecuteTime": {
     "end_time": "2019-04-22T18:52:15.746487Z",
     "start_time": "2019-04-22T18:52:15.726737Z"
    },
    "collapsed": false,
    "deletable": true,
    "editable": true
   },
   "outputs": [
    {
     "name": "stdout",
     "output_type": "stream",
     "text": [
      "54004\n"
     ]
    },
    {
     "data": {
      "text/html": [
       "<div>\n",
       "<style scoped>\n",
       "    .dataframe tbody tr th:only-of-type {\n",
       "        vertical-align: middle;\n",
       "    }\n",
       "\n",
       "    .dataframe tbody tr th {\n",
       "        vertical-align: top;\n",
       "    }\n",
       "\n",
       "    .dataframe thead th {\n",
       "        text-align: right;\n",
       "    }\n",
       "</style>\n",
       "<table border=\"1\" class=\"dataframe\">\n",
       "  <thead>\n",
       "    <tr style=\"text-align: right;\">\n",
       "      <th></th>\n",
       "      <th>nid</th>\n",
       "      <th>uid</th>\n",
       "      <th>tid</th>\n",
       "      <th>date</th>\n",
       "    </tr>\n",
       "  </thead>\n",
       "  <tbody>\n",
       "    <tr>\n",
       "      <th>2364</th>\n",
       "      <td>721</td>\n",
       "      <td>1</td>\n",
       "      <td>13811</td>\n",
       "      <td>2016</td>\n",
       "    </tr>\n",
       "    <tr>\n",
       "      <th>2365</th>\n",
       "      <td>5215</td>\n",
       "      <td>7</td>\n",
       "      <td>13812</td>\n",
       "      <td>2016</td>\n",
       "    </tr>\n",
       "    <tr>\n",
       "      <th>2366</th>\n",
       "      <td>10112</td>\n",
       "      <td>7</td>\n",
       "      <td>13812</td>\n",
       "      <td>2016</td>\n",
       "    </tr>\n",
       "    <tr>\n",
       "      <th>2367</th>\n",
       "      <td>10691</td>\n",
       "      <td>7</td>\n",
       "      <td>13812</td>\n",
       "      <td>2016</td>\n",
       "    </tr>\n",
       "    <tr>\n",
       "      <th>2368</th>\n",
       "      <td>11533</td>\n",
       "      <td>7</td>\n",
       "      <td>13812</td>\n",
       "      <td>2016</td>\n",
       "    </tr>\n",
       "  </tbody>\n",
       "</table>\n",
       "</div>"
      ],
      "text/plain": [
       "        nid  uid    tid  date\n",
       "2364    721    1  13811  2016\n",
       "2365   5215    7  13812  2016\n",
       "2366  10112    7  13812  2016\n",
       "2367  10691    7  13812  2016\n",
       "2368  11533    7  13812  2016"
      ]
     },
     "execution_count": 64,
     "metadata": {},
     "output_type": "execute_result"
    }
   ],
   "source": [
    "print tag_usage.shape[0]\n",
    "tag_usage.tail(5)"
   ]
  },
  {
   "cell_type": "code",
   "execution_count": 65,
   "metadata": {
    "ExecuteTime": {
     "end_time": "2019-04-22T18:52:20.437775Z",
     "start_time": "2019-04-22T18:52:20.425155Z"
    },
    "collapsed": false,
    "deletable": true,
    "editable": true
   },
   "outputs": [
    {
     "name": "stdout",
     "output_type": "stream",
     "text": [
      "ROWS WITH NAN'S: \n",
      "\n",
      "NID: 0\n",
      "UID: 0\n",
      "TID: 0\n"
     ]
    }
   ],
   "source": [
    "print 'ROWS WITH NAN\\'S:', '\\n'\n",
    "print 'NID:', tag_usage['nid'].isnull().sum()\n",
    "print 'UID:', tag_usage['uid'].isnull().sum()\n",
    "print 'TID:', tag_usage['tid'].isnull().sum()"
   ]
  },
  {
   "cell_type": "code",
   "execution_count": 66,
   "metadata": {
    "ExecuteTime": {
     "end_time": "2019-04-22T18:52:25.767825Z",
     "start_time": "2019-04-22T18:52:25.745184Z"
    },
    "collapsed": false,
    "deletable": true,
    "editable": true
   },
   "outputs": [
    {
     "name": "stdout",
     "output_type": "stream",
     "text": [
      "13065\n"
     ]
    },
    {
     "data": {
      "text/html": [
       "<div>\n",
       "<style scoped>\n",
       "    .dataframe tbody tr th:only-of-type {\n",
       "        vertical-align: middle;\n",
       "    }\n",
       "\n",
       "    .dataframe tbody tr th {\n",
       "        vertical-align: top;\n",
       "    }\n",
       "\n",
       "    .dataframe thead th {\n",
       "        text-align: right;\n",
       "    }\n",
       "</style>\n",
       "<table border=\"1\" class=\"dataframe\">\n",
       "  <thead>\n",
       "    <tr style=\"text-align: right;\">\n",
       "      <th></th>\n",
       "      <th>tid</th>\n",
       "      <th>name</th>\n",
       "      <th>power_type</th>\n",
       "      <th>count</th>\n",
       "      <th>power</th>\n",
       "    </tr>\n",
       "  </thead>\n",
       "  <tbody>\n",
       "    <tr>\n",
       "      <th>13062</th>\n",
       "      <td>20330</td>\n",
       "      <td>phun</td>\n",
       "      <td>npt</td>\n",
       "      <td>1.0</td>\n",
       "      <td>False</td>\n",
       "    </tr>\n",
       "    <tr>\n",
       "      <th>13063</th>\n",
       "      <td>20331</td>\n",
       "      <td>sprinkler</td>\n",
       "      <td>npt</td>\n",
       "      <td>1.0</td>\n",
       "      <td>False</td>\n",
       "    </tr>\n",
       "    <tr>\n",
       "      <th>13064</th>\n",
       "      <td>20332</td>\n",
       "      <td>trung</td>\n",
       "      <td>npt</td>\n",
       "      <td>1.0</td>\n",
       "      <td>False</td>\n",
       "    </tr>\n",
       "    <tr>\n",
       "      <th>13065</th>\n",
       "      <td>20333</td>\n",
       "      <td>10.823098</td>\n",
       "      <td>lat</td>\n",
       "      <td>1.0</td>\n",
       "      <td>True</td>\n",
       "    </tr>\n",
       "    <tr>\n",
       "      <th>13066</th>\n",
       "      <td>20334</td>\n",
       "      <td>106.629663</td>\n",
       "      <td>lon</td>\n",
       "      <td>1.0</td>\n",
       "      <td>True</td>\n",
       "    </tr>\n",
       "  </tbody>\n",
       "</table>\n",
       "</div>"
      ],
      "text/plain": [
       "         tid        name power_type  count  power\n",
       "13062  20330        phun        npt    1.0  False\n",
       "13063  20331   sprinkler        npt    1.0  False\n",
       "13064  20332       trung        npt    1.0  False\n",
       "13065  20333   10.823098        lat    1.0   True\n",
       "13066  20334  106.629663        lon    1.0   True"
      ]
     },
     "execution_count": 66,
     "metadata": {},
     "output_type": "execute_result"
    }
   ],
   "source": [
    "print terms.shape[0]\n",
    "terms.tail(5)"
   ]
  },
  {
   "cell_type": "code",
   "execution_count": 91,
   "metadata": {
    "ExecuteTime": {
     "end_time": "2019-04-22T21:14:05.884365Z",
     "start_time": "2019-04-22T21:14:05.813554Z"
    },
    "collapsed": false,
    "deletable": true,
    "editable": true
   },
   "outputs": [
    {
     "name": "stdout",
     "output_type": "stream",
     "text": [
      "LEFT (MANY) \n",
      "         nid     uid    tid  date\n",
      "10989  19111  584933  20315  2018\n",
      "10990  18421       1  20316  2018\n",
      "10991  19113  584971  20317  2018\n",
      "10992    625       1  20318  2018\n",
      "10993   9922       1  20318  2018\n",
      "10994  11581       1  20318  2018\n",
      "10995    627       1  20319  2018 \n",
      "\n",
      "RIGHT(ONE) \n",
      "         tid                         name power_type  count  power\n",
      "13047  20315                         laga        npt    1.0  False\n",
      "13048  20316             pipeline-webinar   redirect    1.0   True\n",
      "13049  20317                          psn        npt    1.0  False\n",
      "13050  20318  thermal-flashlight-assembly   activity    5.0   True\n",
      "13051  20319                   pirateship        npt    1.0  False \n",
      "\n",
      "MERGED\n",
      "         nid    tid  date                         name power_type  count\n",
      "21361  19111  20315  2018                         laga        npt    1.0\n",
      "21362  18421  20316  2018             pipeline-webinar   redirect    1.0\n",
      "21363  19113  20317  2018                          psn        npt    1.0\n",
      "21364    625  20318  2018  thermal-flashlight-assembly   activity    5.0\n",
      "21365   9922  20318  2018  thermal-flashlight-assembly   activity    5.0\n",
      "21366  11581  20318  2018  thermal-flashlight-assembly   activity    5.0\n",
      "21367    627  20319  2018                   pirateship        npt    1.0 \n",
      "\n",
      "TOTALS \n",
      "\n",
      "TAG USAGE: \t54004 4\n",
      "TERMS: \t\t13065 5\n",
      "MERGED: \t54004 8\n"
     ]
    }
   ],
   "source": [
    "# https://stackoverflow.com/a/12098586/6023530\n",
    "selection = list(terms.iloc[-20:-15]['tid'])\n",
    "tag_usage[tag_usage['tid'].isin(selection)]\n",
    "\n",
    "print 'LEFT (MANY) \\n', tag_usage[tag_usage['tid'].isin(selection)], '\\n'\n",
    "print 'RIGHT(ONE) \\n', terms.iloc[-20:-15], '\\n'\n",
    "\n",
    "# https://pandas.pydata.org/pandas-docs/stable/user_guide/merging.html#brief-primer-on-merge-methods-relational-algebra\n",
    "merged = pd.merge(tag_usage, terms, on='tid', how='left')\n",
    "\n",
    "print 'MERGED'\n",
    "print merged[merged['tid'].isin(selection)].drop(['power', 'uid'], axis=1), '\\n' # NOT FOR REAL DROP!\n",
    "\n",
    "print 'TOTALS \\n'\n",
    "print 'TAG USAGE:', '\\t', tag_usage.shape[0], tag_usage.shape[1]\n",
    "print 'TERMS:', '\\t\\t', terms.shape[0], terms.shape[1]\n",
    "print 'MERGED:', '\\t', merged.shape[0], merged.shape[1]"
   ]
  },
  {
   "cell_type": "code",
   "execution_count": 92,
   "metadata": {
    "ExecuteTime": {
     "end_time": "2019-04-22T21:14:11.750864Z",
     "start_time": "2019-04-22T21:14:11.736254Z"
    },
    "collapsed": false
   },
   "outputs": [
    {
     "name": "stdout",
     "output_type": "stream",
     "text": [
      "WITH USER 461120: 54004\n",
      "WITHOUT USER 461120: 48118\n"
     ]
    }
   ],
   "source": [
    "print 'WITH USER 461120:', merged.shape[0] # 54004\n",
    "merged = merged.loc[merged['uid'] != 461120]\n",
    "print 'WITHOUT USER 461120:', merged.shape[0] # 48118"
   ]
  },
  {
   "cell_type": "code",
   "execution_count": 100,
   "metadata": {
    "ExecuteTime": {
     "end_time": "2019-04-22T21:23:05.968388Z",
     "start_time": "2019-04-22T21:23:05.952271Z"
    },
    "collapsed": false,
    "deletable": true,
    "editable": true
   },
   "outputs": [
    {
     "data": {
      "text/plain": [
       "(48118, '../data/2016_2019/full/tags.csv')"
      ]
     },
     "execution_count": 100,
     "metadata": {},
     "output_type": "execute_result"
    }
   ],
   "source": [
    "merged = merged[tag_cols[:3] + tag_cols[4:-1] + ['date', 'power']]\n",
    "merged.to_csv(csv_paths['tags'], index=False)\n",
    "tags = pd.read_csv(csv_paths['tags'])\n",
    "tags[tags['tid'].isin(selection)]"
   ]
  },
  {
   "cell_type": "code",
   "execution_count": 96,
   "metadata": {
    "ExecuteTime": {
     "end_time": "2019-04-22T21:18:35.820428Z",
     "start_time": "2019-04-22T21:18:35.447359Z"
    },
    "collapsed": false,
    "scrolled": true
   },
   "outputs": [
    {
     "name": "stdout",
     "output_type": "stream",
     "text": [
      "4885\n",
      "6441\n",
      "5264\n",
      "4477\n",
      "5672\n",
      "10372\n",
      "11007\n"
     ]
    }
   ],
   "source": [
    "years = [2012, 2013, 2014, 2015, 2016, 2017, 2018]\n",
    "\n",
    "for year in years:\n",
    "    year_df = tags.loc[tags['date'] == year]\n",
    "    year_df.to_csv('../data/2016_2019/full/tags/merged/' + 'tags_' + str(year) + '.csv', index=False)\n",
    "    print year_df.shape[0]"
   ]
  },
  {
   "cell_type": "markdown",
   "metadata": {
    "deletable": true,
    "editable": true
   },
   "source": [
    "## SEPPERATE POWER TAG TYPES"
   ]
  },
  {
   "cell_type": "code",
   "execution_count": 78,
   "metadata": {
    "ExecuteTime": {
     "end_time": "2019-04-22T18:58:24.133351Z",
     "start_time": "2019-04-22T18:58:24.097795Z"
    },
    "collapsed": false,
    "deletable": true,
    "editable": true
   },
   "outputs": [
    {
     "data": {
      "text/html": [
       "<div>\n",
       "<style scoped>\n",
       "    .dataframe tbody tr th:only-of-type {\n",
       "        vertical-align: middle;\n",
       "    }\n",
       "\n",
       "    .dataframe tbody tr th {\n",
       "        vertical-align: top;\n",
       "    }\n",
       "\n",
       "    .dataframe thead th {\n",
       "        text-align: right;\n",
       "    }\n",
       "</style>\n",
       "<table border=\"1\" class=\"dataframe\">\n",
       "  <thead>\n",
       "    <tr style=\"text-align: right;\">\n",
       "      <th></th>\n",
       "      <th>power_type</th>\n",
       "      <th>count</th>\n",
       "    </tr>\n",
       "  </thead>\n",
       "  <tbody>\n",
       "    <tr>\n",
       "      <th>0</th>\n",
       "      <td>npt</td>\n",
       "      <td>44866</td>\n",
       "    </tr>\n",
       "    <tr>\n",
       "      <th>1</th>\n",
       "      <td>question</td>\n",
       "      <td>2389</td>\n",
       "    </tr>\n",
       "    <tr>\n",
       "      <th>2</th>\n",
       "      <td>activity</td>\n",
       "      <td>1100</td>\n",
       "    </tr>\n",
       "    <tr>\n",
       "      <th>3</th>\n",
       "      <td>lat</td>\n",
       "      <td>988</td>\n",
       "    </tr>\n",
       "    <tr>\n",
       "      <th>4</th>\n",
       "      <td>lon</td>\n",
       "      <td>979</td>\n",
       "    </tr>\n",
       "    <tr>\n",
       "      <th>5</th>\n",
       "      <td>response</td>\n",
       "      <td>810</td>\n",
       "    </tr>\n",
       "    <tr>\n",
       "      <th>6</th>\n",
       "      <td>parent</td>\n",
       "      <td>361</td>\n",
       "    </tr>\n",
       "    <tr>\n",
       "      <th>7</th>\n",
       "      <td>with</td>\n",
       "      <td>350</td>\n",
       "    </tr>\n",
       "    <tr>\n",
       "      <th>8</th>\n",
       "      <td>barnstar</td>\n",
       "      <td>240</td>\n",
       "    </tr>\n",
       "    <tr>\n",
       "      <th>9</th>\n",
       "      <td>event</td>\n",
       "      <td>211</td>\n",
       "    </tr>\n",
       "    <tr>\n",
       "      <th>10</th>\n",
       "      <td>date</td>\n",
       "      <td>203</td>\n",
       "    </tr>\n",
       "    <tr>\n",
       "      <th>11</th>\n",
       "      <td>replication</td>\n",
       "      <td>197</td>\n",
       "    </tr>\n",
       "    <tr>\n",
       "      <th>12</th>\n",
       "      <td>hidden</td>\n",
       "      <td>105</td>\n",
       "    </tr>\n",
       "    <tr>\n",
       "      <th>13</th>\n",
       "      <td>rsvp</td>\n",
       "      <td>102</td>\n",
       "    </tr>\n",
       "    <tr>\n",
       "      <th>14</th>\n",
       "      <td>place</td>\n",
       "      <td>100</td>\n",
       "    </tr>\n",
       "    <tr>\n",
       "      <th>15</th>\n",
       "      <td>list</td>\n",
       "      <td>87</td>\n",
       "    </tr>\n",
       "    <tr>\n",
       "      <th>16</th>\n",
       "      <td>location</td>\n",
       "      <td>84</td>\n",
       "    </tr>\n",
       "    <tr>\n",
       "      <th>17</th>\n",
       "      <td>category</td>\n",
       "      <td>82</td>\n",
       "    </tr>\n",
       "    <tr>\n",
       "      <th>18</th>\n",
       "      <td>redirect</td>\n",
       "      <td>74</td>\n",
       "    </tr>\n",
       "    <tr>\n",
       "      <th>19</th>\n",
       "      <td>style</td>\n",
       "      <td>64</td>\n",
       "    </tr>\n",
       "  </tbody>\n",
       "</table>\n",
       "</div>"
      ],
      "text/plain": [
       "     power_type  count\n",
       "0           npt  44866\n",
       "1      question   2389\n",
       "2      activity   1100\n",
       "3           lat    988\n",
       "4           lon    979\n",
       "5      response    810\n",
       "6        parent    361\n",
       "7          with    350\n",
       "8      barnstar    240\n",
       "9         event    211\n",
       "10         date    203\n",
       "11  replication    197\n",
       "12       hidden    105\n",
       "13         rsvp    102\n",
       "14        place    100\n",
       "15         list     87\n",
       "16     location     84\n",
       "17     category     82\n",
       "18     redirect     74\n",
       "19        style     64"
      ]
     },
     "execution_count": 78,
     "metadata": {},
     "output_type": "execute_result"
    }
   ],
   "source": [
    "power_tag_counts = tags['power_type'].value_counts().reset_index()\n",
    "power_tag_counts.columns = ['power_type', 'count']\n",
    "# power_tag_counts = power_tag_counts[['power_type', 'count']]\n",
    "power_tag_counts.head(20)\n",
    "# power_tag_counts[20:40]"
   ]
  },
  {
   "cell_type": "code",
   "execution_count": 344,
   "metadata": {
    "ExecuteTime": {
     "end_time": "2019-04-22T15:56:08.812267Z",
     "start_time": "2019-04-22T15:56:08.773817Z"
    },
    "collapsed": false,
    "deletable": true,
    "editable": true
   },
   "outputs": [
    {
     "data": {
      "text/html": [
       "<div>\n",
       "<style scoped>\n",
       "    .dataframe tbody tr th:only-of-type {\n",
       "        vertical-align: middle;\n",
       "    }\n",
       "\n",
       "    .dataframe tbody tr th {\n",
       "        vertical-align: top;\n",
       "    }\n",
       "\n",
       "    .dataframe thead th {\n",
       "        text-align: right;\n",
       "    }\n",
       "</style>\n",
       "<table border=\"1\" class=\"dataframe\">\n",
       "  <thead>\n",
       "    <tr style=\"text-align: right;\">\n",
       "      <th></th>\n",
       "      <th>power_type</th>\n",
       "      <th>count</th>\n",
       "    </tr>\n",
       "  </thead>\n",
       "  <tbody>\n",
       "    <tr>\n",
       "      <th>0</th>\n",
       "      <td>npt</td>\n",
       "      <td>44866</td>\n",
       "    </tr>\n",
       "    <tr>\n",
       "      <th>1</th>\n",
       "      <td>question</td>\n",
       "      <td>2389</td>\n",
       "    </tr>\n",
       "    <tr>\n",
       "      <th>2</th>\n",
       "      <td>activity</td>\n",
       "      <td>1126</td>\n",
       "    </tr>\n",
       "    <tr>\n",
       "      <th>3</th>\n",
       "      <td>lat</td>\n",
       "      <td>988</td>\n",
       "    </tr>\n",
       "    <tr>\n",
       "      <th>4</th>\n",
       "      <td>lon</td>\n",
       "      <td>979</td>\n",
       "    </tr>\n",
       "    <tr>\n",
       "      <th>5</th>\n",
       "      <td>response</td>\n",
       "      <td>810</td>\n",
       "    </tr>\n",
       "    <tr>\n",
       "      <th>6</th>\n",
       "      <td>parent</td>\n",
       "      <td>361</td>\n",
       "    </tr>\n",
       "    <tr>\n",
       "      <th>7</th>\n",
       "      <td>with</td>\n",
       "      <td>350</td>\n",
       "    </tr>\n",
       "    <tr>\n",
       "      <th>8</th>\n",
       "      <td>barnstar</td>\n",
       "      <td>240</td>\n",
       "    </tr>\n",
       "    <tr>\n",
       "      <th>9</th>\n",
       "      <td>event</td>\n",
       "      <td>211</td>\n",
       "    </tr>\n",
       "    <tr>\n",
       "      <th>10</th>\n",
       "      <td>date</td>\n",
       "      <td>203</td>\n",
       "    </tr>\n",
       "    <tr>\n",
       "      <th>11</th>\n",
       "      <td>replication</td>\n",
       "      <td>197</td>\n",
       "    </tr>\n",
       "    <tr>\n",
       "      <th>12</th>\n",
       "      <td>hidden</td>\n",
       "      <td>105</td>\n",
       "    </tr>\n",
       "    <tr>\n",
       "      <th>13</th>\n",
       "      <td>rsvp</td>\n",
       "      <td>102</td>\n",
       "    </tr>\n",
       "    <tr>\n",
       "      <th>14</th>\n",
       "      <td>place</td>\n",
       "      <td>100</td>\n",
       "    </tr>\n",
       "    <tr>\n",
       "      <th>15</th>\n",
       "      <td>list</td>\n",
       "      <td>87</td>\n",
       "    </tr>\n",
       "    <tr>\n",
       "      <th>16</th>\n",
       "      <td>location</td>\n",
       "      <td>84</td>\n",
       "    </tr>\n",
       "    <tr>\n",
       "      <th>17</th>\n",
       "      <td>category</td>\n",
       "      <td>82</td>\n",
       "    </tr>\n",
       "    <tr>\n",
       "      <th>18</th>\n",
       "      <td>redirect</td>\n",
       "      <td>74</td>\n",
       "    </tr>\n",
       "    <tr>\n",
       "      <th>19</th>\n",
       "      <td>style</td>\n",
       "      <td>64</td>\n",
       "    </tr>\n",
       "  </tbody>\n",
       "</table>\n",
       "</div>"
      ],
      "text/plain": [
       "     power_type  count\n",
       "0           npt  44866\n",
       "1      question   2389\n",
       "2      activity   1126\n",
       "3           lat    988\n",
       "4           lon    979\n",
       "5      response    810\n",
       "6        parent    361\n",
       "7          with    350\n",
       "8      barnstar    240\n",
       "9         event    211\n",
       "10         date    203\n",
       "11  replication    197\n",
       "12       hidden    105\n",
       "13         rsvp    102\n",
       "14        place    100\n",
       "15         list     87\n",
       "16     location     84\n",
       "17     category     82\n",
       "18     redirect     74\n",
       "19        style     64"
      ]
     },
     "execution_count": 344,
     "metadata": {},
     "output_type": "execute_result"
    }
   ],
   "source": [
    "#\n",
    "\n",
    "# ['question', 'activity', 'with', 'barnstar' 'event', 'replication', 'place',  ]\n",
    "\n",
    "# LIST: GOOGLE GROUP TAGS, list:plots-spectrometry\n",
    "# WITH: THE USERS WHO ALSO WROTE THE NOTE, with:bsugar\n",
    "# BARNSTAR: CONTENT AWARDED A BARNSTAR\n",
    "\n",
    "\n",
    "# https://stackoverflow.com/a/38309823/6023530\n",
    "# tags.loc[tags['power_type'] == 'barnstar'].groupby('name')['nid'].nunique()#value_counts"
   ]
  },
  {
   "cell_type": "code",
   "execution_count": 329,
   "metadata": {
    "ExecuteTime": {
     "end_time": "2019-04-22T15:50:22.987218Z",
     "start_time": "2019-04-22T15:50:22.702303Z"
    },
    "collapsed": false,
    "deletable": true,
    "editable": true
   },
   "outputs": [
    {
     "data": {
      "text/plain": [
       "<matplotlib.axes._subplots.AxesSubplot at 0x7f63f2478e90>"
      ]
     },
     "execution_count": 329,
     "metadata": {},
     "output_type": "execute_result"
    },
    {
     "data": {
      "image/png": "[encoded data removed]",
      "text/plain": [
       "<matplotlib.figure.Figure at 0x7f6400432150>"
      ]
     },
     "metadata": {},
     "output_type": "display_data"
    }
   ],
   "source": [
    "count_gt_one = (power_tag_counts['count'] > 100)\n",
    "not_npt = (power_tag_counts['power_type'] != 'npt')\n",
    "filtered = power_tag_counts.loc[count_gt_one & not_npt]\n",
    "filtered.plot(kind='hist', bins=15)\n",
    "# plt.show()"
   ]
  },
  {
   "cell_type": "code",
   "execution_count": 352,
   "metadata": {
    "ExecuteTime": {
     "end_time": "2019-04-22T17:12:57.794843Z",
     "start_time": "2019-04-22T17:12:57.786725Z"
    },
    "collapsed": false,
    "deletable": true,
    "editable": true
   },
   "outputs": [],
   "source": [
    "power_categories = ['question', 'activity', 'with', 'barnstar' 'event', 'replication', 'place']\n",
    "\n",
    "# LIST: GOOGLE GROUP TAGS, list:plots-spectrometry\n",
    "# WITH: THE USERS WHO ALSO WROTE THE NOTE, with:bsugar\n",
    "# BARNSTAR: CONTENT AWARDED A BARNSTAR\n",
    "\n",
    "# COMBINE TWO CATEGORIES\n",
    "# tags.loc[tags['power_type'] == 'activities', 'power_type'] = 'activity'\n",
    "# tags.loc[tags['power_type'] == 'events', 'power_type'] = 'place'\n",
    "\n",
    "# https://stackoverflow.com/a/38309823/6023530\n",
    "tags.loc[tags['power_type'] == 'events'].groupby('name')['nid'].nunique()#value_counts"
   ]
  },
  {
   "cell_type": "code",
   "execution_count": 79,
   "metadata": {
    "ExecuteTime": {
     "end_time": "2019-04-22T18:58:44.455522Z",
     "start_time": "2019-04-22T18:58:44.438441Z"
    },
    "collapsed": false,
    "deletable": true,
    "editable": true
   },
   "outputs": [
    {
     "data": {
      "text/html": [
       "<div>\n",
       "<style scoped>\n",
       "    .dataframe tbody tr th:only-of-type {\n",
       "        vertical-align: middle;\n",
       "    }\n",
       "\n",
       "    .dataframe tbody tr th {\n",
       "        vertical-align: top;\n",
       "    }\n",
       "\n",
       "    .dataframe thead th {\n",
       "        text-align: right;\n",
       "    }\n",
       "</style>\n",
       "<table border=\"1\" class=\"dataframe\">\n",
       "  <thead>\n",
       "    <tr style=\"text-align: right;\">\n",
       "      <th></th>\n",
       "      <th>power_type</th>\n",
       "      <th>count</th>\n",
       "    </tr>\n",
       "  </thead>\n",
       "  <tbody>\n",
       "    <tr>\n",
       "      <th>1</th>\n",
       "      <td>question</td>\n",
       "      <td>2389</td>\n",
       "    </tr>\n",
       "    <tr>\n",
       "      <th>2</th>\n",
       "      <td>activity</td>\n",
       "      <td>1100</td>\n",
       "    </tr>\n",
       "    <tr>\n",
       "      <th>7</th>\n",
       "      <td>with</td>\n",
       "      <td>350</td>\n",
       "    </tr>\n",
       "    <tr>\n",
       "      <th>11</th>\n",
       "      <td>replication</td>\n",
       "      <td>197</td>\n",
       "    </tr>\n",
       "    <tr>\n",
       "      <th>14</th>\n",
       "      <td>place</td>\n",
       "      <td>100</td>\n",
       "    </tr>\n",
       "  </tbody>\n",
       "</table>\n",
       "</div>"
      ],
      "text/plain": [
       "     power_type  count\n",
       "1      question   2389\n",
       "2      activity   1100\n",
       "7          with    350\n",
       "11  replication    197\n",
       "14        place    100"
      ]
     },
     "execution_count": 79,
     "metadata": {},
     "output_type": "execute_result"
    }
   ],
   "source": [
    "power_categories = ['question', 'activity', 'with', 'barnstar' 'event', 'replication', 'place']\n",
    "\n",
    "power_tag_counts[power_tag_counts['power_type'].isin(power_categories)]\n",
    "\n",
    "# power_tag_counts = tags['power_type'].value_counts().reset_index()"
   ]
  },
  {
   "cell_type": "code",
   "execution_count": null,
   "metadata": {
    "collapsed": true
   },
   "outputs": [],
   "source": []
  }
 ],
 "metadata": {
  "kernelspec": {
   "display_name": "Python 2",
   "language": "python",
   "name": "python2"
  },
  "language_info": {
   "codemirror_mode": {
    "name": "ipython",
    "version": 2
   },
   "file_extension": ".py",
   "mimetype": "text/x-python",
   "name": "python",
   "nbconvert_exporter": "python",
   "pygments_lexer": "ipython2",
   "version": "2.7.13"
  },
  "toc": {
   "colors": {
    "hover_highlight": "#DAA520",
    "navigate_num": "#000000",
    "navigate_text": "#333333",
    "running_highlight": "#FF0000",
    "selected_highlight": "#FFD700",
    "sidebar_border": "#EEEEEE",
    "wrapper_background": "#FFFFFF"
   },
   "moveMenuLeft": true,
   "nav_menu": {
    "height": "12px",
    "width": "252px"
   },
   "navigate_menu": true,
   "number_sections": true,
   "sideBar": true,
   "threshold": 4,
   "toc_cell": false,
   "toc_section_display": "block",
   "toc_window_display": false,
   "widenNotebook": false
  }
 },
 "nbformat": 4,
 "nbformat_minor": 2
}
