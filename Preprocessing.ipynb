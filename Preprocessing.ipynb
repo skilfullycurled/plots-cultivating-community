{
 "cells": [
  {
   "cell_type": "markdown",
   "metadata": {},
   "source": [
    "**PREAMBLE:** This notebook isn't the most useful but it might prove informative.  Basically, what happened was that I realized that the data was a lot messier then I expected.  I receieved the latest data during a time in which the Q&A section was going through a change in the way it was stored in the database.  This led to a situation in which the data had some doubles and it took me a while to sort out why.  THe reason is explained in [this question](https://publiclab.org/questions/bsugar/04-15-2019/how-are-the-q-a-s-tied-together-in-the-website-database) on the Public Lab website.  The other thing that happened is that I realized how many of the users were spam users and began to explore ways of removing them.  So, I moved the entire process of dealing with spam over to a different notebook, USER SPAM REMOVAL.\n",
    "\n",
    "**NOTE:** The following contains a few things that I do out of habit when working with data, but they are unneccessary in this case.  \n",
    "\n",
    "I will explain them since they might be useful for the reader in a different project but _**I HAD NO PROBLEM RUNNING ANY OF THESE NOTEBOOKS WITH THE FULL FILES ON A COMPUTER WITH 2GB OF RAM**_  _At anytime, feel free to skip to the first section, \"MERGE OLD AND NEW DATA\"._   \n",
    "\n",
    "If you're really interested in how to take a very large file and get a random sample, you can find all of the bash commands in the following notebook in the  section entitled [PREPARING A FILE SAMPLE IN BASH](https://render.githubusercontent.com/view/ipynb?commit=e3b6ada097105708a6ed32f146e1e4657c387393&enc_url=68747470733a2f2f7261772e67697468756275736572636f6e74656e742e636f6d2f736b696c66756c6c796375726c65642f64706c612f653362366164613039373130353730386136656433326631343665316534363537633338373339332f42756c6b253230446f776e6c6f61642e6970796e62&nwo=skilfullycurled%2Fdpla&path=Bulk+Download.ipynb&repository_id=138903471&repository_type=Repository#PREPARING-A-FILE-SAMPLE-IN-BASH).  Since I did a much simpler process here, I'll show the few commands I used along the way."
   ]
  },
  {
   "cell_type": "markdown",
   "metadata": {},
   "source": [
    "**1. OBTAINING THE SIZE OF THE FILES**\n",
    "\n",
    "Here are some stats about the files.  I wanted to know these because sometimes when I work with very large files, I will take samples, make sure my code is solid, and then run them with the larger files on a more powerful computer.  \n",
    "\n",
    "You can of course take a sample of the file once it is loaded, but if the file is very large, then you want to do so before hand.  \n",
    "\n",
    "To find out how large a file is in terms of filesize, go into the folder that the files are in and type:  \n",
    "\n",
    "**[~/path/to/files] user ->** du -sh &nbsp; *"
   ]
  },
  {
   "cell_type": "code",
   "execution_count": null,
   "metadata": {
    "collapsed": true,
    "deletable": true,
    "editable": true
   },
   "outputs": [],
   "source": [
    "792K\tanswers.csv\n",
    "3.8M\tcomments.csv\n",
    "488K\tnotes.csv\n",
    "204K\tquestions.csv\n",
    "50M\tusers.csv\n",
    "44K\twikis.csv"
   ]
  },
  {
   "cell_type": "markdown",
   "metadata": {},
   "source": [
    "**2. OBTAINING THE NUMBER OF LINES IN A FILE**\n",
    "\n",
    "\n",
    "**Note:** _If you are using JSON data which does not have one line per json object, then this method won't be as useful.  Additionally, because Public Lab's data is stored in markdown converted to HTML, it contains the escape sequences for carraige returns and new lines (\\r and \\n) and will also throw off your count of lines._\n",
    "\n",
    "To find out the number of lines in each file, use the following bash command:\n",
    "\n",
    "**[~/path/to/files] user ->** wc -l &nbsp;   *"
   ]
  },
  {
   "cell_type": "code",
   "execution_count": null,
   "metadata": {
    "collapsed": true
   },
   "outputs": [],
   "source": [
    "7399 answers.csv\n",
    "36752 comments.csv\n",
    "2105 notes.csv\n",
    "821 questions.csv\n",
    "382952 users.csv\n",
    "305 wikis.csv\n",
    "430334 total"
   ]
  },
  {
   "cell_type": "markdown",
   "metadata": {},
   "source": [
    "**3. CREATE SOME SAMPLE FILES OF VARYING SIZES**\n",
    "\n",
    "What I like to do is then take the top and bottom of a certain number of lines in each file and label them as powers of 10.  For example, if I want a file with 1000 lines I'll use the following bash commands:\n",
    "\n",
    "**[~/path/to/files] user ->** head -n -500 full_file.csv >> sample_file_1e3.csv  \n",
    "**[~/path/to/files] user ->** tail -n -500 full_file.csv >> sample_file_1e3.csv # USE DOUBLE ARROW FOR APPEND!  \n",
    "**[~/path/to/files] user ->** wc -l sample_file_1e3.csv # SHOULD RETURN 1000 LINES BELOW  \n",
    "1000 same_file_1e3.csv "
   ]
  },
  {
   "cell_type": "code",
   "execution_count": 1,
   "metadata": {
    "ExecuteTime": {
     "end_time": "2019-05-05T13:09:47.774720Z",
     "start_time": "2019-05-05T13:09:47.418344Z"
    },
    "collapsed": false
   },
   "outputs": [
    {
     "name": "stdout",
     "output_type": "stream",
     "text": [
      "IMPORTED!\n"
     ]
    }
   ],
   "source": [
    "# PACKAGES WE'LL NEED\n",
    "import pandas as pd\n",
    "import numpy as np\n",
    "import re\n",
    "import csv\n",
    "\n",
    "print 'IMPORTED!'"
   ]
  },
  {
   "cell_type": "markdown",
   "metadata": {},
   "source": [
    "Here's where all of the samples and file sizes come into play.  I create a bunch of variables so that I don't have to rewrite the filename in each situation.  _Again, this whole thing is unnecessary for this project._\n",
    "\n",
    "1) I have named by data type e.g., users, wikis, notes, etc.).  \n",
    "\n",
    "2) The second variable is a boolean which I set depending upon which computer I'm using.  Again, you don't need to do this for this project, but if you have a setup where you're going to run samples on a smaller machine, then this will switch the statement below so that it either uses the samples or the full files.  \n",
    "\n",
    "3) _m_ and _exp_ are the power of 10 setup.  In the case below, that will end up being _25e2_ when the file name is created.  \n",
    "\n",
    "Then, I can create a file name which is: **data\\_type + '\\_' + m + 'e' + exp + '.csv'** and if I want a new file, all I need to do is change one of those variables.  See comment below."
   ]
  },
  {
   "cell_type": "code",
   "execution_count": 3,
   "metadata": {
    "ExecuteTime": {
     "end_time": "2019-05-05T13:37:57.104114Z",
     "start_time": "2019-05-05T13:37:57.094864Z"
    },
    "collapsed": false,
    "deletable": true,
    "editable": true,
    "run_control": {
     "marked": true
    }
   },
   "outputs": [],
   "source": [
    "sample = False\n",
    "\n",
    "data_type = 'users'\n",
    "\n",
    "m = 25\n",
    "exp = 2\n",
    "\n",
    "if sample:\n",
    "    csv_dir = '../data/2016_2019/samples/'\n",
    "    e = '_' + str(m) + 'e' + str(exp) # if m = 25 and exp = 2, will become '_25e2\n",
    "    csv_path = csv_dir + data_type + e + '.csv' # '../data/2016_2019/samples/' + 'users' + '_25e2' + 'csv'\n",
    "else:\n",
    "    csv_dir = '../data/2016_2019/full/'\n",
    "    e = ''\n",
    "    csv_path = csv_dir + data_type + e + '.csv' # '../data/2016_2019/samples/' + 'users' + '' + '.csv'"
   ]
  },
  {
   "cell_type": "markdown",
   "metadata": {},
   "source": [
    "In order to prevent the need to do this for every type of file, I have created a list of all the different types of files, and a function (see section 5.1 \"CREATE CSV PATHS\") which takes this list, and does exactly what the above does but for multiple file types instead of just one."
   ]
  },
  {
   "cell_type": "code",
   "execution_count": null,
   "metadata": {
    "collapsed": true
   },
   "outputs": [],
   "source": [
    "data_types = ['answers', 'comments', 'notes', 'questions', 'users', 'wikis', 'paths', 'tags', 'terms']\n",
    "\n",
    "csv_paths = create_csv_paths(data_types)\n",
    "\n",
    "# print csv_paths"
   ]
  },
  {
   "cell_type": "markdown",
   "metadata": {},
   "source": [
    "From here on out, I will generally write what's happening inside the code as comments beginning with '#'.  If there is something a bit deeper going on, I'll explain it more fully."
   ]
  },
  {
   "cell_type": "markdown",
   "metadata": {
    "deletable": true,
    "editable": true
   },
   "source": [
    "## MERGE OLD AND NEW DATA"
   ]
  },
  {
   "cell_type": "markdown",
   "metadata": {
    "deletable": true,
    "editable": true
   },
   "source": [
    "### NODES: 03-2013 - 08-2016"
   ]
  },
  {
   "cell_type": "markdown",
   "metadata": {
    "deletable": true,
    "editable": true
   },
   "source": [
    "#### SEPPERATE QUESTIONS FROM NOTES AND CONCAT NOTES PRE/POST TOGETHER"
   ]
  },
  {
   "cell_type": "code",
   "execution_count": 29,
   "metadata": {
    "ExecuteTime": {
     "end_time": "2019-04-20T21:03:49.956367Z",
     "start_time": "2019-04-20T21:03:49.918605Z"
    },
    "collapsed": false,
    "deletable": true,
    "editable": true,
    "scrolled": true
   },
   "outputs": [
    {
     "data": {
      "text/html": [
       "<div>\n",
       "<style scoped>\n",
       "    .dataframe tbody tr th:only-of-type {\n",
       "        vertical-align: middle;\n",
       "    }\n",
       "\n",
       "    .dataframe tbody tr th {\n",
       "        vertical-align: top;\n",
       "    }\n",
       "\n",
       "    .dataframe thead th {\n",
       "        text-align: right;\n",
       "    }\n",
       "</style>\n",
       "<table border=\"1\" class=\"dataframe\">\n",
       "  <thead>\n",
       "    <tr style=\"text-align: right;\">\n",
       "      <th></th>\n",
       "      <th>nid</th>\n",
       "      <th>type</th>\n",
       "      <th>title</th>\n",
       "      <th>uid</th>\n",
       "      <th>created</th>\n",
       "      <th>comment</th>\n",
       "      <th>tnid</th>\n",
       "      <th>cached_likes</th>\n",
       "    </tr>\n",
       "  </thead>\n",
       "  <tbody>\n",
       "    <tr>\n",
       "      <th>0</th>\n",
       "      <td>6</td>\n",
       "      <td>note</td>\n",
       "      <td>Toy spectrometers arrived</td>\n",
       "      <td>1</td>\n",
       "      <td>1291706359</td>\n",
       "      <td>2</td>\n",
       "      <td>0</td>\n",
       "      <td>0</td>\n",
       "    </tr>\n",
       "    <tr>\n",
       "      <th>1</th>\n",
       "      <td>7</td>\n",
       "      <td>note</td>\n",
       "      <td>Attempted infrared imaging of motor oil in sal...</td>\n",
       "      <td>1</td>\n",
       "      <td>1291733403</td>\n",
       "      <td>2</td>\n",
       "      <td>0</td>\n",
       "      <td>0</td>\n",
       "    </tr>\n",
       "    <tr>\n",
       "      <th>2</th>\n",
       "      <td>13</td>\n",
       "      <td>note</td>\n",
       "      <td>Bayou St. Denis in Cartagen Knitter</td>\n",
       "      <td>1</td>\n",
       "      <td>1291830863</td>\n",
       "      <td>2</td>\n",
       "      <td>0</td>\n",
       "      <td>0</td>\n",
       "    </tr>\n",
       "    <tr>\n",
       "      <th>3</th>\n",
       "      <td>17</td>\n",
       "      <td>note</td>\n",
       "      <td>Scanning spectrometry video test</td>\n",
       "      <td>1</td>\n",
       "      <td>1291944246</td>\n",
       "      <td>2</td>\n",
       "      <td>0</td>\n",
       "      <td>0</td>\n",
       "    </tr>\n",
       "    <tr>\n",
       "      <th>4</th>\n",
       "      <td>23</td>\n",
       "      <td>note</td>\n",
       "      <td>Normalized Difference Vegetation Index</td>\n",
       "      <td>1</td>\n",
       "      <td>1292030311</td>\n",
       "      <td>2</td>\n",
       "      <td>0</td>\n",
       "      <td>0</td>\n",
       "    </tr>\n",
       "  </tbody>\n",
       "</table>\n",
       "</div>"
      ],
      "text/plain": [
       "   nid  type                                              title  uid  \\\n",
       "0    6  note                          Toy spectrometers arrived    1   \n",
       "1    7  note  Attempted infrared imaging of motor oil in sal...    1   \n",
       "2   13  note                Bayou St. Denis in Cartagen Knitter    1   \n",
       "3   17  note                   Scanning spectrometry video test    1   \n",
       "4   23  note             Normalized Difference Vegetation Index    1   \n",
       "\n",
       "      created  comment  tnid  cached_likes  \n",
       "0  1291706359        2     0             0  \n",
       "1  1291733403        2     0             0  \n",
       "2  1291830863        2     0             0  \n",
       "3  1291944246        2     0             0  \n",
       "4  1292030311        2     0             0  "
      ]
     },
     "execution_count": 29,
     "metadata": {},
     "output_type": "execute_result"
    }
   ],
   "source": [
    "use_cols = [u'nid', u'type', u'title', u'uid', u'created', u'comment', u'tnid', u'cached_likes']\n",
    "notes_path_one = '../data/2016_2019/full/notes_part_one.csv'\n",
    "notes_one = pd.read_csv(notes_path_one, usecols=use_cols) \n",
    "notes_one.sort_values('created', inplace=True)\n",
    "\n",
    "# Tuesday, December 7, 2010 7:19:19 \n",
    "notes_one.head()"
   ]
  },
  {
   "cell_type": "code",
   "execution_count": 57,
   "metadata": {
    "ExecuteTime": {
     "end_time": "2019-04-21T20:03:01.980708Z",
     "start_time": "2019-04-21T20:03:01.973897Z"
    },
    "collapsed": false,
    "deletable": true,
    "editable": true
   },
   "outputs": [
    {
     "data": {
      "text/plain": [
       "array(['note'], dtype=object)"
      ]
     },
     "execution_count": 57,
     "metadata": {},
     "output_type": "execute_result"
    }
   ],
   "source": [
    "notes_one['type'].unique()"
   ]
  },
  {
   "cell_type": "code",
   "execution_count": 31,
   "metadata": {
    "ExecuteTime": {
     "end_time": "2019-04-20T21:04:15.361610Z",
     "start_time": "2019-04-20T21:04:15.336332Z"
    },
    "collapsed": false,
    "deletable": true,
    "editable": true
   },
   "outputs": [
    {
     "data": {
      "text/html": [
       "<div>\n",
       "<style scoped>\n",
       "    .dataframe tbody tr th:only-of-type {\n",
       "        vertical-align: middle;\n",
       "    }\n",
       "\n",
       "    .dataframe tbody tr th {\n",
       "        vertical-align: top;\n",
       "    }\n",
       "\n",
       "    .dataframe thead th {\n",
       "        text-align: right;\n",
       "    }\n",
       "</style>\n",
       "<table border=\"1\" class=\"dataframe\">\n",
       "  <thead>\n",
       "    <tr style=\"text-align: right;\">\n",
       "      <th></th>\n",
       "      <th>nid</th>\n",
       "      <th>type</th>\n",
       "      <th>title</th>\n",
       "      <th>uid</th>\n",
       "      <th>created</th>\n",
       "      <th>comment</th>\n",
       "      <th>tnid</th>\n",
       "      <th>cached_likes</th>\n",
       "    </tr>\n",
       "  </thead>\n",
       "  <tbody>\n",
       "    <tr>\n",
       "      <th>2628</th>\n",
       "      <td>13309</td>\n",
       "      <td>note</td>\n",
       "      <td>Progress of the Expanded Q &amp; A Project</td>\n",
       "      <td>468506</td>\n",
       "      <td>1469477988</td>\n",
       "      <td>2</td>\n",
       "      <td>0</td>\n",
       "      <td>3</td>\n",
       "    </tr>\n",
       "    <tr>\n",
       "      <th>2629</th>\n",
       "      <td>13310</td>\n",
       "      <td>note</td>\n",
       "      <td>Photos to 3D</td>\n",
       "      <td>554</td>\n",
       "      <td>1469504400</td>\n",
       "      <td>2</td>\n",
       "      <td>0</td>\n",
       "      <td>0</td>\n",
       "    </tr>\n",
       "    <tr>\n",
       "      <th>2625</th>\n",
       "      <td>13311</td>\n",
       "      <td>note</td>\n",
       "      <td>Last week in Google Summer of Code</td>\n",
       "      <td>1</td>\n",
       "      <td>1469554219</td>\n",
       "      <td>2</td>\n",
       "      <td>0</td>\n",
       "      <td>0</td>\n",
       "    </tr>\n",
       "    <tr>\n",
       "      <th>2627</th>\n",
       "      <td>13312</td>\n",
       "      <td>note</td>\n",
       "      <td>Question: Joining</td>\n",
       "      <td>483438</td>\n",
       "      <td>1469617059</td>\n",
       "      <td>2</td>\n",
       "      <td>0</td>\n",
       "      <td>0</td>\n",
       "    </tr>\n",
       "    <tr>\n",
       "      <th>2626</th>\n",
       "      <td>13313</td>\n",
       "      <td>note</td>\n",
       "      <td>Top Dating Agency in Pune !</td>\n",
       "      <td>485226</td>\n",
       "      <td>1469619453</td>\n",
       "      <td>2</td>\n",
       "      <td>0</td>\n",
       "      <td>0</td>\n",
       "    </tr>\n",
       "  </tbody>\n",
       "</table>\n",
       "</div>"
      ],
      "text/plain": [
       "        nid  type                                   title     uid     created  \\\n",
       "2628  13309  note  Progress of the Expanded Q & A Project  468506  1469477988   \n",
       "2629  13310  note                            Photos to 3D     554  1469504400   \n",
       "2625  13311  note      Last week in Google Summer of Code       1  1469554219   \n",
       "2627  13312  note                       Question: Joining  483438  1469617059   \n",
       "2626  13313  note             Top Dating Agency in Pune !  485226  1469619453   \n",
       "\n",
       "      comment  tnid  cached_likes  \n",
       "2628        2     0             3  \n",
       "2629        2     0             0  \n",
       "2625        2     0             0  \n",
       "2627        2     0             0  \n",
       "2626        2     0             0  "
      ]
     },
     "execution_count": 31,
     "metadata": {},
     "output_type": "execute_result"
    }
   ],
   "source": [
    "# Wednesday, July 27, 2016 11:37:33 \n",
    "notes_one.tail()"
   ]
  },
  {
   "cell_type": "code",
   "execution_count": 61,
   "metadata": {
    "ExecuteTime": {
     "end_time": "2019-04-21T20:03:36.647421Z",
     "start_time": "2019-04-21T20:03:36.637789Z"
    },
    "collapsed": false,
    "deletable": true,
    "editable": true
   },
   "outputs": [
    {
     "data": {
      "text/plain": [
       "array(['note'], dtype=object)"
      ]
     },
     "execution_count": 61,
     "metadata": {},
     "output_type": "execute_result"
    }
   ],
   "source": [
    "# notes_one.loc[notes_one['nid'] == 11503]\n",
    "notes_two.loc[notes_two['nid'] == 13313]\n",
    "notes_two['type'].unique()"
   ]
  },
  {
   "cell_type": "code",
   "execution_count": 32,
   "metadata": {
    "ExecuteTime": {
     "end_time": "2019-04-20T21:04:41.738614Z",
     "start_time": "2019-04-20T21:04:41.697493Z"
    },
    "collapsed": false,
    "deletable": true,
    "editable": true
   },
   "outputs": [
    {
     "data": {
      "text/html": [
       "<div>\n",
       "<style scoped>\n",
       "    .dataframe tbody tr th:only-of-type {\n",
       "        vertical-align: middle;\n",
       "    }\n",
       "\n",
       "    .dataframe tbody tr th {\n",
       "        vertical-align: top;\n",
       "    }\n",
       "\n",
       "    .dataframe thead th {\n",
       "        text-align: right;\n",
       "    }\n",
       "</style>\n",
       "<table border=\"1\" class=\"dataframe\">\n",
       "  <thead>\n",
       "    <tr style=\"text-align: right;\">\n",
       "      <th></th>\n",
       "      <th>nid</th>\n",
       "      <th>type</th>\n",
       "      <th>title</th>\n",
       "      <th>uid</th>\n",
       "      <th>created</th>\n",
       "      <th>comment</th>\n",
       "      <th>tnid</th>\n",
       "      <th>cached_likes</th>\n",
       "    </tr>\n",
       "  </thead>\n",
       "  <tbody>\n",
       "    <tr>\n",
       "      <th>0</th>\n",
       "      <td>11503</td>\n",
       "      <td>note</td>\n",
       "      <td>Public Lab at Science for Action</td>\n",
       "      <td>554</td>\n",
       "      <td>1420328192</td>\n",
       "      <td>2</td>\n",
       "      <td>0</td>\n",
       "      <td>3</td>\n",
       "    </tr>\n",
       "    <tr>\n",
       "      <th>1</th>\n",
       "      <td>11504</td>\n",
       "      <td>note</td>\n",
       "      <td>Public Lab Barnraising 2014, day 3</td>\n",
       "      <td>554</td>\n",
       "      <td>1420328228</td>\n",
       "      <td>2</td>\n",
       "      <td>0</td>\n",
       "      <td>0</td>\n",
       "    </tr>\n",
       "    <tr>\n",
       "      <th>2</th>\n",
       "      <td>11505</td>\n",
       "      <td>note</td>\n",
       "      <td>Public Lab Barnraising 2014, day 2</td>\n",
       "      <td>554</td>\n",
       "      <td>1420328254</td>\n",
       "      <td>2</td>\n",
       "      <td>0</td>\n",
       "      <td>0</td>\n",
       "    </tr>\n",
       "    <tr>\n",
       "      <th>3</th>\n",
       "      <td>11506</td>\n",
       "      <td>note</td>\n",
       "      <td>Public Lab Barnraising 2014, day 1</td>\n",
       "      <td>554</td>\n",
       "      <td>1420328276</td>\n",
       "      <td>2</td>\n",
       "      <td>0</td>\n",
       "      <td>0</td>\n",
       "    </tr>\n",
       "    <tr>\n",
       "      <th>4</th>\n",
       "      <td>11507</td>\n",
       "      <td>note</td>\n",
       "      <td>Public Lab Organizers Summit, 2014</td>\n",
       "      <td>554</td>\n",
       "      <td>1420328303</td>\n",
       "      <td>2</td>\n",
       "      <td>0</td>\n",
       "      <td>4</td>\n",
       "    </tr>\n",
       "  </tbody>\n",
       "</table>\n",
       "</div>"
      ],
      "text/plain": [
       "     nid  type                               title  uid     created  comment  \\\n",
       "0  11503  note   Public Lab at Science for Action   554  1420328192        2   \n",
       "1  11504  note  Public Lab Barnraising 2014, day 3  554  1420328228        2   \n",
       "2  11505  note  Public Lab Barnraising 2014, day 2  554  1420328254        2   \n",
       "3  11506  note  Public Lab Barnraising 2014, day 1  554  1420328276        2   \n",
       "4  11507  note  Public Lab Organizers Summit, 2014  554  1420328303        2   \n",
       "\n",
       "   tnid  cached_likes  \n",
       "0     0             3  \n",
       "1     0             0  \n",
       "2     0             0  \n",
       "3     0             0  \n",
       "4     0             4  "
      ]
     },
     "execution_count": 32,
     "metadata": {},
     "output_type": "execute_result"
    }
   ],
   "source": [
    "notes_path_two = '../data/2016_2019/full/notes_part_two.csv'\n",
    "notes_two = pd.read_csv(notes_path_two, usecols=use_cols)#, usecols=use_cols, parse_dates=['created_at'], na_filter=False) \n",
    "notes_two.sort_values('created', inplace=True)\n",
    "\n",
    "# Saturday, January 3, 2015 23:36:32 \n",
    "notes_two.head()"
   ]
  },
  {
   "cell_type": "code",
   "execution_count": 33,
   "metadata": {
    "ExecuteTime": {
     "end_time": "2019-04-20T21:05:51.403216Z",
     "start_time": "2019-04-20T21:05:51.378517Z"
    },
    "collapsed": false,
    "deletable": true,
    "editable": true
   },
   "outputs": [
    {
     "data": {
      "text/html": [
       "<div>\n",
       "<style scoped>\n",
       "    .dataframe tbody tr th:only-of-type {\n",
       "        vertical-align: middle;\n",
       "    }\n",
       "\n",
       "    .dataframe tbody tr th {\n",
       "        vertical-align: top;\n",
       "    }\n",
       "\n",
       "    .dataframe thead th {\n",
       "        text-align: right;\n",
       "    }\n",
       "</style>\n",
       "<table border=\"1\" class=\"dataframe\">\n",
       "  <thead>\n",
       "    <tr style=\"text-align: right;\">\n",
       "      <th></th>\n",
       "      <th>nid</th>\n",
       "      <th>type</th>\n",
       "      <th>title</th>\n",
       "      <th>uid</th>\n",
       "      <th>created</th>\n",
       "      <th>comment</th>\n",
       "      <th>tnid</th>\n",
       "      <th>cached_likes</th>\n",
       "    </tr>\n",
       "  </thead>\n",
       "  <tbody>\n",
       "    <tr>\n",
       "      <th>3150</th>\n",
       "      <td>19046</td>\n",
       "      <td>note</td>\n",
       "      <td>Does the \"rolling shutter\" aspect of cameras i...</td>\n",
       "      <td>505738</td>\n",
       "      <td>1555095200</td>\n",
       "      <td>2</td>\n",
       "      <td>0</td>\n",
       "      <td>1</td>\n",
       "    </tr>\n",
       "    <tr>\n",
       "      <th>3151</th>\n",
       "      <td>19047</td>\n",
       "      <td>note</td>\n",
       "      <td>How to interpret soil test results</td>\n",
       "      <td>569208</td>\n",
       "      <td>1555103090</td>\n",
       "      <td>2</td>\n",
       "      <td>0</td>\n",
       "      <td>0</td>\n",
       "    </tr>\n",
       "    <tr>\n",
       "      <th>3152</th>\n",
       "      <td>19050</td>\n",
       "      <td>note</td>\n",
       "      <td>Prototyping A Cellphone Microscope</td>\n",
       "      <td>237313</td>\n",
       "      <td>1555165221</td>\n",
       "      <td>2</td>\n",
       "      <td>0</td>\n",
       "      <td>0</td>\n",
       "    </tr>\n",
       "    <tr>\n",
       "      <th>3153</th>\n",
       "      <td>19051</td>\n",
       "      <td>note</td>\n",
       "      <td>GSOC-19 Mapknitter synchronous editing</td>\n",
       "      <td>517093</td>\n",
       "      <td>1555184525</td>\n",
       "      <td>2</td>\n",
       "      <td>0</td>\n",
       "      <td>0</td>\n",
       "    </tr>\n",
       "    <tr>\n",
       "      <th>3154</th>\n",
       "      <td>19054</td>\n",
       "      <td>note</td>\n",
       "      <td>Forest Conservation Through Local Wisdom</td>\n",
       "      <td>584138</td>\n",
       "      <td>1555237623</td>\n",
       "      <td>2</td>\n",
       "      <td>0</td>\n",
       "      <td>0</td>\n",
       "    </tr>\n",
       "  </tbody>\n",
       "</table>\n",
       "</div>"
      ],
      "text/plain": [
       "        nid  type                                              title     uid  \\\n",
       "3150  19046  note  Does the \"rolling shutter\" aspect of cameras i...  505738   \n",
       "3151  19047  note                How to interpret soil test results   569208   \n",
       "3152  19050  note                 Prototyping A Cellphone Microscope  237313   \n",
       "3153  19051  note             GSOC-19 Mapknitter synchronous editing  517093   \n",
       "3154  19054  note           Forest Conservation Through Local Wisdom  584138   \n",
       "\n",
       "         created  comment  tnid  cached_likes  \n",
       "3150  1555095200        2     0             1  \n",
       "3151  1555103090        2     0             0  \n",
       "3152  1555165221        2     0             0  \n",
       "3153  1555184525        2     0             0  \n",
       "3154  1555237623        2     0             0  "
      ]
     },
     "execution_count": 33,
     "metadata": {},
     "output_type": "execute_result"
    }
   ],
   "source": [
    "# Sunday, April 14, 2019 10:27:03 \n",
    "notes_two.sort_values('created').tail()"
   ]
  },
  {
   "cell_type": "code",
   "execution_count": 14,
   "metadata": {
    "ExecuteTime": {
     "end_time": "2019-04-20T20:44:05.104466Z",
     "start_time": "2019-04-20T20:44:04.998541Z"
    },
    "collapsed": false,
    "deletable": true,
    "editable": true
   },
   "outputs": [
    {
     "name": "stdout",
     "output_type": "stream",
     "text": [
      "page: 908\n",
      "note: 2635\n",
      "event: 4\n",
      "tool: 13\n",
      "map: 230\n"
     ]
    }
   ],
   "source": [
    "for data_type in ['page', 'note', 'event', 'tool', 'map']:\n",
    "    \n",
    "    df = nodes.loc[nodes['type'] == data_type]\n",
    "    print data_type + ':', df.shape[0]\n",
    "    df.to_csv('../data/2016_2019/full/' + data_type + 's_part_one', index=False)"
   ]
  },
  {
   "cell_type": "code",
   "execution_count": 41,
   "metadata": {
    "ExecuteTime": {
     "end_time": "2019-04-21T19:45:41.127642Z",
     "start_time": "2019-04-21T19:45:41.015030Z"
    },
    "collapsed": false,
    "deletable": true,
    "editable": true
   },
   "outputs": [
    {
     "data": {
      "text/html": [
       "<div>\n",
       "<style scoped>\n",
       "    .dataframe tbody tr th:only-of-type {\n",
       "        vertical-align: middle;\n",
       "    }\n",
       "\n",
       "    .dataframe tbody tr th {\n",
       "        vertical-align: top;\n",
       "    }\n",
       "\n",
       "    .dataframe thead th {\n",
       "        text-align: right;\n",
       "    }\n",
       "</style>\n",
       "<table border=\"1\" class=\"dataframe\">\n",
       "  <thead>\n",
       "    <tr style=\"text-align: right;\">\n",
       "      <th></th>\n",
       "      <th>nid</th>\n",
       "      <th>uid</th>\n",
       "      <th>qid</th>\n",
       "      <th>date</th>\n",
       "      <th>user_cmnts</th>\n",
       "      <th>thread_cmnts</th>\n",
       "      <th>likes</th>\n",
       "      <th>type</th>\n",
       "      <th>title</th>\n",
       "    </tr>\n",
       "  </thead>\n",
       "  <tbody>\n",
       "    <tr>\n",
       "      <th>0</th>\n",
       "      <td>11516</td>\n",
       "      <td>433692</td>\n",
       "      <td>1</td>\n",
       "      <td>1421053078</td>\n",
       "      <td>2</td>\n",
       "      <td>3</td>\n",
       "      <td>1</td>\n",
       "      <td>qstn</td>\n",
       "      <td>Is it possible to log the data from a dustduin...</td>\n",
       "    </tr>\n",
       "    <tr>\n",
       "      <th>1</th>\n",
       "      <td>11524</td>\n",
       "      <td>433790</td>\n",
       "      <td>2</td>\n",
       "      <td>1421278243</td>\n",
       "      <td>2</td>\n",
       "      <td>1</td>\n",
       "      <td>1</td>\n",
       "      <td>qstn</td>\n",
       "      <td>Is the dustduino (with Shinyei sensor) appropr...</td>\n",
       "    </tr>\n",
       "    <tr>\n",
       "      <th>2</th>\n",
       "      <td>11526</td>\n",
       "      <td>433849</td>\n",
       "      <td>3</td>\n",
       "      <td>1421429978</td>\n",
       "      <td>2</td>\n",
       "      <td>2</td>\n",
       "      <td>0</td>\n",
       "      <td>qstn</td>\n",
       "      <td>How can I test my tap water for BPA</td>\n",
       "    </tr>\n",
       "    <tr>\n",
       "      <th>3</th>\n",
       "      <td>11545</td>\n",
       "      <td>4</td>\n",
       "      <td>4</td>\n",
       "      <td>1422557787</td>\n",
       "      <td>2</td>\n",
       "      <td>6</td>\n",
       "      <td>5</td>\n",
       "      <td>qstn</td>\n",
       "      <td>dealing with patents: Black &amp; Decker and the T...</td>\n",
       "    </tr>\n",
       "    <tr>\n",
       "      <th>4</th>\n",
       "      <td>11610</td>\n",
       "      <td>435436</td>\n",
       "      <td>5</td>\n",
       "      <td>1424457388</td>\n",
       "      <td>2</td>\n",
       "      <td>2</td>\n",
       "      <td>0</td>\n",
       "      <td>qstn</td>\n",
       "      <td>Is the project still active?</td>\n",
       "    </tr>\n",
       "  </tbody>\n",
       "</table>\n",
       "</div>"
      ],
      "text/plain": [
       "     nid     uid  qid        date  user_cmnts  thread_cmnts  likes  type  \\\n",
       "0  11516  433692    1  1421053078           2             3      1  qstn   \n",
       "1  11524  433790    2  1421278243           2             1      1  qstn   \n",
       "2  11526  433849    3  1421429978           2             2      0  qstn   \n",
       "3  11545       4    4  1422557787           2             6      5  qstn   \n",
       "4  11610  435436    5  1424457388           2             2      0  qstn   \n",
       "\n",
       "                                               title  \n",
       "0  Is it possible to log the data from a dustduin...  \n",
       "1  Is the dustduino (with Shinyei sensor) appropr...  \n",
       "2                How can I test my tap water for BPA  \n",
       "3  dealing with patents: Black & Decker and the T...  \n",
       "4                       Is the project still active?  "
      ]
     },
     "execution_count": 41,
     "metadata": {},
     "output_type": "execute_result"
    }
   ],
   "source": [
    "quest_cols = [u'nid', u'uid', u'qid', u'created', u'comment', u'comments_count', u'cached_likes', u'type', u'title']\n",
    "\n",
    "renamed_quest_cols = {'created': 'date', 'comments_count': 'thread_cmnts', \n",
    "                      'comment': 'user_cmnts', 'cached_likes': 'likes'}\n",
    "\n",
    "questions = pd.read_csv(csv_paths['questions'])\n",
    "questions['type'] = 'qstn'\n",
    "questions['qid'] = range(1, questions.shape[0] + 1)\n",
    "\n",
    "questions = questions[quest_cols] # questions.columns = cols\n",
    "questions.rename(index=str, columns=renamed_quest_cols, inplace=True)\n",
    "\n",
    "# questions.columns\n",
    "questions.head() # (902, 8)"
   ]
  },
  {
   "cell_type": "code",
   "execution_count": 44,
   "metadata": {
    "ExecuteTime": {
     "end_time": "2019-04-21T19:53:17.709766Z",
     "start_time": "2019-04-21T19:53:17.692580Z"
    },
    "collapsed": false,
    "deletable": true,
    "editable": true
   },
   "outputs": [
    {
     "name": "stdout",
     "output_type": "stream",
     "text": [
      "2635 3155 902\n",
      "2573 2253\n"
     ]
    }
   ],
   "source": [
    "notes_only_one = notes_one.loc[~notes_one['nid'].isin(questions['nid'])]\n",
    "notes_only_two = notes_two.loc[~notes_two['nid'].isin(questions['nid'])]\n",
    "\n",
    "print notes_one.shape[0], notes_two.shape[0], questions.shape[0]\n",
    "print notes_only_one.shape[0], notes_only_two.shape[0]"
   ]
  },
  {
   "cell_type": "code",
   "execution_count": 50,
   "metadata": {
    "ExecuteTime": {
     "end_time": "2019-04-21T20:00:13.632627Z",
     "start_time": "2019-04-21T20:00:13.589002Z"
    },
    "collapsed": false,
    "deletable": true,
    "editable": true
   },
   "outputs": [
    {
     "data": {
      "text/html": [
       "<div>\n",
       "<style scoped>\n",
       "    .dataframe tbody tr th:only-of-type {\n",
       "        vertical-align: middle;\n",
       "    }\n",
       "\n",
       "    .dataframe tbody tr th {\n",
       "        vertical-align: top;\n",
       "    }\n",
       "\n",
       "    .dataframe thead th {\n",
       "        text-align: right;\n",
       "    }\n",
       "</style>\n",
       "<table border=\"1\" class=\"dataframe\">\n",
       "  <thead>\n",
       "    <tr style=\"text-align: right;\">\n",
       "      <th></th>\n",
       "      <th>nid</th>\n",
       "      <th>type</th>\n",
       "      <th>title</th>\n",
       "      <th>uid</th>\n",
       "      <th>created</th>\n",
       "      <th>comment</th>\n",
       "      <th>tnid</th>\n",
       "      <th>cached_likes</th>\n",
       "    </tr>\n",
       "  </thead>\n",
       "  <tbody>\n",
       "    <tr>\n",
       "      <th>1322</th>\n",
       "      <td>7436</td>\n",
       "      <td>note</td>\n",
       "      <td>Picking Trouble-Free Systems In bags</td>\n",
       "      <td>63504</td>\n",
       "      <td>1368287941</td>\n",
       "      <td>2</td>\n",
       "      <td>0</td>\n",
       "      <td>2</td>\n",
       "    </tr>\n",
       "    <tr>\n",
       "      <th>1900</th>\n",
       "      <td>12523</td>\n",
       "      <td>note</td>\n",
       "      <td>Oil Testing Kit -- Beta tests (with some neede...</td>\n",
       "      <td>430549</td>\n",
       "      <td>1450304007</td>\n",
       "      <td>2</td>\n",
       "      <td>0</td>\n",
       "      <td>0</td>\n",
       "    </tr>\n",
       "    <tr>\n",
       "      <th>597</th>\n",
       "      <td>2824</td>\n",
       "      <td>note</td>\n",
       "      <td>FABAnorth arrow</td>\n",
       "      <td>1310</td>\n",
       "      <td>1342462136</td>\n",
       "      <td>2</td>\n",
       "      <td>0</td>\n",
       "      <td>0</td>\n",
       "    </tr>\n",
       "    <tr>\n",
       "      <th>114</th>\n",
       "      <td>349</td>\n",
       "      <td>note</td>\n",
       "      <td>QGIS 1.7 is out :)</td>\n",
       "      <td>12</td>\n",
       "      <td>1308595040</td>\n",
       "      <td>2</td>\n",
       "      <td>0</td>\n",
       "      <td>2</td>\n",
       "    </tr>\n",
       "    <tr>\n",
       "      <th>2085</th>\n",
       "      <td>12093</td>\n",
       "      <td>note</td>\n",
       "      <td>Tampon Testing for Wastewater</td>\n",
       "      <td>429279</td>\n",
       "      <td>1437665088</td>\n",
       "      <td>2</td>\n",
       "      <td>0</td>\n",
       "      <td>3</td>\n",
       "    </tr>\n",
       "    <tr>\n",
       "      <th>1847</th>\n",
       "      <td>12460</td>\n",
       "      <td>note</td>\n",
       "      <td>GroundWorksNOLA youth presenting at Barnraisin...</td>\n",
       "      <td>7</td>\n",
       "      <td>1448739424</td>\n",
       "      <td>2</td>\n",
       "      <td>0</td>\n",
       "      <td>0</td>\n",
       "    </tr>\n",
       "    <tr>\n",
       "      <th>973</th>\n",
       "      <td>6235</td>\n",
       "      <td>note</td>\n",
       "      <td>Green Slice:  shots from kite lesson in Mr Mor...</td>\n",
       "      <td>379</td>\n",
       "      <td>1362698675</td>\n",
       "      <td>2</td>\n",
       "      <td>0</td>\n",
       "      <td>0</td>\n",
       "    </tr>\n",
       "    <tr>\n",
       "      <th>1853</th>\n",
       "      <td>12464</td>\n",
       "      <td>note</td>\n",
       "      <td>Riffle Beta Release: Feature Requests / Review?</td>\n",
       "      <td>43651</td>\n",
       "      <td>1448926026</td>\n",
       "      <td>2</td>\n",
       "      <td>0</td>\n",
       "      <td>3</td>\n",
       "    </tr>\n",
       "    <tr>\n",
       "      <th>780</th>\n",
       "      <td>4760</td>\n",
       "      <td>note</td>\n",
       "      <td>Barnraising: Stewart talks map making</td>\n",
       "      <td>4</td>\n",
       "      <td>1351956635</td>\n",
       "      <td>2</td>\n",
       "      <td>0</td>\n",
       "      <td>0</td>\n",
       "    </tr>\n",
       "    <tr>\n",
       "      <th>1402</th>\n",
       "      <td>7586</td>\n",
       "      <td>note</td>\n",
       "      <td>moncler outlet qcgykt</td>\n",
       "      <td>67835</td>\n",
       "      <td>1368645020</td>\n",
       "      <td>2</td>\n",
       "      <td>0</td>\n",
       "      <td>2</td>\n",
       "    </tr>\n",
       "  </tbody>\n",
       "</table>\n",
       "</div>"
      ],
      "text/plain": [
       "        nid  type                                              title     uid  \\\n",
       "1322   7436  note               Picking Trouble-Free Systems In bags   63504   \n",
       "1900  12523  note  Oil Testing Kit -- Beta tests (with some neede...  430549   \n",
       "597    2824  note                                    FABAnorth arrow    1310   \n",
       "114     349  note                                 QGIS 1.7 is out :)      12   \n",
       "2085  12093  note                      Tampon Testing for Wastewater  429279   \n",
       "1847  12460  note  GroundWorksNOLA youth presenting at Barnraisin...       7   \n",
       "973    6235  note  Green Slice:  shots from kite lesson in Mr Mor...     379   \n",
       "1853  12464  note   Riffle Beta Release: Feature Requests / Review?    43651   \n",
       "780    4760  note              Barnraising: Stewart talks map making       4   \n",
       "1402   7586  note                              moncler outlet qcgykt   67835   \n",
       "\n",
       "         created  comment  tnid  cached_likes  \n",
       "1322  1368287941        2     0             2  \n",
       "1900  1450304007        2     0             0  \n",
       "597   1342462136        2     0             0  \n",
       "114   1308595040        2     0             2  \n",
       "2085  1437665088        2     0             3  \n",
       "1847  1448739424        2     0             0  \n",
       "973   1362698675        2     0             0  \n",
       "1853  1448926026        2     0             3  \n",
       "780   1351956635        2     0             0  \n",
       "1402  1368645020        2     0             2  "
      ]
     },
     "execution_count": 50,
     "metadata": {},
     "output_type": "execute_result"
    }
   ],
   "source": [
    "notes_only_one.sample(10)"
   ]
  },
  {
   "cell_type": "code",
   "execution_count": 53,
   "metadata": {
    "ExecuteTime": {
     "end_time": "2019-04-21T20:00:33.953143Z",
     "start_time": "2019-04-21T20:00:33.918462Z"
    },
    "collapsed": false,
    "deletable": true,
    "editable": true
   },
   "outputs": [
    {
     "data": {
      "text/html": [
       "<div>\n",
       "<style scoped>\n",
       "    .dataframe tbody tr th:only-of-type {\n",
       "        vertical-align: middle;\n",
       "    }\n",
       "\n",
       "    .dataframe tbody tr th {\n",
       "        vertical-align: top;\n",
       "    }\n",
       "\n",
       "    .dataframe thead th {\n",
       "        text-align: right;\n",
       "    }\n",
       "</style>\n",
       "<table border=\"1\" class=\"dataframe\">\n",
       "  <thead>\n",
       "    <tr style=\"text-align: right;\">\n",
       "      <th></th>\n",
       "      <th>nid</th>\n",
       "      <th>type</th>\n",
       "      <th>title</th>\n",
       "      <th>uid</th>\n",
       "      <th>created</th>\n",
       "      <th>comment</th>\n",
       "      <th>tnid</th>\n",
       "      <th>cached_likes</th>\n",
       "    </tr>\n",
       "  </thead>\n",
       "  <tbody>\n",
       "    <tr>\n",
       "      <th>1161</th>\n",
       "      <td>13457</td>\n",
       "      <td>note</td>\n",
       "      <td>Draft Meta-Riffle Part 2: All about pins</td>\n",
       "      <td>459085</td>\n",
       "      <td>1474064170</td>\n",
       "      <td>2</td>\n",
       "      <td>0</td>\n",
       "      <td>1</td>\n",
       "    </tr>\n",
       "    <tr>\n",
       "      <th>950</th>\n",
       "      <td>13129</td>\n",
       "      <td>note</td>\n",
       "      <td>Survey for newcomers on interface design of ne...</td>\n",
       "      <td>1</td>\n",
       "      <td>1463677254</td>\n",
       "      <td>2</td>\n",
       "      <td>0</td>\n",
       "      <td>1</td>\n",
       "    </tr>\n",
       "    <tr>\n",
       "      <th>2834</th>\n",
       "      <td>17387</td>\n",
       "      <td>note</td>\n",
       "      <td>Educating a New Generation of Advocates</td>\n",
       "      <td>540844</td>\n",
       "      <td>1540408226</td>\n",
       "      <td>2</td>\n",
       "      <td>0</td>\n",
       "      <td>3</td>\n",
       "    </tr>\n",
       "    <tr>\n",
       "      <th>967</th>\n",
       "      <td>13157</td>\n",
       "      <td>note</td>\n",
       "      <td>My cat helped me out on this one!</td>\n",
       "      <td>461120</td>\n",
       "      <td>1464797328</td>\n",
       "      <td>2</td>\n",
       "      <td>0</td>\n",
       "      <td>0</td>\n",
       "    </tr>\n",
       "    <tr>\n",
       "      <th>1189</th>\n",
       "      <td>13501</td>\n",
       "      <td>note</td>\n",
       "      <td>MapKnitter map of Joshua Leslie Lab 5</td>\n",
       "      <td>493191</td>\n",
       "      <td>1475102830</td>\n",
       "      <td>2</td>\n",
       "      <td>0</td>\n",
       "      <td>0</td>\n",
       "    </tr>\n",
       "    <tr>\n",
       "      <th>1847</th>\n",
       "      <td>14847</td>\n",
       "      <td>note</td>\n",
       "      <td>Wrapping up Google Summer of Code 2017 at Publ...</td>\n",
       "      <td>1</td>\n",
       "      <td>1504821106</td>\n",
       "      <td>2</td>\n",
       "      <td>0</td>\n",
       "      <td>3</td>\n",
       "    </tr>\n",
       "    <tr>\n",
       "      <th>1676</th>\n",
       "      <td>14501</td>\n",
       "      <td>note</td>\n",
       "      <td>Calling for your favorite Kite/Balloon Mapping...</td>\n",
       "      <td>237313</td>\n",
       "      <td>1496681396</td>\n",
       "      <td>2</td>\n",
       "      <td>0</td>\n",
       "      <td>4</td>\n",
       "    </tr>\n",
       "    <tr>\n",
       "      <th>2869</th>\n",
       "      <td>17476</td>\n",
       "      <td>note</td>\n",
       "      <td>Expanding Public Lab's community stats system</td>\n",
       "      <td>558157</td>\n",
       "      <td>1541478965</td>\n",
       "      <td>2</td>\n",
       "      <td>0</td>\n",
       "      <td>3</td>\n",
       "    </tr>\n",
       "    <tr>\n",
       "      <th>2936</th>\n",
       "      <td>17879</td>\n",
       "      <td>note</td>\n",
       "      <td>Convert SD1000 to infra-red</td>\n",
       "      <td>460991</td>\n",
       "      <td>1544639573</td>\n",
       "      <td>2</td>\n",
       "      <td>0</td>\n",
       "      <td>0</td>\n",
       "    </tr>\n",
       "    <tr>\n",
       "      <th>699</th>\n",
       "      <td>12642</td>\n",
       "      <td>note</td>\n",
       "      <td>a pendulum rig flies over China</td>\n",
       "      <td>7</td>\n",
       "      <td>1454362851</td>\n",
       "      <td>2</td>\n",
       "      <td>0</td>\n",
       "      <td>4</td>\n",
       "    </tr>\n",
       "  </tbody>\n",
       "</table>\n",
       "</div>"
      ],
      "text/plain": [
       "        nid  type                                              title     uid  \\\n",
       "1161  13457  note           Draft Meta-Riffle Part 2: All about pins  459085   \n",
       "950   13129  note  Survey for newcomers on interface design of ne...       1   \n",
       "2834  17387  note            Educating a New Generation of Advocates  540844   \n",
       "967   13157  note                  My cat helped me out on this one!  461120   \n",
       "1189  13501  note              MapKnitter map of Joshua Leslie Lab 5  493191   \n",
       "1847  14847  note  Wrapping up Google Summer of Code 2017 at Publ...       1   \n",
       "1676  14501  note  Calling for your favorite Kite/Balloon Mapping...  237313   \n",
       "2869  17476  note      Expanding Public Lab's community stats system  558157   \n",
       "2936  17879  note                        Convert SD1000 to infra-red  460991   \n",
       "699   12642  note                    a pendulum rig flies over China       7   \n",
       "\n",
       "         created  comment  tnid  cached_likes  \n",
       "1161  1474064170        2     0             1  \n",
       "950   1463677254        2     0             1  \n",
       "2834  1540408226        2     0             3  \n",
       "967   1464797328        2     0             0  \n",
       "1189  1475102830        2     0             0  \n",
       "1847  1504821106        2     0             3  \n",
       "1676  1496681396        2     0             4  \n",
       "2869  1541478965        2     0             3  \n",
       "2936  1544639573        2     0             0  \n",
       "699   1454362851        2     0             4  "
      ]
     },
     "execution_count": 53,
     "metadata": {},
     "output_type": "execute_result"
    }
   ],
   "source": [
    "notes_only_two.sample(10)"
   ]
  },
  {
   "cell_type": "code",
   "execution_count": 63,
   "metadata": {
    "ExecuteTime": {
     "end_time": "2019-04-21T20:05:44.488193Z",
     "start_time": "2019-04-21T20:05:44.406587Z"
    },
    "collapsed": false,
    "deletable": true,
    "editable": true
   },
   "outputs": [
    {
     "data": {
      "text/html": [
       "<div>\n",
       "<style scoped>\n",
       "    .dataframe tbody tr th:only-of-type {\n",
       "        vertical-align: middle;\n",
       "    }\n",
       "\n",
       "    .dataframe tbody tr th {\n",
       "        vertical-align: top;\n",
       "    }\n",
       "\n",
       "    .dataframe thead th {\n",
       "        text-align: right;\n",
       "    }\n",
       "</style>\n",
       "<table border=\"1\" class=\"dataframe\">\n",
       "  <thead>\n",
       "    <tr style=\"text-align: right;\">\n",
       "      <th></th>\n",
       "      <th>nid</th>\n",
       "      <th>type</th>\n",
       "      <th>title</th>\n",
       "      <th>uid</th>\n",
       "      <th>created</th>\n",
       "      <th>comment</th>\n",
       "      <th>tnid</th>\n",
       "      <th>cached_likes</th>\n",
       "    </tr>\n",
       "  </thead>\n",
       "  <tbody>\n",
       "    <tr>\n",
       "      <th>600</th>\n",
       "      <td>12498</td>\n",
       "      <td>note</td>\n",
       "      <td>Oil Test Kit: 3 crude oil scans</td>\n",
       "      <td>7</td>\n",
       "      <td>1449865524</td>\n",
       "      <td>2</td>\n",
       "      <td>0</td>\n",
       "      <td>0</td>\n",
       "    </tr>\n",
       "    <tr>\n",
       "      <th>1008</th>\n",
       "      <td>13226</td>\n",
       "      <td>note</td>\n",
       "      <td>Plab v2.5 (upgrade 2) Comparison Spectra to Sp...</td>\n",
       "      <td>461120</td>\n",
       "      <td>1466604762</td>\n",
       "      <td>2</td>\n",
       "      <td>0</td>\n",
       "      <td>0</td>\n",
       "    </tr>\n",
       "    <tr>\n",
       "      <th>2009</th>\n",
       "      <td>12622</td>\n",
       "      <td>note</td>\n",
       "      <td>Decolonized Skies</td>\n",
       "      <td>152</td>\n",
       "      <td>1453837584</td>\n",
       "      <td>2</td>\n",
       "      <td>0</td>\n",
       "      <td>6</td>\n",
       "    </tr>\n",
       "    <tr>\n",
       "      <th>202</th>\n",
       "      <td>11834</td>\n",
       "      <td>note</td>\n",
       "      <td>Mid stream Urine analysis: Check whether you n...</td>\n",
       "      <td>442298</td>\n",
       "      <td>1432393019</td>\n",
       "      <td>2</td>\n",
       "      <td>0</td>\n",
       "      <td>2</td>\n",
       "    </tr>\n",
       "    <tr>\n",
       "      <th>2858</th>\n",
       "      <td>17448</td>\n",
       "      <td>note</td>\n",
       "      <td>Inexpensive conductivity probe   Step 1 - Sens...</td>\n",
       "      <td>556121</td>\n",
       "      <td>1541004921</td>\n",
       "      <td>2</td>\n",
       "      <td>0</td>\n",
       "      <td>3</td>\n",
       "    </tr>\n",
       "    <tr>\n",
       "      <th>372</th>\n",
       "      <td>12177</td>\n",
       "      <td>note</td>\n",
       "      <td>HackeAr</td>\n",
       "      <td>426547</td>\n",
       "      <td>1440723379</td>\n",
       "      <td>2</td>\n",
       "      <td>0</td>\n",
       "      <td>1</td>\n",
       "    </tr>\n",
       "    <tr>\n",
       "      <th>93</th>\n",
       "      <td>11649</td>\n",
       "      <td>note</td>\n",
       "      <td>PLab 3 Spectrometer Upgrade Prototype</td>\n",
       "      <td>54025</td>\n",
       "      <td>1425288210</td>\n",
       "      <td>2</td>\n",
       "      <td>0</td>\n",
       "      <td>6</td>\n",
       "    </tr>\n",
       "    <tr>\n",
       "      <th>2896</th>\n",
       "      <td>17715</td>\n",
       "      <td>note</td>\n",
       "      <td>Our usb microscop design</td>\n",
       "      <td>546059</td>\n",
       "      <td>1542686231</td>\n",
       "      <td>2</td>\n",
       "      <td>0</td>\n",
       "      <td>2</td>\n",
       "    </tr>\n",
       "    <tr>\n",
       "      <th>2942</th>\n",
       "      <td>17891</td>\n",
       "      <td>note</td>\n",
       "      <td>Revised 3D printable mini spectrometer</td>\n",
       "      <td>563397</td>\n",
       "      <td>1544745656</td>\n",
       "      <td>2</td>\n",
       "      <td>0</td>\n",
       "      <td>3</td>\n",
       "    </tr>\n",
       "    <tr>\n",
       "      <th>179</th>\n",
       "      <td>11800</td>\n",
       "      <td>note</td>\n",
       "      <td>Community formaldehyde monitoring at natural g...</td>\n",
       "      <td>380298</td>\n",
       "      <td>1431112908</td>\n",
       "      <td>2</td>\n",
       "      <td>0</td>\n",
       "      <td>2</td>\n",
       "    </tr>\n",
       "  </tbody>\n",
       "</table>\n",
       "</div>"
      ],
      "text/plain": [
       "        nid  type                                              title     uid  \\\n",
       "600   12498  note                    Oil Test Kit: 3 crude oil scans       7   \n",
       "1008  13226  note  Plab v2.5 (upgrade 2) Comparison Spectra to Sp...  461120   \n",
       "2009  12622  note                                  Decolonized Skies     152   \n",
       "202   11834  note  Mid stream Urine analysis: Check whether you n...  442298   \n",
       "2858  17448  note  Inexpensive conductivity probe   Step 1 - Sens...  556121   \n",
       "372   12177  note                                            HackeAr  426547   \n",
       "93    11649  note              PLab 3 Spectrometer Upgrade Prototype   54025   \n",
       "2896  17715  note                           Our usb microscop design  546059   \n",
       "2942  17891  note             Revised 3D printable mini spectrometer  563397   \n",
       "179   11800  note  Community formaldehyde monitoring at natural g...  380298   \n",
       "\n",
       "         created  comment  tnid  cached_likes  \n",
       "600   1449865524        2     0             0  \n",
       "1008  1466604762        2     0             0  \n",
       "2009  1453837584        2     0             6  \n",
       "202   1432393019        2     0             2  \n",
       "2858  1541004921        2     0             3  \n",
       "372   1440723379        2     0             1  \n",
       "93    1425288210        2     0             6  \n",
       "2896  1542686231        2     0             2  \n",
       "2942  1544745656        2     0             3  \n",
       "179   1431112908        2     0             2  "
      ]
     },
     "execution_count": 63,
     "metadata": {},
     "output_type": "execute_result"
    }
   ],
   "source": [
    "notes_only = pd.concat([notes_only_one, notes_only_two])\n",
    "notes_only.to_csv(csv_paths['notes'], index=False)\n",
    "notes_only.sample(10)"
   ]
  },
  {
   "cell_type": "markdown",
   "metadata": {
    "deletable": true,
    "editable": true
   },
   "source": [
    "#### SEPPERATE ANSWERS FROM COMMENTS AND CONCAT COMMENTS PRE/POST TOGETHER"
   ]
  },
  {
   "cell_type": "code",
   "execution_count": 66,
   "metadata": {
    "ExecuteTime": {
     "end_time": "2019-04-21T20:11:39.624554Z",
     "start_time": "2019-04-21T20:11:39.619845Z"
    },
    "collapsed": false,
    "deletable": true,
    "editable": true
   },
   "outputs": [],
   "source": [
    "cmnt_cols = ['nid', 'uid', 'cid', 'aid', 'timestamp', 'type', 'thread', 'comment', 'reply_to']\n",
    "comments = pd.read_csv(csv_paths['comments'])\n",
    "comments['type'] = 'cmnt'\n",
    "comments['reply_to'].fillna(0, inplace=True)\n",
    "comments['reply_to'] = comments['reply_to'].astype('int64')\n",
    "comments = comments[cmnt_cols]\n",
    "comments.rename(index=str, columns={'timestamp': 'date'}, inplace=True)"
   ]
  },
  {
   "cell_type": "code",
   "execution_count": 67,
   "metadata": {
    "ExecuteTime": {
     "end_time": "2019-04-21T20:13:09.113135Z",
     "start_time": "2019-04-21T20:13:09.100780Z"
    },
    "collapsed": false,
    "deletable": true,
    "editable": true
   },
   "outputs": [
    {
     "data": {
      "text/plain": [
       "(1420182880, 1555185829)"
      ]
     },
     "execution_count": 67,
     "metadata": {},
     "output_type": "execute_result"
    }
   ],
   "source": [
    "comments.sort_values('date', inplace=True)\n",
    "comments['date'][0], comments['date'][-1] # January 2, 2015 Friday - April 13, 2019"
   ]
  },
  {
   "cell_type": "code",
   "execution_count": null,
   "metadata": {
    "collapsed": true,
    "deletable": true,
    "editable": true
   },
   "outputs": [],
   "source": [
    "comments.tail()"
   ]
  },
  {
   "cell_type": "code",
   "execution_count": 65,
   "metadata": {
    "ExecuteTime": {
     "end_time": "2019-04-21T20:10:24.928402Z",
     "start_time": "2019-04-21T20:10:24.793162Z"
    },
    "collapsed": false,
    "deletable": true,
    "editable": true
   },
   "outputs": [
    {
     "data": {
      "text/html": [
       "<div>\n",
       "<style scoped>\n",
       "    .dataframe tbody tr th:only-of-type {\n",
       "        vertical-align: middle;\n",
       "    }\n",
       "\n",
       "    .dataframe tbody tr th {\n",
       "        vertical-align: top;\n",
       "    }\n",
       "\n",
       "    .dataframe thead th {\n",
       "        text-align: right;\n",
       "    }\n",
       "</style>\n",
       "<table border=\"1\" class=\"dataframe\">\n",
       "  <thead>\n",
       "    <tr style=\"text-align: right;\">\n",
       "      <th></th>\n",
       "      <th>nid</th>\n",
       "      <th>uid</th>\n",
       "      <th>aid</th>\n",
       "      <th>created_at</th>\n",
       "      <th>likes</th>\n",
       "      <th>type</th>\n",
       "      <th>content</th>\n",
       "      <th>accepted</th>\n",
       "    </tr>\n",
       "  </thead>\n",
       "  <tbody>\n",
       "    <tr>\n",
       "      <th>206</th>\n",
       "      <td>14061</td>\n",
       "      <td>504525</td>\n",
       "      <td>218</td>\n",
       "      <td>2017-03-26 14:50:20 UTC</td>\n",
       "      <td>0</td>\n",
       "      <td>ans</td>\n",
       "      <td>The Photo Monitoring plugin already has a comm...</td>\n",
       "      <td>True</td>\n",
       "    </tr>\n",
       "    <tr>\n",
       "      <th>620</th>\n",
       "      <td>15279</td>\n",
       "      <td>1</td>\n",
       "      <td>726</td>\n",
       "      <td>2018-01-22 20:13:55 UTC</td>\n",
       "      <td>0</td>\n",
       "      <td>ans</td>\n",
       "      <td>[![61UCStnHAzL._SL1001_.jpg](https://publiclab...</td>\n",
       "      <td>False</td>\n",
       "    </tr>\n",
       "    <tr>\n",
       "      <th>209</th>\n",
       "      <td>14068</td>\n",
       "      <td>423961</td>\n",
       "      <td>221</td>\n",
       "      <td>2017-03-30 06:38:09 UTC</td>\n",
       "      <td>1</td>\n",
       "      <td>ans</td>\n",
       "      <td>@alanrday I don't know if this is helpful, but...</td>\n",
       "      <td>False</td>\n",
       "    </tr>\n",
       "    <tr>\n",
       "      <th>654</th>\n",
       "      <td>15594</td>\n",
       "      <td>54025</td>\n",
       "      <td>762</td>\n",
       "      <td>2018-01-29 22:49:23 UTC</td>\n",
       "      <td>0</td>\n",
       "      <td>ans</td>\n",
       "      <td>Questions are good ;-)\\r\\n\\r\\nReading between ...</td>\n",
       "      <td>True</td>\n",
       "    </tr>\n",
       "    <tr>\n",
       "      <th>1068</th>\n",
       "      <td>18170</td>\n",
       "      <td>237313</td>\n",
       "      <td>1335</td>\n",
       "      <td>2019-01-24 21:36:33 UTC</td>\n",
       "      <td>0</td>\n",
       "      <td>ans</td>\n",
       "      <td>There is an overview of some of they symptoms...</td>\n",
       "      <td>True</td>\n",
       "    </tr>\n",
       "  </tbody>\n",
       "</table>\n",
       "</div>"
      ],
      "text/plain": [
       "        nid     uid   aid               created_at  likes type  \\\n",
       "206   14061  504525   218  2017-03-26 14:50:20 UTC      0  ans   \n",
       "620   15279       1   726  2018-01-22 20:13:55 UTC      0  ans   \n",
       "209   14068  423961   221  2017-03-30 06:38:09 UTC      1  ans   \n",
       "654   15594   54025   762  2018-01-29 22:49:23 UTC      0  ans   \n",
       "1068  18170  237313  1335  2019-01-24 21:36:33 UTC      0  ans   \n",
       "\n",
       "                                                content  accepted  \n",
       "206   The Photo Monitoring plugin already has a comm...      True  \n",
       "620   [![61UCStnHAzL._SL1001_.jpg](https://publiclab...     False  \n",
       "209   @alanrday I don't know if this is helpful, but...     False  \n",
       "654   Questions are good ;-)\\r\\n\\r\\nReading between ...      True  \n",
       "1068   There is an overview of some of they symptoms...      True  "
      ]
     },
     "execution_count": 65,
     "metadata": {},
     "output_type": "execute_result"
    }
   ],
   "source": [
    "ans_cols = [u'nid', u'uid', u'id', u'created_at', u'cached_likes', u'type', u'content', u'accepted']\n",
    "\n",
    "answers = pd.read_csv(csv_paths['answers'])\n",
    "answers['type'] = 'ans'\n",
    "answers = answers[ans_cols]\n",
    "\n",
    "renamed_ans_cols = {'id': 'aid', 'created': 'date', 'cached_likes': 'likes'}\n",
    "answers.rename(index=str, columns=renamed_ans_cols, inplace=True)\n",
    "\n",
    "# answers.columns\n",
    "answers.sample(5)  #(1081, 8)"
   ]
  },
  {
   "cell_type": "code",
   "execution_count": null,
   "metadata": {
    "collapsed": true,
    "deletable": true,
    "editable": true
   },
   "outputs": [],
   "source": [
    "no_comments_one = notes_only_one.loc[~notes_only_one['nid'].isin(comments['nid'])]\n",
    "no_comments_two = notes_only_two.loc[~notes_only_two['nid'].isin(comments['nid'])]\n",
    "\n",
    "print notes_one.shape[0], notes_two.shape[0], comments.shape[0]\n",
    "print notes_only_one.shape[0], notes_only_two.shape[0]\n",
    "print no_comments_one.shape[0], no_comments_two.shape[0]"
   ]
  },
  {
   "cell_type": "markdown",
   "metadata": {
    "deletable": true,
    "editable": true
   },
   "source": [
    "### USERS: 03-2013 - 08-2016"
   ]
  },
  {
   "cell_type": "code",
   "execution_count": 219,
   "metadata": {
    "ExecuteTime": {
     "end_time": "2019-04-20T18:44:17.301438Z",
     "start_time": "2019-04-20T18:44:14.857927Z"
    },
    "collapsed": false,
    "deletable": true,
    "editable": true
   },
   "outputs": [
    {
     "data": {
      "text/html": [
       "<div>\n",
       "<style scoped>\n",
       "    .dataframe tbody tr th:only-of-type {\n",
       "        vertical-align: middle;\n",
       "    }\n",
       "\n",
       "    .dataframe tbody tr th {\n",
       "        vertical-align: top;\n",
       "    }\n",
       "\n",
       "    .dataframe thead th {\n",
       "        text-align: right;\n",
       "    }\n",
       "</style>\n",
       "<table border=\"1\" class=\"dataframe\">\n",
       "  <thead>\n",
       "    <tr style=\"text-align: right;\">\n",
       "      <th></th>\n",
       "      <th>id</th>\n",
       "      <th>username</th>\n",
       "      <th>created_at</th>\n",
       "    </tr>\n",
       "  </thead>\n",
       "  <tbody>\n",
       "    <tr>\n",
       "      <th>0</th>\n",
       "      <td>1</td>\n",
       "      <td>warren</td>\n",
       "      <td>2013-03-14 16:16:26</td>\n",
       "    </tr>\n",
       "    <tr>\n",
       "      <th>2</th>\n",
       "      <td>4</td>\n",
       "      <td>mathew</td>\n",
       "      <td>2013-04-08 01:46:32</td>\n",
       "    </tr>\n",
       "    <tr>\n",
       "      <th>6</th>\n",
       "      <td>12</td>\n",
       "      <td>gonzoearth</td>\n",
       "      <td>2013-04-08 02:10:49</td>\n",
       "    </tr>\n",
       "    <tr>\n",
       "      <th>3</th>\n",
       "      <td>7</td>\n",
       "      <td>liz</td>\n",
       "      <td>2013-04-11 15:26:02</td>\n",
       "    </tr>\n",
       "    <tr>\n",
       "      <th>5</th>\n",
       "      <td>9</td>\n",
       "      <td>Shannon</td>\n",
       "      <td>2013-04-11 15:26:24</td>\n",
       "    </tr>\n",
       "  </tbody>\n",
       "</table>\n",
       "</div>"
      ],
      "text/plain": [
       "   id    username          created_at\n",
       "0   1      warren 2013-03-14 16:16:26\n",
       "2   4      mathew 2013-04-08 01:46:32\n",
       "6  12  gonzoearth 2013-04-08 02:10:49\n",
       "3   7         liz 2013-04-11 15:26:02\n",
       "5   9     Shannon 2013-04-11 15:26:24"
      ]
     },
     "execution_count": 219,
     "metadata": {},
     "output_type": "execute_result"
    }
   ],
   "source": [
    "rusers_path = '../data/2016_2019/full/users_03_2014-08_2016.csv'\n",
    "use_cols = ['id', 'username', 'created_at']\n",
    "rusers = pd.read_csv(rusers_path, usecols=use_cols, parse_dates=['created_at'], na_filter=False) \n",
    "rusers.sort_values('created_at', inplace=True)\n",
    "rusers.head()"
   ]
  },
  {
   "cell_type": "code",
   "execution_count": 223,
   "metadata": {
    "ExecuteTime": {
     "end_time": "2019-04-20T18:46:53.001933Z",
     "start_time": "2019-04-20T18:46:52.964769Z"
    },
    "collapsed": false,
    "deletable": true,
    "editable": true
   },
   "outputs": [
    {
     "data": {
      "text/html": [
       "<div>\n",
       "<style scoped>\n",
       "    .dataframe tbody tr th:only-of-type {\n",
       "        vertical-align: middle;\n",
       "    }\n",
       "\n",
       "    .dataframe tbody tr th {\n",
       "        vertical-align: top;\n",
       "    }\n",
       "\n",
       "    .dataframe thead th {\n",
       "        text-align: right;\n",
       "    }\n",
       "</style>\n",
       "<table border=\"1\" class=\"dataframe\">\n",
       "  <thead>\n",
       "    <tr style=\"text-align: right;\">\n",
       "      <th></th>\n",
       "      <th>id</th>\n",
       "      <th>username</th>\n",
       "      <th>created_at</th>\n",
       "    </tr>\n",
       "  </thead>\n",
       "  <tbody>\n",
       "    <tr>\n",
       "      <th>0</th>\n",
       "      <td>1</td>\n",
       "      <td>warren</td>\n",
       "      <td>2013-03-14 16:16:26</td>\n",
       "    </tr>\n",
       "    <tr>\n",
       "      <th>1</th>\n",
       "      <td>4</td>\n",
       "      <td>mathew</td>\n",
       "      <td>2013-04-08 01:46:32</td>\n",
       "    </tr>\n",
       "    <tr>\n",
       "      <th>2</th>\n",
       "      <td>12</td>\n",
       "      <td>gonzoearth</td>\n",
       "      <td>2013-04-08 02:10:49</td>\n",
       "    </tr>\n",
       "    <tr>\n",
       "      <th>3</th>\n",
       "      <td>7</td>\n",
       "      <td>liz</td>\n",
       "      <td>2013-04-11 15:26:02</td>\n",
       "    </tr>\n",
       "    <tr>\n",
       "      <th>4</th>\n",
       "      <td>9</td>\n",
       "      <td>Shannon</td>\n",
       "      <td>2013-04-11 15:26:24</td>\n",
       "    </tr>\n",
       "  </tbody>\n",
       "</table>\n",
       "</div>"
      ],
      "text/plain": [
       "   id    username          created_at\n",
       "0   1      warren 2013-03-14 16:16:26\n",
       "1   4      mathew 2013-04-08 01:46:32\n",
       "2  12  gonzoearth 2013-04-08 02:10:49\n",
       "3   7         liz 2013-04-11 15:26:02\n",
       "4   9     Shannon 2013-04-11 15:26:24"
      ]
     },
     "execution_count": 223,
     "metadata": {},
     "output_type": "execute_result"
    }
   ],
   "source": [
    "rusers.reset_index(inplace=True, drop=True)\n",
    "rusers.head()"
   ]
  },
  {
   "cell_type": "code",
   "execution_count": null,
   "metadata": {
    "ExecuteTime": {
     "start_time": "2019-04-21T01:51:50.986Z"
    },
    "collapsed": false,
    "deletable": true,
    "editable": true
   },
   "outputs": [],
   "source": [
    "use_cols = ['id', 'username', 'created_at', 'bio']\n",
    "users = pd.read_csv(csv_paths['users'], usecols=use_cols, parse_dates=['created_at'], na_filter=False) # na_filter removes NaN's when empty string\n",
    "users.rename(columns={'id': 'uid'}, inplace=True)\n",
    "\n",
    "print 'ROWS:', users.shape[0]\n",
    "print 'COLUMNS:', users.shape[1]"
   ]
  },
  {
   "cell_type": "markdown",
   "metadata": {
    "deletable": true,
    "editable": true
   },
   "source": [
    "## USER SPAM REMOVAL"
   ]
  },
  {
   "cell_type": "code",
   "execution_count": 8,
   "metadata": {
    "ExecuteTime": {
     "end_time": "2019-04-13T13:12:57.759119Z",
     "start_time": "2019-04-13T13:12:57.753016Z"
    },
    "collapsed": false,
    "deletable": true,
    "editable": true
   },
   "outputs": [
    {
     "name": "stdout",
     "output_type": "stream",
     "text": [
      "ROWS: 94059\n",
      "COLUMNS: 4\n"
     ]
    }
   ],
   "source": [
    "use_cols = ['id', 'username', 'created_at', 'bio']\n",
    "users = pd.read_csv(csv_paths['users'], usecols=use_cols, parse_dates=['created_at'], na_filter=False) # na_filter removes NaN's when empty string\n",
    "users.rename(columns={'id': 'uid'}, inplace=True)\n",
    "\n",
    "print 'ROWS:', users.shape[0]\n",
    "print 'COLUMNS:', users.shape[1]"
   ]
  },
  {
   "cell_type": "markdown",
   "metadata": {
    "deletable": true,
    "editable": true
   },
   "source": [
    "### REMOVE \\r AND \\n"
   ]
  },
  {
   "cell_type": "code",
   "execution_count": null,
   "metadata": {
    "collapsed": true,
    "deletable": true,
    "editable": true
   },
   "outputs": [],
   "source": [
    "# GET INDEX NO. OF TEN BIO'S THAT CONTAIN STRING TO BE REPLACED\n",
    "users[users['bio'].str.contains('\\r|\\n') == True].head(10).index # "
   ]
  },
  {
   "cell_type": "code",
   "execution_count": null,
   "metadata": {
    "collapsed": true,
    "deletable": true,
    "editable": true
   },
   "outputs": [],
   "source": [
    "# REPLACE STRINGS\n",
    "users['bio'] = users['bio'].str.replace('\\r', '|R').str.replace('\\n', '|N')"
   ]
  },
  {
   "cell_type": "code",
   "execution_count": null,
   "metadata": {
    "collapsed": true,
    "deletable": true,
    "editable": true
   },
   "outputs": [],
   "source": [
    "# RETEST TO SEE IF IT WORKED\n",
    "test_list = [0, 9, 11, 25, 47, 61, 62, 65, 67, 70]\n",
    "users.loc[users.index[test_list], 'bio'].str.contains('\\r|\\n') # SHOULD BE ALL FALSE"
   ]
  },
  {
   "cell_type": "markdown",
   "metadata": {
    "deletable": true,
    "editable": true
   },
   "source": [
    "### ADD COLUMN: BIO_LENGTH"
   ]
  },
  {
   "cell_type": "code",
   "execution_count": 47,
   "metadata": {
    "ExecuteTime": {
     "end_time": "2019-04-13T14:40:34.862674Z",
     "start_time": "2019-04-13T14:40:34.778219Z"
    },
    "collapsed": false,
    "deletable": true,
    "editable": true
   },
   "outputs": [
    {
     "data": {
      "text/html": [
       "<div>\n",
       "<style scoped>\n",
       "    .dataframe tbody tr th:only-of-type {\n",
       "        vertical-align: middle;\n",
       "    }\n",
       "\n",
       "    .dataframe tbody tr th {\n",
       "        vertical-align: top;\n",
       "    }\n",
       "\n",
       "    .dataframe thead th {\n",
       "        text-align: right;\n",
       "    }\n",
       "</style>\n",
       "<table border=\"1\" class=\"dataframe\">\n",
       "  <thead>\n",
       "    <tr style=\"text-align: right;\">\n",
       "      <th></th>\n",
       "      <th>id</th>\n",
       "      <th>username</th>\n",
       "      <th>created_at</th>\n",
       "      <th>bio</th>\n",
       "      <th>bio_length</th>\n",
       "    </tr>\n",
       "  </thead>\n",
       "  <tbody>\n",
       "    <tr>\n",
       "      <th>0</th>\n",
       "      <td>372</td>\n",
       "      <td>John_Wells</td>\n",
       "      <td>2016-09-09 14:17:26+00:00</td>\n",
       "      <td>Kite aerial photographer with, and co-founder ...</td>\n",
       "      <td>153</td>\n",
       "    </tr>\n",
       "    <tr>\n",
       "      <th>1</th>\n",
       "      <td>46537</td>\n",
       "      <td>deeryezi</td>\n",
       "      <td>2016-08-02 03:23:22+00:00</td>\n",
       "      <td></td>\n",
       "      <td>0</td>\n",
       "    </tr>\n",
       "    <tr>\n",
       "      <th>2</th>\n",
       "      <td>481536</td>\n",
       "      <td>Leonwgy</td>\n",
       "      <td>2016-07-01 00:02:28+00:00</td>\n",
       "      <td>&lt;a href=\"http://dekoracjadomu.pl/koopman-wazon...</td>\n",
       "      <td>117</td>\n",
       "    </tr>\n",
       "    <tr>\n",
       "      <th>3</th>\n",
       "      <td>481537</td>\n",
       "      <td>Mickmmt</td>\n",
       "      <td>2016-07-01 00:07:39+00:00</td>\n",
       "      <td>&lt;a href=\"http://deasalus.eu/stomatologiczna\"&gt;h...</td>\n",
       "      <td>83</td>\n",
       "    </tr>\n",
       "    <tr>\n",
       "      <th>4</th>\n",
       "      <td>481538</td>\n",
       "      <td>Marielwosp</td>\n",
       "      <td>2016-07-01 00:10:17+00:00</td>\n",
       "      <td>&lt;a href=\"http://sk.sizexxlmatter.com\"&gt;http://s...</td>\n",
       "      <td>293</td>\n",
       "    </tr>\n",
       "  </tbody>\n",
       "</table>\n",
       "</div>"
      ],
      "text/plain": [
       "       id    username                created_at  \\\n",
       "0     372  John_Wells 2016-09-09 14:17:26+00:00   \n",
       "1   46537    deeryezi 2016-08-02 03:23:22+00:00   \n",
       "2  481536     Leonwgy 2016-07-01 00:02:28+00:00   \n",
       "3  481537     Mickmmt 2016-07-01 00:07:39+00:00   \n",
       "4  481538  Marielwosp 2016-07-01 00:10:17+00:00   \n",
       "\n",
       "                                                 bio  bio_length  \n",
       "0  Kite aerial photographer with, and co-founder ...         153  \n",
       "1                                                              0  \n",
       "2  <a href=\"http://dekoracjadomu.pl/koopman-wazon...         117  \n",
       "3  <a href=\"http://deasalus.eu/stomatologiczna\">h...          83  \n",
       "4  <a href=\"http://sk.sizexxlmatter.com\">http://s...         293  "
      ]
     },
     "execution_count": 47,
     "metadata": {},
     "output_type": "execute_result"
    }
   ],
   "source": [
    "users['bio_length'] = users['bio'].str.len()\n",
    "users.head()"
   ]
  },
  {
   "cell_type": "markdown",
   "metadata": {
    "deletable": true,
    "editable": true
   },
   "source": [
    "### ADD COLUMN: HAS_URL"
   ]
  },
  {
   "cell_type": "code",
   "execution_count": null,
   "metadata": {
    "collapsed": true,
    "deletable": true,
    "editable": true
   },
   "outputs": [],
   "source": [
    "url_pattern = 'http[s]?://(?:[a-zA-Z]|[0-9]|[$-_@.&+]|[!*\\(\\), ]|(?:%[0-9a-fA-F][0-9a-fA-F]))+'\n",
    "re_url = re.compile(url_pattern)"
   ]
  },
  {
   "cell_type": "code",
   "execution_count": 33,
   "metadata": {
    "ExecuteTime": {
     "end_time": "2019-04-13T14:06:06.969809Z",
     "start_time": "2019-04-13T14:06:06.964219Z"
    },
    "collapsed": false,
    "deletable": true,
    "editable": true
   },
   "outputs": [],
   "source": [
    "has_url_str = 'this should return true https://dekoracjadomu.pl/koopman-wazon-geometryczny-ceramika-golebi'\n",
    "no_url_str = 'this should return false dekoracjadomu.pl/koopman-wazon-geometryczny-ceramika-golebi'\n",
    "lrg_url_str= '<a href=\"\"http://sk.sizexxlmatter.com\"\">http://sk.sizexxlmatter.com</a> A special mention to put natural cures, substances that would generally be located in your body along with which is often used while dietary supplements to aid get the necessary ranges to take place.'\n",
    "\n",
    "# [bool(re_url.search(url)) for url in [has_url_str, no_url_str, lrg_url_str]]\n",
    "# [True, False, True]"
   ]
  },
  {
   "cell_type": "code",
   "execution_count": 48,
   "metadata": {
    "ExecuteTime": {
     "end_time": "2019-04-13T14:40:43.208586Z",
     "start_time": "2019-04-13T14:40:42.723362Z"
    },
    "collapsed": false,
    "deletable": true,
    "editable": true
   },
   "outputs": [
    {
     "data": {
      "text/html": [
       "<div>\n",
       "<style scoped>\n",
       "    .dataframe tbody tr th:only-of-type {\n",
       "        vertical-align: middle;\n",
       "    }\n",
       "\n",
       "    .dataframe tbody tr th {\n",
       "        vertical-align: top;\n",
       "    }\n",
       "\n",
       "    .dataframe thead th {\n",
       "        text-align: right;\n",
       "    }\n",
       "</style>\n",
       "<table border=\"1\" class=\"dataframe\">\n",
       "  <thead>\n",
       "    <tr style=\"text-align: right;\">\n",
       "      <th></th>\n",
       "      <th>id</th>\n",
       "      <th>username</th>\n",
       "      <th>created_at</th>\n",
       "      <th>bio</th>\n",
       "      <th>bio_length</th>\n",
       "      <th>has_url</th>\n",
       "    </tr>\n",
       "  </thead>\n",
       "  <tbody>\n",
       "    <tr>\n",
       "      <th>0</th>\n",
       "      <td>372</td>\n",
       "      <td>John_Wells</td>\n",
       "      <td>2016-09-09 14:17:26+00:00</td>\n",
       "      <td>Kite aerial photographer with, and co-founder ...</td>\n",
       "      <td>153</td>\n",
       "      <td>True</td>\n",
       "    </tr>\n",
       "    <tr>\n",
       "      <th>1</th>\n",
       "      <td>46537</td>\n",
       "      <td>deeryezi</td>\n",
       "      <td>2016-08-02 03:23:22+00:00</td>\n",
       "      <td></td>\n",
       "      <td>0</td>\n",
       "      <td>False</td>\n",
       "    </tr>\n",
       "    <tr>\n",
       "      <th>2</th>\n",
       "      <td>481536</td>\n",
       "      <td>Leonwgy</td>\n",
       "      <td>2016-07-01 00:02:28+00:00</td>\n",
       "      <td>&lt;a href=\"http://dekoracjadomu.pl/koopman-wazon...</td>\n",
       "      <td>117</td>\n",
       "      <td>True</td>\n",
       "    </tr>\n",
       "    <tr>\n",
       "      <th>3</th>\n",
       "      <td>481537</td>\n",
       "      <td>Mickmmt</td>\n",
       "      <td>2016-07-01 00:07:39+00:00</td>\n",
       "      <td>&lt;a href=\"http://deasalus.eu/stomatologiczna\"&gt;h...</td>\n",
       "      <td>83</td>\n",
       "      <td>True</td>\n",
       "    </tr>\n",
       "    <tr>\n",
       "      <th>4</th>\n",
       "      <td>481538</td>\n",
       "      <td>Marielwosp</td>\n",
       "      <td>2016-07-01 00:10:17+00:00</td>\n",
       "      <td>&lt;a href=\"http://sk.sizexxlmatter.com\"&gt;http://s...</td>\n",
       "      <td>293</td>\n",
       "      <td>True</td>\n",
       "    </tr>\n",
       "  </tbody>\n",
       "</table>\n",
       "</div>"
      ],
      "text/plain": [
       "       id    username                created_at  \\\n",
       "0     372  John_Wells 2016-09-09 14:17:26+00:00   \n",
       "1   46537    deeryezi 2016-08-02 03:23:22+00:00   \n",
       "2  481536     Leonwgy 2016-07-01 00:02:28+00:00   \n",
       "3  481537     Mickmmt 2016-07-01 00:07:39+00:00   \n",
       "4  481538  Marielwosp 2016-07-01 00:10:17+00:00   \n",
       "\n",
       "                                                 bio  bio_length  has_url  \n",
       "0  Kite aerial photographer with, and co-founder ...         153     True  \n",
       "1                                                              0    False  \n",
       "2  <a href=\"http://dekoracjadomu.pl/koopman-wazon...         117     True  \n",
       "3  <a href=\"http://deasalus.eu/stomatologiczna\">h...          83     True  \n",
       "4  <a href=\"http://sk.sizexxlmatter.com\">http://s...         293     True  "
      ]
     },
     "execution_count": 48,
     "metadata": {},
     "output_type": "execute_result"
    }
   ],
   "source": [
    "users['has_url'] = users['bio'].str.contains(re_url, na=False)\n",
    "users.head()"
   ]
  },
  {
   "cell_type": "markdown",
   "metadata": {
    "deletable": true,
    "editable": true
   },
   "source": [
    "### ADD COLUMN: BEGINS WITH URL"
   ]
  },
  {
   "cell_type": "code",
   "execution_count": 49,
   "metadata": {
    "ExecuteTime": {
     "end_time": "2019-04-13T14:40:48.844594Z",
     "start_time": "2019-04-13T14:40:48.662742Z"
    },
    "collapsed": false,
    "deletable": true,
    "editable": true
   },
   "outputs": [
    {
     "data": {
      "text/html": [
       "<div>\n",
       "<style scoped>\n",
       "    .dataframe tbody tr th:only-of-type {\n",
       "        vertical-align: middle;\n",
       "    }\n",
       "\n",
       "    .dataframe tbody tr th {\n",
       "        vertical-align: top;\n",
       "    }\n",
       "\n",
       "    .dataframe thead th {\n",
       "        text-align: right;\n",
       "    }\n",
       "</style>\n",
       "<table border=\"1\" class=\"dataframe\">\n",
       "  <thead>\n",
       "    <tr style=\"text-align: right;\">\n",
       "      <th></th>\n",
       "      <th>id</th>\n",
       "      <th>username</th>\n",
       "      <th>created_at</th>\n",
       "      <th>bio</th>\n",
       "      <th>bio_length</th>\n",
       "      <th>has_url</th>\n",
       "      <th>begins_url</th>\n",
       "    </tr>\n",
       "  </thead>\n",
       "  <tbody>\n",
       "    <tr>\n",
       "      <th>0</th>\n",
       "      <td>372</td>\n",
       "      <td>John_Wells</td>\n",
       "      <td>2016-09-09 14:17:26+00:00</td>\n",
       "      <td>Kite aerial photographer with, and co-founder ...</td>\n",
       "      <td>153</td>\n",
       "      <td>True</td>\n",
       "      <td>False</td>\n",
       "    </tr>\n",
       "    <tr>\n",
       "      <th>1</th>\n",
       "      <td>46537</td>\n",
       "      <td>deeryezi</td>\n",
       "      <td>2016-08-02 03:23:22+00:00</td>\n",
       "      <td></td>\n",
       "      <td>0</td>\n",
       "      <td>False</td>\n",
       "      <td>False</td>\n",
       "    </tr>\n",
       "    <tr>\n",
       "      <th>2</th>\n",
       "      <td>481536</td>\n",
       "      <td>Leonwgy</td>\n",
       "      <td>2016-07-01 00:02:28+00:00</td>\n",
       "      <td>&lt;a href=\"http://dekoracjadomu.pl/koopman-wazon...</td>\n",
       "      <td>117</td>\n",
       "      <td>True</td>\n",
       "      <td>True</td>\n",
       "    </tr>\n",
       "    <tr>\n",
       "      <th>3</th>\n",
       "      <td>481537</td>\n",
       "      <td>Mickmmt</td>\n",
       "      <td>2016-07-01 00:07:39+00:00</td>\n",
       "      <td>&lt;a href=\"http://deasalus.eu/stomatologiczna\"&gt;h...</td>\n",
       "      <td>83</td>\n",
       "      <td>True</td>\n",
       "      <td>True</td>\n",
       "    </tr>\n",
       "    <tr>\n",
       "      <th>4</th>\n",
       "      <td>481538</td>\n",
       "      <td>Marielwosp</td>\n",
       "      <td>2016-07-01 00:10:17+00:00</td>\n",
       "      <td>&lt;a href=\"http://sk.sizexxlmatter.com\"&gt;http://s...</td>\n",
       "      <td>293</td>\n",
       "      <td>True</td>\n",
       "      <td>True</td>\n",
       "    </tr>\n",
       "  </tbody>\n",
       "</table>\n",
       "</div>"
      ],
      "text/plain": [
       "       id    username                created_at  \\\n",
       "0     372  John_Wells 2016-09-09 14:17:26+00:00   \n",
       "1   46537    deeryezi 2016-08-02 03:23:22+00:00   \n",
       "2  481536     Leonwgy 2016-07-01 00:02:28+00:00   \n",
       "3  481537     Mickmmt 2016-07-01 00:07:39+00:00   \n",
       "4  481538  Marielwosp 2016-07-01 00:10:17+00:00   \n",
       "\n",
       "                                                 bio  bio_length  has_url  \\\n",
       "0  Kite aerial photographer with, and co-founder ...         153     True   \n",
       "1                                                              0    False   \n",
       "2  <a href=\"http://dekoracjadomu.pl/koopman-wazon...         117     True   \n",
       "3  <a href=\"http://deasalus.eu/stomatologiczna\">h...          83     True   \n",
       "4  <a href=\"http://sk.sizexxlmatter.com\">http://s...         293     True   \n",
       "\n",
       "   begins_url  \n",
       "0       False  \n",
       "1       False  \n",
       "2        True  \n",
       "3        True  \n",
       "4        True  "
      ]
     },
     "execution_count": 49,
     "metadata": {},
     "output_type": "execute_result"
    }
   ],
   "source": [
    "a_href = users['bio'].str.startswith('<a href=') \n",
    "http = users['bio'].str.startswith('http')\n",
    "users['begins_url'] = (a_href | http)\n",
    "\n",
    "users.head()"
   ]
  },
  {
   "cell_type": "markdown",
   "metadata": {
    "deletable": true,
    "editable": true
   },
   "source": [
    "### DISTRIBUTIONS TO CHOOSE CUT OFFS"
   ]
  },
  {
   "cell_type": "code",
   "execution_count": 44,
   "metadata": {
    "ExecuteTime": {
     "end_time": "2019-04-13T14:18:26.634195Z",
     "start_time": "2019-04-13T14:18:26.610261Z"
    },
    "collapsed": false,
    "deletable": true,
    "editable": true
   },
   "outputs": [
    {
     "name": "stdout",
     "output_type": "stream",
     "text": [
      "USERS WITH A URL IN THE BIO: 73854\n"
     ]
    }
   ],
   "source": [
    "# SELECT ALL USERS WITH A URL IN THEIR BIO\n",
    "url = users['has_url'] == True\n",
    "bio_length = users['bio_length'] > 0\n",
    "has_url = users.loc[url & bio_length]\n",
    "num_has_url = has_url.shape[0]\n",
    "\n",
    "# OF THOSE WITH A URL IN THEIR BIO, WHICH BIO'S BEGIN WITH ONE\n",
    "a_href = has_url['bio'].str.startswith('<a href=') \n",
    "http = has_url['bio'].str.startswith('http')\n",
    "has_url['begins'] = (a_href | http)\n",
    "num_begins_url = has_url.loc[has_url['begins'] == True].shape[0]\n",
    "\n",
    "url = users['has_url'] == False\n",
    "bio_length = users['bio_length'] > 0\n",
    "no_url = users[url & bio_length]\n",
    "no_url.shape\n",
    "\n",
    "print 'BIO HAS URL:', num_has_url\n",
    "print 'BIO BEGINS WITH URL:', num_begins_url\n",
    "print 'BIO DOES NOT BEGIN WITH URL:', \n",
    "print 'BIO LENGTH MEAN, MED, STD'"
   ]
  },
  {
   "cell_type": "code",
   "execution_count": 192,
   "metadata": {
    "ExecuteTime": {
     "end_time": "2019-04-14T16:20:27.525468Z",
     "start_time": "2019-04-14T16:20:27.497143Z"
    },
    "collapsed": false,
    "deletable": true,
    "editable": true
   },
   "outputs": [],
   "source": [
    "q = pd.read_csv(csv_paths['questions'], usecols=['nid', 'uid', 'type', 'legacy_views', 'views', 'title'])\n",
    "n = pd.read_csv(csv_paths['notes'], usecols=['nid', 'uid', 'type', 'legacy_views', 'views', 'title'])"
   ]
  },
  {
   "cell_type": "code",
   "execution_count": 193,
   "metadata": {
    "ExecuteTime": {
     "end_time": "2019-04-14T16:20:30.279686Z",
     "start_time": "2019-04-14T16:20:30.256468Z"
    },
    "collapsed": false,
    "deletable": true,
    "editable": true
   },
   "outputs": [
    {
     "data": {
      "text/html": [
       "<div>\n",
       "<style scoped>\n",
       "    .dataframe tbody tr th:only-of-type {\n",
       "        vertical-align: middle;\n",
       "    }\n",
       "\n",
       "    .dataframe tbody tr th {\n",
       "        vertical-align: top;\n",
       "    }\n",
       "\n",
       "    .dataframe thead th {\n",
       "        text-align: right;\n",
       "    }\n",
       "</style>\n",
       "<table border=\"1\" class=\"dataframe\">\n",
       "  <thead>\n",
       "    <tr style=\"text-align: right;\">\n",
       "      <th></th>\n",
       "      <th>nid</th>\n",
       "      <th>type</th>\n",
       "      <th>title</th>\n",
       "      <th>uid</th>\n",
       "      <th>legacy_views</th>\n",
       "      <th>views</th>\n",
       "    </tr>\n",
       "  </thead>\n",
       "  <tbody>\n",
       "    <tr>\n",
       "      <th>80</th>\n",
       "      <td>13745</td>\n",
       "      <td>note</td>\n",
       "      <td>Is anyone doing any work with fungi? or biorem...</td>\n",
       "      <td>498969</td>\n",
       "      <td>207</td>\n",
       "      <td>408</td>\n",
       "    </tr>\n",
       "  </tbody>\n",
       "</table>\n",
       "</div>"
      ],
      "text/plain": [
       "      nid  type                                              title     uid  \\\n",
       "80  13745  note  Is anyone doing any work with fungi? or biorem...  498969   \n",
       "\n",
       "    legacy_views  views  \n",
       "80           207    408  "
      ]
     },
     "execution_count": 193,
     "metadata": {},
     "output_type": "execute_result"
    }
   ],
   "source": [
    "q.loc[q['nid'] == 13745]"
   ]
  },
  {
   "cell_type": "code",
   "execution_count": 194,
   "metadata": {
    "ExecuteTime": {
     "end_time": "2019-04-14T16:20:42.988898Z",
     "start_time": "2019-04-14T16:20:42.968182Z"
    },
    "collapsed": false,
    "deletable": true,
    "editable": true
   },
   "outputs": [
    {
     "data": {
      "text/html": [
       "<div>\n",
       "<style scoped>\n",
       "    .dataframe tbody tr th:only-of-type {\n",
       "        vertical-align: middle;\n",
       "    }\n",
       "\n",
       "    .dataframe tbody tr th {\n",
       "        vertical-align: top;\n",
       "    }\n",
       "\n",
       "    .dataframe thead th {\n",
       "        text-align: right;\n",
       "    }\n",
       "</style>\n",
       "<table border=\"1\" class=\"dataframe\">\n",
       "  <thead>\n",
       "    <tr style=\"text-align: right;\">\n",
       "      <th></th>\n",
       "      <th>nid</th>\n",
       "      <th>type</th>\n",
       "      <th>title</th>\n",
       "      <th>uid</th>\n",
       "      <th>legacy_views</th>\n",
       "      <th>views</th>\n",
       "    </tr>\n",
       "  </thead>\n",
       "  <tbody>\n",
       "    <tr>\n",
       "      <th>349</th>\n",
       "      <td>13745</td>\n",
       "      <td>note</td>\n",
       "      <td>Is anyone doing any work with fungi? or biorem...</td>\n",
       "      <td>498969</td>\n",
       "      <td>207</td>\n",
       "      <td>408</td>\n",
       "    </tr>\n",
       "  </tbody>\n",
       "</table>\n",
       "</div>"
      ],
      "text/plain": [
       "       nid  type                                              title     uid  \\\n",
       "349  13745  note  Is anyone doing any work with fungi? or biorem...  498969   \n",
       "\n",
       "     legacy_views  views  \n",
       "349           207    408  "
      ]
     },
     "execution_count": 194,
     "metadata": {},
     "output_type": "execute_result"
    }
   ],
   "source": [
    "n.loc[n['nid'] == 13745]"
   ]
  },
  {
   "cell_type": "code",
   "execution_count": 67,
   "metadata": {
    "ExecuteTime": {
     "end_time": "2019-04-13T14:56:45.517210Z",
     "start_time": "2019-04-13T14:56:45.513711Z"
    },
    "collapsed": false,
    "deletable": true,
    "editable": true
   },
   "outputs": [],
   "source": [
    "# users[(users['bio_length'] > 4) & (users['bio_length'] <= 5)].sort_values('bio_length').head(50)"
   ]
  },
  {
   "cell_type": "code",
   "execution_count": 84,
   "metadata": {
    "ExecuteTime": {
     "end_time": "2019-04-13T16:23:24.962913Z",
     "start_time": "2019-04-13T16:23:24.926963Z"
    },
    "collapsed": false,
    "deletable": true,
    "editable": true
   },
   "outputs": [
    {
     "data": {
      "text/html": [
       "<div>\n",
       "<style scoped>\n",
       "    .dataframe tbody tr th:only-of-type {\n",
       "        vertical-align: middle;\n",
       "    }\n",
       "\n",
       "    .dataframe tbody tr th {\n",
       "        vertical-align: top;\n",
       "    }\n",
       "\n",
       "    .dataframe thead th {\n",
       "        text-align: right;\n",
       "    }\n",
       "</style>\n",
       "<table border=\"1\" class=\"dataframe\">\n",
       "  <thead>\n",
       "    <tr style=\"text-align: right;\">\n",
       "      <th></th>\n",
       "      <th>nid</th>\n",
       "      <th>type</th>\n",
       "      <th>title</th>\n",
       "      <th>uid</th>\n",
       "    </tr>\n",
       "  </thead>\n",
       "  <tbody>\n",
       "    <tr>\n",
       "      <th>0</th>\n",
       "      <td>13252</td>\n",
       "      <td>note</td>\n",
       "      <td>Desktop spectrometry 3.0 kit: Can it quantify/...</td>\n",
       "      <td>481667</td>\n",
       "    </tr>\n",
       "    <tr>\n",
       "      <th>1</th>\n",
       "      <td>13256</td>\n",
       "      <td>note</td>\n",
       "      <td>Question: Does the Levitation Light dive for y...</td>\n",
       "      <td>4</td>\n",
       "    </tr>\n",
       "    <tr>\n",
       "      <th>2</th>\n",
       "      <td>13286</td>\n",
       "      <td>note</td>\n",
       "      <td>Spectrometer from a drone</td>\n",
       "      <td>483452</td>\n",
       "    </tr>\n",
       "    <tr>\n",
       "      <th>3</th>\n",
       "      <td>13312</td>\n",
       "      <td>note</td>\n",
       "      <td>Question: Joining</td>\n",
       "      <td>483438</td>\n",
       "    </tr>\n",
       "    <tr>\n",
       "      <th>4</th>\n",
       "      <td>13358</td>\n",
       "      <td>note</td>\n",
       "      <td>How to neutralize/remove the source's spectra ...</td>\n",
       "      <td>460486</td>\n",
       "    </tr>\n",
       "  </tbody>\n",
       "</table>\n",
       "</div>"
      ],
      "text/plain": [
       "     nid  type                                              title     uid\n",
       "0  13252  note  Desktop spectrometry 3.0 kit: Can it quantify/...  481667\n",
       "1  13256  note  Question: Does the Levitation Light dive for y...       4\n",
       "2  13286  note                          Spectrometer from a drone  483452\n",
       "3  13312  note                                  Question: Joining  483438\n",
       "4  13358  note  How to neutralize/remove the source's spectra ...  460486"
      ]
     },
     "execution_count": 84,
     "metadata": {},
     "output_type": "execute_result"
    }
   ],
   "source": [
    "quests = pd.read_csv(csv_paths['questions'], usecols=['nid', 'uid', 'type', 'title'])\n",
    "quests.head()\n",
    "# notes_cols = ['nid','type','title','uid']\n",
    "# notes = pd.read_csv(csv_paths['notes'], usecols=notes_cols)\n",
    "# notes = notes[['nid', 'uid', 'type', 'title']]\n",
    "# notes.head()"
   ]
  },
  {
   "cell_type": "code",
   "execution_count": 81,
   "metadata": {
    "ExecuteTime": {
     "end_time": "2019-04-13T16:20:57.787755Z",
     "start_time": "2019-04-13T16:20:57.781047Z"
    },
    "collapsed": false,
    "deletable": true,
    "editable": true
   },
   "outputs": [
    {
     "data": {
      "text/plain": [
       "array(['note'], dtype=object)"
      ]
     },
     "execution_count": 81,
     "metadata": {},
     "output_type": "execute_result"
    }
   ],
   "source": [
    "notes['type'].unique()"
   ]
  },
  {
   "cell_type": "code",
   "execution_count": 85,
   "metadata": {
    "ExecuteTime": {
     "end_time": "2019-04-13T16:24:05.080961Z",
     "start_time": "2019-04-13T16:24:05.060152Z"
    },
    "collapsed": false,
    "deletable": true,
    "editable": true
   },
   "outputs": [
    {
     "data": {
      "text/html": [
       "<div>\n",
       "<style scoped>\n",
       "    .dataframe tbody tr th:only-of-type {\n",
       "        vertical-align: middle;\n",
       "    }\n",
       "\n",
       "    .dataframe tbody tr th {\n",
       "        vertical-align: top;\n",
       "    }\n",
       "\n",
       "    .dataframe thead th {\n",
       "        text-align: right;\n",
       "    }\n",
       "</style>\n",
       "<table border=\"1\" class=\"dataframe\">\n",
       "  <thead>\n",
       "    <tr style=\"text-align: right;\">\n",
       "      <th></th>\n",
       "      <th>nid</th>\n",
       "      <th>uid</th>\n",
       "      <th>type</th>\n",
       "      <th>title</th>\n",
       "    </tr>\n",
       "  </thead>\n",
       "  <tbody>\n",
       "    <tr>\n",
       "      <th>349</th>\n",
       "      <td>13745</td>\n",
       "      <td>498969</td>\n",
       "      <td>note</td>\n",
       "      <td>Is anyone doing any work with fungi? or biorem...</td>\n",
       "    </tr>\n",
       "  </tbody>\n",
       "</table>\n",
       "</div>"
      ],
      "text/plain": [
       "       nid     uid  type                                              title\n",
       "349  13745  498969  note  Is anyone doing any work with fungi? or biorem..."
      ]
     },
     "execution_count": 85,
     "metadata": {},
     "output_type": "execute_result"
    }
   ],
   "source": [
    "notes.loc[notes['nid'] == 13745]"
   ]
  },
  {
   "cell_type": "code",
   "execution_count": 101,
   "metadata": {
    "ExecuteTime": {
     "end_time": "2019-04-13T16:44:22.455244Z",
     "start_time": "2019-04-13T16:44:22.415933Z"
    },
    "collapsed": false,
    "deletable": true,
    "editable": true
   },
   "outputs": [
    {
     "data": {
      "text/html": [
       "<div>\n",
       "<style scoped>\n",
       "    .dataframe tbody tr th:only-of-type {\n",
       "        vertical-align: middle;\n",
       "    }\n",
       "\n",
       "    .dataframe tbody tr th {\n",
       "        vertical-align: top;\n",
       "    }\n",
       "\n",
       "    .dataframe thead th {\n",
       "        text-align: right;\n",
       "    }\n",
       "</style>\n",
       "<table border=\"1\" class=\"dataframe\">\n",
       "  <thead>\n",
       "    <tr style=\"text-align: right;\">\n",
       "      <th></th>\n",
       "      <th>nid</th>\n",
       "      <th>vid</th>\n",
       "      <th>type</th>\n",
       "      <th>title</th>\n",
       "      <th>uid</th>\n",
       "      <th>comments_count</th>\n",
       "      <th>slug</th>\n",
       "    </tr>\n",
       "  </thead>\n",
       "  <tbody>\n",
       "    <tr>\n",
       "      <th>29</th>\n",
       "      <td>13654</td>\n",
       "      <td>37175</td>\n",
       "      <td>page</td>\n",
       "      <td>Translation</td>\n",
       "      <td>7</td>\n",
       "      <td>2</td>\n",
       "      <td>translation</td>\n",
       "    </tr>\n",
       "    <tr>\n",
       "      <th>100</th>\n",
       "      <td>14798</td>\n",
       "      <td>34082</td>\n",
       "      <td>page</td>\n",
       "      <td>Open Call</td>\n",
       "      <td>1</td>\n",
       "      <td>2</td>\n",
       "      <td>open-call</td>\n",
       "    </tr>\n",
       "    <tr>\n",
       "      <th>103</th>\n",
       "      <td>14838</td>\n",
       "      <td>30652</td>\n",
       "      <td>page</td>\n",
       "      <td>Irma</td>\n",
       "      <td>7</td>\n",
       "      <td>2</td>\n",
       "      <td>irma</td>\n",
       "    </tr>\n",
       "    <tr>\n",
       "      <th>131</th>\n",
       "      <td>15029</td>\n",
       "      <td>35607</td>\n",
       "      <td>page</td>\n",
       "      <td>sandbox-2</td>\n",
       "      <td>1</td>\n",
       "      <td>2</td>\n",
       "      <td>sandbox-2</td>\n",
       "    </tr>\n",
       "    <tr>\n",
       "      <th>263</th>\n",
       "      <td>17494</td>\n",
       "      <td>35430</td>\n",
       "      <td>page</td>\n",
       "      <td>Comment templates</td>\n",
       "      <td>1</td>\n",
       "      <td>2</td>\n",
       "      <td>comment-templates</td>\n",
       "    </tr>\n",
       "  </tbody>\n",
       "</table>\n",
       "</div>"
      ],
      "text/plain": [
       "       nid    vid  type              title  uid  comments_count  \\\n",
       "29   13654  37175  page        Translation    7               2   \n",
       "100  14798  34082  page          Open Call    1               2   \n",
       "103  14838  30652  page               Irma    7               2   \n",
       "131  15029  35607  page          sandbox-2    1               2   \n",
       "263  17494  35430  page  Comment templates    1               2   \n",
       "\n",
       "                  slug  \n",
       "29         translation  \n",
       "100          open-call  \n",
       "103               irma  \n",
       "131          sandbox-2  \n",
       "263  comment-templates  "
      ]
     },
     "execution_count": 101,
     "metadata": {},
     "output_type": "execute_result"
    }
   ],
   "source": [
    "wikis = pd.read_csv(csv_paths['wikis'], usecols=['nid', 'uid', 'type', 'title', 'comments_count', 'vid', 'slug'])\n",
    "wikis.loc[wikis['comments_count'] == 2].head()"
   ]
  },
  {
   "cell_type": "code",
   "execution_count": 87,
   "metadata": {
    "ExecuteTime": {
     "end_time": "2019-04-13T16:37:04.811536Z",
     "start_time": "2019-04-13T16:37:04.800247Z"
    },
    "collapsed": false,
    "deletable": true,
    "editable": true
   },
   "outputs": [
    {
     "data": {
      "text/plain": [
       "array(['page'], dtype=object)"
      ]
     },
     "execution_count": 87,
     "metadata": {},
     "output_type": "execute_result"
    }
   ],
   "source": [
    "wikis['type'].unique()"
   ]
  },
  {
   "cell_type": "code",
   "execution_count": 88,
   "metadata": {
    "ExecuteTime": {
     "end_time": "2019-04-13T16:38:51.598934Z",
     "start_time": "2019-04-13T16:38:51.432302Z"
    },
    "collapsed": false,
    "deletable": true,
    "editable": true
   },
   "outputs": [
    {
     "data": {
      "text/html": [
       "<div>\n",
       "<style scoped>\n",
       "    .dataframe tbody tr th:only-of-type {\n",
       "        vertical-align: middle;\n",
       "    }\n",
       "\n",
       "    .dataframe tbody tr th {\n",
       "        vertical-align: top;\n",
       "    }\n",
       "\n",
       "    .dataframe thead th {\n",
       "        text-align: right;\n",
       "    }\n",
       "</style>\n",
       "<table border=\"1\" class=\"dataframe\">\n",
       "  <thead>\n",
       "    <tr style=\"text-align: right;\">\n",
       "      <th></th>\n",
       "      <th>cid</th>\n",
       "      <th>pid</th>\n",
       "      <th>nid</th>\n",
       "      <th>uid</th>\n",
       "      <th>subject</th>\n",
       "      <th>comment</th>\n",
       "      <th>hostname</th>\n",
       "      <th>timestamp</th>\n",
       "      <th>status</th>\n",
       "      <th>format</th>\n",
       "      <th>thread</th>\n",
       "      <th>name</th>\n",
       "      <th>mail</th>\n",
       "      <th>homepage</th>\n",
       "      <th>aid</th>\n",
       "      <th>comment_via</th>\n",
       "      <th>message_id</th>\n",
       "      <th>tweet_id</th>\n",
       "      <th>reply_to</th>\n",
       "    </tr>\n",
       "  </thead>\n",
       "  <tbody>\n",
       "    <tr>\n",
       "      <th>0</th>\n",
       "      <td>14837</td>\n",
       "      <td>0</td>\n",
       "      <td>12876</td>\n",
       "      <td>447491</td>\n",
       "      <td>NaN</td>\n",
       "      <td>Just a catchup here:\\r\\n\\r\\nI've continued to ...</td>\n",
       "      <td>NaN</td>\n",
       "      <td>1467331379</td>\n",
       "      <td>1</td>\n",
       "      <td>1</td>\n",
       "      <td>02/</td>\n",
       "      <td>NaN</td>\n",
       "      <td>NaN</td>\n",
       "      <td>NaN</td>\n",
       "      <td>0</td>\n",
       "      <td>0</td>\n",
       "      <td>NaN</td>\n",
       "      <td>NaN</td>\n",
       "      <td>NaN</td>\n",
       "    </tr>\n",
       "    <tr>\n",
       "      <th>1</th>\n",
       "      <td>14838</td>\n",
       "      <td>0</td>\n",
       "      <td>13248</td>\n",
       "      <td>461120</td>\n",
       "      <td>NaN</td>\n",
       "      <td>@stoft hey Dave, I thought we never say \"oops,...</td>\n",
       "      <td>NaN</td>\n",
       "      <td>1467363313</td>\n",
       "      <td>1</td>\n",
       "      <td>1</td>\n",
       "      <td>02/</td>\n",
       "      <td>NaN</td>\n",
       "      <td>NaN</td>\n",
       "      <td>NaN</td>\n",
       "      <td>0</td>\n",
       "      <td>0</td>\n",
       "      <td>NaN</td>\n",
       "      <td>NaN</td>\n",
       "      <td>NaN</td>\n",
       "    </tr>\n",
       "    <tr>\n",
       "      <th>2</th>\n",
       "      <td>14839</td>\n",
       "      <td>0</td>\n",
       "      <td>13248</td>\n",
       "      <td>461120</td>\n",
       "      <td>NaN</td>\n",
       "      <td>@stoft Hey Dave I thought you might find this ...</td>\n",
       "      <td>NaN</td>\n",
       "      <td>1467382535</td>\n",
       "      <td>1</td>\n",
       "      <td>1</td>\n",
       "      <td>02/</td>\n",
       "      <td>NaN</td>\n",
       "      <td>NaN</td>\n",
       "      <td>NaN</td>\n",
       "      <td>0</td>\n",
       "      <td>0</td>\n",
       "      <td>NaN</td>\n",
       "      <td>NaN</td>\n",
       "      <td>NaN</td>\n",
       "    </tr>\n",
       "    <tr>\n",
       "      <th>3</th>\n",
       "      <td>14840</td>\n",
       "      <td>0</td>\n",
       "      <td>13248</td>\n",
       "      <td>461120</td>\n",
       "      <td>NaN</td>\n",
       "      <td>@stoft hey dave I'm including the 2 plots agai...</td>\n",
       "      <td>NaN</td>\n",
       "      <td>1467382846</td>\n",
       "      <td>1</td>\n",
       "      <td>1</td>\n",
       "      <td>02/</td>\n",
       "      <td>NaN</td>\n",
       "      <td>NaN</td>\n",
       "      <td>NaN</td>\n",
       "      <td>0</td>\n",
       "      <td>0</td>\n",
       "      <td>NaN</td>\n",
       "      <td>NaN</td>\n",
       "      <td>NaN</td>\n",
       "    </tr>\n",
       "    <tr>\n",
       "      <th>4</th>\n",
       "      <td>14841</td>\n",
       "      <td>0</td>\n",
       "      <td>13248</td>\n",
       "      <td>54025</td>\n",
       "      <td>NaN</td>\n",
       "      <td>Unfortunately ..... while photomultipliers res...</td>\n",
       "      <td>NaN</td>\n",
       "      <td>1467396699</td>\n",
       "      <td>1</td>\n",
       "      <td>1</td>\n",
       "      <td>02/</td>\n",
       "      <td>NaN</td>\n",
       "      <td>NaN</td>\n",
       "      <td>NaN</td>\n",
       "      <td>0</td>\n",
       "      <td>0</td>\n",
       "      <td>NaN</td>\n",
       "      <td>NaN</td>\n",
       "      <td>NaN</td>\n",
       "    </tr>\n",
       "  </tbody>\n",
       "</table>\n",
       "</div>"
      ],
      "text/plain": [
       "     cid  pid    nid     uid  subject  \\\n",
       "0  14837    0  12876  447491      NaN   \n",
       "1  14838    0  13248  461120      NaN   \n",
       "2  14839    0  13248  461120      NaN   \n",
       "3  14840    0  13248  461120      NaN   \n",
       "4  14841    0  13248   54025      NaN   \n",
       "\n",
       "                                             comment  hostname   timestamp  \\\n",
       "0  Just a catchup here:\\r\\n\\r\\nI've continued to ...       NaN  1467331379   \n",
       "1  @stoft hey Dave, I thought we never say \"oops,...       NaN  1467363313   \n",
       "2  @stoft Hey Dave I thought you might find this ...       NaN  1467382535   \n",
       "3  @stoft hey dave I'm including the 2 plots agai...       NaN  1467382846   \n",
       "4  Unfortunately ..... while photomultipliers res...       NaN  1467396699   \n",
       "\n",
       "   status  format thread  name  mail  homepage  aid  comment_via message_id  \\\n",
       "0       1       1    02/   NaN   NaN       NaN    0            0        NaN   \n",
       "1       1       1    02/   NaN   NaN       NaN    0            0        NaN   \n",
       "2       1       1    02/   NaN   NaN       NaN    0            0        NaN   \n",
       "3       1       1    02/   NaN   NaN       NaN    0            0        NaN   \n",
       "4       1       1    02/   NaN   NaN       NaN    0            0        NaN   \n",
       "\n",
       "   tweet_id  reply_to  \n",
       "0       NaN       NaN  \n",
       "1       NaN       NaN  \n",
       "2       NaN       NaN  \n",
       "3       NaN       NaN  \n",
       "4       NaN       NaN  "
      ]
     },
     "execution_count": 88,
     "metadata": {},
     "output_type": "execute_result"
    }
   ],
   "source": [
    "comments = pd.read_csv(csv_paths['comments'])#, usecols=cols)\n",
    "comments.head()"
   ]
  },
  {
   "cell_type": "code",
   "execution_count": 100,
   "metadata": {
    "ExecuteTime": {
     "end_time": "2019-04-13T16:43:23.533403Z",
     "start_time": "2019-04-13T16:43:23.484195Z"
    },
    "collapsed": false,
    "deletable": true,
    "editable": true
   },
   "outputs": [
    {
     "data": {
      "text/html": [
       "<div>\n",
       "<style scoped>\n",
       "    .dataframe tbody tr th:only-of-type {\n",
       "        vertical-align: middle;\n",
       "    }\n",
       "\n",
       "    .dataframe tbody tr th {\n",
       "        vertical-align: top;\n",
       "    }\n",
       "\n",
       "    .dataframe thead th {\n",
       "        text-align: right;\n",
       "    }\n",
       "</style>\n",
       "<table border=\"1\" class=\"dataframe\">\n",
       "  <thead>\n",
       "    <tr style=\"text-align: right;\">\n",
       "      <th></th>\n",
       "      <th>cid</th>\n",
       "      <th>pid</th>\n",
       "      <th>nid</th>\n",
       "      <th>uid</th>\n",
       "      <th>subject</th>\n",
       "      <th>comment</th>\n",
       "      <th>hostname</th>\n",
       "      <th>timestamp</th>\n",
       "      <th>status</th>\n",
       "      <th>format</th>\n",
       "      <th>thread</th>\n",
       "      <th>name</th>\n",
       "      <th>mail</th>\n",
       "      <th>homepage</th>\n",
       "      <th>aid</th>\n",
       "      <th>comment_via</th>\n",
       "      <th>message_id</th>\n",
       "      <th>tweet_id</th>\n",
       "      <th>reply_to</th>\n",
       "    </tr>\n",
       "  </thead>\n",
       "  <tbody>\n",
       "    <tr>\n",
       "      <th>4983</th>\n",
       "      <td>20385</td>\n",
       "      <td>0</td>\n",
       "      <td>14798</td>\n",
       "      <td>540243</td>\n",
       "      <td>NaN</td>\n",
       "      <td>Hello! I just found this page on the weekly op...</td>\n",
       "      <td>NaN</td>\n",
       "      <td>1534198414</td>\n",
       "      <td>1</td>\n",
       "      <td>1</td>\n",
       "      <td>01/</td>\n",
       "      <td>NaN</td>\n",
       "      <td>NaN</td>\n",
       "      <td>NaN</td>\n",
       "      <td>0</td>\n",
       "      <td>0</td>\n",
       "      <td>NaN</td>\n",
       "      <td>NaN</td>\n",
       "      <td>NaN</td>\n",
       "    </tr>\n",
       "    <tr>\n",
       "      <th>4984</th>\n",
       "      <td>20386</td>\n",
       "      <td>0</td>\n",
       "      <td>14798</td>\n",
       "      <td>7</td>\n",
       "      <td>NaN</td>\n",
       "      <td>yes it is! Hope to see you on tomorrow's call!...</td>\n",
       "      <td>NaN</td>\n",
       "      <td>1534203301</td>\n",
       "      <td>1</td>\n",
       "      <td>1</td>\n",
       "      <td>02/</td>\n",
       "      <td>NaN</td>\n",
       "      <td>NaN</td>\n",
       "      <td>NaN</td>\n",
       "      <td>0</td>\n",
       "      <td>0</td>\n",
       "      <td>NaN</td>\n",
       "      <td>NaN</td>\n",
       "      <td>NaN</td>\n",
       "    </tr>\n",
       "  </tbody>\n",
       "</table>\n",
       "</div>"
      ],
      "text/plain": [
       "        cid  pid    nid     uid  subject  \\\n",
       "4983  20385    0  14798  540243      NaN   \n",
       "4984  20386    0  14798       7      NaN   \n",
       "\n",
       "                                                comment  hostname   timestamp  \\\n",
       "4983  Hello! I just found this page on the weekly op...       NaN  1534198414   \n",
       "4984  yes it is! Hope to see you on tomorrow's call!...       NaN  1534203301   \n",
       "\n",
       "      status  format thread  name  mail  homepage  aid  comment_via  \\\n",
       "4983       1       1    01/   NaN   NaN       NaN    0            0   \n",
       "4984       1       1    02/   NaN   NaN       NaN    0            0   \n",
       "\n",
       "     message_id  tweet_id  reply_to  \n",
       "4983        NaN       NaN       NaN  \n",
       "4984        NaN       NaN       NaN  "
      ]
     },
     "execution_count": 100,
     "metadata": {},
     "output_type": "execute_result"
    }
   ],
   "source": [
    "comments.loc[comments['nid'] == 14798]"
   ]
  },
  {
   "cell_type": "code",
   "execution_count": 102,
   "metadata": {
    "ExecuteTime": {
     "end_time": "2019-04-13T17:28:14.390635Z",
     "start_time": "2019-04-13T17:28:14.346973Z"
    },
    "collapsed": false,
    "deletable": true,
    "editable": true
   },
   "outputs": [
    {
     "data": {
      "text/html": [
       "<div>\n",
       "<style scoped>\n",
       "    .dataframe tbody tr th:only-of-type {\n",
       "        vertical-align: middle;\n",
       "    }\n",
       "\n",
       "    .dataframe tbody tr th {\n",
       "        vertical-align: top;\n",
       "    }\n",
       "\n",
       "    .dataframe thead th {\n",
       "        text-align: right;\n",
       "    }\n",
       "</style>\n",
       "<table border=\"1\" class=\"dataframe\">\n",
       "  <thead>\n",
       "    <tr style=\"text-align: right;\">\n",
       "      <th></th>\n",
       "      <th>cid</th>\n",
       "      <th>pid</th>\n",
       "      <th>nid</th>\n",
       "      <th>uid</th>\n",
       "      <th>subject</th>\n",
       "      <th>comment</th>\n",
       "      <th>hostname</th>\n",
       "      <th>timestamp</th>\n",
       "      <th>status</th>\n",
       "      <th>format</th>\n",
       "      <th>thread</th>\n",
       "      <th>name</th>\n",
       "      <th>mail</th>\n",
       "      <th>homepage</th>\n",
       "      <th>aid</th>\n",
       "      <th>comment_via</th>\n",
       "      <th>message_id</th>\n",
       "      <th>tweet_id</th>\n",
       "      <th>reply_to</th>\n",
       "    </tr>\n",
       "  </thead>\n",
       "  <tbody>\n",
       "    <tr>\n",
       "      <th>191</th>\n",
       "      <td>15037</td>\n",
       "      <td>0</td>\n",
       "      <td>13312</td>\n",
       "      <td>7</td>\n",
       "      <td>NaN</td>\n",
       "      <td>HI Stephen, \\r\\nThere are a couple folks in Au...</td>\n",
       "      <td>NaN</td>\n",
       "      <td>1469627201</td>\n",
       "      <td>1</td>\n",
       "      <td>1</td>\n",
       "      <td>01/</td>\n",
       "      <td>NaN</td>\n",
       "      <td>NaN</td>\n",
       "      <td>NaN</td>\n",
       "      <td>0</td>\n",
       "      <td>0</td>\n",
       "      <td>NaN</td>\n",
       "      <td>NaN</td>\n",
       "      <td>NaN</td>\n",
       "    </tr>\n",
       "    <tr>\n",
       "      <th>414</th>\n",
       "      <td>15290</td>\n",
       "      <td>0</td>\n",
       "      <td>13312</td>\n",
       "      <td>483438</td>\n",
       "      <td>NaN</td>\n",
       "      <td>Hi Liz, will do, also happy to remove my email.</td>\n",
       "      <td>NaN</td>\n",
       "      <td>1472784170</td>\n",
       "      <td>1</td>\n",
       "      <td>1</td>\n",
       "      <td>02/</td>\n",
       "      <td>NaN</td>\n",
       "      <td>NaN</td>\n",
       "      <td>NaN</td>\n",
       "      <td>0</td>\n",
       "      <td>0</td>\n",
       "      <td>NaN</td>\n",
       "      <td>NaN</td>\n",
       "      <td>NaN</td>\n",
       "    </tr>\n",
       "    <tr>\n",
       "      <th>6389</th>\n",
       "      <td>22245</td>\n",
       "      <td>0</td>\n",
       "      <td>13312</td>\n",
       "      <td>468506</td>\n",
       "      <td>NaN</td>\n",
       "      <td>Sorry to bother you. I was just testing the ne...</td>\n",
       "      <td>NaN</td>\n",
       "      <td>1470129369</td>\n",
       "      <td>1</td>\n",
       "      <td>1</td>\n",
       "      <td>/01</td>\n",
       "      <td>NaN</td>\n",
       "      <td>NaN</td>\n",
       "      <td>NaN</td>\n",
       "      <td>0</td>\n",
       "      <td>0</td>\n",
       "      <td>NaN</td>\n",
       "      <td>NaN</td>\n",
       "      <td>NaN</td>\n",
       "    </tr>\n",
       "  </tbody>\n",
       "</table>\n",
       "</div>"
      ],
      "text/plain": [
       "        cid  pid    nid     uid  subject  \\\n",
       "191   15037    0  13312       7      NaN   \n",
       "414   15290    0  13312  483438      NaN   \n",
       "6389  22245    0  13312  468506      NaN   \n",
       "\n",
       "                                                comment  hostname   timestamp  \\\n",
       "191   HI Stephen, \\r\\nThere are a couple folks in Au...       NaN  1469627201   \n",
       "414     Hi Liz, will do, also happy to remove my email.       NaN  1472784170   \n",
       "6389  Sorry to bother you. I was just testing the ne...       NaN  1470129369   \n",
       "\n",
       "      status  format thread  name  mail  homepage  aid  comment_via  \\\n",
       "191        1       1    01/   NaN   NaN       NaN    0            0   \n",
       "414        1       1    02/   NaN   NaN       NaN    0            0   \n",
       "6389       1       1    /01   NaN   NaN       NaN    0            0   \n",
       "\n",
       "     message_id  tweet_id  reply_to  \n",
       "191         NaN       NaN       NaN  \n",
       "414         NaN       NaN       NaN  \n",
       "6389        NaN       NaN       NaN  "
      ]
     },
     "execution_count": 102,
     "metadata": {},
     "output_type": "execute_result"
    }
   ],
   "source": [
    "comments.loc[comments['nid'] == 13312]"
   ]
  },
  {
   "cell_type": "markdown",
   "metadata": {
    "deletable": true,
    "editable": true
   },
   "source": [
    "## PATHS"
   ]
  },
  {
   "cell_type": "markdown",
   "metadata": {},
   "source": [
    "I put together this list of paths and the accompanying function at **4.1 PATH TO URL** because I wanted an easy way to make a URL from the data when I need to see an actual page.  So the function takes a list of paths"
   ]
  },
  {
   "cell_type": "code",
   "execution_count": 202,
   "metadata": {
    "ExecuteTime": {
     "end_time": "2019-04-15T19:11:49.469645Z",
     "start_time": "2019-04-15T19:11:49.343285Z"
    },
    "collapsed": false,
    "deletable": true,
    "editable": true
   },
   "outputs": [],
   "source": [
    "path_cols = ['type', 'nid', 'created', 'path']\n",
    "\n",
    "wiki_paths = pd.read_csv(csv_paths['wikis'])#, usecols=['created', 'nid', 'path'])\n",
    "wiki_paths['type'] = 'wiki'\n",
    "wiki_paths = wiki_paths[path_cols]\n",
    "\n",
    "notes_paths = pd.read_csv(csv_paths['notes'])#, usecols=['created', 'nid', 'path'])\n",
    "notes_paths['type'] = 'note'\n",
    "notes_paths = notes_paths[path_cols]\n",
    "\n",
    "quest_paths = pd.read_csv(csv_paths['questions'])#, usecols=['created', 'nid', 'path'])\n",
    "quest_paths['type'] = 'qstn'\n",
    "quest_paths = quest_paths[path_cols]\n",
    "\n",
    "all_paths = pd.concat([wiki_paths, notes_paths, quest_paths], ignore_index=True)\n",
    "all_paths.rename(index=str, columns={'created': 'date'}, inplace=True)\n",
    "all_paths = all_paths.to_csv(csv_paths['paths'], index=False)"
   ]
  },
  {
   "cell_type": "code",
   "execution_count": 201,
   "metadata": {
    "ExecuteTime": {
     "end_time": "2019-04-15T19:10:26.578442Z",
     "start_time": "2019-04-15T19:10:26.557846Z"
    },
    "collapsed": false,
    "deletable": true,
    "editable": true,
    "scrolled": true
   },
   "outputs": [
    {
     "data": {
      "text/html": [
       "<div>\n",
       "<style scoped>\n",
       "    .dataframe tbody tr th:only-of-type {\n",
       "        vertical-align: middle;\n",
       "    }\n",
       "\n",
       "    .dataframe tbody tr th {\n",
       "        vertical-align: top;\n",
       "    }\n",
       "\n",
       "    .dataframe thead th {\n",
       "        text-align: right;\n",
       "    }\n",
       "</style>\n",
       "<table border=\"1\" class=\"dataframe\">\n",
       "  <thead>\n",
       "    <tr style=\"text-align: right;\">\n",
       "      <th></th>\n",
       "      <th>type</th>\n",
       "      <th>nid</th>\n",
       "      <th>date</th>\n",
       "      <th>path</th>\n",
       "    </tr>\n",
       "  </thead>\n",
       "  <tbody>\n",
       "    <tr>\n",
       "      <th>1465</th>\n",
       "      <td>note</td>\n",
       "      <td>13131</td>\n",
       "      <td>1463694241</td>\n",
       "      <td>/notes/dhaffnersr/05-19-2016/chemical-analysis...</td>\n",
       "    </tr>\n",
       "    <tr>\n",
       "      <th>734</th>\n",
       "      <td>note</td>\n",
       "      <td>11920</td>\n",
       "      <td>1433087744</td>\n",
       "      <td>/notes/peteryoung/05-31-2015/mapknitter-map-of...</td>\n",
       "    </tr>\n",
       "    <tr>\n",
       "      <th>3870</th>\n",
       "      <td>qstn</td>\n",
       "      <td>13962</td>\n",
       "      <td>1488131914</td>\n",
       "      <td>/notes/tim_spec/02-26-2017/jdepc-ov05-camera-i...</td>\n",
       "    </tr>\n",
       "    <tr>\n",
       "      <th>310</th>\n",
       "      <td>wiki</td>\n",
       "      <td>14806</td>\n",
       "      <td>1504192174</td>\n",
       "      <td>/wiki/harvey</td>\n",
       "    </tr>\n",
       "    <tr>\n",
       "      <th>3685</th>\n",
       "      <td>qstn</td>\n",
       "      <td>11946</td>\n",
       "      <td>1433350344</td>\n",
       "      <td>/notes/mattiecaroline1991/06-03-2015/question-...</td>\n",
       "    </tr>\n",
       "  </tbody>\n",
       "</table>\n",
       "</div>"
      ],
      "text/plain": [
       "      type    nid        date  \\\n",
       "1465  note  13131  1463694241   \n",
       "734   note  11920  1433087744   \n",
       "3870  qstn  13962  1488131914   \n",
       "310   wiki  14806  1504192174   \n",
       "3685  qstn  11946  1433350344   \n",
       "\n",
       "                                                   path  \n",
       "1465  /notes/dhaffnersr/05-19-2016/chemical-analysis...  \n",
       "734   /notes/peteryoung/05-31-2015/mapknitter-map-of...  \n",
       "3870  /notes/tim_spec/02-26-2017/jdepc-ov05-camera-i...  \n",
       "310                                        /wiki/harvey  \n",
       "3685  /notes/mattiecaroline1991/06-03-2015/question-...  "
      ]
     },
     "execution_count": 201,
     "metadata": {},
     "output_type": "execute_result"
    }
   ],
   "source": [
    "# NOTE ALL PATHS REDIRECT IF NECCESSARY\n",
    "paths = pd.read_csv(csv_paths['paths'])\n",
    "paths.sample(5)"
   ]
  },
  {
   "cell_type": "markdown",
   "metadata": {
    "deletable": true,
    "editable": true
   },
   "source": [
    "## FUNCTIONS"
   ]
  },
  {
   "cell_type": "markdown",
   "metadata": {},
   "source": [
    "### PATH TO URL"
   ]
  },
  {
   "cell_type": "code",
   "execution_count": 2,
   "metadata": {
    "ExecuteTime": {
     "end_time": "2019-05-05T13:37:39.996935Z",
     "start_time": "2019-05-05T13:37:39.868580Z"
    },
    "collapsed": false,
    "deletable": true,
    "editable": true,
    "run_control": {
     "marked": true
    }
   },
   "outputs": [
    {
     "ename": "NameError",
     "evalue": "name 'paths' is not defined",
     "output_type": "error",
     "traceback": [
      "\u001b[0;31m---------------------------------------------------------------------------\u001b[0m",
      "\u001b[0;31mNameError\u001b[0m                                 Traceback (most recent call last)",
      "\u001b[0;32m<ipython-input-2-7a17a6f2441c>\u001b[0m in \u001b[0;36m<module>\u001b[0;34m()\u001b[0m\n\u001b[1;32m     18\u001b[0m \u001b[0;34m\u001b[0m\u001b[0m\n\u001b[1;32m     19\u001b[0m \u001b[0;32mfor\u001b[0m \u001b[0mnode_id\u001b[0m\u001b[0;34m,\u001b[0m \u001b[0mdata_type\u001b[0m \u001b[0;32min\u001b[0m \u001b[0mzip\u001b[0m\u001b[0;34m(\u001b[0m\u001b[0mnode_ids\u001b[0m\u001b[0;34m,\u001b[0m \u001b[0mdata_types\u001b[0m\u001b[0;34m)\u001b[0m\u001b[0;34m:\u001b[0m\u001b[0;34m\u001b[0m\u001b[0m\n\u001b[0;32m---> 20\u001b[0;31m     \u001b[0;32mprint\u001b[0m \u001b[0mpath_to_url\u001b[0m\u001b[0;34m(\u001b[0m\u001b[0mnode_id\u001b[0m\u001b[0;34m,\u001b[0m \u001b[0mdata_type\u001b[0m\u001b[0;34m,\u001b[0m \u001b[0mpaths\u001b[0m\u001b[0;34m)\u001b[0m\u001b[0;34m\u001b[0m\u001b[0m\n\u001b[0m\u001b[1;32m     21\u001b[0m \u001b[0;31m# SHOULD BE URL, FALSE, URL, FALSE, URL, FALSE\u001b[0m\u001b[0;34m\u001b[0m\u001b[0;34m\u001b[0m\u001b[0m\n",
      "\u001b[0;31mNameError\u001b[0m: name 'paths' is not defined"
     ]
    }
   ],
   "source": [
    "def path_to_url(nid, data_type, paths):\n",
    "    \n",
    "    try:\n",
    "\n",
    "        path_type = (paths['type'] == data_type)\n",
    "        path_nid = (paths['nid'] == nid)\n",
    "\n",
    "        path = paths.loc[path_type & path_nid]['path'].values[0]\n",
    "\n",
    "        return 'https://publiclab.org' + path\n",
    "    \n",
    "    except:\n",
    "        \n",
    "        return False\n",
    "    \n",
    "node_ids = [10388, 456789, 13252, 456789, 13252, 456789]\n",
    "data_types = ['wiki', 'wiki', 'notes', 'notes','questions', 'questions']\n",
    "\n",
    "for node_id, data_type in zip(node_ids, data_types):\n",
    "    print path_to_url(node_id, data_type, paths)\n",
    "# SHOULD BE URL, FALSE, URL, FALSE, URL, FALSE"
   ]
  },
  {
   "cell_type": "markdown",
   "metadata": {},
   "source": [
    "### CREATE CSV PATHS"
   ]
  },
  {
   "cell_type": "code",
   "execution_count": 2,
   "metadata": {
    "ExecuteTime": {
     "end_time": "2019-04-20T19:19:14.436747Z",
     "start_time": "2019-04-20T19:19:14.422624Z"
    },
    "collapsed": true,
    "deletable": true,
    "editable": true,
    "run_control": {
     "marked": true
    }
   },
   "outputs": [],
   "source": [
    "def create_csv_paths(data_types, base='', exp='', full=True):\n",
    "    \n",
    "    csv_paths = {}\n",
    "    \n",
    "    for data_type in data_types:\n",
    "\n",
    "        if not full:\n",
    "            csv_dir = '../data/2016_2019/samples/'\n",
    "            e = '_' + str(base) + 'e' + str(exp)\n",
    "            csv_path = csv_dir + data_type + e + '.csv'\n",
    "        else:\n",
    "            csv_dir = '../data/2016_2019/full/'\n",
    "            e = ''\n",
    "            csv_path = csv_dir + data_type + e + '.csv'\n",
    "            \n",
    "        csv_paths[data_type] = csv_path\n",
    "    \n",
    "    return csv_paths\n",
    "\n",
    "data_types = ['answers', 'comments', 'notes', 'questions', 'users', 'wikis']\n",
    "csv_paths = create_csv_paths(data_types)"
   ]
  },
  {
   "cell_type": "markdown",
   "metadata": {},
   "source": [
    "### SLUG TO URL (TURNED OUT TO BE UNNECESSARY)"
   ]
  },
  {
   "cell_type": "code",
   "execution_count": 181,
   "metadata": {
    "ExecuteTime": {
     "end_time": "2019-04-14T15:34:17.619655Z",
     "start_time": "2019-04-14T15:34:17.597308Z"
    },
    "collapsed": false,
    "deletable": true,
    "editable": true
   },
   "outputs": [],
   "source": [
    "def slug_to_url(nid, data_type, slugs):\n",
    "    \n",
    "    try:\n",
    "    \n",
    "        slug_type = (slugs['type'] == data_type)\n",
    "        slug_nid = (slugs['nid'] == nid)\n",
    "\n",
    "        db_slug = slugs.loc[slug_type & slug_nid]['slug'].values[0]\n",
    "\n",
    "        if (data_type == 'questions') or (data_type == 'notes'):\n",
    "\n",
    "            parts = db_slug.split('-', 1)\n",
    "\n",
    "            user = parts[0]\n",
    "            date = parts[1][:10]\n",
    "            title = parts[1][11:]\n",
    "\n",
    "            slug = '/'.join([user, date, title])\n",
    "\n",
    "        elif data_type == 'wiki':\n",
    "\n",
    "            slug = db_slug\n",
    "\n",
    "        return 'https://publiclab.org/' + data_type + '/' + slug\n",
    "    \n",
    "    except:\n",
    "        \n",
    "        return False\n",
    "\n",
    "# node_ids = [13252, 456789, 13252, 456789, 13252, 456789]\n",
    "# data_types = ['wiki', 'wiki', 'notes', 'notes','questions', 'questions']\n",
    "\n",
    "# for node_id, data_type in zip(node_ids, data_types):\n",
    "    \n",
    "#     print slug_to_url(node_id, data_type, test_slugs)"
   ]
  },
  {
   "cell_type": "markdown",
   "metadata": {},
   "source": [
    "#### SLUG TESTS"
   ]
  },
  {
   "cell_type": "code",
   "execution_count": 196,
   "metadata": {
    "ExecuteTime": {
     "end_time": "2019-04-15T18:29:23.215059Z",
     "start_time": "2019-04-15T18:29:23.121882Z"
    },
    "collapsed": true,
    "deletable": true,
    "editable": true
   },
   "outputs": [],
   "source": [
    "slug_cols = ['nid', 'type', 'slug']\n",
    "\n",
    "wiki_slugs = pd.read_csv(csv_paths['wikis'], usecols=['nid', 'slug'])\n",
    "wiki_slugs['type'] = 'wiki'\n",
    "wiki_slugs = wiki_slugs[slug_cols]\n",
    "\n",
    "notes_slugs = pd.read_csv(csv_paths['notes'], usecols=['nid', 'slug'])\n",
    "notes_slugs['type'] = 'notes'\n",
    "notes_slugs = notes_slugs[slug_cols]\n",
    "\n",
    "quest_slugs = pd.read_csv(csv_paths['questions'], usecols=['nid', 'slug'])\n",
    "quest_slugs['type'] = 'questions'\n",
    "quest_slugs = quest_slugs[slug_cols]\n",
    "\n",
    "all_slugs = pd.concat([wiki_slugs, notes_slugs, quest_slugs], ignore_index=True)\n",
    "all_slugs = all_slugs.to_csv('../data/2016_2019/full/slugs.csv', index=False)"
   ]
  },
  {
   "cell_type": "code",
   "execution_count": 187,
   "metadata": {
    "ExecuteTime": {
     "end_time": "2019-04-14T15:36:01.042081Z",
     "start_time": "2019-04-14T15:36:01.023610Z"
    },
    "collapsed": false,
    "deletable": true,
    "editable": true,
    "scrolled": true
   },
   "outputs": [
    {
     "data": {
      "text/html": [
       "<div>\n",
       "<style scoped>\n",
       "    .dataframe tbody tr th:only-of-type {\n",
       "        vertical-align: middle;\n",
       "    }\n",
       "\n",
       "    .dataframe tbody tr th {\n",
       "        vertical-align: top;\n",
       "    }\n",
       "\n",
       "    .dataframe thead th {\n",
       "        text-align: right;\n",
       "    }\n",
       "</style>\n",
       "<table border=\"1\" class=\"dataframe\">\n",
       "  <thead>\n",
       "    <tr style=\"text-align: right;\">\n",
       "      <th></th>\n",
       "      <th>nid</th>\n",
       "      <th>type</th>\n",
       "      <th>slug</th>\n",
       "    </tr>\n",
       "  </thead>\n",
       "  <tbody>\n",
       "    <tr>\n",
       "      <th>2992</th>\n",
       "      <td>16163</td>\n",
       "      <td>questions</td>\n",
       "      <td>NaN</td>\n",
       "    </tr>\n",
       "    <tr>\n",
       "      <th>224</th>\n",
       "      <td>16575</td>\n",
       "      <td>wiki</td>\n",
       "      <td>api</td>\n",
       "    </tr>\n",
       "    <tr>\n",
       "      <th>2524</th>\n",
       "      <td>13893</td>\n",
       "      <td>questions</td>\n",
       "      <td>fez-02-01-2017-diy-methods-for-nitrate-detecti...</td>\n",
       "    </tr>\n",
       "    <tr>\n",
       "      <th>298</th>\n",
       "      <td>18872</td>\n",
       "      <td>wiki</td>\n",
       "      <td>cafo</td>\n",
       "    </tr>\n",
       "    <tr>\n",
       "      <th>1090</th>\n",
       "      <td>14773</td>\n",
       "      <td>notes</td>\n",
       "      <td>NaN</td>\n",
       "    </tr>\n",
       "  </tbody>\n",
       "</table>\n",
       "</div>"
      ],
      "text/plain": [
       "        nid       type                                               slug\n",
       "2992  16163  questions                                                NaN\n",
       "224   16575       wiki                                                api\n",
       "2524  13893  questions  fez-02-01-2017-diy-methods-for-nitrate-detecti...\n",
       "298   18872       wiki                                               cafo\n",
       "1090  14773      notes                                                NaN"
      ]
     },
     "execution_count": 187,
     "metadata": {},
     "output_type": "execute_result"
    }
   ],
   "source": [
    "# slugs = pd.read_csv('../data/2016_2019/full/slugs.csv')\n",
    "slugs.sample(5)"
   ]
  },
  {
   "cell_type": "code",
   "execution_count": null,
   "metadata": {
    "collapsed": true,
    "deletable": true,
    "editable": true
   },
   "outputs": [],
   "source": [
    "https://publiclab.org/stats?start=01-07-2013&end=01-07-2016&commit=Go\n",
    "https://publiclab.org/stats?start=01-07-2012&end=01-07-2016&commit=Go"
   ]
  }
 ],
 "metadata": {
  "kernelspec": {
   "display_name": "Python 2",
   "language": "python",
   "name": "python2"
  },
  "language_info": {
   "codemirror_mode": {
    "name": "ipython",
    "version": 2
   },
   "file_extension": ".py",
   "mimetype": "text/x-python",
   "name": "python",
   "nbconvert_exporter": "python",
   "pygments_lexer": "ipython2",
   "version": "2.7.13"
  },
  "toc": {
   "colors": {
    "hover_highlight": "#DAA520",
    "navigate_num": "#000000",
    "navigate_text": "#333333",
    "running_highlight": "#FF0000",
    "selected_highlight": "#FFD700",
    "sidebar_border": "#EEEEEE",
    "wrapper_background": "#FFFFFF"
   },
   "moveMenuLeft": true,
   "nav_menu": {
    "height": "12px",
    "width": "252px"
   },
   "navigate_menu": true,
   "number_sections": true,
   "sideBar": true,
   "threshold": 4,
   "toc_cell": false,
   "toc_section_display": "block",
   "toc_window_display": false,
   "widenNotebook": false
  }
 },
 "nbformat": 4,
 "nbformat_minor": 2
}
