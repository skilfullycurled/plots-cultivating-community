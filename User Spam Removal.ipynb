{
 "cells": [
  {
   "cell_type": "code",
   "execution_count": 1,
   "metadata": {
    "ExecuteTime": {
     "end_time": "2019-05-01T11:16:49.220838Z",
     "start_time": "2019-05-01T11:16:48.720970Z"
    },
    "collapsed": false,
    "deletable": true,
    "editable": true
   },
   "outputs": [
    {
     "name": "stdout",
     "output_type": "stream",
     "text": [
      "../data/2016_2019/samples/users_25e2.csv\n"
     ]
    }
   ],
   "source": [
    "import pandas as pd\n",
    "import re\n",
    "import csv\n",
    "\n",
    "data_type = 'users'\n",
    "\n",
    "crld = True\n",
    "\n",
    "m = 25\n",
    "exp = 2\n",
    "\n",
    "\n",
    "\n",
    "if crld:\n",
    "    csv_dir = '../data/2016_2019/samples/'\n",
    "    e = '_' + str(m) + 'e' + str(exp)\n",
    "    csv_path = csv_dir + data_type + e + '.csv'\n",
    "else:\n",
    "    csv_dir = '../data/2016_2019/full/'\n",
    "    e = ''\n",
    "    csv_path = csv_dir + data_type + e + '.csv'\n",
    "\n",
    "print csv_path"
   ]
  },
  {
   "cell_type": "code",
   "execution_count": 2,
   "metadata": {
    "ExecuteTime": {
     "end_time": "2019-05-01T11:16:52.740349Z",
     "start_time": "2019-05-01T11:16:52.735184Z"
    },
    "collapsed": false,
    "deletable": true,
    "editable": true
   },
   "outputs": [],
   "source": [
    "url_pattern = 'http[s]?://(?:[a-zA-Z]|[0-9]|[$-_@.&+]|[!*\\(\\), ]|(?:%[0-9a-fA-F][0-9a-fA-F]))+'\n",
    "re_url = re.compile(url_pattern)"
   ]
  },
  {
   "cell_type": "code",
   "execution_count": 22,
   "metadata": {
    "ExecuteTime": {
     "end_time": "2019-05-01T13:16:02.219244Z",
     "start_time": "2019-05-01T13:16:02.206322Z"
    },
    "collapsed": false,
    "deletable": true,
    "editable": true
   },
   "outputs": [
    {
     "name": "stdout",
     "output_type": "stream",
     "text": [
      "DOES THE STRING CONTAIN A URL?\n",
      "\n",
      "has_url: True \n",
      "no_url: False \n",
      "large_url: True\n"
     ]
    }
   ],
   "source": [
    "has_url_str = 'this should return true https://dekoracjadomu.pl/koopman-wazon-geometryczny-ceramika-golebi'\n",
    "has_url = bool(re_url.search(has_url_str))\n",
    "\n",
    "no_url_str = 'this should return false dekoracjadomu.pl/koopman-wazon-geometryczny-ceramika-golebi'\n",
    "no_url = bool(re_url.search(no_url_str))\n",
    "\n",
    "large_url_str= '<a href=\"\"http://sk.sizexxlmatter.com\"\">http://sk.sizexxlmatter.com</a> A special mention to put natural cures, substances that would generally be located in your body along with which is often used while dietary supplements to aid get the necessary ranges to take place.'\n",
    "# larger_test = 'A special mention to put natural cures, substances that would generally be located in your body along with which is often used while dietary supplements to aid get the necessary ranges with an penile erection to take place.'\n",
    "large_url = bool(re_url.search(large_url_str))\n",
    "\n",
    "\n",
    "print 'DOES THE STRING CONTAIN A URL?\\n'\n",
    "print 'has_url:', has_url, '\\n', 'no_url:', no_url, '\\n', 'large_url:', large_url\n",
    "# True, False, True"
   ]
  },
  {
   "cell_type": "code",
   "execution_count": 23,
   "metadata": {
    "ExecuteTime": {
     "end_time": "2019-05-01T13:16:05.614984Z",
     "start_time": "2019-05-01T13:16:05.187162Z"
    },
    "collapsed": false,
    "deletable": true,
    "editable": true,
    "run_control": {
     "marked": true
    }
   },
   "outputs": [
    {
     "name": "stdout",
     "output_type": "stream",
     "text": [
      "(1048, 4)\n"
     ]
    }
   ],
   "source": [
    "# NOTE: SAMPLE SIZE WILL NOT EQUAL DF LENGTH B/C SAMPLE CONTAINS N LINES WHICH INCLUDE LINE BREAKS\n",
    "# AND PANDAS WILL NOT \"SEE\" THE LINE BREAKS AND INSTEAD PARSE THEM AS STRING LITERALS (I THINK THAT'S WHAT THEY'RE CALLED)\n",
    "# FOR COMPARISON SEE OTHER VERSION BELOW\n",
    "\n",
    "use_cols = ['id', 'username', 'created_at', 'bio']\n",
    "users = pd.read_csv(csv_path, usecols=use_cols, parse_dates=['created_at'], na_filter=False) # na_filter removes NaN's when empty string\n",
    "print users.shape"
   ]
  },
  {
   "cell_type": "code",
   "execution_count": 24,
   "metadata": {
    "ExecuteTime": {
     "end_time": "2019-05-01T13:16:09.090280Z",
     "start_time": "2019-05-01T13:16:09.050969Z"
    },
    "collapsed": false,
    "deletable": true,
    "editable": true
   },
   "outputs": [
    {
     "data": {
      "text/plain": [
       "1048"
      ]
     },
     "execution_count": 24,
     "metadata": {},
     "output_type": "execute_result"
    }
   ],
   "source": [
    "with open(csv_dir + 'users' + e + '.csv') as csv_file:\n",
    "    reader = csv.DictReader(csv_file) # add settings as needed\n",
    "#     rows = [row for row in reader]\n",
    "    rows = list(reader)\n",
    "\n",
    "# RIGHT NOW, I STILL WANT TO KNOW WHERE THEY WERE FOR DATA \"COMPLETENESS\"\n",
    "for row in rows:\n",
    "    row['bio'] = row['bio'].replace('\\r', '|R').replace('\\n', '|N')\n",
    "    \n",
    "len(rows)"
   ]
  },
  {
   "cell_type": "code",
   "execution_count": 6,
   "metadata": {
    "ExecuteTime": {
     "end_time": "2019-05-01T11:17:28.553477Z",
     "start_time": "2019-05-01T11:17:28.549395Z"
    },
    "collapsed": false,
    "deletable": true,
    "editable": true
   },
   "outputs": [],
   "source": [
    "# users.head(10)"
   ]
  },
  {
   "cell_type": "code",
   "execution_count": 7,
   "metadata": {
    "ExecuteTime": {
     "end_time": "2019-05-01T11:17:30.355143Z",
     "start_time": "2019-05-01T11:17:30.351755Z"
    },
    "collapsed": false,
    "deletable": true,
    "editable": true
   },
   "outputs": [],
   "source": [
    "# users.tail(10)"
   ]
  },
  {
   "cell_type": "code",
   "execution_count": 26,
   "metadata": {
    "ExecuteTime": {
     "end_time": "2019-05-01T13:16:18.603087Z",
     "start_time": "2019-05-01T13:16:18.557631Z"
    },
    "collapsed": false,
    "deletable": true,
    "editable": true
   },
   "outputs": [
    {
     "data": {
      "text/html": [
       "<div>\n",
       "<style scoped>\n",
       "    .dataframe tbody tr th:only-of-type {\n",
       "        vertical-align: middle;\n",
       "    }\n",
       "\n",
       "    .dataframe tbody tr th {\n",
       "        vertical-align: top;\n",
       "    }\n",
       "\n",
       "    .dataframe thead th {\n",
       "        text-align: right;\n",
       "    }\n",
       "</style>\n",
       "<table border=\"1\" class=\"dataframe\">\n",
       "  <thead>\n",
       "    <tr style=\"text-align: right;\">\n",
       "      <th></th>\n",
       "      <th>id</th>\n",
       "      <th>username</th>\n",
       "      <th>created_at</th>\n",
       "      <th>bio</th>\n",
       "      <th>has_url</th>\n",
       "    </tr>\n",
       "  </thead>\n",
       "  <tbody>\n",
       "    <tr>\n",
       "      <th>1043</th>\n",
       "      <td>582589</td>\n",
       "      <td>kstroms</td>\n",
       "      <td>2019-04-04 22:59:30+00:00</td>\n",
       "      <td></td>\n",
       "      <td>False</td>\n",
       "    </tr>\n",
       "    <tr>\n",
       "      <th>1044</th>\n",
       "      <td>582590</td>\n",
       "      <td>jrhdds</td>\n",
       "      <td>2019-04-04 23:10:13+00:00</td>\n",
       "      <td>Lived on and recreated in Great Lakes area for...</td>\n",
       "      <td>False</td>\n",
       "    </tr>\n",
       "    <tr>\n",
       "      <th>1045</th>\n",
       "      <td>582591</td>\n",
       "      <td>judyacarpenter</td>\n",
       "      <td>2019-04-04 23:33:49+00:00</td>\n",
       "      <td>Selecting the ideal luxury travel agency can b...</td>\n",
       "      <td>True</td>\n",
       "    </tr>\n",
       "    <tr>\n",
       "      <th>1046</th>\n",
       "      <td>582592</td>\n",
       "      <td>pokerqqcommm</td>\n",
       "      <td>2019-04-04 23:39:22+00:00</td>\n",
       "      <td>CapriPoker99 Merupakan Agen IDN poker dengan p...</td>\n",
       "      <td>True</td>\n",
       "    </tr>\n",
       "    <tr>\n",
       "      <th>1047</th>\n",
       "      <td>582593</td>\n",
       "      <td>amerlab</td>\n",
       "      <td>2019-04-04 23:44:02+00:00</td>\n",
       "      <td>Amerlab.com provides acid purification system ...</td>\n",
       "      <td>True</td>\n",
       "    </tr>\n",
       "  </tbody>\n",
       "</table>\n",
       "</div>"
      ],
      "text/plain": [
       "          id        username                created_at  \\\n",
       "1043  582589         kstroms 2019-04-04 22:59:30+00:00   \n",
       "1044  582590          jrhdds 2019-04-04 23:10:13+00:00   \n",
       "1045  582591  judyacarpenter 2019-04-04 23:33:49+00:00   \n",
       "1046  582592    pokerqqcommm 2019-04-04 23:39:22+00:00   \n",
       "1047  582593         amerlab 2019-04-04 23:44:02+00:00   \n",
       "\n",
       "                                                    bio  has_url  \n",
       "1043                                                       False  \n",
       "1044  Lived on and recreated in Great Lakes area for...    False  \n",
       "1045  Selecting the ideal luxury travel agency can b...     True  \n",
       "1046  CapriPoker99 Merupakan Agen IDN poker dengan p...     True  \n",
       "1047  Amerlab.com provides acid purification system ...     True  "
      ]
     },
     "execution_count": 26,
     "metadata": {},
     "output_type": "execute_result"
    }
   ],
   "source": [
    "users['has_url'] = users['bio'].str.contains(re_url, na=False)\n",
    "users.tail(5)"
   ]
  },
  {
   "cell_type": "code",
   "execution_count": 27,
   "metadata": {
    "ExecuteTime": {
     "end_time": "2019-05-01T13:16:25.675264Z",
     "start_time": "2019-05-01T13:16:25.644584Z"
    },
    "collapsed": false,
    "deletable": true,
    "editable": true
   },
   "outputs": [
    {
     "data": {
      "text/html": [
       "<div>\n",
       "<style scoped>\n",
       "    .dataframe tbody tr th:only-of-type {\n",
       "        vertical-align: middle;\n",
       "    }\n",
       "\n",
       "    .dataframe tbody tr th {\n",
       "        vertical-align: top;\n",
       "    }\n",
       "\n",
       "    .dataframe thead th {\n",
       "        text-align: right;\n",
       "    }\n",
       "</style>\n",
       "<table border=\"1\" class=\"dataframe\">\n",
       "  <thead>\n",
       "    <tr style=\"text-align: right;\">\n",
       "      <th></th>\n",
       "      <th>id</th>\n",
       "      <th>username</th>\n",
       "      <th>created_at</th>\n",
       "      <th>bio</th>\n",
       "      <th>has_url</th>\n",
       "      <th>bio_length</th>\n",
       "    </tr>\n",
       "  </thead>\n",
       "  <tbody>\n",
       "    <tr>\n",
       "      <th>1043</th>\n",
       "      <td>582589</td>\n",
       "      <td>kstroms</td>\n",
       "      <td>2019-04-04 22:59:30+00:00</td>\n",
       "      <td></td>\n",
       "      <td>False</td>\n",
       "      <td>0</td>\n",
       "    </tr>\n",
       "    <tr>\n",
       "      <th>1044</th>\n",
       "      <td>582590</td>\n",
       "      <td>jrhdds</td>\n",
       "      <td>2019-04-04 23:10:13+00:00</td>\n",
       "      <td>Lived on and recreated in Great Lakes area for...</td>\n",
       "      <td>False</td>\n",
       "      <td>137</td>\n",
       "    </tr>\n",
       "    <tr>\n",
       "      <th>1045</th>\n",
       "      <td>582591</td>\n",
       "      <td>judyacarpenter</td>\n",
       "      <td>2019-04-04 23:33:49+00:00</td>\n",
       "      <td>Selecting the ideal luxury travel agency can b...</td>\n",
       "      <td>True</td>\n",
       "      <td>271</td>\n",
       "    </tr>\n",
       "    <tr>\n",
       "      <th>1046</th>\n",
       "      <td>582592</td>\n",
       "      <td>pokerqqcommm</td>\n",
       "      <td>2019-04-04 23:39:22+00:00</td>\n",
       "      <td>CapriPoker99 Merupakan Agen IDN poker dengan p...</td>\n",
       "      <td>True</td>\n",
       "      <td>180</td>\n",
       "    </tr>\n",
       "    <tr>\n",
       "      <th>1047</th>\n",
       "      <td>582593</td>\n",
       "      <td>amerlab</td>\n",
       "      <td>2019-04-04 23:44:02+00:00</td>\n",
       "      <td>Amerlab.com provides acid purification system ...</td>\n",
       "      <td>True</td>\n",
       "      <td>266</td>\n",
       "    </tr>\n",
       "  </tbody>\n",
       "</table>\n",
       "</div>"
      ],
      "text/plain": [
       "          id        username                created_at  \\\n",
       "1043  582589         kstroms 2019-04-04 22:59:30+00:00   \n",
       "1044  582590          jrhdds 2019-04-04 23:10:13+00:00   \n",
       "1045  582591  judyacarpenter 2019-04-04 23:33:49+00:00   \n",
       "1046  582592    pokerqqcommm 2019-04-04 23:39:22+00:00   \n",
       "1047  582593         amerlab 2019-04-04 23:44:02+00:00   \n",
       "\n",
       "                                                    bio  has_url  bio_length  \n",
       "1043                                                       False           0  \n",
       "1044  Lived on and recreated in Great Lakes area for...    False         137  \n",
       "1045  Selecting the ideal luxury travel agency can b...     True         271  \n",
       "1046  CapriPoker99 Merupakan Agen IDN poker dengan p...     True         180  \n",
       "1047  Amerlab.com provides acid purification system ...     True         266  "
      ]
     },
     "execution_count": 27,
     "metadata": {},
     "output_type": "execute_result"
    }
   ],
   "source": [
    "users['bio_length'] = users['bio'].str.len()\n",
    "users.tail(5)"
   ]
  },
  {
   "cell_type": "code",
   "execution_count": 29,
   "metadata": {
    "ExecuteTime": {
     "end_time": "2019-05-01T13:17:05.185640Z",
     "start_time": "2019-05-01T13:17:05.173613Z"
    },
    "collapsed": false,
    "deletable": true,
    "editable": true
   },
   "outputs": [
    {
     "data": {
      "text/plain": [
       "(91, 6)"
      ]
     },
     "execution_count": 29,
     "metadata": {},
     "output_type": "execute_result"
    }
   ],
   "source": [
    "url = users['has_url'] == False\n",
    "bio_length = users['bio_length'] > 0\n",
    "no_url = users.loc[url & bio_length]\n",
    "no_url.shape"
   ]
  },
  {
   "cell_type": "code",
   "execution_count": 148,
   "metadata": {
    "ExecuteTime": {
     "end_time": "2019-04-07T16:22:10.791037Z",
     "start_time": "2019-04-07T16:22:10.548128Z"
    },
    "collapsed": false,
    "deletable": true,
    "editable": true
   },
   "outputs": [
    {
     "data": {
      "image/png": "[encoded data removed]",
      "text/plain": [
       "<matplotlib.figure.Figure at 0x7f2d3f5e1a50>"
      ]
     },
     "metadata": {},
     "output_type": "display_data"
    }
   ],
   "source": [
    "no_url['bio_length'].hist()\n",
    "plt.show()"
   ]
  },
  {
   "cell_type": "code",
   "execution_count": 11,
   "metadata": {
    "ExecuteTime": {
     "end_time": "2019-05-01T11:25:34.284607Z",
     "start_time": "2019-05-01T11:25:34.279468Z"
    },
    "collapsed": false,
    "deletable": true,
    "editable": true
   },
   "outputs": [],
   "source": [
    "# RESULTS MOVED TO GIST: \n",
    "# for uid, bio in zip(no_url['id'].values, no_url['bio'].values):\n",
    "#     print str(uid) + ':', bio"
   ]
  },
  {
   "cell_type": "code",
   "execution_count": null,
   "metadata": {
    "code_folding": [
     0
    ],
    "collapsed": true,
    "deletable": true,
    "editable": true
   },
   "outputs": [],
   "source": [
    "# 481717\n",
    "# 481996: fencing pricing\n",
    "# 482003: fencing prices\n",
    "# 482009: fencing company\n",
    "# 482024: cost to fence yard\n",
    "# 482029: privacy fence supplies\n",
    "# 482036: commercial fences\n",
    "# 482041: perimeter fencing\n",
    "# 482043: price for fencing\n",
    "# 482047: fence cost\n",
    "# 482055: pool safety fence\n",
    "# 482056: prices for fence panels\n",
    "# 482059: outside fences\n",
    "# 482060: home fencing\n",
    "# 482061: types of fences\n",
    "# 482063: livestock fence\n",
    "# 482064: security fences\n",
    "# 482067: fence companies\n",
    "# 482082: vinyl fence companies\n",
    "# 482090: livestock fence\n",
    "# 482091: buy fences\n",
    "# 82097: buy vinyl fence\n",
    "# 482100: price fencing\n",
    "# 482103: prices for fencing materials\n",
    "# 482104: cost for fence\n",
    "# 482116: privacy fences\n",
    "# 482121: fence backyard\n",
    "# 482136: safety pool fence\n",
    "# 482148: prefab fences\n",
    "# 482150: fence for house\n",
    "# 482158: security fence\n",
    "# 482164: fencing supply\n",
    "# 482178: vinyl fencing installation\n",
    "# 482182: pvc fencing installation\n",
    "# 482184: white vinyl fencing\n",
    "# 482186: fences\n",
    "# 482196: picket fence panels\n",
    "# 482200: post fences\n",
    "# 482201: fence building supplies\n",
    "# 482207: fencing for privacy\n",
    "# 482211: rod iron fence\n",
    "# 482217: garden fence post\n",
    "# 482240: vinyl fence panels\n",
    "# 482245: plastic fence panels\n",
    "# 582262: A leading technology venture and game development company in Duabi, UAE. Juego Studios provides high-quality design and development solutions for games, apps, virtual reality, augmented reality, AI, machine learning, simulation, Big Data, IoT and more.\n",
    "# 582263: Elite Bond Cleaning Brisbane is a well-known cleaning company in Brisbane city. We in Elite Bond Cleaning Brisbane, providing end of lease cleaning services from last 10 years. We have well-trained cleaners and they are the best in their field. Our cleaning quality and affordable price is our strength for which, we are known in the market. Our cleaners do their best in cleaning and our cleaning is up to the real estate standards. We provide our cleaning services in all suburbs in Brisbane. We offer a 100% satisfaction guarantee and that's why we are providing 7 days of service guarantee to our customers.  We offer every day an attractive discount on our all services. Book your bond cleaning services with us and relax about your bond money with our cleaning quality.\n",
    "# 582281: Dr. Hanna specializes exclusively in Facial Cosmetic Surgery and has completed thousands of facelifts, nose jobs and eye jobs over the past 30 years. Dr. Hanna is affiliated to the American Academy of Facial Plastic & Reconstructive Surgery Inc\n",
    "# 582312: this is a online platform where you can get clear idea about new technologies in health.\n",
    "# 582395: Game Ceme Keliling yang paling populer ini bisa membuat anda mendapatkan keuntungan besar dari deposit 10 ribu saja. Karena game ceme keliling ini telah tersedianya sebuah :\n",
    "# 582431: Casey Powell is an expert Cosmetic Injector and Skin Care Professional in Santa Monica, California.  Casey has honed her aesthetic judgment through years of experience in the field of injectable neurotoxins, fillers, and skincare. \n",
    "# 582434: Ob Kirschlorbeer oder Moringa, ob Gartenzubehör oder Gartengerät – wir sind da, wenn Sie uns brauchen.Aufgrund einer engen Zusammenarbeit mit Baumschulen aus der Region gelingt es uns, Ihnen frische Kirschlorbeere nach Hause zu liefern.\n",
    "# 582448: Dyer Aqua LLC. is the upmost company that is best commercial production of numerous marine fish species. We provide full customer service with 100 percent guarantee. Buy from us! For delivery at your doorstep, call us right now - 786-579-0188.\n",
    "# 582479: Kuala Lumpur is a city full of a different mix of cultures and art: traditional to modern, street to couture, local to international. Yet, they are all mixed together perfectly in a beautiful chaotic way. Just like KL, The Red Hog's food concept is about mix and match and in many cases – a mismatched! But definitely, The Red Hog is not a traditional old fashioned restaurant.\n",
    "# 582491: IACG’s Multimedia curriculums have been prepared in consultation with highly successful professionals in the field of Animation, VFX, Gaming and Film Making, with one of the best infrastructures in the Multimedia Industry.\n",
    "# 582495: o need to worry, when technical issues are coming in your printer, as we have a help desk for you to get that fixed. I am Jon Mark, highly experienced technician, giving you instant printer support\n",
    "# 582497: We focus on surpassing your company from every aspect and putting it at forefront. Join hands with us to enhance brand awareness and get more people talk about your brand\n",
    "# 582504: Max BPO delivers superior outsourcing services with 22+ years of experience and 30 countries like USA, UK, Canada, Germany and Australia etc. Max BPO outsourcing offers a range of individually designed BPO solutions. Our service verticals spans call center, back office operation, healthcare BPO, logistics BPO, finance accounting, digital publishing and much more.\n",
    "# 582514: Steelbird, a reputable name in the automotive components manufacturing industry, has been driven with a penchant for achieving excellence in its domain of work for more than five decades. A futuristic vision has guided our path of success all these years making us a market leader in our product segments. Today, Steelbird is the first choice of automotive industry for rubber components, filters and plastic components.\n",
    "# 582534: Docente en ciencias\n",
    "# 582585: BTPoxycrete offer custom countertop and flooring resurfacing systems in Buffalo NY. We use the best concrete and epoxy products thus ensuring quality services."
   ]
  },
  {
   "cell_type": "code",
   "execution_count": null,
   "metadata": {
    "collapsed": true,
    "deletable": true,
    "editable": true
   },
   "outputs": [],
   "source": [
    "# SO OF 91 BIOS W/O A URL, 60 WERE SPAM"
   ]
  },
  {
   "cell_type": "code",
   "execution_count": 30,
   "metadata": {
    "ExecuteTime": {
     "end_time": "2019-05-01T13:17:19.782351Z",
     "start_time": "2019-05-01T13:17:19.769324Z"
    },
    "collapsed": false,
    "deletable": true,
    "editable": true
   },
   "outputs": [
    {
     "data": {
      "text/plain": [
       "(850, 6)"
      ]
     },
     "execution_count": 30,
     "metadata": {},
     "output_type": "execute_result"
    }
   ],
   "source": [
    "url = users['has_url'] == True\n",
    "bio_length = users['bio_length'] > 0\n",
    "has_url = users.loc[url & bio_length]\n",
    "has_url.shape"
   ]
  },
  {
   "cell_type": "code",
   "execution_count": 162,
   "metadata": {
    "ExecuteTime": {
     "end_time": "2019-04-07T16:33:39.917413Z",
     "start_time": "2019-04-07T16:33:39.150293Z"
    },
    "collapsed": false,
    "deletable": true,
    "editable": true
   },
   "outputs": [
    {
     "data": {
      "image/png": "[encoded data removed]",
      "text/plain": [
       "<matplotlib.figure.Figure at 0x7f2d3ef2f1d0>"
      ]
     },
     "metadata": {},
     "output_type": "display_data"
    }
   ],
   "source": [
    "has_url['bio_length'].hist(log=True)\n",
    "plt.show()"
   ]
  },
  {
   "cell_type": "code",
   "execution_count": 166,
   "metadata": {
    "ExecuteTime": {
     "end_time": "2019-04-07T16:43:02.714394Z",
     "start_time": "2019-04-07T16:43:02.316773Z"
    },
    "collapsed": false,
    "deletable": true,
    "editable": true
   },
   "outputs": [
    {
     "data": {
      "image/png": "[encoded data removed]",
      "text/plain": [
       "<matplotlib.figure.Figure at 0x7f2d3e595710>"
      ]
     },
     "metadata": {},
     "output_type": "display_data"
    }
   ],
   "source": [
    "has_url['bio_length'][has_url['bio_length'] <= 1000].hist(log=True, bins=20)\n",
    "plt.show()"
   ]
  },
  {
   "cell_type": "code",
   "execution_count": null,
   "metadata": {
    "collapsed": true,
    "deletable": true,
    "editable": true
   },
   "outputs": [],
   "source": [
    "# THIS IS WHAT 1000 CHARACTERS LOOKS LIKE:\n",
    "\n",
    "# Lorem ipsum dolor sit amet, consectetur adipiscing elit, sed do eiusmod tempor incididunt ut \n",
    "# labore et dolore magna aliqua. Mattis aliquam faucibus purus in. Ut etiam sit amet nisl. \n",
    "# Ullamcorper dignissim cras tincidunt lobortis feugiat. Sit amet volutpat consequat mauris nunc \n",
    "# congue nisi vitae. Lectus magna fringilla urna porttitor rhoncus dolor purus. Facilisis volutpat \n",
    "# est velit egestas dui id ornare. Nec nam aliquam sem et tortor consequat id. Tempor nec feugiat \n",
    "# nisl pretium fusce. Ac orci phasellus egestas tellus rutrum tellus pellentesque. Feugiat pretium \n",
    "# nibh ipsum consequat nisl. Tristique senectus et netus et malesuada fames ac turpis. Convallis \n",
    "# convallis tellus id interdum. Tristique senectus et netus et. Faucibus vitae aliquet nec \n",
    "# ullamcorper sit amet risus nullam. Cras ornare arcu dui vivamus arcu felis bibendum ut tristique. \n",
    "# Semper feugiat nibh sed pulvinar proin gravida hendrerit. Duis tristique sollicitudin nibh sit \n",
    "# amet commodo nulla. phasellus egestas tellus duis netus.\n",
    "\n",
    "# SO QUESTION: HOW LONG WOULD A BIO BE *AND* HAVE A URL IN IT?"
   ]
  },
  {
   "cell_type": "code",
   "execution_count": 31,
   "metadata": {
    "ExecuteTime": {
     "end_time": "2019-05-01T13:17:44.185022Z",
     "start_time": "2019-05-01T13:17:44.181332Z"
    },
    "collapsed": false,
    "deletable": true,
    "editable": true
   },
   "outputs": [],
   "source": [
    "# pd.options.display.max_rows = 210\n",
    "# has_url[(has_url['bio_length'] <= 100)]# & (has_url['bio_length'] <= 200)]\n",
    "# # plt.show()"
   ]
  },
  {
   "cell_type": "code",
   "execution_count": 207,
   "metadata": {
    "ExecuteTime": {
     "end_time": "2019-04-07T17:08:26.455818Z",
     "start_time": "2019-04-07T17:08:26.448957Z"
    },
    "collapsed": false,
    "deletable": true,
    "editable": true
   },
   "outputs": [
    {
     "data": {
      "text/plain": [
       "(850, 7)"
      ]
     },
     "execution_count": 207,
     "metadata": {},
     "output_type": "execute_result"
    }
   ],
   "source": [
    "has_url.shape"
   ]
  },
  {
   "cell_type": "code",
   "execution_count": 54,
   "metadata": {
    "ExecuteTime": {
     "end_time": "2019-05-01T13:35:10.095135Z",
     "start_time": "2019-05-01T13:35:10.000721Z"
    },
    "collapsed": false,
    "deletable": true,
    "editable": true,
    "run_control": {
     "marked": true
    }
   },
   "outputs": [
    {
     "data": {
      "text/html": [
       "<div>\n",
       "<style scoped>\n",
       "    .dataframe tbody tr th:only-of-type {\n",
       "        vertical-align: middle;\n",
       "    }\n",
       "\n",
       "    .dataframe tbody tr th {\n",
       "        vertical-align: top;\n",
       "    }\n",
       "\n",
       "    .dataframe thead th {\n",
       "        text-align: right;\n",
       "    }\n",
       "</style>\n",
       "<table border=\"1\" class=\"dataframe\">\n",
       "  <thead>\n",
       "    <tr style=\"text-align: right;\">\n",
       "      <th></th>\n",
       "      <th>id</th>\n",
       "      <th>username</th>\n",
       "      <th>created_at</th>\n",
       "      <th>bio</th>\n",
       "      <th>has_url</th>\n",
       "      <th>bio_length</th>\n",
       "      <th>begins</th>\n",
       "    </tr>\n",
       "  </thead>\n",
       "  <tbody>\n",
       "    <tr>\n",
       "      <th>0</th>\n",
       "      <td>372.0</td>\n",
       "      <td>John_Wells</td>\n",
       "      <td>2016-09-09 14:17:26+00:00</td>\n",
       "      <td>Kite aerial photographer with, and co-founder ...</td>\n",
       "      <td>1.0</td>\n",
       "      <td>151.0</td>\n",
       "      <td>False</td>\n",
       "    </tr>\n",
       "    <tr>\n",
       "      <th>2</th>\n",
       "      <td>481536.0</td>\n",
       "      <td>Leonwgy</td>\n",
       "      <td>2016-07-01 00:02:28+00:00</td>\n",
       "      <td>&lt;a href=\"http://dekoracjadomu.pl/koopman-wazon...</td>\n",
       "      <td>1.0</td>\n",
       "      <td>117.0</td>\n",
       "      <td>True</td>\n",
       "    </tr>\n",
       "    <tr>\n",
       "      <th>3</th>\n",
       "      <td>481537.0</td>\n",
       "      <td>Mickmmt</td>\n",
       "      <td>2016-07-01 00:07:39+00:00</td>\n",
       "      <td>&lt;a href=\"http://deasalus.eu/stomatologiczna\"&gt;h...</td>\n",
       "      <td>1.0</td>\n",
       "      <td>83.0</td>\n",
       "      <td>True</td>\n",
       "    </tr>\n",
       "    <tr>\n",
       "      <th>4</th>\n",
       "      <td>481538.0</td>\n",
       "      <td>Marielwosp</td>\n",
       "      <td>2016-07-01 00:10:17+00:00</td>\n",
       "      <td>&lt;a href=\"http://sk.sizexxlmatter.com\"&gt;http://s...</td>\n",
       "      <td>1.0</td>\n",
       "      <td>293.0</td>\n",
       "      <td>True</td>\n",
       "    </tr>\n",
       "    <tr>\n",
       "      <th>5</th>\n",
       "      <td>481539.0</td>\n",
       "      <td>coffeybrosmoving</td>\n",
       "      <td>2016-07-01 00:41:31+00:00</td>\n",
       "      <td>Coffey Bros Moving\\r\\n\\r\\nAddress: 3236 N Pula...</td>\n",
       "      <td>1.0</td>\n",
       "      <td>490.0</td>\n",
       "      <td>False</td>\n",
       "    </tr>\n",
       "  </tbody>\n",
       "</table>\n",
       "</div>"
      ],
      "text/plain": [
       "         id          username                 created_at  \\\n",
       "0     372.0        John_Wells  2016-09-09 14:17:26+00:00   \n",
       "2  481536.0           Leonwgy  2016-07-01 00:02:28+00:00   \n",
       "3  481537.0           Mickmmt  2016-07-01 00:07:39+00:00   \n",
       "4  481538.0        Marielwosp  2016-07-01 00:10:17+00:00   \n",
       "5  481539.0  coffeybrosmoving  2016-07-01 00:41:31+00:00   \n",
       "\n",
       "                                                 bio  has_url  bio_length  \\\n",
       "0  Kite aerial photographer with, and co-founder ...      1.0       151.0   \n",
       "2  <a href=\"http://dekoracjadomu.pl/koopman-wazon...      1.0       117.0   \n",
       "3  <a href=\"http://deasalus.eu/stomatologiczna\">h...      1.0        83.0   \n",
       "4  <a href=\"http://sk.sizexxlmatter.com\">http://s...      1.0       293.0   \n",
       "5  Coffey Bros Moving\\r\\n\\r\\nAddress: 3236 N Pula...      1.0       490.0   \n",
       "\n",
       "   begins  \n",
       "0   False  \n",
       "2    True  \n",
       "3    True  \n",
       "4    True  \n",
       "5   False  "
      ]
     },
     "execution_count": 54,
     "metadata": {},
     "output_type": "execute_result"
    }
   ],
   "source": [
    "# begins_w_url = (has_url.loc[:,'bio'].str.startswith('<a href=') | has_url.loc[:,'bio'].str.startswith('http'))\n",
    "has_url.loc[:,'begins'] = (has_url.loc[:,'bio'].str.startswith('<a href=') | has_url.loc[:,'bio'].str.startswith('http'))\n",
    "has_url.head()"
   ]
  },
  {
   "cell_type": "code",
   "execution_count": 71,
   "metadata": {
    "ExecuteTime": {
     "end_time": "2019-05-01T13:45:40.175519Z",
     "start_time": "2019-05-01T13:45:40.165037Z"
    },
    "collapsed": false
   },
   "outputs": [
    {
     "name": "stdout",
     "output_type": "stream",
     "text": [
      "(329, 7) (522, 7)\n"
     ]
    }
   ],
   "source": [
    "begins_w_url = has_url.loc[has_url['begins'] == False]\n",
    "begins_wo_url = has_url[has_url['begins'] == True]\n",
    "\n",
    "print begins_w_url.shape, begins_wo_url.shape"
   ]
  },
  {
   "cell_type": "code",
   "execution_count": 63,
   "metadata": {
    "ExecuteTime": {
     "end_time": "2019-05-01T13:39:40.414080Z",
     "start_time": "2019-05-01T13:39:40.404712Z"
    },
    "collapsed": false
   },
   "outputs": [
    {
     "data": {
      "text/plain": [
       "(99, 7)"
      ]
     },
     "execution_count": 63,
     "metadata": {},
     "output_type": "execute_result"
    }
   ],
   "source": [
    "# bio_gt_1000 = has_url.loc[:,'bio_length'][has_url['bio_length'] > 1000]#.shape[0]\n",
    "bio_gt_1000 = has_url[has_url['bio_length'] > 1000]#.shape[0]\n",
    "\n",
    "bio_gt_1000.shape # LOOKED BY HAND, ALL SPAM"
   ]
  },
  {
   "cell_type": "code",
   "execution_count": 67,
   "metadata": {
    "ExecuteTime": {
     "end_time": "2019-05-01T13:42:38.385233Z",
     "start_time": "2019-05-01T13:42:38.373128Z"
    },
    "collapsed": false
   },
   "outputs": [
    {
     "data": {
      "text/plain": [
       "(301, 7)"
      ]
     },
     "execution_count": 67,
     "metadata": {},
     "output_type": "execute_result"
    }
   ],
   "source": [
    "begins_url = has_url['begins'] == False\n",
    "bio_length = has_url['bio_length'] <= 1000\n",
    "begin_url_lt_1000 = has_url[(begins_url & bio_length)]\n",
    "begin_url_lt_1000.shape"
   ]
  },
  {
   "cell_type": "code",
   "execution_count": 220,
   "metadata": {
    "ExecuteTime": {
     "end_time": "2019-04-07T17:23:14.315487Z",
     "start_time": "2019-04-07T17:23:13.885353Z"
    },
    "collapsed": false,
    "deletable": true,
    "editable": true
   },
   "outputs": [
    {
     "data": {
      "image/png": "[encoded data removed]",
      "text/plain": [
       "<matplotlib.figure.Figure at 0x7f2d3d320510>"
      ]
     },
     "metadata": {},
     "output_type": "display_data"
    },
    {
     "name": "stdout",
     "output_type": "stream",
     "text": [
      "(301,)\n"
     ]
    }
   ],
   "source": [
    "has_url['bio_length'][begins_url & bio_length].hist(log=True, bins=20)\n",
    "plt.show()\n",
    "print has_url['bio_length'][begins_url & bio_length].shape"
   ]
  },
  {
   "cell_type": "code",
   "execution_count": 68,
   "metadata": {
    "ExecuteTime": {
     "end_time": "2019-05-01T13:43:26.737357Z",
     "start_time": "2019-05-01T13:43:26.733153Z"
    },
    "collapsed": false,
    "editable": true
   },
   "outputs": [],
   "source": [
    "# begins_url = has_url['begins'] == False\n",
    "# bio_length = has_url['bio_length'] <= 200\n",
    "# has_url[begins_url & bio_length]\n",
    "# plt.show()"
   ]
  },
  {
   "cell_type": "code",
   "execution_count": 219,
   "metadata": {
    "ExecuteTime": {
     "end_time": "2019-04-07T17:21:18.488921Z",
     "start_time": "2019-04-07T17:21:18.473195Z"
    },
    "collapsed": false,
    "deletable": true,
    "editable": true
   },
   "outputs": [
    {
     "name": "stdout",
     "output_type": "stream",
     "text": [
      "['Kite aerial photographer with, and co-founder of, West Lothian Archaeology, a non-commercial community group:\\r\\nhttp://www.armadale.org.uk/phototech.htm']\n",
      "['I am Shelia from USA. I am doing marketing for <a href=\"http://www.cross.tv/blog/145976\">Be Choosy While Choosing Bracelets For Girlfriend</a>.']\n",
      "['Internet advocate. Infuriatingly humble travel geek. Amateur zombie practitioner. Twitter trailblazer. Sales officer at https://www.insuranceleadsstore.com']\n"
     ]
    }
   ],
   "source": [
    "not_spam = [372, 582421, 582295]\n",
    "\n",
    "for uid in not_spam:\n",
    "    print users[users['id'] == uid]['bio'].values\n",
    "    \n",
    "# SO REALLY ONLY 1, ASSUMING SOMEONE'S BIO IS LESS THAN 1000 CHARACTERS"
   ]
  },
  {
   "cell_type": "code",
   "execution_count": null,
   "metadata": {
    "collapsed": true,
    "deletable": true,
    "editable": true,
    "run_control": {
     "marked": true
    }
   },
   "outputs": [],
   "source": [
    "import collections\n",
    "\n",
    "spam_grams = collections.Counter()\n",
    "\n",
    "bio_text = list(users['bio']"
   ]
  },
  {
   "cell_type": "code",
   "execution_count": 12,
   "metadata": {
    "ExecuteTime": {
     "end_time": "2019-05-01T13:06:15.822109Z",
     "start_time": "2019-05-01T13:06:15.818091Z"
    },
    "collapsed": false,
    "deletable": true,
    "editable": true
   },
   "outputs": [],
   "source": [
    "# for bio_text in users['bio'][:10]:\n",
    "# #     print bio_text\n",
    "#     print re_url.split(bio_text)"
   ]
  },
  {
   "cell_type": "code",
   "execution_count": 19,
   "metadata": {
    "ExecuteTime": {
     "end_time": "2019-05-01T13:13:55.968224Z",
     "start_time": "2019-05-01T13:13:55.827127Z"
    },
    "collapsed": false
   },
   "outputs": [
    {
     "ename": "KeyError",
     "evalue": "'begins'",
     "output_type": "error",
     "traceback": [
      "\u001b[0;31m---------------------------------------------------------------------------\u001b[0m",
      "\u001b[0;31mKeyError\u001b[0m                                  Traceback (most recent call last)",
      "\u001b[0;32m<ipython-input-19-80ca700e65bd>\u001b[0m in \u001b[0;36m<module>\u001b[0;34m()\u001b[0m\n\u001b[1;32m      1\u001b[0m \u001b[0;31m# not_spam = [372]\u001b[0m\u001b[0;34m\u001b[0m\u001b[0;34m\u001b[0m\u001b[0m\n\u001b[1;32m      2\u001b[0m \u001b[0mbio_gt_1000\u001b[0m \u001b[0;34m=\u001b[0m \u001b[0mhas_url\u001b[0m\u001b[0;34m.\u001b[0m\u001b[0mloc\u001b[0m\u001b[0;34m[\u001b[0m\u001b[0mhas_url\u001b[0m\u001b[0;34m[\u001b[0m\u001b[0;34m'bio_length'\u001b[0m\u001b[0;34m]\u001b[0m \u001b[0;34m>\u001b[0m \u001b[0;36m1000\u001b[0m\u001b[0;34m]\u001b[0m\u001b[0;34m\u001b[0m\u001b[0m\n\u001b[0;32m----> 3\u001b[0;31m \u001b[0mnot_begin_url\u001b[0m \u001b[0;34m=\u001b[0m \u001b[0mhas_url\u001b[0m\u001b[0;34m.\u001b[0m\u001b[0mloc\u001b[0m\u001b[0;34m[\u001b[0m\u001b[0mhas_url\u001b[0m\u001b[0;34m[\u001b[0m\u001b[0;34m'begins'\u001b[0m\u001b[0;34m]\u001b[0m \u001b[0;34m==\u001b[0m \u001b[0mFalse\u001b[0m\u001b[0;34m]\u001b[0m\u001b[0;34m\u001b[0m\u001b[0m\n\u001b[0m\u001b[1;32m      4\u001b[0m \u001b[0mbegins_url\u001b[0m \u001b[0;34m=\u001b[0m \u001b[0mhas_url\u001b[0m\u001b[0;34m.\u001b[0m\u001b[0mloc\u001b[0m\u001b[0;34m[\u001b[0m\u001b[0mhas_url\u001b[0m\u001b[0;34m[\u001b[0m\u001b[0;34m'begins'\u001b[0m\u001b[0;34m]\u001b[0m \u001b[0;34m==\u001b[0m \u001b[0mTrue\u001b[0m\u001b[0;34m]\u001b[0m\u001b[0;34m\u001b[0m\u001b[0m\n\u001b[1;32m      5\u001b[0m \u001b[0;34m\u001b[0m\u001b[0m\n",
      "\u001b[0;32m/home/skilfullycurled/anaconda2/lib/python2.7/site-packages/pandas/core/frame.pyc\u001b[0m in \u001b[0;36m__getitem__\u001b[0;34m(self, key)\u001b[0m\n\u001b[1;32m   2925\u001b[0m             \u001b[0;32mif\u001b[0m \u001b[0mself\u001b[0m\u001b[0;34m.\u001b[0m\u001b[0mcolumns\u001b[0m\u001b[0;34m.\u001b[0m\u001b[0mnlevels\u001b[0m \u001b[0;34m>\u001b[0m \u001b[0;36m1\u001b[0m\u001b[0;34m:\u001b[0m\u001b[0;34m\u001b[0m\u001b[0m\n\u001b[1;32m   2926\u001b[0m                 \u001b[0;32mreturn\u001b[0m \u001b[0mself\u001b[0m\u001b[0;34m.\u001b[0m\u001b[0m_getitem_multilevel\u001b[0m\u001b[0;34m(\u001b[0m\u001b[0mkey\u001b[0m\u001b[0;34m)\u001b[0m\u001b[0;34m\u001b[0m\u001b[0m\n\u001b[0;32m-> 2927\u001b[0;31m             \u001b[0mindexer\u001b[0m \u001b[0;34m=\u001b[0m \u001b[0mself\u001b[0m\u001b[0;34m.\u001b[0m\u001b[0mcolumns\u001b[0m\u001b[0;34m.\u001b[0m\u001b[0mget_loc\u001b[0m\u001b[0;34m(\u001b[0m\u001b[0mkey\u001b[0m\u001b[0;34m)\u001b[0m\u001b[0;34m\u001b[0m\u001b[0m\n\u001b[0m\u001b[1;32m   2928\u001b[0m             \u001b[0;32mif\u001b[0m \u001b[0mis_integer\u001b[0m\u001b[0;34m(\u001b[0m\u001b[0mindexer\u001b[0m\u001b[0;34m)\u001b[0m\u001b[0;34m:\u001b[0m\u001b[0;34m\u001b[0m\u001b[0m\n\u001b[1;32m   2929\u001b[0m                 \u001b[0mindexer\u001b[0m \u001b[0;34m=\u001b[0m \u001b[0;34m[\u001b[0m\u001b[0mindexer\u001b[0m\u001b[0;34m]\u001b[0m\u001b[0;34m\u001b[0m\u001b[0m\n",
      "\u001b[0;32m/home/skilfullycurled/anaconda2/lib/python2.7/site-packages/pandas/core/indexes/base.pyc\u001b[0m in \u001b[0;36mget_loc\u001b[0;34m(self, key, method, tolerance)\u001b[0m\n\u001b[1;32m   2657\u001b[0m                 \u001b[0;32mreturn\u001b[0m \u001b[0mself\u001b[0m\u001b[0;34m.\u001b[0m\u001b[0m_engine\u001b[0m\u001b[0;34m.\u001b[0m\u001b[0mget_loc\u001b[0m\u001b[0;34m(\u001b[0m\u001b[0mkey\u001b[0m\u001b[0;34m)\u001b[0m\u001b[0;34m\u001b[0m\u001b[0m\n\u001b[1;32m   2658\u001b[0m             \u001b[0;32mexcept\u001b[0m \u001b[0mKeyError\u001b[0m\u001b[0;34m:\u001b[0m\u001b[0;34m\u001b[0m\u001b[0m\n\u001b[0;32m-> 2659\u001b[0;31m                 \u001b[0;32mreturn\u001b[0m \u001b[0mself\u001b[0m\u001b[0;34m.\u001b[0m\u001b[0m_engine\u001b[0m\u001b[0;34m.\u001b[0m\u001b[0mget_loc\u001b[0m\u001b[0;34m(\u001b[0m\u001b[0mself\u001b[0m\u001b[0;34m.\u001b[0m\u001b[0m_maybe_cast_indexer\u001b[0m\u001b[0;34m(\u001b[0m\u001b[0mkey\u001b[0m\u001b[0;34m)\u001b[0m\u001b[0;34m)\u001b[0m\u001b[0;34m\u001b[0m\u001b[0m\n\u001b[0m\u001b[1;32m   2660\u001b[0m         \u001b[0mindexer\u001b[0m \u001b[0;34m=\u001b[0m \u001b[0mself\u001b[0m\u001b[0;34m.\u001b[0m\u001b[0mget_indexer\u001b[0m\u001b[0;34m(\u001b[0m\u001b[0;34m[\u001b[0m\u001b[0mkey\u001b[0m\u001b[0;34m]\u001b[0m\u001b[0;34m,\u001b[0m \u001b[0mmethod\u001b[0m\u001b[0;34m=\u001b[0m\u001b[0mmethod\u001b[0m\u001b[0;34m,\u001b[0m \u001b[0mtolerance\u001b[0m\u001b[0;34m=\u001b[0m\u001b[0mtolerance\u001b[0m\u001b[0;34m)\u001b[0m\u001b[0;34m\u001b[0m\u001b[0m\n\u001b[1;32m   2661\u001b[0m         \u001b[0;32mif\u001b[0m \u001b[0mindexer\u001b[0m\u001b[0;34m.\u001b[0m\u001b[0mndim\u001b[0m \u001b[0;34m>\u001b[0m \u001b[0;36m1\u001b[0m \u001b[0;32mor\u001b[0m \u001b[0mindexer\u001b[0m\u001b[0;34m.\u001b[0m\u001b[0msize\u001b[0m \u001b[0;34m>\u001b[0m \u001b[0;36m1\u001b[0m\u001b[0;34m:\u001b[0m\u001b[0;34m\u001b[0m\u001b[0m\n",
      "\u001b[0;32mpandas/_libs/index.pyx\u001b[0m in \u001b[0;36mpandas._libs.index.IndexEngine.get_loc\u001b[0;34m()\u001b[0m\n",
      "\u001b[0;32mpandas/_libs/index.pyx\u001b[0m in \u001b[0;36mpandas._libs.index.IndexEngine.get_loc\u001b[0;34m()\u001b[0m\n",
      "\u001b[0;32mpandas/_libs/hashtable_class_helper.pxi\u001b[0m in \u001b[0;36mpandas._libs.hashtable.PyObjectHashTable.get_item\u001b[0;34m()\u001b[0m\n",
      "\u001b[0;32mpandas/_libs/hashtable_class_helper.pxi\u001b[0m in \u001b[0;36mpandas._libs.hashtable.PyObjectHashTable.get_item\u001b[0;34m()\u001b[0m\n",
      "\u001b[0;31mKeyError\u001b[0m: 'begins'"
     ]
    }
   ],
   "source": [
    "# not_spam = [372]\n",
    "bio_gt_1000 = has_url.loc[has_url['bio_length'] > 1000]\n",
    "not_begin_url = has_url.loc[has_url['begins'] == False]\n",
    "begins_url = has_url.loc[has_url['begins'] == True]\n",
    "\n",
    "print bio_gt_1000.shape[0] + not_begin_url.shape[0] + begins_url.shape[0]"
   ]
  },
  {
   "cell_type": "code",
   "execution_count": 72,
   "metadata": {
    "ExecuteTime": {
     "end_time": "2019-05-01T13:46:21.743208Z",
     "start_time": "2019-05-01T13:46:21.737676Z"
    },
    "collapsed": false
   },
   "outputs": [
    {
     "name": "stdout",
     "output_type": "stream",
     "text": [
      "950\n"
     ]
    }
   ],
   "source": [
    "bio_gt_1000.shape #(91, 7)\n",
    "begin_url_lt_1000 #(301, 7)\n",
    "print begins_w_url.shape[0] + begins_wo_url.shape[0] + bio_gt_1000.shape[0]"
   ]
  },
  {
   "cell_type": "code",
   "execution_count": 75,
   "metadata": {
    "ExecuteTime": {
     "end_time": "2019-05-01T14:21:16.253272Z",
     "start_time": "2019-05-01T14:21:16.242215Z"
    },
    "collapsed": false
   },
   "outputs": [
    {
     "data": {
      "text/plain": [
       "(950, 7)"
      ]
     },
     "execution_count": 75,
     "metadata": {},
     "output_type": "execute_result"
    }
   ],
   "source": [
    "spam = pd.concat([bio_gt_1000, begins_wo_url, begins_w_url])\n",
    "spam.shape"
   ]
  },
  {
   "cell_type": "code",
   "execution_count": 78,
   "metadata": {
    "ExecuteTime": {
     "end_time": "2019-05-01T14:30:18.023775Z",
     "start_time": "2019-05-01T14:30:18.017612Z"
    },
    "collapsed": false
   },
   "outputs": [],
   "source": [
    "spam = spam[spam['id'] != 371.0]"
   ]
  },
  {
   "cell_type": "code",
   "execution_count": 82,
   "metadata": {
    "ExecuteTime": {
     "end_time": "2019-05-01T14:35:12.695772Z",
     "start_time": "2019-05-01T14:35:12.689407Z"
    },
    "collapsed": false
   },
   "outputs": [],
   "source": [
    "spam['id'] = spam['id'].fillna(0.0).astype('int64')"
   ]
  },
  {
   "cell_type": "code",
   "execution_count": 83,
   "metadata": {
    "ExecuteTime": {
     "end_time": "2019-05-01T14:35:14.986415Z",
     "start_time": "2019-05-01T14:35:14.976551Z"
    },
    "collapsed": false
   },
   "outputs": [],
   "source": [
    "spam['id'].to_csv('../data/2016_2019/full/' + 'plots_spam.csv', index=False, header=False)"
   ]
  },
  {
   "cell_type": "code",
   "execution_count": null,
   "metadata": {
    "collapsed": true
   },
   "outputs": [],
   "source": []
  }
 ],
 "metadata": {
  "kernelspec": {
   "display_name": "Python 2",
   "language": "python",
   "name": "python2"
  },
  "language_info": {
   "codemirror_mode": {
    "name": "ipython",
    "version": 2
   },
   "file_extension": ".py",
   "mimetype": "text/x-python",
   "name": "python",
   "nbconvert_exporter": "python",
   "pygments_lexer": "ipython2",
   "version": "2.7.13"
  },
  "toc": {
   "colors": {
    "hover_highlight": "#DAA520",
    "navigate_num": "#000000",
    "navigate_text": "#333333",
    "running_highlight": "#FF0000",
    "selected_highlight": "#FFD700",
    "sidebar_border": "#EEEEEE",
    "wrapper_background": "#FFFFFF"
   },
   "moveMenuLeft": true,
   "nav_menu": {
    "height": "11px",
    "width": "251px"
   },
   "navigate_menu": true,
   "number_sections": true,
   "sideBar": true,
   "threshold": 4,
   "toc_cell": false,
   "toc_section_display": "block",
   "toc_window_display": false,
   "widenNotebook": false
  }
 },
 "nbformat": 4,
 "nbformat_minor": 2
}
